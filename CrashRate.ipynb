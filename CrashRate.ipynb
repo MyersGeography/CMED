{
 "cells": [
  {
   "cell_type": "markdown",
   "metadata": {},
   "source": [
    "This notebook uses the kdot accidents layer and AADT from the KDOT Khub publication database to calaulate crash rates using the equation\n",
    "\n",
    "$$R = \\frac{C x 100,000,000}{V x 365 x N x L}$$\n",
    "\n",
    "The variables in this equation are:\n",
    "\n",
    "R = crash rate for the road segment expressed as crashes per 100 million vehicle-miles of travel,\n",
    "\n",
    "C = Total number of crashes in the study period\n",
    "\n",
    "V = Traffic volumes using Average Annual Daily Traffic (AADT) volumes\n",
    "\n",
    "N = Number of years of data\n",
    "\n",
    "L = Length of the roadway segment in miles\n",
    "\n",
    "https://safety.fhwa.dot.gov/local_rural/training/fhwasa1109/app_c.cfm\n",
    "\n",
    "https://wfs.ksdot.org/arcgis_web_adaptor/rest/services/Transportation/Accidents/FeatureServer\n",
    "\n"
   ]
  },
  {
   "cell_type": "code",
   "execution_count": 6,
   "metadata": {},
   "outputs": [],
   "source": [
    "projdb =r\"C:\\Users\\kgonterwitz\\OneDrive - City of Lawrence KS\\Documents\\ArcGIS\\Projects\\KDOT_CrashMaps\\KDOT_CrashMaps.gdb\""
   ]
  },
  {
   "cell_type": "code",
   "execution_count": 10,
   "metadata": {},
   "outputs": [],
   "source": [
    "#copy local Accidents data from KDOT Wfs for Douglas County to project database\n",
    "\n",
    "with arcpy.EnvManager(scratchWorkspace=projdb, outputCoordinateSystem=\"PROJCS['NAD_1983_2011_KS_RCS_Zone_11',GEOGCS['GCS_NAD_1983_2011',DATUM['D_NAD_1983_2011',SPHEROID['GRS_1980',6378137.0,298.257222101]],PRIMEM['Greenwich',0.0],UNIT['Degree',0.0174532925199433]],PROJECTION['Lambert_Conformal_Conic'],PARAMETER['False_Easting',11500000.0],PARAMETER['False_Northing',600000.0],PARAMETER['Central_Meridian',-95.25],PARAMETER['Standard_Parallel_1',39.1],PARAMETER['Scale_Factor',1.000033],PARAMETER['Latitude_Of_Origin',39.1],UNIT['Foot_US',0.3048006096012192]]\", workspace=projdb):\n",
    "    arcpy.conversion.FeatureClassToFeatureClass(\"Accidents\", projdb, \"Accidents_DG\", \"ACC_COUNTY = 'DOUGLAS'\", '#', '')"
   ]
  },
  {
   "cell_type": "code",
   "execution_count": 8,
   "metadata": {},
   "outputs": [],
   "source": [
    "#copy local AADT data from Khub publiation geodatabase to project database \n",
    "#selected are assigned routes to douglas county and routes longer than ten feet\n",
    "#the minimum length threshold should be reviewed and possible raised\n",
    "#if the minimum lenth threshod rises above 30 feet, raise spatial join parameter accordingly\n",
    "\n",
    "arcpy.management.SelectLayerByAttribute(\"ev_AADT\", \"NEW_SELECTION\", \"RouteID LIKE '023%' And Shape_Length > 35\", None)\n",
    "\n",
    "with arcpy.EnvManager(outputCoordinateSystem=\"PROJCS['NAD_1983_2011_KS_RCS_Zone_11',GEOGCS['GCS_NAD_1983_2011',DATUM['D_NAD_1983_2011',SPHEROID['GRS_1980',6378137.0,298.257222101]],PRIMEM['Greenwich',0.0],UNIT['Degree',0.0174532925199433]],PROJECTION['Lambert_Conformal_Conic'],PARAMETER['False_Easting',11500000.0],PARAMETER['False_Northing',600000.0],PARAMETER['Central_Meridian',-95.25],PARAMETER['Standard_Parallel_1',39.1],PARAMETER['Scale_Factor',1.000033],PARAMETER['Latitude_Of_Origin',39.1],UNIT['Foot_US',0.3048006096012192]]\"):\n",
    "    arcpy.conversion.FeatureClassToFeatureClass(\"ev_AADT\", projdb, \"AADT_2019\", \"RouteID LIKE '023%'\", '#', '')"
   ]
  },
  {
   "cell_type": "code",
   "execution_count": 11,
   "metadata": {},
   "outputs": [
    {
     "data": {
      "text/html": [
       "<h2>Output</h2>a Layer object<h2>Messages</h2>Start Time: Wednesday, September 15, 2021 12:20:23 PM<br/>Adding CrashRateVolumetric to SJ_Acc_AADT_2019...<br/>Succeeded at Wednesday, September 15, 2021 12:20:24 PM (Elapsed Time: 0.64 seconds)<br/><style>.rendered_html td, .rendered_html th {text-align: left;}.rendered_html tbody {border: 1px solid black;}</style>"
      ],
      "text/plain": [
       "<Result 'SJ_Acc_AADT_2019'>"
      ]
     },
     "execution_count": 11,
     "metadata": {},
     "output_type": "execute_result"
    }
   ],
   "source": [
    "#this cell outputs the calculated crash rate for mapping and review with ten years of crash history plus the current year\n",
    "\n",
    "arcpy.analysis.SpatialJoin(\"AADT_2019\", \"Accidents_DG\", \"SJ_Acc_AADT_2019\", \"JOIN_ONE_TO_ONE\", \"KEEP_ALL\", '#', \"INTERSECT\", \"36 Feet\", '')\n",
    "arcpy.management.CalculateField(\"SJ_Acc_AADT_2019\", \"CrashRateVolumetric\", \"!Join_Count! * 100000000/(!AADTCount! * 365 * 10 * (!ToMeasure!-!FromMeasure!))\", \"PYTHON3\", '', \"DOUBLE\")"
   ]
  },
  {
   "cell_type": "code",
   "execution_count": 12,
   "metadata": {},
   "outputs": [
    {
     "data": {
      "text/html": [
       "<h2>Output</h2>a Layer object<h2>Messages</h2>Start Time: Wednesday, September 15, 2021 12:21:53 PM<br/>Adding PedCrashRateVolumetric to SJ_AccBP_AADT_2019...<br/>Succeeded at Wednesday, September 15, 2021 12:21:54 PM (Elapsed Time: 0.65 seconds)<br/><style>.rendered_html td, .rendered_html th {text-align: left;}.rendered_html tbody {border: 1px solid black;}</style>"
      ],
      "text/plain": [
       "<Result 'SJ_AccBP_AADT_2019'>"
      ]
     },
     "execution_count": 12,
     "metadata": {},
     "output_type": "execute_result"
    }
   ],
   "source": [
    "#pedestrian (and bicycle) related crashes included, 10 year average\n",
    "\n",
    "arcpy.management.MakeFeatureLayer(\"Accidents_DG\", \"Accidents_BikePed\", \"ALL_PEDESTRIANS > 0 Or PEDESTRIAN_ACCS > 0 Or PEDAL_CYCLIST_ACCS > 0\", None, \"#\")\n",
    "\n",
    "arcpy.analysis.SpatialJoin(\"AADT_2019\", \"Accidents_BikePed\", \"SJ_AccBP_AADT_2019\", \"JOIN_ONE_TO_ONE\", \"KEEP_ALL\", '#', \"INTERSECT\", \"36 Feet\", '')\n",
    "\n",
    "arcpy.management.CalculateField(\"SJ_AccBP_AADT_2019\", \"PedCrashRateVolumetric\", \"!Join_Count! * 100000000/(!AADTCount! * 365 * 10 * (!ToMeasure!-!FromMeasure!))\", \"PYTHON3\", '', \"DOUBLE\")"
   ]
  },
  {
   "cell_type": "markdown",
   "metadata": {},
   "source": [
    "compare rates to Kansas State Highway Safety Report \n",
    "https://www.fhwa.dot.gov/tpm/reporting/state/safety.cfm?state=Kansas\n",
    "    \n",
    "the Performance measures in the HSIP are total fataility rate, and total serious injury rate, and non-motorized fatalities and serious injuries\n",
    "\n",
    "The same calculate as above will calculate the rates with modfication of the input crash data and the modification of the rate unit to per hundred million vmt.  The fatality rate will be the rate of fatality crashes not  the number of fatalities per fatal crash.  \n"
   ]
  },
  {
   "cell_type": "code",
   "execution_count": 19,
   "metadata": {},
   "outputs": [
    {
     "data": {
      "text/html": [
       "<h2>Output</h2>a Layer object<h2>Messages</h2>Start Time: Wednesday, September 15, 2021 2:03:12 PM<br/>Adding NonMotorized_Severe_P100M to SJ_AccNM_DF_AADT_2019...<br/>Succeeded at Wednesday, September 15, 2021 2:03:13 PM (Elapsed Time: 0.95 seconds)<br/><style>.rendered_html td, .rendered_html th {text-align: left;}.rendered_html tbody {border: 1px solid black;}</style>"
      ],
      "text/plain": [
       "<Result 'SJ_AccNM_DF_AADT_2019'>"
      ]
     },
     "execution_count": 19,
     "metadata": {},
     "output_type": "execute_result"
    }
   ],
   "source": [
    "#nonmotorized severe and fatal crash rates - 5 year history\n",
    "\n",
    "arcpy.management.MakeFeatureLayer(\"Accidents_DG\", \"NonMotorized_Severe\", \"(ALL_PEDESTRIANS > 0 Or PEDESTRIAN_ACCS > 0 Or PEDAL_CYCLIST_ACCS > 0) AND ACC_YEAR IN ('2020', '2019', '2017', '2018', '2016') AND MOST_SERIOUS_INJURY IN ('D', 'F')\", None, \"#\")\n",
    "\n",
    "arcpy.analysis.SpatialJoin(\"AADT_2019\", \"NonMotorized_Severe\", \"SJ_AccNM_DF_AADT_2019\", \"JOIN_ONE_TO_ONE\", \"KEEP_ALL\", '#', \"INTERSECT\", \"36 Feet\", '')\n",
    "\n",
    "arcpy.management.CalculateField(\"SJ_AccNM_DF_AADT_2019\", \"NonMotorized_Severe_P100M\", \"!Join_Count! * 100000000/(!AADTCount! * 365 * 5 * (!ToMeasure!-!FromMeasure!))\", \"PYTHON3\", '', \"DOUBLE\")"
   ]
  },
  {
   "cell_type": "code",
   "execution_count": 28,
   "metadata": {},
   "outputs": [
    {
     "data": {
      "text/html": [
       "<h2>Output</h2>a Layer object<h2>Messages</h2>Start Time: Wednesday, September 15, 2021 2:59:19 PM<br/>Adding FatalityRate100VMT to SJ_AccF_AADT_2019...<br/>Succeeded at Wednesday, September 15, 2021 2:59:21 PM (Elapsed Time: 1.61 seconds)<br/><style>.rendered_html td, .rendered_html th {text-align: left;}.rendered_html tbody {border: 1px solid black;}</style>"
      ],
      "text/plain": [
       "<Result 'SJ_AccF_AADT_2019'>"
      ]
     },
     "execution_count": 28,
     "metadata": {},
     "output_type": "execute_result"
    }
   ],
   "source": [
    "# fatality crash rate per 100 Million VMT - 5 year\n",
    "\n",
    "arcpy.management.MakeFeatureLayer(\"Accidents_DG\", \"FatalCrash\", \"MOST_SERIOUS_INJURY IN ('F') AND ACC_YEAR IN ('2020', '2019', '2017', '2018', '2016')\", None, \"#\")\n",
    "\n",
    "arcpy.analysis.SpatialJoin(\"AADT_2019\", \"FatalCrash\", \"SJ_AccF_AADT_2019\", \"JOIN_ONE_TO_ONE\", \"KEEP_ALL\", '#', \"INTERSECT\", \"36 Feet\", '')\n",
    "\n",
    "arcpy.management.CalculateField(\"SJ_AccF_AADT_2019\", \"FatalityRate100VMT\", \"!Join_Count! * 100000000/(!AADTCount! * 365 * 5 * (!ToMeasure!-!FromMeasure!))\", \"PYTHON3\", '', \"DOUBLE\")"
   ]
  },
  {
   "cell_type": "code",
   "execution_count": 29,
   "metadata": {},
   "outputs": [
    {
     "data": {
      "text/html": [
       "<h2>Output</h2>a Layer object<h2>Messages</h2>Start Time: Wednesday, September 15, 2021 2:59:37 PM<br/>Adding SeriousInjuryRate100VMT to SJ_AccD_AADT_2019...<br/>Succeeded at Wednesday, September 15, 2021 2:59:39 PM (Elapsed Time: 1.69 seconds)<br/><style>.rendered_html td, .rendered_html th {text-align: left;}.rendered_html tbody {border: 1px solid black;}</style>"
      ],
      "text/plain": [
       "<Result 'SJ_AccD_AADT_2019'>"
      ]
     },
     "execution_count": 29,
     "metadata": {},
     "output_type": "execute_result"
    }
   ],
   "source": [
    "# Serious Injury rate per 100 Million VMT (not including fatalities) - 5 year\n",
    "\n",
    "arcpy.management.MakeFeatureLayer(\"Accidents_DG\", \"SeriousInjury\", \"MOST_SERIOUS_INJURY IN ('D') AND ACC_YEAR IN ('2020', '2019', '2017', '2018', '2016')\", None, \"#\")\n",
    "\n",
    "arcpy.analysis.SpatialJoin(\"AADT_2019\", \"SeriousInjury\", \"SJ_AccD_AADT_2019\", \"JOIN_ONE_TO_ONE\", \"KEEP_ALL\", '#', \"INTERSECT\", \"36 Feet\", '')\n",
    "\n",
    "arcpy.management.CalculateField(\"SJ_AccD_AADT_2019\", \"SeriousInjuryRate100VMT\", \"!Join_Count! * 100000000/(!AADTCount! * 365 * 5 * (!ToMeasure!-!FromMeasure!))\", \"PYTHON3\", '', \"DOUBLE\")"
   ]
  },
  {
   "cell_type": "markdown",
   "metadata": {},
   "source": [
    "KDOT Numbers\n",
    "to gain context about average crash rates based on KDOT data, \n",
    "the following reports can be referenced:\n",
    "    \n",
    "https://www.ksdot.org/Assets/wwwksdotorg/bureaus/burTransPlan/prodinfo/Mileage_Travel/CountyMiles2017.pdf\n",
    "    \n",
    "1391 Miles of highway in douglas county in 2017    \n",
    "\n",
    "https://www.ksdot.org/Assets/wwwksdotorg/bureaus/burTransPlan/prodinfo/Mileage_Travel/CountyDVMT2017.pdf\n",
    "\n",
    "daily VMT in douglas county (2017)- 2,983,274\n",
    "\n",
    "https://www.ksdot.org/bureaus/burTransPlan/prodinfo/Mileage_Travel/MileTravel2017.asp\n",
    "\n",
    "Total Highway Miles in Kansas (2017) - 142,054 miles\n",
    "\n",
    "Average Daily Travel in Kansas (2017) = 88,248,910 Vehicle Miles\n",
    "\n",
    "from KDOT Crash data online - \n",
    "\n",
    "Douglas County:\n",
    "Fatal Crashes - 43 between 2016-2020\n",
    "Severe Injury Crashes - 108 between 2016-2020\n",
    "Statewide there are about 380 fatal crashes per year\n",
    "Statewide there are about 1000 serious injury crashes per year"
   ]
  },
  {
   "cell_type": "code",
   "execution_count": 30,
   "metadata": {},
   "outputs": [
    {
     "name": "stdout",
     "output_type": "stream",
     "text": [
      "DG Co Average AADT is 2144.6973400431343\n",
      "Statewide Average AADT is 621.2349529052332\n",
      "DG Co Average 5 yr fatality rate is 0.790048359778763\n",
      "DG Co Average 5 yr severe injury rate is 1.9843075082815442\n",
      "Statewide Average 5 yr fatality rate is 1.1796980544746043\n",
      "Statewide Average 5 yr severe injury rate is 3.1044685644068535\n"
     ]
    }
   ],
   "source": [
    "print(\"DG Co Average AADT is \" + str(2983274/1391))\n",
    "print(\"Statewide Average AADT is \" + str(88248910/142054))\n",
    "print(\"DG Co Average 5 yr fatality rate is \" + str(43*100000000/(2144*365*5*1391)))\n",
    "print(\"DG Co Average 5 yr severe injury rate is \" + str(108*100000000/(2144*365*5*1391)))\n",
    "print(\"Statewide Average 5 yr fatality rate is \" + str(380*5*100000000/(142054*365*5*621.25)))\n",
    "print(\"Statewide Average 5 yr severe injury rate is \" + str(1000*5*100000000/(142054*365*5*621.25)))"
   ]
  },
  {
   "cell_type": "code",
   "execution_count": null,
   "metadata": {},
   "outputs": [],
   "source": []
  }
 ],
 "metadata": {
  "kernelspec": {
   "display_name": "ArcGISPro",
   "language": "Python",
   "name": "python3"
  },
  "language_info": {
   "file_extension": ".py",
   "name": "python",
   "version": "3"
  }
 },
 "nbformat": 4,
 "nbformat_minor": 2
}
