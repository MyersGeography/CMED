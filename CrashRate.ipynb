{
 "cells": [
  {
   "cell_type": "markdown",
   "metadata": {},
   "source": [
    "This notebook uses the kdot accidents layer and AADT from the KDOT Khub publication database to calaulate crash rates using the equation\n",
    "\n",
    "$$R = \\frac{C x 100,000,000}{V x 365 x N x L}$$\n",
    "\n",
    "The variables in this equation are:\n",
    "\n",
    "R = crash rate for the road segment expressed as crashes per 100 million vehicle-miles of travel,\n",
    "\n",
    "C = Total number of crashes in the study period\n",
    "\n",
    "V = Traffic volumes using Average Annual Daily Traffic (AADT) volumes\n",
    "\n",
    "N = Number of years of data\n",
    "\n",
    "L = Length of the roadway segment in miles\n",
    "\n",
    "https://safety.fhwa.dot.gov/local_rural/training/fhwasa1109/app_c.cfm\n",
    "\n",
    "https://wfs.ksdot.org/arcgis_web_adaptor/rest/services/Transportation/Accidents/FeatureServer\n",
    "\n"
   ]
  },
  {
   "cell_type": "code",
   "execution_count": 2,
   "metadata": {},
   "outputs": [],
   "source": [
    "projdb =r\"C:\\Users\\kgonterwitz\\Documents\\ArcGIS\\Projects\\KDOT_CrashMaps\\KDOT_CrashMaps.gdb\""
   ]
  },
  {
   "cell_type": "code",
   "execution_count": null,
   "metadata": {},
   "outputs": [],
   "source": [
    "#copy local Accidents data from KDOT Wfs for Douglas County to project database\n",
    "\n",
    "with arcpy.EnvManager(scratchWorkspace=projdb, outputCoordinateSystem=\"PROJCS['NAD_1983_2011_KS_RCS_Zone_11',GEOGCS['GCS_NAD_1983_2011',DATUM['D_NAD_1983_2011',SPHEROID['GRS_1980',6378137.0,298.257222101]],PRIMEM['Greenwich',0.0],UNIT['Degree',0.0174532925199433]],PROJECTION['Lambert_Conformal_Conic'],PARAMETER['False_Easting',11500000.0],PARAMETER['False_Northing',600000.0],PARAMETER['Central_Meridian',-95.25],PARAMETER['Standard_Parallel_1',39.1],PARAMETER['Scale_Factor',1.000033],PARAMETER['Latitude_Of_Origin',39.1],UNIT['Foot_US',0.3048006096012192]]\", workspace=projdb):\n",
    "    arcpy.conversion.FeatureClassToFeatureClass(\"Accidents\", projdb, \"Accidents\", \"ACC_COUNTY = 'DOUGLAS'\", '#', '')"
   ]
  },
  {
   "cell_type": "code",
   "execution_count": 8,
   "metadata": {},
   "outputs": [],
   "source": [
    "#copy local AADT data from Khub publiation geodatabase to project database \n",
    "#selected are assigned routes to douglas county and routes longer than ten feet\n",
    "#the minimum length threshold should be reviewed and possible raised\n",
    "#if the minimum lenth threshod rises above 30 feet, raise spatial join parameter accordingly\n",
    "\n",
    "arcpy.management.SelectLayerByAttribute(\"ev_AADT\", \"NEW_SELECTION\", \"RouteID LIKE '023%' And Shape_Length > 35\", None)\n",
    "\n",
    "with arcpy.EnvManager(outputCoordinateSystem=\"PROJCS['NAD_1983_2011_KS_RCS_Zone_11',GEOGCS['GCS_NAD_1983_2011',DATUM['D_NAD_1983_2011',SPHEROID['GRS_1980',6378137.0,298.257222101]],PRIMEM['Greenwich',0.0],UNIT['Degree',0.0174532925199433]],PROJECTION['Lambert_Conformal_Conic'],PARAMETER['False_Easting',11500000.0],PARAMETER['False_Northing',600000.0],PARAMETER['Central_Meridian',-95.25],PARAMETER['Standard_Parallel_1',39.1],PARAMETER['Scale_Factor',1.000033],PARAMETER['Latitude_Of_Origin',39.1],UNIT['Foot_US',0.3048006096012192]]\"):\n",
    "    arcpy.conversion.FeatureClassToFeatureClass(\"ev_AADT\", projdb, \"AADT_2019\", \"RouteID LIKE '023%'\", '#', '')"
   ]
  },
  {
   "cell_type": "code",
   "execution_count": 9,
   "metadata": {},
   "outputs": [
    {
     "data": {
      "text/html": [
       "<h2>Output</h2>a Layer object<h2>Messages</h2>Start Time: Thursday, May 27, 2021 11:54:32 AM<br/>Adding CrashRateVolumetric to SJ_Acc_AADT_2019...<br/>Succeeded at Thursday, May 27, 2021 11:54:33 AM (Elapsed Time: 0.72 seconds)<br/><style>.rendered_html td, .rendered_html th {text-align: left;}.rendered_html tbody {border: 1px solid black;}</style>"
      ],
      "text/plain": [
       "<Result 'SJ_Acc_AADT_2019'>"
      ]
     },
     "execution_count": 9,
     "metadata": {},
     "output_type": "execute_result"
    }
   ],
   "source": [
    "#this cell outputs the calculated crash rate for mapping and review\n",
    "\n",
    "arcpy.analysis.SpatialJoin(\"AADT_2019\", \"Accidents_DG\", \"SJ_Acc_AADT_2019\", \"JOIN_ONE_TO_ONE\", \"KEEP_ALL\", '#', \"INTERSECT\", \"36 Feet\", '')\n",
    "arcpy.management.CalculateField(\"SJ_Acc_AADT_2019\", \"CrashRateVolumetric\", \"!Join_Count! * 100000000/(!AADTCount! * 365 * 10 * (!ToMeasure!-!FromMeasure!))\", \"PYTHON3\", '', \"DOUBLE\")"
   ]
  },
  {
   "cell_type": "code",
   "execution_count": 10,
   "metadata": {},
   "outputs": [
    {
     "data": {
      "text/html": [
       "<h2>Output</h2>a Layer object<h2>Messages</h2>Start Time: Thursday, May 27, 2021 12:17:54 PM<br/>Adding PedCrashRateVolumetric to SJ_AccBP_AADT_2019...<br/>Succeeded at Thursday, May 27, 2021 12:17:56 PM (Elapsed Time: 1.28 seconds)<br/><style>.rendered_html td, .rendered_html th {text-align: left;}.rendered_html tbody {border: 1px solid black;}</style>"
      ],
      "text/plain": [
       "<Result 'SJ_AccBP_AADT_2019'>"
      ]
     },
     "execution_count": 10,
     "metadata": {},
     "output_type": "execute_result"
    }
   ],
   "source": [
    "#pedestrian (and bicycle) related crashes included\n",
    "\n",
    "arcpy.management.MakeFeatureLayer(\"Accidents_DG\", \"Accidents_BikePed\", \"ALL_PEDESTRIANS > 0 Or PEDESTRIAN_ACCS > 0 Or PEDAL_CYCLIST_ACCS > 0\", None, \"#\")\n",
    "\n",
    "arcpy.analysis.SpatialJoin(\"AADT_2019\", \"Accidents_BikePed\", \"SJ_AccBP_AADT_2019\", \"JOIN_ONE_TO_ONE\", \"KEEP_ALL\", '#', \"INTERSECT\", \"36 Feet\", '')\n",
    "\n",
    "arcpy.management.CalculateField(\"SJ_AccBP_AADT_2019\", \"PedCrashRateVolumetric\", \"!Join_Count! * 100000000/(!AADTCount! * 365 * 10 * (!ToMeasure!-!FromMeasure!))\", \"PYTHON3\", '', \"DOUBLE\")"
   ]
  },
  {
   "cell_type": "code",
   "execution_count": 62,
   "metadata": {},
   "outputs": [
    {
     "data": {
      "text/html": [
       "<h2>Output</h2><table><tr><th>id</th><th>value</th></tr><tr><td>0</td><td>C:\\Users\\kgonterwitz\\Documents\\ArcGIS\\Projects\\KDOT_CrashMaps\\KDOT_CrashMaps.gdb\\Accidents_LFAR</td></tr><tr><td>1</td><td>RouteId Point MEAS</td></tr></table><h2>Messages</h2>Start Time: Thursday, May 27, 2021 10:38:25 AM<br/>Succeeded at Thursday, May 27, 2021 10:44:39 AM (Elapsed Time: 6 minutes 13 seconds)<br/><style>.rendered_html td, .rendered_html th {text-align: left;}.rendered_html tbody {border: 1px solid black;}</style>"
      ],
      "text/plain": [
       "<Result 'C:\\\\Users\\\\kgonterwitz\\\\Documents\\\\ArcGIS\\\\Projects\\\\KDOT_CrashMaps\\\\KDOT_CrashMaps.gdb\\\\Accidents_LFAR'>"
      ]
     },
     "execution_count": 62,
     "metadata": {},
     "output_type": "execute_result"
    }
   ],
   "source": [
    "arcpy.management.SelectLayerByAttribute(\"Accidents\", \"NEW_SELECTION\", \"ACC_COUNTY = 'DOUGLAS'\", None)\n",
    "arcpy.lr.LocateFeaturesAlongRoutes(\"Accidents\", \"LRS_County_Primary\", \"RouteId\", \"24 Feet\", r\"C:\\Users\\kgonterwitz\\Documents\\ArcGIS\\Projects\\KDOT_CrashMaps\\KDOT_CrashMaps.gdb\\Accidents_LFAR\", \"RouteId Point MEAS\", \"ALL\", \"DISTANCE\", \"ZERO\", \"FIELDS\", \"M_DIRECTON\")\n"
   ]
  }
 ],
 "metadata": {
  "kernelspec": {
   "display_name": "ArcGISPro",
   "language": "Python",
   "name": "python3"
  },
  "language_info": {
   "file_extension": ".py",
   "name": "python",
   "version": "3"
  }
 },
 "nbformat": 4,
 "nbformat_minor": 2
}
