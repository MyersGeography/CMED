{
 "cells": [
  {
   "cell_type": "markdown",
   "metadata": {},
   "source": [
    "This document is a python notebook that is based on the modelbuilder script approach for water line maintenance prioritization. \n",
    "\n",
    "The Facility Identifiers are not unique to each pipe so to avoid error from spatially processing information and joining that information back to the facility ID for mapping, a new relational facility identifier is calculated using the existing facility ID - object ID from the source layer.  For an example, if facility ID xyz has one segment in central service, one segment in west hills, and each is a short segment with a number of services of main breaks counted along the pipe facility ID, processing the counts of breaks or services connected from many features and joining on hte facility ID will yield many to many relationships with no way to control identify which of the pipes were affected, and valuable information could be lost or mis-attributed.\n",
    "    \n",
    "Soils Corrosivity was converted to a point inside the SSURGO shape and spatial joined to the SSURGO layer so that formations and strata can be compared to the 1977 Douglas County Soil Survey.  Most of the area within the city is considered corrosivie.  Soil corrosivity is dynamic and largely sensitive to water content of the soil and salts which vary by depth.  \n",
    "    "
   ]
  },
  {
   "cell_type": "code",
   "execution_count": null,
   "metadata": {},
   "outputs": [],
   "source": [
    "#copied from modelbuilder toolbox at \n",
    "#\\\\utilities\\engineering\\Shared\\Watermain_Assessment_Corrosion\\Model\\SCRIPTS\\New_Water_Assessment\\Water_Assessment_Split.tbx\n",
    "\n",
    "#assessment geodatabase\n",
    "New_Model_Design_gdb = r\"C:\\Users\\kgonterwitz\\Documents\\ArcGIS\\Projects\\WaterAssets\\WaterAssets.gdb\" \n",
    "\n",
    "#Water Mains is the layer in the pro project map \"waterlineAssessment\"\n",
    "utilities_pub_UTIL_DBO_wMain = \"Water Mains\"\n",
    "\n",
    "# Process: Feature Class to Feature Class (2) - export to model db\n",
    "arcpy.FeatureClassToFeatureClass_conversion(utilities_pub_UTIL_DBO_wMain, New_Model_Design_gdb, \"Water_main\")\n"
   ]
  },
  {
   "cell_type": "code",
   "execution_count": null,
   "metadata": {},
   "outputs": [],
   "source": [
    "#use the same layers as the asset prediction model\n",
    "#copy that layer and call it Water_main\n"
   ]
  },
  {
   "cell_type": "code",
   "execution_count": 14,
   "metadata": {},
   "outputs": [
    {
     "data": {
      "text/html": [
       "<h2>Output</h2>a Layer object<h2>Messages</h2>Start Time: Wednesday, July 28, 2021 2:24:17 PM<br/>Succeeded at Wednesday, July 28, 2021 2:24:18 PM (Elapsed Time: 1.25 seconds)<br/><style>.rendered_html td, .rendered_html th {text-align: left;}.rendered_html tbody {border: 1px solid black;}</style>"
      ],
      "text/plain": [
       "<Result 'Water_main'>"
      ]
     },
     "execution_count": 14,
     "metadata": {},
     "output_type": "execute_result"
    }
   ],
   "source": [
    "#add fields for scoring\n",
    "\n",
    "arcpy.AddField_management(\"Water_main\", \"Pipe_Diameter_Score\", \"LONG\", \"\", \"\", \"\", \"\", \"NULLABLE\", \"NON_REQUIRED\", \"\")\n",
    "arcpy.AddField_management(\"Water_main\", \"Pipe_Material_Adjustment\", \"LONG\", \"\", \"\", \"\", \"\", \"NULLABLE\", \"NON_REQUIRED\", \"\")\n",
    "arcpy.AddField_management(\"Water_main\", \"Pipe_Material_Score\", \"LONG\", \"\", \"\", \"\", \"\", \"NULLABLE\", \"NON_REQUIRED\", \"\")\n",
    "\n",
    "#these steps remove everything except 8\" and 10\" pipes with potable water maintained by the city\n",
    "arcpy.SelectLayerByAttribute_management(\"Water_main\", \"NEW_SELECTION\", \"\\\"Diameter\\\" = 0 OR \\\"Diameter\\\" = 0.5 OR \\\"Diameter\\\" = 0.75 OR \\\"Diameter\\\" = 1 OR \\\"Diameter\\\" = 1.25 OR \\\"Diameter\\\" = 36 OR \\\"Diameter\\\" = 30 OR \\\"Diameter\\\" = 24 OR \\\"Diameter\\\" = 20 OR \\\"Diameter\\\" = 18 OR \\\"Diameter\\\" = 16 OR \\\"Diameter\\\" = 15 OR \\\"Diameter\\\" = 14 OR \\\"Diameter\\\" = 1.5 OR \\\"Diameter\\\" = 2 OR \\\"Diameter\\\" = 3 OR OPERATIONAREA = 'HINU' OR OPERATIONAREA = 'KU' OR OPERATIONAREA = 'OTH' OR OPERATIONAREA = 'UNK' OR WATERTYPE = 'Lime' OR WATERTYPE = 'Overflow' OR WATERTYPE = 'Raw' OR WATERTYPE = 'Treatment'\")\n",
    "arcpy.DeleteFeatures_management(\"Water_main\")"
   ]
  },
  {
   "cell_type": "code",
   "execution_count": 15,
   "metadata": {},
   "outputs": [
    {
     "data": {
      "text/html": [
       "<h2>Output</h2><table><tr><th>id</th><th>value</th></tr><tr><td>0</td><td>a Layer object</td></tr><tr><td>1</td><td>-1</td></tr></table><h2>Messages</h2>Start Time: Wednesday, July 28, 2021 2:24:42 PM<br/>Succeeded at Wednesday, July 28, 2021 2:24:43 PM (Elapsed Time: 0.28 seconds)<br/><style>.rendered_html td, .rendered_html th {text-align: left;}.rendered_html tbody {border: 1px solid black;}</style>"
      ],
      "text/plain": [
       "<Result 'Water_main'>"
      ]
     },
     "execution_count": 15,
     "metadata": {},
     "output_type": "execute_result"
    }
   ],
   "source": [
    "#step 2- set scoring values for materials, a series of select and calculate statements\n",
    "\n",
    "arcpy.SelectLayerByAttribute_management(\"Water_main\", \"NEW_SELECTION\", \" MATERIAL = 'DIP'\")\n",
    "arcpy.CalculateField_management(\"Water_main\", \"Pipe_Material_Score\", \"10\", \"PYTHON3\", \"\")\n",
    "arcpy.SelectLayerByAttribute_management(\"Water_main\", \"NEW_SELECTION\", \"EXTCOVERING = 'Polywrap' OR EXTCOVERING = 'POLYWRAP'\")\n",
    "arcpy.CalculateField_management(\"Water_main\", \"Pipe_Material_Adjustment\", \"0 -2\", \"PYTHON3\", \"\")\n",
    "arcpy.SelectLayerByAttribute_management(\"Water_main\", \"NEW_SELECTION\", \"\\\"Material\\\" = 'PVC' OR \\\"Material\\\" = 'pvc sdr-14' \")\n",
    "arcpy.CalculateField_management(\"Water_main\", \"Pipe_Material_Score\", \"1\", \"PYTHON3\", \"\")\n",
    "arcpy.SelectLayerByAttribute_management(\"Water_main\", \"NEW_SELECTION\", \"MATERIAL = 'TTE'\")\n",
    "arcpy.CalculateField_management(\"Water_main\", \"Pipe_Material_Score\", \"3\", \"PYTHON3\", \"\")\n",
    "arcpy.SelectLayerByAttribute_management(\"Water_main\", \"NEW_SELECTION\", \"MATERIAL = 'CAS'\")\n",
    "arcpy.CalculateField_management(\"Water_main\", \"Pipe_Material_Score\", \"4\", \"PYTHON3\", \"\")\n",
    "arcpy.SelectLayerByAttribute_management(\"Water_main\", \"CLEAR_SELECTION\", \"\")\n"
   ]
  },
  {
   "cell_type": "code",
   "execution_count": 16,
   "metadata": {},
   "outputs": [
    {
     "data": {
      "text/html": [
       "<h2>Output</h2>a Layer object<h2>Messages</h2>Start Time: Wednesday, July 28, 2021 2:24:53 PM<br/>Adding PipeAge to Water_Main_20210726...<br/>Succeeded at Wednesday, July 28, 2021 2:24:54 PM (Elapsed Time: 0.91 seconds)<br/><style>.rendered_html td, .rendered_html th {text-align: left;}.rendered_html tbody {border: 1px solid black;}</style>"
      ],
      "text/plain": [
       "<Result 'Water_main'>"
      ]
     },
     "execution_count": 16,
     "metadata": {},
     "output_type": "execute_result"
    }
   ],
   "source": [
    "#Step 3 - Age Score fields\n",
    "analysis_layer = \"Water_main\"\n",
    "arcpy.management.AddField(analysis_layer, \"Pipe_Age_score\", \"LONG\", None, None, None, '', \"NULLABLE\", \"NON_REQUIRED\", '')\n",
    "arcpy.management.AddField(analysis_layer, \"InstallYear\", \"SHORT\",  None, None, None, '', \"NULLABLE\", \"NON_REQUIRED\", '')\n",
    "arcpy.management.AddField(analysis_layer, \"PipeAge\", \"FLOAT\",  None, None, None, '', \"NULLABLE\", \"NON_REQUIRED\", '')\n"
   ]
  },
  {
   "cell_type": "code",
   "execution_count": 17,
   "metadata": {},
   "outputs": [
    {
     "data": {
      "text/html": [
       "<h2>Output</h2><table><tr><th>id</th><th>value</th></tr><tr><td>0</td><td>a Layer object</td></tr><tr><td>1</td><td>-1</td></tr></table><h2>Messages</h2>Start Time: Wednesday, July 28, 2021 2:25:33 PM<br/>Succeeded at Wednesday, July 28, 2021 2:25:34 PM (Elapsed Time: 0.28 seconds)<br/><style>.rendered_html td, .rendered_html th {text-align: left;}.rendered_html tbody {border: 1px solid black;}</style>"
      ],
      "text/plain": [
       "<Result 'Water_main'>"
      ]
     },
     "execution_count": 17,
     "metadata": {},
     "output_type": "execute_result"
    }
   ],
   "source": [
    "Current_Year = '2021' #set in pipe age calculation\n",
    "#step 3 calculate age scores\n",
    "#arcpy.CalculateField_management(analysis_layer, \"InstallYear\", \"DatePart(\\\"yyyy\\\", [INSTALLDATE])\", \"PYTHON3\", \"\")\n",
    "arcpy.management.CalculateField(\"Water_main\", \"InstallYear\", \"str(!INSTALLDATE!)[:4]\", \"PYTHON3\", '', \"TEXT\")\n",
    "arcpy.CalculateField_management(analysis_layer, \"PipeAge\", \"2021 - !InstallYear!\", \"PYTHON3\", \"\")\n",
    "arcpy.SelectLayerByAttribute_management(analysis_layer, \"NEW_SELECTION\", \"PipeAge >= 50\")\n",
    "arcpy.CalculateField_management(analysis_layer, \"Pipe_Age_score\", \"5\", \"PYTHON3\", \"\")\n",
    "arcpy.SelectLayerByAttribute_management(analysis_layer, \"NEW_SELECTION\", \"PipeAge < 50 AND PipeAge >= 40\")\n",
    "arcpy.CalculateField_management(analysis_layer, \"Pipe_Age_score\", \"4\", \"PYTHON3\", \"\")\n",
    "arcpy.SelectLayerByAttribute_management(analysis_layer, \"NEW_SELECTION\", \"PipeAge < 40 AND PipeAge >= 30\")\n",
    "arcpy.CalculateField_management(analysis_layer, \"Pipe_Age_score\", \"3\", \"PYTHON3\", \"\")\n",
    "arcpy.SelectLayerByAttribute_management(analysis_layer, \"NEW_SELECTION\", \"PipeAge < 30 AND PipeAge >= 20\")\n",
    "arcpy.CalculateField_management(analysis_layer, \"Pipe_Age_score\", \"2\", \"PYTHON3\", \"\")\n",
    "arcpy.SelectLayerByAttribute_management(analysis_layer, \"NEW_SELECTION\", \"PipeAge < 20 AND PipeAge >= 10\")\n",
    "arcpy.CalculateField_management(analysis_layer, \"Pipe_Age_score\", \"1\", \"PYTHON3\", \"\")\n",
    "arcpy.SelectLayerByAttribute_management(analysis_layer, \"NEW_SELECTION\", \"PipeAge < 10 AND PipeAge >= 0\")\n",
    "arcpy.CalculateField_management(analysis_layer, \"Pipe_Age_score\", \"0\", \"PYTHON3\", \"\")\n",
    "arcpy.SelectLayerByAttribute_management(analysis_layer, \"NEW_SELECTION\", \"PipeAge IS NULL\")\n",
    "arcpy.CalculateField_management(analysis_layer, \"Pipe_Age_score\", \"0\", \"PYTHON3\", \"\")\n",
    "arcpy.SelectLayerByAttribute_management(analysis_layer, \"CLEAR_SELECTION\", \"\")"
   ]
  },
  {
   "cell_type": "code",
   "execution_count": null,
   "metadata": {},
   "outputs": [],
   "source": [
    "#step 5 - calculate replacement costs\n",
    "arcpy.AddField_management(analysis_layer, \"Replacement_Cost\", \"LONG\", None, None, None, '', \"NULLABLE\", \"NON_REQUIRED\", '')\n",
    "arcpy.SelectLayerByAttribute_management(analysis_layer, \"NEW_SELECTION\", \"\\\"Diameter\\\" = 4\")\n",
    "arcpy.CalculateField_management(analysis_layer, \"Replacement_Cost\", \"!Shape_Length!*90\", \"PYTHON3\", \"\")\n",
    "arcpy.SelectLayerByAttribute_management(analysis_layer, \"NEW_SELECTION\", \"\\\"Diameter\\\" = 6\")\n",
    "arcpy.CalculateField_management(analysis_layer, \"Replacement_Cost\", \"!Shape_Length! *110\", \"PYTHON3\", \"\")\n",
    "arcpy.SelectLayerByAttribute_management(analysis_layer, \"NEW_SELECTION\", \"\\\"Diameter\\\" = 8\")\n",
    "arcpy.CalculateField_management(analysis_layer, \"Replacement_Cost\", \"!Shape_Length!*204\", \"PYTHON3\", \"\")\n",
    "arcpy.SelectLayerByAttribute_management(analysis_layer, \"NEW_SELECTION\", \"\\\"Diameter\\\" = 10\")\n",
    "arcpy.CalculateField_management(analysis_layer, \"Replacement_Cost\", \"!Shape_Length! *233\", \"PYTHON3\", \"\")\n",
    "arcpy.SelectLayerByAttribute_management(analysis_layer, \"NEW_SELECTION\", \"\\\"Diameter\\\" = 12\")\n",
    "arcpy.CalculateField_management(analysis_layer, \"Replacement_Cost\", \"!Shape_Length!*262\", \"PYTHON3\", \"\")\n",
    "arcpy.SelectLayerByAttribute_management(analysis_layer, \"CLEAR_SELECTION\", \"\")\n"
   ]
  },
  {
   "cell_type": "code",
   "execution_count": 18,
   "metadata": {},
   "outputs": [
    {
     "data": {
      "text/html": [
       "<h2>Output</h2>a Layer object<h2>Messages</h2>Start Time: Wednesday, July 28, 2021 2:27:09 PM<br/>Succeeded at Wednesday, July 28, 2021 2:27:12 PM (Elapsed Time: 2.86 seconds)<br/><style>.rendered_html td, .rendered_html th {text-align: left;}.rendered_html tbody {border: 1px solid black;}</style>"
      ],
      "text/plain": [
       "<Result 'Water_main'>"
      ]
     },
     "execution_count": 18,
     "metadata": {},
     "output_type": "execute_result"
    }
   ],
   "source": [
    "#step 5 breaks per segment analysis\n",
    "#Mainbreaks data can be exported from lucity\n",
    "#the mainbreak date is compared to the pipe date to only include relevant main breaks\n",
    "#if a pipe was replaced, the main breaks related to the replaced pipe should not be included\n",
    "#mainbreak records appear to include duplicates-consider making them distinct by date\n",
    "\n",
    "mainbreaklayer = \"Main_breaks_Not_Repaired_2021_5\"\n",
    "\n",
    "arcpy.AddField_management(analysis_layer, \"Breaks_Per_segment\", \"LONG\", None, None, None, '', \"NULLABLE\", \"NON_REQUIRED\", '')\n",
    "arcpy.AddField_management(analysis_layer, \"Annual_Break_Rate\", \"FLOAT\", None, None, None, '', \"NULLABLE\", \"NON_REQUIRED\", '')\n",
    "arcpy.AddField_management(analysis_layer, \"Break_weight_Scale\", \"LONG\", None, None, None, '', \"NULLABLE\", \"NON_REQUIRED\", '')\n",
    "\n",
    "arcpy.Buffer_analysis(analysis_layer, \"watermain_buffer30\", \"30 Feet\", \"FULL\", \"ROUND\", \"NONE\", \"\", \"PLANAR\")\n",
    "arcpy.SpatialJoin_analysis(\"watermain_buffer30\", mainbreaklayer, \"BreakPointJoin\", \"JOIN_ONE_TO_ONE\", \"KEEP_ALL\", \"#\", \"INTERSECT\", \"\", \"\")\n",
    "\n",
    "\n",
    "arcpy.JoinField_management(analysis_layer, \"AssetID\", \"BreakPointJoin\", \"AssetID\", \"Join_Count\")\n"
   ]
  },
  {
   "cell_type": "code",
   "execution_count": 20,
   "metadata": {},
   "outputs": [
    {
     "data": {
      "text/html": [
       "<h2>Output</h2>a Layer object<h2>Messages</h2>Start Time: Wednesday, July 28, 2021 2:28:24 PM<br/>Succeeded at Wednesday, July 28, 2021 2:28:25 PM (Elapsed Time: 1.43 seconds)<br/><style>.rendered_html td, .rendered_html th {text-align: left;}.rendered_html tbody {border: 1px solid black;}</style>"
      ],
      "text/plain": [
       "<Result 'Water_main'>"
      ]
     },
     "execution_count": 20,
     "metadata": {},
     "output_type": "execute_result"
    }
   ],
   "source": [
    "#code block can be performed as logical expressions for selection or make feature layer, but it was mostly designed to avoid the nonetype warning\n",
    "\n",
    "analysis_layer = \"Water_main\"\n",
    "arcpy.JoinField_management(analysis_layer, \"AssetID\", \"BreakPointJoin\", \"AssetID\", \"Join_Count\")\n",
    "\n",
    "arcpy.CalculateField_management(analysis_layer, \"Breaks_Per_segment\", \"!Join_Count!\", \"PYTHON3\", \"\")\n",
    "arcpy.CalculateField_management(analysis_layer, \"Annual_Break_Rate\", \"(2021 - !InstallYear!)\", \"PYTHON3\", \"\") \n",
    "    \n",
    "arcpy.management.SelectLayerByAttribute(analysis_layer, \"NEW_SELECTION\", \"Breaks_Per_segment > 4\", None)\n",
    "arcpy.management.CalculateField(\"Water_main\", \"Break_weight_Scale\", \"!Breaks_Per_segment!*3\", \"PYTHON3\", '', \"TEXT\")\n",
    "\n",
    "arcpy.management.SelectLayerByAttribute(\"Water_main\", \"NEW_SELECTION\", \"Breaks_Per_segment BETWEEN 3 AND 4\", None)\n",
    "arcpy.management.CalculateField(\"Water_main\", \"Break_weight_Scale\", \"!Breaks_Per_segment!*2\", \"PYTHON3\", '', \"TEXT\")\n",
    "\n",
    "arcpy.management.SelectLayerByAttribute(\"Water_main\", \"NEW_SELECTION\", \"Breaks_Per_segment BETWEEN 1 AND 2\", None)\n",
    "arcpy.management.CalculateField(\"Water_main\", \"Break_weight_Scale\", \"!Breaks_Per_segment!*1\", \"PYTHON3\", '', \"TEXT\")\n",
    "\n",
    "arcpy.management.SelectLayerByAttribute(\"Water_main\", \"NEW_SELECTION\", \"Breaks_Per_segment = 0\", None)\n",
    "arcpy.management.CalculateField(\"Water_main\", \"Break_weight_Scale\", \"0\", \"PYTHON3\", '', \"TEXT\")"
   ]
  },
  {
   "cell_type": "code",
   "execution_count": 21,
   "metadata": {},
   "outputs": [
    {
     "data": {
      "text/html": [
       "<h2>Output</h2><table><tr><th>id</th><th>value</th></tr><tr><td>0</td><td>a Layer object</td></tr><tr><td>1</td><td>-1</td></tr></table><h2>Messages</h2>Start Time: Wednesday, July 28, 2021 2:35:50 PM<br/>Succeeded at Wednesday, July 28, 2021 2:35:50 PM (Elapsed Time: 0.06 seconds)<br/><style>.rendered_html td, .rendered_html th {text-align: left;}.rendered_html tbody {border: 1px solid black;}</style>"
      ],
      "text/plain": [
       "<Result 'Critical_Users'>"
      ]
     },
     "execution_count": 21,
     "metadata": {},
     "output_type": "execute_result"
    }
   ],
   "source": [
    "#rank for proximity to critical water users\n",
    "#review list of critical water users - add new LMH hospital facility/ rock chalk park\n",
    "\n",
    "analysis_layer = \"Water_main\"\n",
    "Critical_Users_layer = \"Critical_Users\"\n",
    "\n",
    "arcpy.AddField_management(analysis_layer, \"Critical_User_Score\", \"LONG\", \"\", \"\", \"\", \"\", \"NULLABLE\", \"NON_REQUIRED\", \"\")\n",
    "\n",
    "arcpy.management.SelectLayerByAttribute(Critical_Users_layer, \"NEW_SELECTION\", \"\\\"LineScore\\\" = 3\", None)\n",
    "arcpy.SelectLayerByLocation_management(analysis_layer, \"INTERSECT\", Critical_Users_layer, \"1000 feet\", \"NEW_SELECTION\", \"NOT_INVERT\")\n",
    "arcpy.CalculateField_management(analysis_layer, \"Critical_User_Score\", \"3\", \"PYTHON3\", \"\")\n",
    "\n",
    "arcpy.management.SelectLayerByAttribute(Critical_Users_layer, \"NEW_SELECTION\", \"\\\"LineScore\\\" = 5\", None)\n",
    "arcpy.SelectLayerByLocation_management(analysis_layer, \"INTERSECT\", Critical_Users_layer, \"1000 feet\", \"NEW_SELECTION\", \"NOT_INVERT\")\n",
    "arcpy.CalculateField_management(analysis_layer, \"Critical_User_Score\", \"5\", \"PYTHON3\", \"\")\n",
    "\n",
    "arcpy.management.SelectLayerByAttribute(analysis_layer, \"NEW_SELECTION\", \"Critical_User_Score is null\", None)\n",
    "arcpy.CalculateField_management(analysis_layer, \"Critical_User_Score\", \"0\", \"PYTHON3\", \"\")\n",
    "\n",
    "arcpy.SelectLayerByAttribute_management(analysis_layer, \"CLEAR_SELECTION\", \"\")\n",
    "arcpy.SelectLayerByAttribute_management(Critical_Users_layer, \"CLEAR_SELECTION\", \"\")"
   ]
  },
  {
   "cell_type": "code",
   "execution_count": null,
   "metadata": {},
   "outputs": [],
   "source": [
    "# contributing factor of soil corrosivity\n",
    "#if a pipe crosses over multipe soil zones, based on the order of operations, \n",
    "#the corrosivity score will be the lower of the zones intersected\n",
    "#cosider reversing order to take more conservative approach with corrosive soils\n",
    "\n",
    "analysis_layer = \"Water_main\"\n",
    "SteelCorrosivitylayer = \"SteelCorrosivity\"\n",
    "\n",
    "\n",
    "arcpy.AddField_management(analysis_layer, \"Soil_corrosion_Value\", \"LONG\", \"\", \"\", \"\", \"\", \"NULLABLE\", \"NON_REQUIRED\", \"\")\n",
    "arcpy.management.SelectLayerByAttribute(SteelCorrosivitylayer, \"NEW_SELECTION\", \"\\\"STEEL_CORR\\\" = 'high'\", None)\n",
    "arcpy.SelectLayerByLocation_management(analysis_layer, \"INTERSECT\", SteelCorrosivitylayer, \"\", \"NEW_SELECTION\", \"NOT_INVERT\")\n",
    "arcpy.CalculateField_management(analysis_layer, \"Soil_corrosion_Value\", \"5\", \"PYTHON3\", \"\")\n",
    "\n",
    "arcpy.management.SelectLayerByAttribute(SteelCorrosivitylayer, \"NEW_SELECTION\", \"\\\"STEEL_CORR\\\" = 'moderate'\", None)\n",
    "arcpy.SelectLayerByLocation_management(analysis_layer, \"INTERSECT\", SteelCorrosivitylayer, \"\", \"NEW_SELECTION\", \"NOT_INVERT\")\n",
    "arcpy.CalculateField_management(analysis_layer, \"Soil_corrosion_Value\", \"3\", \"PYTHON3\", \"\")\n",
    "\n",
    "arcpy.management.SelectLayerByAttribute(SteelCorrosivitylayer, \"NEW_SELECTION\", \"\\\"STEEL_CORR\\\" = 'low'\", None)\n",
    "arcpy.SelectLayerByLocation_management(analysis_layer, \"INTERSECT\", SteelCorrosivitylayer, \"\", \"NEW_SELECTION\", \"NOT_INVERT\")\n",
    "arcpy.CalculateField_management(analysis_layer, \"Soil_corrosion_Value\", \"0\", \"PYTHON3\", \"\")\n",
    "\n",
    "arcpy.SelectLayerByAttribute_management(analysis_layer, \"CLEAR_SELECTION\", \"\")\n",
    "arcpy.SelectLayerByAttribute_management(SteelCorrosivitylayer, \"CLEAR_SELECTION\", \"\")\n"
   ]
  },
  {
   "cell_type": "code",
   "execution_count": null,
   "metadata": {},
   "outputs": [],
   "source": [
    "#diameter Score\n",
    "\n",
    "analysis_layer = \"Water_main\"\n",
    "\n",
    "arcpy.AddField_management(analysis_layer, \"Pipe_Diameter_Score\", \"LONG\", \"\", \"\", \"\", \"\", \"NULLABLE\", \"NON_REQUIRED\", \"\")\n",
    "\n",
    "arcpy.SelectLayerByAttribute_management(analysis_layer, \"NEW_SELECTION\", \"\\\"Diameter\\\" = 12\")\n",
    "arcpy.CalculateField_management(analysis_layer, \"Pipe_Diameter_Score\", \"5\", \"PYTHON3\", \"\")\n",
    "\n",
    "arcpy.SelectLayerByAttribute_management(analysis_layer, \"NEW_SELECTION\", \"\\\"Diameter\\\" = 10\")\n",
    "arcpy.CalculateField_management(analysis_layer, \"Pipe_Diameter_Score\", \"4\", \"PYTHON3\", \"\")\n",
    "\n",
    "arcpy.SelectLayerByAttribute_management(analysis_layer, \"NEW_SELECTION\", \"\\\"Diameter\\\" = 8\")\n",
    "arcpy.CalculateField_management(analysis_layer, \"Pipe_Diameter_Score\", \"3\", \"PYTHON3\", \"\")\n",
    "\n",
    "arcpy.SelectLayerByAttribute_management(analysis_layer, \"NEW_SELECTION\", \"\\\"Diameter\\\" = 6\")\n",
    "arcpy.CalculateField_management(analysis_layer, \"Pipe_Diameter_Score\", \"2\", \"PYTHON3\", \"\")\n",
    "\n",
    "arcpy.SelectLayerByAttribute_management(analysis_layer, \"NEW_SELECTION\", \"\\\"Diameter\\\" = 4\")\n",
    "arcpy.CalculateField_management(analysis_layer, \"Pipe_Diameter_Score\", \"1\", \"PYTHON3\", \"\")\n",
    "\n",
    "arcpy.SelectLayerByAttribute_management(analysis_layer, \"CLEAR_SELECTION\", \"\")\n",
    "\n"
   ]
  },
  {
   "cell_type": "code",
   "execution_count": null,
   "metadata": {},
   "outputs": [],
   "source": [
    "#street score\n",
    "#prioritize water mains on the basis of street functional classification\n",
    "\n",
    "analysis_layer = \"Water_main\"\n",
    "\n",
    "Road_Centerline = \"Road_Centerline\"\n",
    "\n",
    "arcpy.AddField_management(analysis_layer, \"Street_Score\", \"LONG\", \"\", \"\", \"\", \"\", \"NULLABLE\", \"NON_REQUIRED\", \"\")\n",
    "\n",
    "arcpy.SelectLayerByAttribute_management(Road_Centerline, \"NEW_SELECTION\", \"FUNCTCLASS in ('ALLEY','PRIVATE') OR FUNCTCLASS is NULL\")\n",
    "arcpy.SelectLayerByLocation_management(analysis_layer, \"INTERSECT\", Road_Centerline, \"100 feet\", \"NEW_SELECTION\", \"NOT_INVERT\")\n",
    "arcpy.CalculateField_management(analysis_layer, \"Street_Score\", \"1\", \"PYTHON3\", \"\")\n",
    "\n",
    "arcpy.SelectLayerByAttribute_management(Road_Centerline, \"NEW_SELECTION\", \"FUNCTCLASS in ('STREET', 'OTHER RAMP')\")\n",
    "arcpy.SelectLayerByLocation_management(analysis_layer, \"INTERSECT\", Road_Centerline, \"100 feet\", \"NEW_SELECTION\", \"NOT_INVERT\")\n",
    "arcpy.CalculateField_management(analysis_layer, \"Street_Score\", \"2\", \"PYTHON3\", \"\")\n",
    "\n",
    "\n",
    "arcpy.SelectLayerByAttribute_management(Road_Centerline, \"NEW_SELECTION\", \"FUNCTCLASS in ('COLLECTOR', 'MINOR COLLECTOR')\")\n",
    "arcpy.SelectLayerByLocation_management(analysis_layer, \"INTERSECT\", Road_Centerline, \"100 feet\", \"NEW_SELECTION\", \"NOT_INVERT\")\n",
    "arcpy.CalculateField_management(analysis_layer, \"Street_Score\", \"3\", \"PYTHON3\", \"\")\n",
    "\n",
    "arcpy.SelectLayerByAttribute_management(Road_Centerline, \"NEW_SELECTION\", \"FUNCTCLASS in ('MINOR ARTERIAL', 'MAJOR COLLECTOR')\")\n",
    "arcpy.SelectLayerByLocation_management(analysis_layer, \"INTERSECT\", Road_Centerline, \"100 feet\", \"NEW_SELECTION\", \"NOT_INVERT\")\n",
    "arcpy.CalculateField_management(analysis_layer, \"Street_Score\", \"4\", \"PYTHON3\", \"\")\n",
    "\n",
    "arcpy.SelectLayerByAttribute_management(Road_Centerline, \"NEW_SELECTION\", \" FUNCTCLASS = 'PRINCIPAL ARTERIAL'\")\n",
    "arcpy.SelectLayerByLocation_management(analysis_layer, \"INTERSECT\", Road_Centerline, \"100 feet\", \"NEW_SELECTION\", \"NOT_INVERT\")\n",
    "arcpy.CalculateField_management(analysis_layer, \"Street_Score\", \"5\", \"PYTHON3\", \"\")\n",
    "\n",
    "arcpy.SelectLayerByAttribute_management(analysis_layer, \"NEW_SELECTION\", \"Street_Score is null\")\n",
    "arcpy.CalculateField_management(analysis_layer, \"Street_Score\", \"0\", \"PYTHON3\", \"\")\n",
    "\n",
    "arcpy.SelectLayerByAttribute_management(Road_Centerline, \"CLEAR_SELECTION\", \"\")\n",
    "arcpy.SelectLayerByAttribute_management(analysis_layer, \"CLEAR_SELECTION\", \"\")\n",
    "\n"
   ]
  },
  {
   "cell_type": "code",
   "execution_count": 22,
   "metadata": {},
   "outputs": [
    {
     "data": {
      "text/html": [
       "<h2>Output</h2>a Layer object<h2>Messages</h2>Start Time: Wednesday, July 28, 2021 2:41:12 PM<br/>Succeeded at Wednesday, July 28, 2021 2:41:12 PM (Elapsed Time: 0.16 seconds)<br/><style>.rendered_html td, .rendered_html th {text-align: left;}.rendered_html tbody {border: 1px solid black;}</style>"
      ],
      "text/plain": [
       "<Result 'Water_main'>"
      ]
     },
     "execution_count": 22,
     "metadata": {},
     "output_type": "execute_result"
    }
   ],
   "source": [
    "#partial Scoring - set remaining null values to zero, perform calculations - \n",
    "\n",
    "analysis_layer = \"Water_main\"\n",
    "\n",
    "arcpy.AddField_management(analysis_layer, \"Break_Threshold\", \"DOUBLE\", None, None, None, '', \"NULLABLE\", \"NON_REQUIRED\", '')\n",
    "arcpy.AddField_management(analysis_layer, \"Financial_Break_Even\", \"LONG\", None, None, None, '', \"NULLABLE\", \"NON_REQUIRED\", '')\n",
    "\n",
    "arcpy.SelectLayerByAttribute_management(analysis_layer, \"NEW_SELECTION\", \"\\\"Pipe_Material_Adjustment\\\" IS NULL\")\n",
    "arcpy.CalculateField_management(analysis_layer, \"Pipe_Material_Adjustment\", \"0\", \"PYTHON3\", \"\")\n",
    "\n",
    "arcpy.SelectLayerByAttribute_management(analysis_layer, \"NEW_SELECTION\", \"\\\"Pipe_Material_Score\\\" IS NULL\")\n",
    "arcpy.CalculateField_management(analysis_layer, \"Pipe_Material_Score\", \"0\", \"PYTHON3\", \"\")\n",
    "\n",
    "arcpy.SelectLayerByAttribute_management(analysis_layer, \"NEW_SELECTION\", \"\\\"Soil_corrosion_Value\\\" IS NULL\")\n",
    "arcpy.CalculateField_management(analysis_layer, \"Soil_corrosion_Value\", \"0\", \"PYTHON3\", \"\")\n",
    "\n",
    "arcpy.SelectLayerByAttribute_management(analysis_layer, \"NEW_SELECTION\", \"\\\"Critical_User_Score\\\" IS NULL\")\n",
    "arcpy.CalculateField_management(analysis_layer, \"Critical_User_Score\", \"0\", \"PYTHON3\", \"\")\n",
    "\n",
    "arcpy.SelectLayerByAttribute_management(analysis_layer, \"NEW_SELECTION\", \"\\\"Break_weight_Scale\\\" IS NULL\")\n",
    "arcpy.CalculateField_management(analysis_layer, \"Break_weight_Scale\", \"0\", \"PYTHON3\", \"\")\n",
    "\n",
    "arcpy.SelectLayerByAttribute_management(analysis_layer, \"NEW_SELECTION\", \"\\\"Break_Threshold\\\" IS NULL\")\n",
    "arcpy.CalculateField_management(analysis_layer, \"Break_Threshold\", \"(math.log(1+.05))/(math.log(1+(6600/ !Replacement_Cost!)))\", \"PYTHON3\", \"\")\n",
    "\n",
    "arcpy.management.SelectLayerByAttribute(analysis_layer, \"NEW_SELECTION\", \"Annual_Break_Rate > Break_Threshold\", None)\n",
    "arcpy.CalculateField_management(analysis_layer, \"Financial_Break_Even\", \"5\", \"PYTHON3\", \"\")\n",
    "\n",
    "arcpy.SelectLayerByAttribute_management(analysis_layer, \"SWITCH_SELECTION\")\n",
    "arcpy.CalculateField_management(analysis_layer, \"Financial_Break_Even\", \"0\", \"PYTHON3\", \"\")"
   ]
  },
  {
   "cell_type": "code",
   "execution_count": null,
   "metadata": {},
   "outputs": [],
   "source": [
    "#count and rank the number of metered users per line \n",
    "#change the process to look at lateral lines or service connections located along the main line as a route\n",
    "#the current approach uses spatial joins and might be less accurate where there are parallel waterlines\n",
    "#this approach was significantly changed to achieve the goal more accurately counting service connections\n",
    "arcpy.AddField_management(analysis_layer, \"Zero\", \"DOUBLE\", None, None, None, '', \"NULLABLE\", \"NON_REQUIRED\", '')\n",
    "arcpy.management.CalculateField(\"Water_main\", \"Zero\", \"0\", \"PYTHON3\", '', \"TEXT\")\n",
    "\n",
    "arcpy.AddField_management(analysis_layer, \"Length\", \"DOUBLE\", None, None, None, '', \"NULLABLE\", \"NON_REQUIRED\", '')\n",
    "arcpy.management.CalculateGeometryAttributes(\"Water_main\", \"Length LENGTH\", \"FEET_US\", '', \"PROJCS['NAD_1983_2011_KS_RCS_Zone_11',GEOGCS['GCS_NAD_1983_2011',DATUM['D_NAD_1983_2011',SPHEROID['GRS_1980',6378137.0,298.257222101]],PRIMEM['Greenwich',0.0],UNIT['Degree',0.0174532925199433]],PROJECTION['Lambert_Conformal_Conic'],PARAMETER['False_Easting',11500000.0],PARAMETER['False_Northing',600000.0],PARAMETER['Central_Meridian',-95.25],PARAMETER['Standard_Parallel_1',39.1],PARAMETER['Scale_Factor',1.000033],PARAMETER['Latitude_Of_Origin',39.1],UNIT['Foot_US',0.3048006096012192]]\", \"SAME_AS_INPUT\")\n",
    "\n",
    "arcpy.lr.CreateRoutes(\"Water_main\", \"AssetID\", \"Water_main_Route2021\", \"TWO_FIELDS\", \"Zero\", \"Length\", \"UPPER_LEFT\", 1, 0, \"IGNORE\", \"INDEX\")\n",
    "arcpy.management.FeatureVerticesToPoints(\"Water Lateral Lines\", \"WaterLateralLine_ends\", \"BOTH_ENDS\")\n",
    "arcpy.lr.LocateFeaturesAlongRoutes(\"WaterLateralLine_ends\", \"Water_main_Route2021\", \"AssetID\", \"0.01 Feet\", r\"WaterLateralLine_ends_Locate\", \"Main_AssetID Point Station\", \"FIRST\", \"DISTANCE\", \"ZERO\", \"FIELDS\", \"M_DIRECTON\")\n",
    "arcpy.lr.MakeRouteEventLayer(\"Water_main_Route2021\", \"AssetID\", \"WaterLateralLine_ends_Locate\", \"Main_AssetID Point Station\", \"WaterLateralLine_ends_Events\", None, \"NO_ERROR_FIELD\", \"ANGLE_FIELD\", \"NORMAL\", \"ANGLE\", \"LEFT\", \"POINT\")\n",
    "arcpy.management.AddField(\"WaterLateralLine_ends_Events\", \"Meter_Size_Score\", \"LONG\", None, None, None, '', \"NULLABLE\", \"NON_REQUIRED\", '')\n",
    "\n"
   ]
  },
  {
   "cell_type": "code",
   "execution_count": null,
   "metadata": {},
   "outputs": [],
   "source": [
    "#Each service line is given a score based on the service diameter\n",
    "#commercial and industrial lines are multiplied\n",
    "#this table will be dissolved to the main facility ID with sum statistics on the score fields and join-calculated to the mains table\n",
    "\n",
    "analysis_layer = \"Water_main\"\n",
    "services = \"WaterLateralLine_ends_Events\"\n",
    "\n",
    "arcpy.SelectLayerByAttribute_management(services, \"NEW_SELECTION\", \"Diameter = 8 OR Diameter = 6\")\n",
    "arcpy.CalculateField_management(services, \"Meter_Size_Score\", \"4\", \"PYTHON3\", \"\")\n",
    "arcpy.SelectLayerByAttribute_management(services, \"NEW_SELECTION\", \"Diameter = 4 OR Diameter = 3\")\n",
    "arcpy.CalculateField_management(services, \"Meter_Size_Score\", \"3\", \"PYTHON3\", \"\")\n",
    "arcpy.SelectLayerByAttribute_management(services, \"NEW_SELECTION\", \"Diameter = 2 OR Diameter = 1.5\")\n",
    "arcpy.CalculateField_management(services, \"Meter_Size_Score\", \"2\", \"PYTHON3\", \"\")\n",
    "arcpy.SelectLayerByAttribute_management(services, \"NEW_SELECTION\", \"Diameter <= 1\")\n",
    "arcpy.CalculateField_management(services, \"Meter_Size_Score\", \"1\", \"PYTHON3\", \"\")\n",
    "arcpy.SelectLayerByAttribute_management(services, \"NEW_SELECTION\", \"Diameter = 0 OR Diameter is null\")\n",
    "arcpy.CalculateField_management(services, \"Meter_Size_Score\", \"1\", \"PYTHON3\", \"\")\n",
    "\n",
    "arcpy.SelectLayerByAttribute_management(services, \"NEW_SELECTION\", \"LINETYPE IN ('Commercial', 'Industrial')\")\n",
    "arcpy.CalculateField_management(services, \"Meter_Size_Score\", \"!Meter_Size_Score! * 2\", \"PYTHON3\", \"\")\n",
    "arcpy.SelectLayerByAttribute_management(services, \"CLEAR_SELECTION\", \"\")\n",
    "arcpy.management.Dissolve(services, \"WaterLateralLine_Summary\", \"Main_Facility_ID\", \"OBJECTID COUNT;Meter_Size_Score SUM;Meter_Size_Score MEAN;Meter_Size_Score MEDIAN\", \"MULTI_PART\", \"DISSOLVE_LINES\")\n",
    "\n"
   ]
  },
  {
   "cell_type": "code",
   "execution_count": null,
   "metadata": {},
   "outputs": [],
   "source": [
    "analysis_layer = \"Water_main\"\n",
    "services = \"WaterLateralLine_Summary\"\n",
    "arcpy.SelectLayerByAttribute_management(analysis_layer, \"CLEAR_SELECTION\", \"\")\n",
    "\n",
    "arcpy.AddField_management(analysis_layer, \"User_Count_Score\", \"DOUBLE\", None, None, None, '', \"NULLABLE\", \"NON_REQUIRED\", '')\n",
    "arcpy.management.JoinField(analysis_layer, \"FACILITYID\", services, \"Main_Facility_ID\", \"SUM_Meter_Size_Score\")\n",
    "arcpy.CalculateField_management(analysis_layer, \"User_Count_Score\", \"!SUM_Meter_Size_Score!\", \"PYTHON3\", \"\")"
   ]
  },
  {
   "cell_type": "code",
   "execution_count": 27,
   "metadata": {},
   "outputs": [
    {
     "data": {
      "text/html": [
       "<h2>Output</h2><table><tr><th>id</th><th>value</th></tr><tr><td>0</td><td>a Layer object</td></tr><tr><td>1</td><td>-1</td></tr></table><h2>Messages</h2>Start Time: Monday, May 3, 2021 1:57:15 PM<br/>Succeeded at Monday, May 3, 2021 1:57:15 PM (Elapsed Time: 0.13 seconds)<br/><style>.rendered_html td, .rendered_html th {text-align: left;}.rendered_html tbody {border: 1px solid black;}</style>"
      ],
      "text/plain": [
       "<Result 'Water_main'>"
      ]
     },
     "execution_count": 27,
     "metadata": {},
     "output_type": "execute_result"
    }
   ],
   "source": [
    "\n",
    "arcpy.SelectLayerByAttribute_management(analysis_layer, \"NEW_SELECTION\", \"User_Count_Score is null\")\n",
    "arcpy.CalculateField_management(analysis_layer, \"User_Count_Score\", \"0\", \"PYTHON3\", \"\")\n",
    "arcpy.SelectLayerByAttribute_management(analysis_layer, \"CLEAR_SELECTION\", \"\")"
   ]
  },
  {
   "cell_type": "code",
   "execution_count": 28,
   "metadata": {},
   "outputs": [
    {
     "data": {
      "text/html": [
       "<h2>Output</h2>a Layer object<h2>Messages</h2>Start Time: Monday, May 3, 2021 2:02:26 PM<br/>WARNING 002858: Certain rows set to NULL due to error while evaluating python expression: TypeError: unsupported operand type(s) for +: 'int' and 'NoneType'<br/>Succeeded at Monday, May 3, 2021 2:02:29 PM (Elapsed Time: 2.53 seconds)<br/><style>.rendered_html td, .rendered_html th {text-align: left;}.rendered_html tbody {border: 1px solid black;}</style>"
      ],
      "text/plain": [
       "<Result 'Water_main'>"
      ]
     },
     "execution_count": 28,
     "metadata": {},
     "output_type": "execute_result"
    }
   ],
   "source": [
    "#ADD AND Calculate final scoring\n",
    "arcpy.AddField_management(analysis_layer, \"totalScore\", \"LONG\", \"\", \"\", \"\", \"\", \"NULLABLE\", \"NON_REQUIRED\", \"\")\n",
    "arcpy.CalculateField_management(analysis_layer, \"totalScore\", \"!Pipe_Diameter_Score! + !Pipe_Material_Score! + !Financial_Break_Even! + !Pipe_Age_score! + !Pipe_Material_Adjustment! + !Soil_corrosion_Value! + !Critical_User_Score!+!Break_weight_Scale! + !Street_Score!\", \"PYTHON3\", \"\")\n"
   ]
  },
  {
   "cell_type": "code",
   "execution_count": null,
   "metadata": {},
   "outputs": [],
   "source": [
    "#evaluate the pressure gradient from hydrant flow test, assign pressure ranges 1-5 and test sensitivity to LOB\n"
   ]
  },
  {
   "cell_type": "code",
   "execution_count": null,
   "metadata": {},
   "outputs": [],
   "source": [
    "#evaluate the pressure gradient from hydrant flow test, assign pressure ranges 1-5 and test sensitivity to LOB\n",
    "\n",
    "#watermain = 'Water_Main_202110'\n",
    "\n",
    "StaticHg = 'waterpressure'\n",
    "\n",
    "arcpy.sa.Sample(StaticHg, watermain, r\"Sample_waterpre1\", \"NEAREST\", \"OBJECTID\", \"CURRENT_SLICE\", None, \"MEAN\", None, None, \"ROW_WISE\", \"FEATURE_CLASS\")\n",
    "    \n",
    "#this seems to represent the values from the hydrant flow test static pressure grid \"waterpressure\" from the waterlines, probably other ways to do it\n",
    "\n",
    "\n",
    "\n"
   ]
  },
  {
   "cell_type": "code",
   "execution_count": 4,
   "metadata": {},
   "outputs": [
    {
     "ename": "SyntaxError",
     "evalue": "EOL while scanning string literal (<string>, line 33)",
     "output_type": "error",
     "traceback": [
      "\u001b[0;31m---------------------------------------------------------------------------\u001b[0m\n\u001b[0;31mSyntaxError\u001b[0m                               Traceback (most recent call last)",
      "File \u001b[0;34mC:\\Program Files\\ArcGIS\\Pro\\bin\\Python\\envs\\arcgispro-py3\\lib\\ast.py\u001b[0m, in \u001b[0;32mparse\u001b[0m:\nLine \u001b[0;34m35\u001b[0m:    \u001b[34mreturn\u001b[39;49;00m \u001b[36mcompile\u001b[39;49;00m(source, filename, mode, PyCF_ONLY_AST)\n",
      "\u001b[0;31mSyntaxError\u001b[0m: EOL while scanning string literal (<string>, line 33)\n\u001b[0;31m---------------------------------------------------------------------------\u001b[0m"
     ]
    }
   ],
   "source": [
    "arcpy.management.AddField(watermain, \"HG_Score\", \"LONG\", None, None, None, '', \"NULLABLE\", \"NON_REQUIRED\", '')\n",
    "arcpy.management.AddField(watermain, \"SampleHg\", \"DOUBLE\", None, None, None, '', \"NULLABLE\", \"NON_REQUIRED\", '')\n",
    "\n",
    "#scores entered into histogram, most pressures are between 58-85 psi\n",
    "#range is about 45-120\n",
    "#60-85 = 0\n",
    "#>60=1\n",
    "#85.1-90 = 2\n",
    "#90.1-95=3\n",
    "#95.1-105=4\n",
    "#>105.1 = 5\n",
    "\n",
    "arcpy.management.AddJoin(watermain, \"OBJECTID\", \"Sample_waterpre1\", \"LOCATIONID\", \"KEEP_ALL\")\n",
    "\n",
    "arcpy.management.CalculateField(watermain, \"Water_Main_202110.SampleHg\", \"!Sample_waterpre1.waterpressure!\", \"PYTHON3\", '', \"TEXT\", \"NO_ENFORCE_DOMAINS\")\n",
    "\n",
    "arcpy.management.RemoveJoin(watermain, \"Sample_waterpre1\")\n"
   ]
  },
  {
   "cell_type": "code",
   "execution_count": 5,
   "metadata": {},
   "outputs": [
    {
     "data": {
      "text/html": [
       "<h2>Output</h2>a Layer object<h2>Messages</h2>Start Time: Wednesday, December 1, 2021 12:31:03 PM<br/>Succeeded at Wednesday, December 1, 2021 12:31:04 PM (Elapsed Time: 0.84 seconds)<br/><style>.rendered_html td, .rendered_html th {text-align: left;}.rendered_html tbody {border: 1px solid black;}</style>"
      ],
      "text/plain": [
       "<Result 'Water_Main_202110'>"
      ]
     },
     "execution_count": 5,
     "metadata": {},
     "output_type": "execute_result"
    }
   ],
   "source": [
    "arcpy.management.SelectLayerByAttribute(watermain, \"NEW_SELECTION\", \"SampleHg < 60\", None)\n",
    "arcpy.management.CalculateField(watermain, \"HG_Score\", \"1\", \"PYTHON3\", '', \"TEXT\", \"NO_ENFORCE_DOMAINS\")\n",
    "\n",
    "arcpy.management.SelectLayerByAttribute(watermain, \"NEW_SELECTION\", \"SampleHg >= 60 And SampleHg < 85\", None)\n",
    "arcpy.management.CalculateField(watermain, \"HG_Score\", \"0\", \"PYTHON3\", '', \"TEXT\", \"NO_ENFORCE_DOMAINS\")\n",
    "\n",
    "arcpy.management.SelectLayerByAttribute(watermain, \"NEW_SELECTION\", \"SampleHg >= 85 And SampleHg < 90\", None)\n",
    "arcpy.management.CalculateField(watermain, \"HG_Score\", \"2\", \"PYTHON3\", '', \"TEXT\", \"NO_ENFORCE_DOMAINS\")\n",
    "\n",
    "arcpy.management.SelectLayerByAttribute(watermain, \"NEW_SELECTION\", \"SampleHg >= 90 And SampleHg < 95\", None)\n",
    "arcpy.management.CalculateField(watermain, \"HG_Score\", \"3\", \"PYTHON3\", '', \"TEXT\", \"NO_ENFORCE_DOMAINS\")\n",
    "\n",
    "arcpy.management.SelectLayerByAttribute(watermain, \"NEW_SELECTION\", \"SampleHg >= 95 And SampleHg < 105\", None)\n",
    "arcpy.management.CalculateField(watermain, \"HG_Score\", \"4\", \"PYTHON3\", '', \"TEXT\", \"NO_ENFORCE_DOMAINS\")\n",
    "\n",
    "arcpy.management.SelectLayerByAttribute(watermain, \"NEW_SELECTION\", \"SampleHg >= 105\", None)\n",
    "arcpy.management.CalculateField(watermain, \"HG_Score\", \"5\", \"PYTHON3\", '', \"TEXT\", \"NO_ENFORCE_DOMAINS\")"
   ]
  },
  {
   "cell_type": "markdown",
   "metadata": {},
   "source": [
    "The assetic predictor uses some of the same fields but with different generalization calculations.  "
   ]
  }
 ],
 "metadata": {
  "kernelspec": {
   "display_name": "ArcGISPro",
   "language": "Python",
   "name": "python3"
  },
  "language_info": {
   "file_extension": ".py",
   "name": "python",
   "version": "3"
  }
 },
 "nbformat": 4,
 "nbformat_minor": 2
}
