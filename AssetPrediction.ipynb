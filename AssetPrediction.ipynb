{
 "cells": [
  {
   "cell_type": "markdown",
   "metadata": {},
   "source": [
    "This jupyter notebook contains python scripting used in ArcGIS Pro to prioritize budget needs for water system improvements\n",
    "Inputs include the \n",
    "1. a personal geodatabase copy of the water network pipe feature class for size, material, install date, wrapping,\n",
    "2. a personal geodatabase copy of the main break data feature class for current existing pipes, without breaks on pipes that have been replaced\n",
    "3. reference data includes roads, soils, could also include bridges, culverts, hydraulic model, planning & zoning, etc\n",
    "\n",
    "Pipe categories are statistically evaluated to determine a likelihood of break ranking based on the input factors\n",
    "\n",
    "Those rank scores are then adjusted to consider actual existing broken and repaired locations that would benefit from replacement.\n",
    "\n",
    "Replacement costs can be compared with a statistically ranked value based on the quality of improvement to get the most benefit per dollar in scheduling routine maintenance of the system by replacing smaller, older, and failure prone pipes.\n",
    "\n",
    "Based on the score a project year and rough cost estimates can be assigned for the CIP.\n",
    "\n",
    "The maps and graphs are included in a related arcgis pro project that is also the default workspace for the following python script.\n",
    "\n",
    "https://www.waterrf.org/system/files/resource/2019-05/4332_1.pdf\n",
    "\n",
    "\n",
    "\n",
    "created by Kyle G on 7/16/2021"
   ]
  },
  {
   "cell_type": "code",
   "execution_count": 5,
   "metadata": {},
   "outputs": [],
   "source": [
    "collectorwatermains = r'https://gis2.lawrenceks.org/arcgis/rest/services/Utilities_Dept/WaterCollector/FeatureServer/11'"
   ]
  },
  {
   "cell_type": "code",
   "execution_count": 6,
   "metadata": {},
   "outputs": [],
   "source": [
    "#this cell will set variables referred to throughout the rest of this script for asset management calculations\n",
    "\n",
    "#as of about Late october, there is now a service available for breaks and leaks\n",
    "\n",
    "watermains = \"Water_Main_2022_05_26\"\n",
    "#BreakData = r\"C:\\Users\\kgonterwitz\\OneDrive - City of Lawrence KS\\Documents\\ArcGIS\\Projects\\WaterAssets\\WaterAssets.gdb\\Main_breaks_Not_Repaired_2021_5\"\n",
    "\n",
    "BreakData = r'https://gisweb.lawrenceks.org/hosting/rest/services/Water/Water_Breaks_and_Leaks/FeatureServer'\n",
    "\n",
    "#for the map analysis add the features from above and remove them from the group layer, so the layer name in TOC is this:\n",
    "BreakData = \"Water Main Breaks\"\n",
    "\n",
    "Soils= r\"C:\\Users\\kgonterwitz\\OneDrive - City of Lawrence KS\\Documents\\ArcGIS\\Projects\\WaterAssets\\WaterAssets.gdb\\Soils_SSURGO\"\n",
    "\n"
   ]
  },
  {
   "cell_type": "code",
   "execution_count": 7,
   "metadata": {},
   "outputs": [],
   "source": [
    "#initiate new analysis geodatabase and copy latest updated version of water main data\n",
    "projdb = r\"C:\\Users\\kgonterwitz\\OneDrive - City of Lawrence KS\\Documents\\ArcGIS\\Projects\\WaterData2022_0526.gdb\"\n",
    "\n"
   ]
  },
  {
   "cell_type": "code",
   "execution_count": 15,
   "metadata": {},
   "outputs": [],
   "source": [
    "#Export Water Mains from hosted feature service layer to analysis geodatabase\n",
    "#this will also reproject the analysis data to KRCS Zone 11\n",
    "\n",
    "assetwhereclause = \"WATERTYPE IN ('Potable') And OPERATIONAREA NOT IN ('HINU', 'KU', 'OTH', 'UNK', 'WTP') And DIAMETER <> 0\"\n",
    "wmains = (\"https://gis2.lawrenceks.org/arcgis/rest/services/Utilities_Dept/WaterCollector/FeatureServer/11\")\n",
    "Zone11 = 'PROJCS[\"NAD_1983_2011_KS_RCS_Zone_11\",GEOGCS[\"GCS_NAD_1983_2011\",DATUM[\"D_NAD_1983_2011\",SPHEROID[\"GRS_1980\",6378137.0,298.257222101]],PRIMEM[\"Greenwich\",0.0],UNIT[\"Degree\",0.0174532925199433]],PROJECTION[\"Lambert_Conformal_Conic\"],PARAMETER[\"False_Easting\",11500000.0],PARAMETER[\"False_Northing\",600000.0],PARAMETER[\"Central_Meridian\",-95.25],PARAMETER[\"Standard_Parallel_1\",39.1],PARAMETER[\"Scale_Factor\",1.000033],PARAMETER[\"Latitude_Of_Origin\",39.1],UNIT[\"Foot_US\",0.3048006096012192]]'\n",
    "with arcpy.EnvManager(scratchWorkspace=projdb, outputCoordinateSystem=Zone11, workspace=projdb):\n",
    "    arcpy.conversion.FeatureClassToFeatureClass(wmains, projdb, watermains, assetwhereclause, '#', '')"
   ]
  },
  {
   "cell_type": "code",
   "execution_count": 5,
   "metadata": {},
   "outputs": [
    {
     "name": "stdout",
     "output_type": "stream",
     "text": [
      "0 DI pipes Corrected\n",
      "0 PVC pipes Corrected\n",
      "1 PVC pipes Corrected type 2\n"
     ]
    },
    {
     "data": {
      "text/html": [
       "<h2>Output</h2><table><tr><th>id</th><th>value</th></tr><tr><td>0</td><td>a Layer object</td></tr><tr><td>1</td><td>-1</td></tr></table><h2>Messages</h2>Start Time: Friday, December 3, 2021 9:21:42 AM<br/>Succeeded at Friday, December 3, 2021 9:21:42 AM (Elapsed Time: 0.03 seconds)<br/><style>.rendered_html td, .rendered_html th {text-align: left;}.rendered_html tbody {border: 1px solid black;}</style>"
      ],
      "text/plain": [
       "<Result 'Water_Main_2021_12_3'>"
      ]
     },
     "execution_count": 5,
     "metadata": {},
     "output_type": "execute_result"
    }
   ],
   "source": [
    "#need to correct a few material types\n",
    "\n",
    "arcpy.management.SelectLayerByAttribute(watermains, \"NEW_SELECTION\", \"MATERIAL = ' di'\", None)\n",
    "arcpy.management.CalculateField(watermains, \"MATERIAL\", '\"DI\"', \"PYTHON3\", '', \"TEXT\")\n",
    "\n",
    "print(str(arcpy.management.GetCount(watermains)) + \" DI pipes Corrected\")\n",
    "\n",
    "arcpy.management.SelectLayerByAttribute(watermains, \"NEW_SELECTION\", \"MATERIAL = ' pvc'\", None)\n",
    "arcpy.management.CalculateField(watermains, \"MATERIAL\", '\"PVC\"', \"PYTHON3\", '', \"TEXT\")\n",
    "\n",
    "print(str(arcpy.management.GetCount(watermains)) + \" PVC pipes Corrected\")\n",
    "\n",
    "arcpy.management.SelectLayerByAttribute(watermains, \"NEW_SELECTION\", \"MATERIAL LIKE '%sdr%'\", None)\n",
    "arcpy.management.CalculateField(watermains, \"MATERIAL\", '\"PVC\"', \"PYTHON3\", '', \"TEXT\")\n",
    "print(str(arcpy.management.GetCount(watermains)) + \" PVC pipes Corrected type 2\")\n",
    "\n",
    "arcpy.management.SelectLayerByAttribute(watermains, \"CLEAR_SELECTION\")\n"
   ]
  },
  {
   "cell_type": "code",
   "execution_count": 16,
   "metadata": {},
   "outputs": [
    {
     "data": {
      "text/html": [
       "<div class='gpresult'><h2>Messages</h2><div id='messages' data-messages='[\"Start Time: Thursday, May 26, 2022 1:40:19 PM\",\"Succeeded at Thursday, May 26, 2022 1:40:20 PM (Elapsed Time: 0.70 seconds)\"]' data-show='true'><div id = 'default' /></div></div>"
      ],
      "text/plain": [
       "<Result 'Water_Main_2022_05_26'>"
      ]
     },
     "execution_count": 16,
     "metadata": {},
     "output_type": "execute_result"
    }
   ],
   "source": [
    "#create a truly unique pipe identifier\n",
    "\n",
    "arcpy.management.SelectLayerByAttribute(watermains, \"CLEAR_SELECTION\")\n",
    "arcpy.management.AddField(watermains, \"Unique_AssetID\", \"TEXT\", None, None, 50, '', \"NULLABLE\", \"NON_REQUIRED\", '')\n",
    "arcpy.management.CalculateField(watermains, \"Unique_AssetID\", 'str(!FACILITYID!) +\"-\"+ str(!OBJECTID!)', \"PYTHON3\", '', \"TEXT\", \"NO_ENFORCE_DOMAINS\")\n",
    "arcpy.management.AddIndex(watermains, \"Unique_AssetID\", \"AssetID_U2\", \"UNIQUE\", \"ASCENDING\")\n",
    "\n"
   ]
  },
  {
   "cell_type": "code",
   "execution_count": 4,
   "metadata": {},
   "outputs": [
    {
     "name": "stdout",
     "output_type": "stream",
     "text": [
      "276 Greater Than 12 in\n",
      "1031 12 in\n",
      "50 10 in\n",
      "3296 8 in\n",
      "908 6 in\n",
      "155 4 in\n",
      "0 other diameter\n"
     ]
    }
   ],
   "source": [
    "#classify pipe diameters for pipes 12\" and less, including greater than 12\"\n",
    "arcpy.management.SelectLayerByAttribute(watermains, \"NEW_SELECTION\", \"DIAMETER > 12\", None)\n",
    "arcpy.management.CalculateField(watermains, \"PipeDiameterScore\", \"6\", \"PYTHON3\", '', \"LONG\")\n",
    "print(str(arcpy.management.GetCount(watermains)) + \" Greater Than 12 in\")\n",
    "arcpy.management.SelectLayerByAttribute(watermains, \"NEW_SELECTION\", \"DIAMETER = 12\", None)\n",
    "arcpy.management.CalculateField(watermains, \"PipeDiameterScore\", \"5\", \"PYTHON3\", '', \"LONG\")\n",
    "print(str(arcpy.management.GetCount(watermains)) + \" 12 in\")\n",
    "arcpy.management.SelectLayerByAttribute(watermains, \"NEW_SELECTION\", \"DIAMETER = 10\", None)\n",
    "arcpy.management.CalculateField(watermains, \"PipeDiameterScore\", \"4\", \"PYTHON3\", '', \"LONG\")\n",
    "print(str(arcpy.management.GetCount(watermains)) + \" 10 in\")\n",
    "arcpy.management.SelectLayerByAttribute(watermains, \"NEW_SELECTION\", \"DIAMETER = 8\", None)\n",
    "arcpy.management.CalculateField(watermains, \"PipeDiameterScore\", \"3\", \"PYTHON3\", '', \"LONG\")\n",
    "print(str(arcpy.management.GetCount(watermains)) + \" 8 in\")\n",
    "arcpy.management.SelectLayerByAttribute(watermains, \"NEW_SELECTION\", \"DIAMETER = 6\", None)\n",
    "arcpy.management.CalculateField(watermains, \"PipeDiameterScore\", \"2\", \"PYTHON3\", '', \"LONG\")\n",
    "print(str(arcpy.management.GetCount(watermains)) + \" 6 in\")\n",
    "arcpy.management.SelectLayerByAttribute(watermains, \"NEW_SELECTION\", \"DIAMETER = 4\", None)\n",
    "arcpy.management.CalculateField(watermains, \"PipeDiameterScore\", \"1\", \"PYTHON3\", '', \"LONG\")\n",
    "print(str(arcpy.management.GetCount(watermains)) + \" 4 in\")\n",
    "arcpy.management.SelectLayerByAttribute(watermains, \"NEW_SELECTION\", \"PipeDiameterScore is null\", None)\n",
    "arcpy.management.CalculateField(watermains, \"PipeDiameterScore\", \"0\", \"PYTHON3\", '', \"LONG\")\n",
    "print(str(arcpy.management.GetCount(watermains)) + \" other diameter\")"
   ]
  },
  {
   "cell_type": "code",
   "execution_count": 19,
   "metadata": {},
   "outputs": [
    {
     "name": "stdout",
     "output_type": "stream",
     "text": [
      "14 0 in Cast Iron - 100 yr\n",
      "52 4 in Cast Iron - 95 yr\n",
      "329 6 in Cast Iron - 85 yr\n",
      "424 8 in Cast Iron - 90 yr\n",
      "35 10 in Cast Iron - 80 yr\n",
      "163 12 in Cast Iron - 75 yr\n",
      "43 Large Cast Iron - 70 yr\n",
      "104 Large RCP - 100 yr\n",
      "1 Large Steel - 70 yr\n",
      "345 0 in Copper - 70 yr\n",
      "0 6 in Copper - 60 yr\n",
      "1 12 in Copper - 50 yr\n",
      "2 0 in DI - 60 yr\n",
      "7 4 in DI - 55 yr\n",
      "108 6 in DI - 50- yr\n",
      "388 8 in DI - 40 yr\n",
      "4 10 in DI - 30 yr\n",
      "391 12 in DI - 20 yr\n",
      "90 Large DI - 20 yr\n",
      "0 0 in wrapped DI poly- 80 yr\n",
      "2 4 in wrapped DI poly- 80 yr\n",
      "3 6 in DI poly- 75 yr\n",
      "15 8 in DI wrapped poly- 70 yr\n",
      "1 10 in DI wrapped poly - 60 yr\n",
      "37 12 in wrapped DI poly - 50 yr\n",
      "20 Large wrapped DI poly - 50 yr\n",
      "145 0 in PVC - 90 yr\n",
      "79 4 in PVC - 85 yr\n",
      "444 6 in PVC - 80 yr\n",
      "2458 8 in PVC - 70 yr\n",
      "10 10 in PVC - 65 yr\n",
      "433 12 in PVC - 60 yr\n",
      "15 12 in PVC - 55 yr\n",
      "13 4 in TTE - 80 yr\n",
      "21 6 in TTE - 75 yr\n",
      "8 8 in TTE - 70 yr\n",
      "0 10 in TTE - 60 yr\n",
      "5 12 in TTE - 50 yr\n",
      "3 Large TTE - 45 yr\n",
      "110 unknown combo- 33 yr\n"
     ]
    },
    {
     "data": {
      "text/html": [
       "<div class='gpresult'><h2>Messages</h2><div id='messages' data-messages='[\"Start Time: Thursday, May 26, 2022 2:15:13 PM\",\"Succeeded at Thursday, May 26, 2022 2:15:14 PM (Elapsed Time: 0.94 seconds)\"]' data-show='true'><div id = 'default' /></div></div>"
      ],
      "text/plain": [
       "<Result 'Water_Main_2022_05_26'>"
      ]
     },
     "execution_count": 19,
     "metadata": {},
     "output_type": "execute_result"
    }
   ],
   "source": [
    "#Calculte Life Expectancy based on material and pipe diameter classification\n",
    "arcpy.management.AddField(watermains, \"ExpectedLife\", \"LONG\", None, None, None, '', \"NULLABLE\", \"NON_REQUIRED\", '')\n",
    "\n",
    "arcpy.management.SelectLayerByAttribute(watermains, \"NEW_SELECTION\", \"PipeDiameterScore = 0 And MATERIAL = 'CAS'\", None)\n",
    "arcpy.management.CalculateField(watermains, \"ExpectedLife\", \"100\", \"PYTHON3\", '', \"TEXT\")\n",
    "\n",
    "print(str(arcpy.management.GetCount(watermains)) + \" 0 in Cast Iron - 100 yr\")\n",
    "arcpy.management.SelectLayerByAttribute(watermains, \"NEW_SELECTION\", \"PipeDiameterScore = 1 And MATERIAL = 'CAS'\", None)\n",
    "print(str(arcpy.management.GetCount(watermains)) + \" 4 in Cast Iron - 95 yr\")\n",
    "arcpy.management.CalculateField(watermains, \"ExpectedLife\", \"95\", \"PYTHON3\", '', \"TEXT\")\n",
    "arcpy.management.SelectLayerByAttribute(watermains, \"NEW_SELECTION\", \"PipeDiameterScore = 2 And MATERIAL = 'CAS'\", None)\n",
    "print(str(arcpy.management.GetCount(watermains)) + \" 6 in Cast Iron - 85 yr\")\n",
    "arcpy.management.CalculateField(watermains, \"ExpectedLife\", \"95\", \"PYTHON3\", '', \"TEXT\")\n",
    "arcpy.management.SelectLayerByAttribute(watermains, \"NEW_SELECTION\", \"PipeDiameterScore = 3 And MATERIAL = 'CAS'\", None)\n",
    "print(str(arcpy.management.GetCount(watermains)) + \" 8 in Cast Iron - 90 yr\")\n",
    "arcpy.management.CalculateField(watermains, \"ExpectedLife\", \"90\", \"PYTHON3\", '', \"TEXT\")\n",
    "arcpy.management.SelectLayerByAttribute(watermains, \"NEW_SELECTION\", \"PipeDiameterScore = 4 And MATERIAL = 'CAS'\", None)\n",
    "print(str(arcpy.management.GetCount(watermains)) + \" 10 in Cast Iron - 80 yr\")\n",
    "arcpy.management.CalculateField(watermains, \"ExpectedLife\", \"80\", \"PYTHON3\", '', \"TEXT\")\n",
    "arcpy.management.SelectLayerByAttribute(watermains, \"NEW_SELECTION\", \"PipeDiameterScore = 5 And MATERIAL = 'CAS'\", None)\n",
    "print(str(arcpy.management.GetCount(watermains)) + \" 12 in Cast Iron - 75 yr\")\n",
    "arcpy.management.CalculateField(watermains, \"ExpectedLife\", \"75\", \"PYTHON3\", '', \"TEXT\")\n",
    "arcpy.management.SelectLayerByAttribute(watermains, \"NEW_SELECTION\", \"PipeDiameterScore = 6 And MATERIAL = 'CAS'\", None)\n",
    "print(str(arcpy.management.GetCount(watermains)) + \" Large Cast Iron - 70 yr\")\n",
    "arcpy.management.CalculateField(watermains, \"ExpectedLife\", \"70\", \"PYTHON3\", '', \"TEXT\")\n",
    "\n",
    "arcpy.management.SelectLayerByAttribute(watermains, \"NEW_SELECTION\", \"PipeDiameterScore = 6 And MATERIAL = 'RCP'\", None)\n",
    "print(str(arcpy.management.GetCount(watermains)) + \" Large RCP - 100 yr\")\n",
    "arcpy.management.CalculateField(watermains, \"ExpectedLife\", \"100\", \"PYTHON3\", '', \"TEXT\")\n",
    "\n",
    "\n",
    "arcpy.management.SelectLayerByAttribute(watermains, \"NEW_SELECTION\", \"PipeDiameterScore = 6 And MATERIAL = 'SP'\", None)\n",
    "print(str(arcpy.management.GetCount(watermains)) + \" Large Steel - 70 yr\")\n",
    "arcpy.management.CalculateField(watermains, \"ExpectedLife\", \"70\", \"PYTHON3\", '', \"TEXT\")\n",
    "\n",
    "\n",
    "arcpy.management.SelectLayerByAttribute(watermains, \"NEW_SELECTION\", \"PipeDiameterScore = 0 And MATERIAL = 'COP'\", None)\n",
    "print(str(arcpy.management.GetCount(watermains)) + \" 0 in Copper - 70 yr\")\n",
    "arcpy.management.CalculateField(watermains, \"ExpectedLife\", \"70\", \"PYTHON3\", '', \"TEXT\")\n",
    "arcpy.management.SelectLayerByAttribute(watermains, \"NEW_SELECTION\", \"PipeDiameterScore = 3 And MATERIAL = 'COP'\", None)\n",
    "print(str(arcpy.management.GetCount(watermains)) + \" 6 in Copper - 60 yr\")\n",
    "arcpy.management.CalculateField(watermains, \"ExpectedLife\", \"60\", \"PYTHON3\", '', \"TEXT\")\n",
    "arcpy.management.SelectLayerByAttribute(watermains, \"NEW_SELECTION\", \"PipeDiameterScore = 5 And MATERIAL = 'COP'\", None)\n",
    "print(str(arcpy.management.GetCount(watermains)) + \" 12 in Copper - 50 yr\")\n",
    "arcpy.management.CalculateField(watermains, \"ExpectedLife\", \"50\", \"PYTHON3\", '', \"TEXT\")\n",
    "\n",
    "arcpy.management.SelectLayerByAttribute(watermains, \"NEW_SELECTION\", \"PipeDiameterScore = 0 And MATERIAL = 'DIP' AND EXTCOVERING is null\", None)\n",
    "print(str(arcpy.management.GetCount(watermains)) + \" 0 in DI - 60 yr\")\n",
    "arcpy.management.CalculateField(watermains, \"ExpectedLife\", \"60\", \"PYTHON3\", '', \"TEXT\")\n",
    "arcpy.management.SelectLayerByAttribute(watermains, \"NEW_SELECTION\", \"PipeDiameterScore = 1 And MATERIAL = 'DIP'AND EXTCOVERING is null\", None)\n",
    "print(str(arcpy.management.GetCount(watermains)) + \" 4 in DI - 55 yr\")\n",
    "arcpy.management.CalculateField(watermains, \"ExpectedLife\", \"55\", \"PYTHON3\", '', \"TEXT\")\n",
    "arcpy.management.SelectLayerByAttribute(watermains, \"NEW_SELECTION\", \"PipeDiameterScore = 2 And MATERIAL = 'DIP'AND EXTCOVERING is null\", None)\n",
    "print(str(arcpy.management.GetCount(watermains)) + \" 6 in DI - 50- yr\")\n",
    "arcpy.management.CalculateField(watermains, \"ExpectedLife\", \"50\", \"PYTHON3\", '', \"TEXT\")\n",
    "arcpy.management.SelectLayerByAttribute(watermains, \"NEW_SELECTION\", \"PipeDiameterScore = 3 And MATERIAL = 'DIP'AND EXTCOVERING is null\", None)\n",
    "print(str(arcpy.management.GetCount(watermains)) + \" 8 in DI - 40 yr\")\n",
    "arcpy.management.CalculateField(watermains, \"ExpectedLife\", \"40\", \"PYTHON3\", '', \"TEXT\")\n",
    "arcpy.management.SelectLayerByAttribute(watermains, \"NEW_SELECTION\", \"PipeDiameterScore = 4 And MATERIAL = 'DIP'AND EXTCOVERING is null\", None)\n",
    "print(str(arcpy.management.GetCount(watermains)) + \" 10 in DI - 30 yr\")\n",
    "arcpy.management.CalculateField(watermains, \"ExpectedLife\", \"30\", \"PYTHON3\", '', \"TEXT\")\n",
    "arcpy.management.SelectLayerByAttribute(watermains, \"NEW_SELECTION\", \"PipeDiameterScore = 5 And MATERIAL = 'DIP'AND EXTCOVERING is null\", None)\n",
    "print(str(arcpy.management.GetCount(watermains)) + \" 12 in DI - 20 yr\")\n",
    "arcpy.management.CalculateField(watermains, \"ExpectedLife\", \"20\", \"PYTHON3\", '', \"TEXT\")\n",
    "\n",
    "arcpy.management.SelectLayerByAttribute(watermains, \"NEW_SELECTION\", \"PipeDiameterScore = 6 And MATERIAL = 'DIP'AND EXTCOVERING is null\", None)\n",
    "print(str(arcpy.management.GetCount(watermains)) + \" Large DI - 20 yr\")\n",
    "arcpy.management.CalculateField(watermains, \"ExpectedLife\", \"20\", \"PYTHON3\", '', \"TEXT\")\n",
    "\n",
    "arcpy.management.SelectLayerByAttribute(watermains, \"NEW_SELECTION\", \"PipeDiameterScore = 0 And MATERIAL = 'DIP' AND EXTCOVERING is not null\", None)\n",
    "print(str(arcpy.management.GetCount(watermains)) + \" 0 in wrapped DI poly- 80 yr\")\n",
    "arcpy.management.CalculateField(watermains, \"ExpectedLife\", \"80\", \"PYTHON3\", '', \"TEXT\")\n",
    "arcpy.management.SelectLayerByAttribute(watermains, \"NEW_SELECTION\", \"PipeDiameterScore = 1 And MATERIAL = 'DIP'AND EXTCOVERING is not null\", None)\n",
    "print(str(arcpy.management.GetCount(watermains)) + \" 4 in wrapped DI poly- 80 yr\")\n",
    "arcpy.management.CalculateField(watermains, \"ExpectedLife\", \"80\", \"PYTHON3\", '', \"TEXT\")\n",
    "arcpy.management.SelectLayerByAttribute(watermains, \"NEW_SELECTION\", \"PipeDiameterScore = 2 And MATERIAL = 'DIP'AND EXTCOVERING is not null\", None)\n",
    "print(str(arcpy.management.GetCount(watermains)) + \" 6 in DI poly- 75 yr\")\n",
    "arcpy.management.CalculateField(watermains, \"ExpectedLife\", \"75\", \"PYTHON3\", '', \"TEXT\")\n",
    "arcpy.management.SelectLayerByAttribute(watermains, \"NEW_SELECTION\", \"PipeDiameterScore = 3 And MATERIAL = 'DIP'AND EXTCOVERING is not null\", None)\n",
    "print(str(arcpy.management.GetCount(watermains)) + \" 8 in DI wrapped poly- 70 yr\")\n",
    "arcpy.management.CalculateField(watermains, \"ExpectedLife\", \"70\", \"PYTHON3\", '', \"TEXT\")\n",
    "arcpy.management.SelectLayerByAttribute(watermains, \"NEW_SELECTION\", \"PipeDiameterScore = 4 And MATERIAL = 'DIP'AND EXTCOVERING is not null\", None)\n",
    "print(str(arcpy.management.GetCount(watermains)) + \" 10 in DI wrapped poly - 60 yr\")\n",
    "arcpy.management.CalculateField(watermains, \"ExpectedLife\", \"60\", \"PYTHON3\", '', \"TEXT\")\n",
    "arcpy.management.SelectLayerByAttribute(watermains, \"NEW_SELECTION\", \"PipeDiameterScore = 5 And MATERIAL = 'DIP'AND EXTCOVERING is not null\", None)\n",
    "print(str(arcpy.management.GetCount(watermains)) + \" 12 in wrapped DI poly - 50 yr\")\n",
    "arcpy.management.CalculateField(watermains, \"ExpectedLife\", \"50\", \"PYTHON3\", '', \"TEXT\")\n",
    "arcpy.management.SelectLayerByAttribute(watermains, \"NEW_SELECTION\", \"PipeDiameterScore = 6 And MATERIAL = 'DIP'AND EXTCOVERING is not null\", None)\n",
    "print(str(arcpy.management.GetCount(watermains)) + \" Large wrapped DI poly - 50 yr\")\n",
    "arcpy.management.CalculateField(watermains, \"ExpectedLife\", \"50\", \"PYTHON3\", '', \"TEXT\")\n",
    "\n",
    "arcpy.management.SelectLayerByAttribute(watermains, \"NEW_SELECTION\", \"PipeDiameterScore = 0 And MATERIAL = 'PVC'\", None)\n",
    "print(str(arcpy.management.GetCount(watermains)) + \" 0 in PVC - 90 yr\")\n",
    "arcpy.management.CalculateField(watermains, \"ExpectedLife\", \"90\", \"PYTHON3\", '', \"TEXT\")\n",
    "arcpy.management.SelectLayerByAttribute(watermains, \"NEW_SELECTION\", \"PipeDiameterScore = 1 And MATERIAL = 'PVC'\", None)\n",
    "print(str(arcpy.management.GetCount(watermains)) + \" 4 in PVC - 85 yr\")\n",
    "arcpy.management.CalculateField(watermains, \"ExpectedLife\", \"85\", \"PYTHON3\", '', \"TEXT\")\n",
    "arcpy.management.SelectLayerByAttribute(watermains, \"NEW_SELECTION\", \"PipeDiameterScore = 2 And MATERIAL = 'PVC'\", None)\n",
    "print(str(arcpy.management.GetCount(watermains)) + \" 6 in PVC - 80 yr\")\n",
    "arcpy.management.CalculateField(watermains, \"ExpectedLife\", \"80\", \"PYTHON3\", '', \"TEXT\")\n",
    "arcpy.management.SelectLayerByAttribute(watermains, \"NEW_SELECTION\", \"PipeDiameterScore = 3 And MATERIAL = 'PVC'\", None)\n",
    "print(str(arcpy.management.GetCount(watermains)) + \" 8 in PVC - 70 yr\")\n",
    "arcpy.management.CalculateField(watermains, \"ExpectedLife\", \"70\", \"PYTHON3\", '', \"TEXT\")\n",
    "arcpy.management.SelectLayerByAttribute(watermains, \"NEW_SELECTION\", \"PipeDiameterScore = 4 And MATERIAL = 'PVC'\", None)\n",
    "print(str(arcpy.management.GetCount(watermains)) + \" 10 in PVC - 65 yr\")\n",
    "arcpy.management.CalculateField(watermains, \"ExpectedLife\", \"65\", \"PYTHON3\", '', \"TEXT\")\n",
    "arcpy.management.SelectLayerByAttribute(watermains, \"NEW_SELECTION\", \"PipeDiameterScore = 5 And MATERIAL = 'PVC'\", None)\n",
    "print(str(arcpy.management.GetCount(watermains)) + \" 12 in PVC - 60 yr\")\n",
    "arcpy.management.CalculateField(watermains, \"ExpectedLife\", \"60\", \"PYTHON3\", '', \"TEXT\")\n",
    "arcpy.management.SelectLayerByAttribute(watermains, \"NEW_SELECTION\", \"PipeDiameterScore = 6 And MATERIAL = 'PVC'\", None)\n",
    "print(str(arcpy.management.GetCount(watermains)) + \" 12 in PVC - 55 yr\")\n",
    "arcpy.management.CalculateField(watermains, \"ExpectedLife\", \"55\", \"PYTHON3\", '', \"TEXT\")\n",
    "\n",
    "arcpy.management.SelectLayerByAttribute(watermains, \"NEW_SELECTION\", \"PipeDiameterScore = 1 And MATERIAL = 'TTE'\", None)\n",
    "print(str(arcpy.management.GetCount(watermains)) + \" 4 in TTE - 80 yr\")\n",
    "arcpy.management.CalculateField(watermains, \"ExpectedLife\", \"80\", \"PYTHON3\", '', \"TEXT\")\n",
    "arcpy.management.SelectLayerByAttribute(watermains, \"NEW_SELECTION\", \"PipeDiameterScore = 2 And MATERIAL = 'TTE'\", None)\n",
    "print(str(arcpy.management.GetCount(watermains)) + \" 6 in TTE - 75 yr\")\n",
    "arcpy.management.CalculateField(watermains, \"ExpectedLife\", \"75\", \"PYTHON3\", '', \"TEXT\")\n",
    "arcpy.management.SelectLayerByAttribute(watermains, \"NEW_SELECTION\", \"PipeDiameterScore = 3 And MATERIAL = 'TTE'\", None)\n",
    "print(str(arcpy.management.GetCount(watermains)) + \" 8 in TTE - 70 yr\")\n",
    "arcpy.management.CalculateField(watermains, \"ExpectedLife\", \"70\", \"PYTHON3\", '', \"TEXT\")\n",
    "arcpy.management.SelectLayerByAttribute(watermains, \"NEW_SELECTION\", \"PipeDiameterScore = 4 And MATERIAL = 'TTE'\", None)\n",
    "print(str(arcpy.management.GetCount(watermains)) + \" 10 in TTE - 60 yr\")\n",
    "arcpy.management.CalculateField(watermains, \"ExpectedLife\", \"60\", \"PYTHON3\", '', \"TEXT\")\n",
    "arcpy.management.SelectLayerByAttribute(watermains, \"NEW_SELECTION\", \"PipeDiameterScore = 5 And MATERIAL = 'TTE'\", None)\n",
    "print(str(arcpy.management.GetCount(watermains)) + \" 12 in TTE - 50 yr\")\n",
    "arcpy.management.CalculateField(watermains, \"ExpectedLife\", \"50\", \"PYTHON3\", '', \"TEXT\")\n",
    "\n",
    "arcpy.management.SelectLayerByAttribute(watermains, \"NEW_SELECTION\", \"PipeDiameterScore = 6 And MATERIAL = 'TTE'\", None)\n",
    "print(str(arcpy.management.GetCount(watermains)) + \" Large TTE - 45 yr\")\n",
    "arcpy.management.CalculateField(watermains, \"ExpectedLife\", \"45\", \"PYTHON3\", '', \"TEXT\")\n",
    "\n",
    "arcpy.management.SelectLayerByAttribute(watermains, \"NEW_SELECTION\", \"ExpectedLife is null AND WATERTYPE = 'Potable'\", None)\n",
    "print(str(arcpy.management.GetCount(watermains)) + \" unknown combo- 33 yr\")\n",
    "arcpy.management.CalculateField(watermains, \"ExpectedLife\", \"33\", \"PYTHON3\", '', \"TEXT\")"
   ]
  },
  {
   "cell_type": "code",
   "execution_count": 9,
   "metadata": {},
   "outputs": [
    {
     "data": {
      "text/html": [
       "<h2>Output</h2>a Layer object<h2>Messages</h2>Start Time: Friday, December 3, 2021 9:34:31 AM<br/>Succeeded at Friday, December 3, 2021 9:34:31 AM (Elapsed Time: 0.21 seconds)<br/><style>.rendered_html td, .rendered_html th {text-align: left;}.rendered_html tbody {border: 1px solid black;}</style>"
      ],
      "text/plain": [
       "<Result 'Water_Main_2021_12_3'>"
      ]
     },
     "execution_count": 9,
     "metadata": {},
     "output_type": "execute_result"
    }
   ],
   "source": [
    "#evaluate install dates that are null, there are about 17 records, most of them are 8\" pvc\n",
    "#some might be recent edits \n",
    "#most are non-city infrastructure, like KU or HINU\n",
    "arcpy.management.SelectLayerByAttribute(watermains, \"NEW_SELECTION\", \"INSTALLDATE IS NULL\", None)\n",
    "arcpy.management.CalculateField(watermains, \"INSTALLDATE\", '\"1/1/1999\"', \"PYTHON3\", '', \"TEXT\", \"NO_ENFORCE_DOMAINS\")\n",
    "\n"
   ]
  },
  {
   "cell_type": "code",
   "execution_count": 20,
   "metadata": {},
   "outputs": [
    {
     "data": {
      "text/html": [
       "<div class='gpresult'><h2>Messages</h2><div id='messages' data-messages='[\"Start Time: Thursday, May 26, 2022 2:31:17 PM\",\"Succeeded at Thursday, May 26, 2022 2:31:18 PM (Elapsed Time: 0.13 seconds)\"]' data-show='true'><div id = 'default' /></div></div>"
      ],
      "text/plain": [
       "<Result 'Water_Main_2022_05_26'>"
      ]
     },
     "execution_count": 20,
     "metadata": {},
     "output_type": "execute_result"
    }
   ],
   "source": [
    "#determine remaining life in years \n",
    "arcpy.management.SelectLayerByAttribute(watermains, \"CLEAR_SELECTION\")\n",
    "\n",
    "arcpy.management.AddField(watermains, \"LifeRemaining\", \"LONG\", None, None, None, '', \"NULLABLE\", \"NON_REQUIRED\", '')\n",
    "\n",
    "arcpy.management.SelectLayerByAttribute(watermains, \"NEW_SELECTION\", \"ExpectedLife IS NOT NULL And INSTALLDATE IS NOT NULL\", None)\n",
    "arcpy.management.CalculateField(watermains, \"LifeRemaining\", \"!ExpectedLife!-(2022-int(str(!INSTALLDATE!)[:4]))\", \"PYTHON3\", '', \"TEXT\")\n",
    "\n",
    "arcpy.management.SelectLayerByAttribute(watermains, \"NEW_SELECTION\", \"LifeRemaining < 1 OR LifeRemaining is null\", None)\n",
    "arcpy.management.CalculateField(watermains, \"LifeRemaining\", \"0\", \"PYTHON3\", '', \"TEXT\")\n",
    "\n",
    "arcpy.management.SelectLayerByAttribute(watermains, \"CLEAR_SELECTION\")"
   ]
  },
  {
   "cell_type": "code",
   "execution_count": 21,
   "metadata": {},
   "outputs": [
    {
     "data": {
      "text/html": [
       "<div class='gpresult'><h2>Messages</h2><div id='messages' data-messages='[\"Start Time: Thursday, May 26, 2022 2:37:34 PM\",\"Succeeded at Thursday, May 26, 2022 2:37:37 PM (Elapsed Time: 3.76 seconds)\"]' data-show='true'><div id = 'default' /></div></div>"
      ],
      "text/plain": [
       "<Result 'Water_Main_2022_05_26'>"
      ]
     },
     "execution_count": 21,
     "metadata": {},
     "output_type": "execute_result"
    }
   ],
   "source": [
    "#calculate the percent of remaining life left for each pipe segment in GIS\n",
    "\n",
    "arcpy.management.AddField(watermains, \"PercentLifeRemaining\", \"LONG\", None, None, None, '', \"NULLABLE\", \"NON_REQUIRED\", '')\n",
    "#arcpy.management.SelectLayerByAttribute(watermains, \"NEW_SELECTION\", \"LifeRemaining > 0\", None)\n",
    "arcpy.management.CalculateField(watermains, \"PercentLifeRemaining\", \"!LifeRemaining!/!ExpectedLife! * 100\", \"PYTHON3\", '', \"TEXT\")\n"
   ]
  },
  {
   "cell_type": "code",
   "execution_count": 22,
   "metadata": {},
   "outputs": [
    {
     "data": {
      "text/html": [
       "<div class='gpresult'><h2>Messages</h2><div id='messages' data-messages='[\"Start Time: Thursday, May 26, 2022 2:43:07 PM\",\"Adding MilesOfPipe to Water_Main_2022_05_26...\",\"Succeeded at Thursday, May 26, 2022 2:43:09 PM (Elapsed Time: 2.08 seconds)\"]' data-show='true'><div id = 'default' /></div></div>"
      ],
      "text/plain": [
       "<Result 'Water_Main_2022_05_26'>"
      ]
     },
     "execution_count": 22,
     "metadata": {},
     "output_type": "execute_result"
    }
   ],
   "source": [
    "#add a field converting shape length feet to miles for total summary\n",
    "\n",
    "arcpy.management.CalculateField(watermains, \"MilesOfPipe\", \"!Shape_Length!/5280\", \"PYTHON3\", '', \"DOUBLE\", \"NO_ENFORCE_DOMAINS\")"
   ]
  },
  {
   "cell_type": "code",
   "execution_count": 23,
   "metadata": {},
   "outputs": [
    {
     "data": {
      "text/html": [
       "<table border=\"1\" class=\"dataframe\">\n",
       "  <thead>\n",
       "    <tr style=\"text-align: right;\">\n",
       "      <th>DIAMETER</th>\n",
       "      <th>0.75</th>\n",
       "      <th>1.0</th>\n",
       "      <th>1.5</th>\n",
       "      <th>2.0</th>\n",
       "      <th>3.0</th>\n",
       "      <th>4.0</th>\n",
       "      <th>6.0</th>\n",
       "      <th>8.0</th>\n",
       "      <th>10.0</th>\n",
       "      <th>12.0</th>\n",
       "      <th>14.0</th>\n",
       "      <th>16.0</th>\n",
       "      <th>20.0</th>\n",
       "      <th>24.0</th>\n",
       "      <th>30.0</th>\n",
       "      <th>36.0</th>\n",
       "      <th>All</th>\n",
       "    </tr>\n",
       "    <tr>\n",
       "      <th>MATERIAL</th>\n",
       "      <th></th>\n",
       "      <th></th>\n",
       "      <th></th>\n",
       "      <th></th>\n",
       "      <th></th>\n",
       "      <th></th>\n",
       "      <th></th>\n",
       "      <th></th>\n",
       "      <th></th>\n",
       "      <th></th>\n",
       "      <th></th>\n",
       "      <th></th>\n",
       "      <th></th>\n",
       "      <th></th>\n",
       "      <th></th>\n",
       "      <th></th>\n",
       "      <th></th>\n",
       "    </tr>\n",
       "  </thead>\n",
       "  <tbody>\n",
       "    <tr>\n",
       "      <th>CAS</th>\n",
       "      <td>NaN</td>\n",
       "      <td>NaN</td>\n",
       "      <td>NaN</td>\n",
       "      <td>0.072762</td>\n",
       "      <td>0.128169</td>\n",
       "      <td>1.657451</td>\n",
       "      <td>24.310948</td>\n",
       "      <td>28.900169</td>\n",
       "      <td>1.799921</td>\n",
       "      <td>12.917746</td>\n",
       "      <td>1.025815</td>\n",
       "      <td>1.730058</td>\n",
       "      <td>NaN</td>\n",
       "      <td>NaN</td>\n",
       "      <td>0.054827</td>\n",
       "      <td>NaN</td>\n",
       "      <td>72.597866</td>\n",
       "    </tr>\n",
       "    <tr>\n",
       "      <th>COP</th>\n",
       "      <td>0.044990</td>\n",
       "      <td>0.656534</td>\n",
       "      <td>0.053295</td>\n",
       "      <td>9.248452</td>\n",
       "      <td>NaN</td>\n",
       "      <td>NaN</td>\n",
       "      <td>0.036698</td>\n",
       "      <td>NaN</td>\n",
       "      <td>NaN</td>\n",
       "      <td>0.000139</td>\n",
       "      <td>NaN</td>\n",
       "      <td>NaN</td>\n",
       "      <td>NaN</td>\n",
       "      <td>NaN</td>\n",
       "      <td>NaN</td>\n",
       "      <td>NaN</td>\n",
       "      <td>10.040108</td>\n",
       "    </tr>\n",
       "    <tr>\n",
       "      <th>DIP</th>\n",
       "      <td>NaN</td>\n",
       "      <td>NaN</td>\n",
       "      <td>NaN</td>\n",
       "      <td>0.000520</td>\n",
       "      <td>0.003547</td>\n",
       "      <td>0.051733</td>\n",
       "      <td>6.674792</td>\n",
       "      <td>25.759502</td>\n",
       "      <td>0.005194</td>\n",
       "      <td>35.587291</td>\n",
       "      <td>0.011904</td>\n",
       "      <td>8.078631</td>\n",
       "      <td>0.188912</td>\n",
       "      <td>4.751764</td>\n",
       "      <td>NaN</td>\n",
       "      <td>0.095060</td>\n",
       "      <td>81.208849</td>\n",
       "    </tr>\n",
       "    <tr>\n",
       "      <th>GP</th>\n",
       "      <td>NaN</td>\n",
       "      <td>NaN</td>\n",
       "      <td>NaN</td>\n",
       "      <td>0.217306</td>\n",
       "      <td>NaN</td>\n",
       "      <td>0.000165</td>\n",
       "      <td>NaN</td>\n",
       "      <td>NaN</td>\n",
       "      <td>NaN</td>\n",
       "      <td>NaN</td>\n",
       "      <td>NaN</td>\n",
       "      <td>NaN</td>\n",
       "      <td>NaN</td>\n",
       "      <td>NaN</td>\n",
       "      <td>NaN</td>\n",
       "      <td>NaN</td>\n",
       "      <td>0.217471</td>\n",
       "    </tr>\n",
       "    <tr>\n",
       "      <th>NIL</th>\n",
       "      <td>NaN</td>\n",
       "      <td>NaN</td>\n",
       "      <td>NaN</td>\n",
       "      <td>0.447449</td>\n",
       "      <td>NaN</td>\n",
       "      <td>0.001162</td>\n",
       "      <td>NaN</td>\n",
       "      <td>0.241490</td>\n",
       "      <td>NaN</td>\n",
       "      <td>NaN</td>\n",
       "      <td>NaN</td>\n",
       "      <td>NaN</td>\n",
       "      <td>NaN</td>\n",
       "      <td>NaN</td>\n",
       "      <td>NaN</td>\n",
       "      <td>NaN</td>\n",
       "      <td>0.690101</td>\n",
       "    </tr>\n",
       "    <tr>\n",
       "      <th>PE</th>\n",
       "      <td>NaN</td>\n",
       "      <td>0.053268</td>\n",
       "      <td>NaN</td>\n",
       "      <td>1.439635</td>\n",
       "      <td>NaN</td>\n",
       "      <td>NaN</td>\n",
       "      <td>NaN</td>\n",
       "      <td>NaN</td>\n",
       "      <td>NaN</td>\n",
       "      <td>NaN</td>\n",
       "      <td>NaN</td>\n",
       "      <td>NaN</td>\n",
       "      <td>NaN</td>\n",
       "      <td>NaN</td>\n",
       "      <td>NaN</td>\n",
       "      <td>NaN</td>\n",
       "      <td>1.492903</td>\n",
       "    </tr>\n",
       "    <tr>\n",
       "      <th>PVC</th>\n",
       "      <td>0.000291</td>\n",
       "      <td>0.072435</td>\n",
       "      <td>NaN</td>\n",
       "      <td>5.129140</td>\n",
       "      <td>0.654444</td>\n",
       "      <td>3.588027</td>\n",
       "      <td>24.173602</td>\n",
       "      <td>181.091406</td>\n",
       "      <td>0.112082</td>\n",
       "      <td>35.211513</td>\n",
       "      <td>NaN</td>\n",
       "      <td>1.950287</td>\n",
       "      <td>NaN</td>\n",
       "      <td>NaN</td>\n",
       "      <td>0.022879</td>\n",
       "      <td>1.206013</td>\n",
       "      <td>253.212120</td>\n",
       "    </tr>\n",
       "    <tr>\n",
       "      <th>RCP</th>\n",
       "      <td>NaN</td>\n",
       "      <td>NaN</td>\n",
       "      <td>NaN</td>\n",
       "      <td>NaN</td>\n",
       "      <td>NaN</td>\n",
       "      <td>NaN</td>\n",
       "      <td>NaN</td>\n",
       "      <td>NaN</td>\n",
       "      <td>NaN</td>\n",
       "      <td>NaN</td>\n",
       "      <td>0.000447</td>\n",
       "      <td>6.093823</td>\n",
       "      <td>0.574839</td>\n",
       "      <td>3.847699</td>\n",
       "      <td>NaN</td>\n",
       "      <td>NaN</td>\n",
       "      <td>10.516807</td>\n",
       "    </tr>\n",
       "    <tr>\n",
       "      <th>SP</th>\n",
       "      <td>NaN</td>\n",
       "      <td>NaN</td>\n",
       "      <td>NaN</td>\n",
       "      <td>0.085462</td>\n",
       "      <td>NaN</td>\n",
       "      <td>NaN</td>\n",
       "      <td>NaN</td>\n",
       "      <td>0.000750</td>\n",
       "      <td>NaN</td>\n",
       "      <td>NaN</td>\n",
       "      <td>NaN</td>\n",
       "      <td>NaN</td>\n",
       "      <td>0.274785</td>\n",
       "      <td>NaN</td>\n",
       "      <td>NaN</td>\n",
       "      <td>NaN</td>\n",
       "      <td>0.360996</td>\n",
       "    </tr>\n",
       "    <tr>\n",
       "      <th>TTE</th>\n",
       "      <td>NaN</td>\n",
       "      <td>NaN</td>\n",
       "      <td>NaN</td>\n",
       "      <td>NaN</td>\n",
       "      <td>NaN</td>\n",
       "      <td>1.093414</td>\n",
       "      <td>1.636471</td>\n",
       "      <td>0.196656</td>\n",
       "      <td>NaN</td>\n",
       "      <td>0.198423</td>\n",
       "      <td>NaN</td>\n",
       "      <td>0.028068</td>\n",
       "      <td>NaN</td>\n",
       "      <td>NaN</td>\n",
       "      <td>NaN</td>\n",
       "      <td>NaN</td>\n",
       "      <td>3.153033</td>\n",
       "    </tr>\n",
       "    <tr>\n",
       "      <th>UNK</th>\n",
       "      <td>NaN</td>\n",
       "      <td>NaN</td>\n",
       "      <td>NaN</td>\n",
       "      <td>NaN</td>\n",
       "      <td>NaN</td>\n",
       "      <td>NaN</td>\n",
       "      <td>NaN</td>\n",
       "      <td>0.003060</td>\n",
       "      <td>NaN</td>\n",
       "      <td>0.019721</td>\n",
       "      <td>NaN</td>\n",
       "      <td>NaN</td>\n",
       "      <td>NaN</td>\n",
       "      <td>NaN</td>\n",
       "      <td>NaN</td>\n",
       "      <td>NaN</td>\n",
       "      <td>0.022780</td>\n",
       "    </tr>\n",
       "    <tr>\n",
       "      <th>pvc sdr-14</th>\n",
       "      <td>NaN</td>\n",
       "      <td>NaN</td>\n",
       "      <td>NaN</td>\n",
       "      <td>NaN</td>\n",
       "      <td>NaN</td>\n",
       "      <td>NaN</td>\n",
       "      <td>0.042604</td>\n",
       "      <td>NaN</td>\n",
       "      <td>NaN</td>\n",
       "      <td>NaN</td>\n",
       "      <td>NaN</td>\n",
       "      <td>NaN</td>\n",
       "      <td>NaN</td>\n",
       "      <td>NaN</td>\n",
       "      <td>NaN</td>\n",
       "      <td>NaN</td>\n",
       "      <td>0.042604</td>\n",
       "    </tr>\n",
       "    <tr>\n",
       "      <th>All</th>\n",
       "      <td>0.045281</td>\n",
       "      <td>0.782238</td>\n",
       "      <td>0.053295</td>\n",
       "      <td>16.640725</td>\n",
       "      <td>0.786160</td>\n",
       "      <td>6.391952</td>\n",
       "      <td>56.875116</td>\n",
       "      <td>236.193034</td>\n",
       "      <td>1.917197</td>\n",
       "      <td>83.934832</td>\n",
       "      <td>1.038166</td>\n",
       "      <td>17.880867</td>\n",
       "      <td>1.038535</td>\n",
       "      <td>8.599463</td>\n",
       "      <td>0.077706</td>\n",
       "      <td>1.301074</td>\n",
       "      <td>433.555640</td>\n",
       "    </tr>\n",
       "  </tbody>\n",
       "</table>"
      ],
      "text/plain": [
       "<display.HTML object>"
      ]
     },
     "metadata": {},
     "output_type": "display_data"
    }
   ],
   "source": [
    "#exploring pandas data frames, pivot tables, and grouping material and diameter summary lengths\n",
    "#this result would be useful for data quality control \n",
    "\n",
    "\n",
    "import pandas as pd\n",
    "arcpy.management.SelectLayerByAttribute(watermains, \"NEW_SELECTION\", \"WATERTYPE = 'Potable' And MAINTBY NOT IN (-1)\", None)\n",
    "\n",
    "#look at total pipe length in feet by material with 10 or less years life remaining\n",
    "\n",
    "#arcpy.management.SelectLayerByAttribute(watermains, \"NEW_SELECTION\", \"LifeRemaining <11\", None)\n",
    "\n",
    "#Look at all values to check \n",
    "arcpy.management.SelectLayerByAttribute(watermains, \"CLEAR_SELECTION\")\n",
    "\n",
    "fc = watermains\n",
    "\n",
    "fields = ['MATERIAL','MilesOfPipe', 'DIAMETER'] #Change to match your input\n",
    "\n",
    "df = pd.DataFrame.from_records(data=arcpy.da.SearchCursor(fc,fields),columns=fields)\n",
    "table = pd.pivot_table(df, values='MilesOfPipe', index=['MATERIAL'], columns=['DIAMETER'], aggfunc=sum, margins = True)\n",
    "\n",
    "#print(table)\n",
    "#display(table)\n",
    "\n",
    "from IPython.display import display, HTML\n",
    "\n",
    "display(HTML(table.to_html()))"
   ]
  },
  {
   "cell_type": "code",
   "execution_count": 24,
   "metadata": {},
   "outputs": [
    {
     "data": {
      "text/html": [
       "<div class='gpresult'><h2>Messages</h2><div id='messages' data-messages='[\"Start Time: Thursday, May 26, 2022 2:44:27 PM\",\"Succeeded at Thursday, May 26, 2022 2:44:27 PM (Elapsed Time: 0.05 seconds)\"]' data-show='true'><div id = 'default' /></div></div>"
      ],
      "text/plain": [
       "<Result 'Water_Main_2022_05_26'>"
      ]
     },
     "execution_count": 24,
     "metadata": {},
     "output_type": "execute_result"
    }
   ],
   "source": [
    "arcpy.management.SelectLayerByAttribute(watermains, \"CLEAR_SELECTION\")"
   ]
  },
  {
   "cell_type": "code",
   "execution_count": 25,
   "metadata": {},
   "outputs": [
    {
     "data": {
      "text/html": [
       "<div class='gpresult'><h2>Messages</h2><div id='messages' data-messages='[\"Start Time: Thursday, May 26, 2022 2:51:25 PM\",\"Succeeded at Thursday, May 26, 2022 2:51:25 PM (Elapsed Time: 0.06 seconds)\"]' data-show='true'><div id = 'default' /></div></div>"
      ],
      "text/plain": [
       "<Result 'Water_Main_2022_05_26'>"
      ]
     },
     "execution_count": 25,
     "metadata": {},
     "output_type": "execute_result"
    }
   ],
   "source": [
    "#calculate the LOB Area statistics - consider pipes by material, coverings, and install period in decades\n",
    "#calculate the install era - decade\n",
    "\n",
    "arcpy.management.AddField(watermains, \"Install_ERA\", \"TEXT\", None, None, 12, '', \"NULLABLE\", \"NON_REQUIRED\", '')\n",
    "arcpy.management.SelectLayerByAttribute(watermains, \"NEW_SELECTION\", \"INSTALLDATE < timestamp '1900-01-01 00:00:00'\", None)\n",
    "arcpy.management.CalculateField(watermains, \"Install_ERA\", '\"1850-1899\"', \"PYTHON3\", '', \"TEXT\")\n",
    "\n",
    "arcpy.management.SelectLayerByAttribute(watermains, \"NEW_SELECTION\", \"INSTALLDATE < timestamp '1910-01-01 00:00:00' And Install_ERA IS NULL\", None)\n",
    "arcpy.management.CalculateField(watermains, \"Install_ERA\", '\"1900-1909\"', \"PYTHON3\", '', \"TEXT\")\n",
    "\n",
    "arcpy.management.SelectLayerByAttribute(watermains, \"NEW_SELECTION\", \"INSTALLDATE < timestamp '1920-01-01 00:00:00' And Install_ERA IS NULL\", None)\n",
    "arcpy.management.CalculateField(watermains, \"Install_ERA\", '\"1910-1919\"', \"PYTHON3\", '', \"TEXT\")\n",
    "\n",
    "arcpy.management.SelectLayerByAttribute(watermains, \"NEW_SELECTION\", \"INSTALLDATE < timestamp '1930-01-01 00:00:00' And Install_ERA IS NULL\", None)\n",
    "arcpy.management.CalculateField(watermains, \"Install_ERA\", '\"1920-1929\"', \"PYTHON3\", '', \"TEXT\")\n",
    "\n",
    "arcpy.management.SelectLayerByAttribute(watermains, \"NEW_SELECTION\", \"INSTALLDATE < timestamp '1940-01-01 00:00:00' And Install_ERA IS NULL\", None)\n",
    "arcpy.management.CalculateField(watermains, \"Install_ERA\", '\"1930-1939\"', \"PYTHON3\", '', \"TEXT\")\n",
    "\n",
    "arcpy.management.SelectLayerByAttribute(watermains, \"NEW_SELECTION\", \"INSTALLDATE < timestamp '1950-01-01 00:00:00' And Install_ERA IS NULL\", None)\n",
    "arcpy.management.CalculateField(watermains, \"Install_ERA\", '\"1940-1949\"', \"PYTHON3\", '', \"TEXT\")\n",
    "\n",
    "arcpy.management.SelectLayerByAttribute(watermains, \"NEW_SELECTION\", \"INSTALLDATE < timestamp '1960-01-01 00:00:00' And Install_ERA IS NULL\", None)\n",
    "arcpy.management.CalculateField(watermains, \"Install_ERA\", '\"1950-1959\"', \"PYTHON3\", '', \"TEXT\")\n",
    "\n",
    "arcpy.management.SelectLayerByAttribute(watermains, \"NEW_SELECTION\", \"INSTALLDATE < timestamp '1970-01-01 00:00:00' And Install_ERA IS NULL\", None)\n",
    "arcpy.management.CalculateField(watermains, \"Install_ERA\", '\"1960-1969\"', \"PYTHON3\", '', \"TEXT\")\n",
    "\n",
    "arcpy.management.SelectLayerByAttribute(watermains, \"NEW_SELECTION\", \"INSTALLDATE < timestamp '1980-01-01 00:00:00' And Install_ERA IS NULL\", None)\n",
    "arcpy.management.CalculateField(watermains, \"Install_ERA\", '\"1970-1979\"', \"PYTHON3\", '', \"TEXT\")\n",
    "\n",
    "arcpy.management.SelectLayerByAttribute(watermains, \"NEW_SELECTION\", \"INSTALLDATE < timestamp '1990-01-01 00:00:00' And Install_ERA IS NULL\", None)\n",
    "arcpy.management.CalculateField(watermains, \"Install_ERA\", '\"1980-1989\"', \"PYTHON3\", '', \"TEXT\")\n",
    "\n",
    "arcpy.management.SelectLayerByAttribute(watermains, \"NEW_SELECTION\", \"INSTALLDATE < timestamp '2000-01-01 00:00:00' And Install_ERA IS NULL\", None)\n",
    "arcpy.management.CalculateField(watermains, \"Install_ERA\", '\"1990-1999\"', \"PYTHON3\", '', \"TEXT\")\n",
    "\n",
    "arcpy.management.SelectLayerByAttribute(watermains, \"NEW_SELECTION\", \"INSTALLDATE < timestamp '2010-01-01 00:00:00' And Install_ERA IS NULL\", None)\n",
    "arcpy.management.CalculateField(watermains, \"Install_ERA\", '\"2000-2009\"', \"PYTHON3\", '', \"TEXT\")\n",
    "\n",
    "arcpy.management.SelectLayerByAttribute(watermains, \"NEW_SELECTION\", \"INSTALLDATE < timestamp '2020-01-01 00:00:00' And Install_ERA IS NULL\", None)\n",
    "arcpy.management.CalculateField(watermains, \"Install_ERA\", '\"2010-2019\"', \"PYTHON3\", '', \"TEXT\")\n",
    "\n",
    "arcpy.management.SelectLayerByAttribute(watermains, \"NEW_SELECTION\", \"INSTALLDATE < timestamp '2030-01-01 00:00:00' And Install_ERA IS NULL\", None)\n",
    "arcpy.management.CalculateField(watermains, \"Install_ERA\", '\"2020-2029\"', \"PYTHON3\", '', \"TEXT\")\n",
    "\n",
    "\n",
    "arcpy.management.SelectLayerByAttribute(watermains, \"CLEAR_SELECTION\")\n"
   ]
  },
  {
   "cell_type": "code",
   "execution_count": 7,
   "metadata": {},
   "outputs": [
    {
     "data": {
      "text/html": [
       "<table border=\"1\" class=\"dataframe\">\n",
       "  <thead>\n",
       "    <tr style=\"text-align: right;\">\n",
       "      <th>Install_Era</th>\n",
       "      <th>1850-1899</th>\n",
       "      <th>1900-1909</th>\n",
       "      <th>1910-1919</th>\n",
       "      <th>1920-1929</th>\n",
       "      <th>1930-1939</th>\n",
       "      <th>1940-1949</th>\n",
       "      <th>1950-1959</th>\n",
       "      <th>1960-1969</th>\n",
       "      <th>1970-1979</th>\n",
       "      <th>1980-1989</th>\n",
       "      <th>1990-1999</th>\n",
       "      <th>2000-2009</th>\n",
       "      <th>2010-2019</th>\n",
       "      <th>2020-2029</th>\n",
       "      <th>All</th>\n",
       "    </tr>\n",
       "    <tr>\n",
       "      <th>MATERIAL</th>\n",
       "      <th></th>\n",
       "      <th></th>\n",
       "      <th></th>\n",
       "      <th></th>\n",
       "      <th></th>\n",
       "      <th></th>\n",
       "      <th></th>\n",
       "      <th></th>\n",
       "      <th></th>\n",
       "      <th></th>\n",
       "      <th></th>\n",
       "      <th></th>\n",
       "      <th></th>\n",
       "      <th></th>\n",
       "      <th></th>\n",
       "    </tr>\n",
       "  </thead>\n",
       "  <tbody>\n",
       "    <tr>\n",
       "      <th>CAS</th>\n",
       "      <td>0.376663</td>\n",
       "      <td>0.065136</td>\n",
       "      <td>1.165746</td>\n",
       "      <td>2.245188</td>\n",
       "      <td>0.916521</td>\n",
       "      <td>0.619428</td>\n",
       "      <td>10.623471</td>\n",
       "      <td>34.882907</td>\n",
       "      <td>20.567564</td>\n",
       "      <td>0.811632</td>\n",
       "      <td>0.499103</td>\n",
       "      <td>0.012908</td>\n",
       "      <td>0.016683</td>\n",
       "      <td>NaN</td>\n",
       "      <td>72.802949</td>\n",
       "    </tr>\n",
       "    <tr>\n",
       "      <th>COP</th>\n",
       "      <td>NaN</td>\n",
       "      <td>NaN</td>\n",
       "      <td>NaN</td>\n",
       "      <td>NaN</td>\n",
       "      <td>NaN</td>\n",
       "      <td>NaN</td>\n",
       "      <td>NaN</td>\n",
       "      <td>0.231655</td>\n",
       "      <td>1.224912</td>\n",
       "      <td>2.012190</td>\n",
       "      <td>3.602541</td>\n",
       "      <td>2.905020</td>\n",
       "      <td>0.072693</td>\n",
       "      <td>NaN</td>\n",
       "      <td>10.049011</td>\n",
       "    </tr>\n",
       "    <tr>\n",
       "      <th>DIP</th>\n",
       "      <td>NaN</td>\n",
       "      <td>NaN</td>\n",
       "      <td>NaN</td>\n",
       "      <td>NaN</td>\n",
       "      <td>NaN</td>\n",
       "      <td>NaN</td>\n",
       "      <td>0.503423</td>\n",
       "      <td>1.575575</td>\n",
       "      <td>11.837009</td>\n",
       "      <td>25.029508</td>\n",
       "      <td>13.887051</td>\n",
       "      <td>23.881110</td>\n",
       "      <td>4.427800</td>\n",
       "      <td>0.011028</td>\n",
       "      <td>81.152504</td>\n",
       "    </tr>\n",
       "    <tr>\n",
       "      <th>GP</th>\n",
       "      <td>NaN</td>\n",
       "      <td>NaN</td>\n",
       "      <td>0.000165</td>\n",
       "      <td>0.002269</td>\n",
       "      <td>NaN</td>\n",
       "      <td>0.000395</td>\n",
       "      <td>0.133936</td>\n",
       "      <td>0.080706</td>\n",
       "      <td>NaN</td>\n",
       "      <td>NaN</td>\n",
       "      <td>NaN</td>\n",
       "      <td>NaN</td>\n",
       "      <td>NaN</td>\n",
       "      <td>NaN</td>\n",
       "      <td>0.217471</td>\n",
       "    </tr>\n",
       "    <tr>\n",
       "      <th>NIL</th>\n",
       "      <td>NaN</td>\n",
       "      <td>NaN</td>\n",
       "      <td>NaN</td>\n",
       "      <td>NaN</td>\n",
       "      <td>NaN</td>\n",
       "      <td>NaN</td>\n",
       "      <td>0.001162</td>\n",
       "      <td>NaN</td>\n",
       "      <td>0.241490</td>\n",
       "      <td>NaN</td>\n",
       "      <td>0.002815</td>\n",
       "      <td>0.273247</td>\n",
       "      <td>0.171643</td>\n",
       "      <td>NaN</td>\n",
       "      <td>0.690357</td>\n",
       "    </tr>\n",
       "    <tr>\n",
       "      <th>PE</th>\n",
       "      <td>NaN</td>\n",
       "      <td>NaN</td>\n",
       "      <td>NaN</td>\n",
       "      <td>NaN</td>\n",
       "      <td>NaN</td>\n",
       "      <td>NaN</td>\n",
       "      <td>NaN</td>\n",
       "      <td>NaN</td>\n",
       "      <td>NaN</td>\n",
       "      <td>NaN</td>\n",
       "      <td>NaN</td>\n",
       "      <td>0.101421</td>\n",
       "      <td>1.355312</td>\n",
       "      <td>0.039040</td>\n",
       "      <td>1.495773</td>\n",
       "    </tr>\n",
       "    <tr>\n",
       "      <th>PVC</th>\n",
       "      <td>NaN</td>\n",
       "      <td>0.004537</td>\n",
       "      <td>NaN</td>\n",
       "      <td>0.138366</td>\n",
       "      <td>NaN</td>\n",
       "      <td>0.001123</td>\n",
       "      <td>0.214357</td>\n",
       "      <td>0.493410</td>\n",
       "      <td>14.123369</td>\n",
       "      <td>32.305651</td>\n",
       "      <td>78.725739</td>\n",
       "      <td>57.707181</td>\n",
       "      <td>65.041610</td>\n",
       "      <td>2.593167</td>\n",
       "      <td>251.348511</td>\n",
       "    </tr>\n",
       "    <tr>\n",
       "      <th>RCP</th>\n",
       "      <td>NaN</td>\n",
       "      <td>NaN</td>\n",
       "      <td>NaN</td>\n",
       "      <td>NaN</td>\n",
       "      <td>NaN</td>\n",
       "      <td>NaN</td>\n",
       "      <td>6.615705</td>\n",
       "      <td>NaN</td>\n",
       "      <td>3.557502</td>\n",
       "      <td>0.344746</td>\n",
       "      <td>NaN</td>\n",
       "      <td>0.000447</td>\n",
       "      <td>NaN</td>\n",
       "      <td>NaN</td>\n",
       "      <td>10.518401</td>\n",
       "    </tr>\n",
       "    <tr>\n",
       "      <th>SP</th>\n",
       "      <td>NaN</td>\n",
       "      <td>NaN</td>\n",
       "      <td>0.000750</td>\n",
       "      <td>NaN</td>\n",
       "      <td>NaN</td>\n",
       "      <td>NaN</td>\n",
       "      <td>0.085096</td>\n",
       "      <td>NaN</td>\n",
       "      <td>0.274785</td>\n",
       "      <td>NaN</td>\n",
       "      <td>NaN</td>\n",
       "      <td>NaN</td>\n",
       "      <td>0.000366</td>\n",
       "      <td>NaN</td>\n",
       "      <td>0.360996</td>\n",
       "    </tr>\n",
       "    <tr>\n",
       "      <th>TTE</th>\n",
       "      <td>NaN</td>\n",
       "      <td>NaN</td>\n",
       "      <td>NaN</td>\n",
       "      <td>0.103769</td>\n",
       "      <td>0.168854</td>\n",
       "      <td>1.365008</td>\n",
       "      <td>1.542180</td>\n",
       "      <td>0.004515</td>\n",
       "      <td>NaN</td>\n",
       "      <td>0.072476</td>\n",
       "      <td>NaN</td>\n",
       "      <td>NaN</td>\n",
       "      <td>NaN</td>\n",
       "      <td>NaN</td>\n",
       "      <td>3.256801</td>\n",
       "    </tr>\n",
       "    <tr>\n",
       "      <th>UNK</th>\n",
       "      <td>NaN</td>\n",
       "      <td>NaN</td>\n",
       "      <td>NaN</td>\n",
       "      <td>NaN</td>\n",
       "      <td>NaN</td>\n",
       "      <td>NaN</td>\n",
       "      <td>NaN</td>\n",
       "      <td>NaN</td>\n",
       "      <td>NaN</td>\n",
       "      <td>NaN</td>\n",
       "      <td>NaN</td>\n",
       "      <td>0.003060</td>\n",
       "      <td>0.019721</td>\n",
       "      <td>NaN</td>\n",
       "      <td>0.022780</td>\n",
       "    </tr>\n",
       "    <tr>\n",
       "      <th>All</th>\n",
       "      <td>0.376663</td>\n",
       "      <td>0.069673</td>\n",
       "      <td>1.166661</td>\n",
       "      <td>2.489592</td>\n",
       "      <td>1.085374</td>\n",
       "      <td>1.985954</td>\n",
       "      <td>19.719329</td>\n",
       "      <td>37.268769</td>\n",
       "      <td>51.826631</td>\n",
       "      <td>60.576203</td>\n",
       "      <td>96.717249</td>\n",
       "      <td>84.884395</td>\n",
       "      <td>71.105828</td>\n",
       "      <td>2.643235</td>\n",
       "      <td>431.915554</td>\n",
       "    </tr>\n",
       "  </tbody>\n",
       "</table>"
      ],
      "text/plain": [
       "<display.HTML object>"
      ]
     },
     "metadata": {},
     "output_type": "display_data"
    }
   ],
   "source": [
    "#exploring pandas data frames, pivot tables, and grouping material and diameter summary lengths\n",
    "#this result would be useful for data quality control \n",
    "\n",
    "\n",
    "import pandas as pd\n",
    "arcpy.management.SelectLayerByAttribute(watermains, \"NEW_SELECTION\", \"WATERTYPE = 'Potable'\", None)\n",
    "\n",
    "fc = watermains\n",
    "\n",
    "fields = ['MATERIAL', 'Install_Era', 'MilesOfPipe'] #Change to match your input\n",
    "\n",
    "df = pd.DataFrame.from_records(data=arcpy.da.SearchCursor(fc,fields),columns=fields)\n",
    "\n",
    "table = pd.pivot_table(df, values='MilesOfPipe', index=['MATERIAL'], columns=['Install_Era'], aggfunc=sum, margins = True, dropna = True)\n",
    "#print(table)\n",
    "#display(table)\n",
    "\n",
    "from IPython.display import display, HTML\n",
    "\n",
    "display(HTML(table.to_html()))"
   ]
  },
  {
   "cell_type": "code",
   "execution_count": 26,
   "metadata": {},
   "outputs": [
    {
     "data": {
      "text/html": [
       "<table border=\"1\" class=\"dataframe\">\n",
       "  <thead>\n",
       "    <tr style=\"text-align: right;\">\n",
       "      <th>Install_Era</th>\n",
       "      <th>1850-1899</th>\n",
       "      <th>1900-1909</th>\n",
       "      <th>1910-1919</th>\n",
       "      <th>1920-1929</th>\n",
       "      <th>1930-1939</th>\n",
       "      <th>1940-1949</th>\n",
       "      <th>1950-1959</th>\n",
       "      <th>1960-1969</th>\n",
       "      <th>1970-1979</th>\n",
       "      <th>1980-1989</th>\n",
       "      <th>1990-1999</th>\n",
       "      <th>2000-2009</th>\n",
       "      <th>2010-2019</th>\n",
       "      <th>2020-2029</th>\n",
       "      <th>All</th>\n",
       "    </tr>\n",
       "    <tr>\n",
       "      <th>MATERIAL</th>\n",
       "      <th></th>\n",
       "      <th></th>\n",
       "      <th></th>\n",
       "      <th></th>\n",
       "      <th></th>\n",
       "      <th></th>\n",
       "      <th></th>\n",
       "      <th></th>\n",
       "      <th></th>\n",
       "      <th></th>\n",
       "      <th></th>\n",
       "      <th></th>\n",
       "      <th></th>\n",
       "      <th></th>\n",
       "      <th></th>\n",
       "    </tr>\n",
       "  </thead>\n",
       "  <tbody>\n",
       "    <tr>\n",
       "      <th>CAS</th>\n",
       "      <td>0.376663</td>\n",
       "      <td>0.065136</td>\n",
       "      <td>1.165746</td>\n",
       "      <td>2.360024</td>\n",
       "      <td>0.916521</td>\n",
       "      <td>0.619428</td>\n",
       "      <td>10.524239</td>\n",
       "      <td>34.794761</td>\n",
       "      <td>20.435047</td>\n",
       "      <td>0.811632</td>\n",
       "      <td>0.499071</td>\n",
       "      <td>0.012915</td>\n",
       "      <td>0.016683</td>\n",
       "      <td>NaN</td>\n",
       "      <td>72.597866</td>\n",
       "    </tr>\n",
       "    <tr>\n",
       "      <th>COP</th>\n",
       "      <td>NaN</td>\n",
       "      <td>NaN</td>\n",
       "      <td>NaN</td>\n",
       "      <td>NaN</td>\n",
       "      <td>NaN</td>\n",
       "      <td>NaN</td>\n",
       "      <td>NaN</td>\n",
       "      <td>0.231655</td>\n",
       "      <td>1.225021</td>\n",
       "      <td>2.012190</td>\n",
       "      <td>3.477708</td>\n",
       "      <td>2.901920</td>\n",
       "      <td>0.072693</td>\n",
       "      <td>0.118921</td>\n",
       "      <td>10.040108</td>\n",
       "    </tr>\n",
       "    <tr>\n",
       "      <th>DIP</th>\n",
       "      <td>NaN</td>\n",
       "      <td>NaN</td>\n",
       "      <td>NaN</td>\n",
       "      <td>NaN</td>\n",
       "      <td>NaN</td>\n",
       "      <td>NaN</td>\n",
       "      <td>0.503423</td>\n",
       "      <td>1.575556</td>\n",
       "      <td>11.776857</td>\n",
       "      <td>25.029445</td>\n",
       "      <td>13.946881</td>\n",
       "      <td>23.937860</td>\n",
       "      <td>4.427800</td>\n",
       "      <td>0.011028</td>\n",
       "      <td>81.208849</td>\n",
       "    </tr>\n",
       "    <tr>\n",
       "      <th>GP</th>\n",
       "      <td>NaN</td>\n",
       "      <td>NaN</td>\n",
       "      <td>0.000165</td>\n",
       "      <td>0.002269</td>\n",
       "      <td>NaN</td>\n",
       "      <td>0.000395</td>\n",
       "      <td>0.133936</td>\n",
       "      <td>0.080706</td>\n",
       "      <td>NaN</td>\n",
       "      <td>NaN</td>\n",
       "      <td>NaN</td>\n",
       "      <td>NaN</td>\n",
       "      <td>NaN</td>\n",
       "      <td>NaN</td>\n",
       "      <td>0.217471</td>\n",
       "    </tr>\n",
       "    <tr>\n",
       "      <th>NIL</th>\n",
       "      <td>NaN</td>\n",
       "      <td>NaN</td>\n",
       "      <td>NaN</td>\n",
       "      <td>NaN</td>\n",
       "      <td>NaN</td>\n",
       "      <td>NaN</td>\n",
       "      <td>0.001162</td>\n",
       "      <td>NaN</td>\n",
       "      <td>0.241490</td>\n",
       "      <td>NaN</td>\n",
       "      <td>0.002815</td>\n",
       "      <td>0.272991</td>\n",
       "      <td>0.171643</td>\n",
       "      <td>NaN</td>\n",
       "      <td>0.690101</td>\n",
       "    </tr>\n",
       "    <tr>\n",
       "      <th>PE</th>\n",
       "      <td>NaN</td>\n",
       "      <td>NaN</td>\n",
       "      <td>NaN</td>\n",
       "      <td>NaN</td>\n",
       "      <td>NaN</td>\n",
       "      <td>NaN</td>\n",
       "      <td>NaN</td>\n",
       "      <td>NaN</td>\n",
       "      <td>NaN</td>\n",
       "      <td>NaN</td>\n",
       "      <td>NaN</td>\n",
       "      <td>0.101421</td>\n",
       "      <td>1.352442</td>\n",
       "      <td>0.039040</td>\n",
       "      <td>1.492903</td>\n",
       "    </tr>\n",
       "    <tr>\n",
       "      <th>PVC</th>\n",
       "      <td>NaN</td>\n",
       "      <td>0.004537</td>\n",
       "      <td>NaN</td>\n",
       "      <td>0.023733</td>\n",
       "      <td>NaN</td>\n",
       "      <td>0.001123</td>\n",
       "      <td>0.214455</td>\n",
       "      <td>0.493780</td>\n",
       "      <td>14.182878</td>\n",
       "      <td>32.228408</td>\n",
       "      <td>78.083389</td>\n",
       "      <td>57.698402</td>\n",
       "      <td>65.042983</td>\n",
       "      <td>5.238432</td>\n",
       "      <td>253.212120</td>\n",
       "    </tr>\n",
       "    <tr>\n",
       "      <th>RCP</th>\n",
       "      <td>NaN</td>\n",
       "      <td>NaN</td>\n",
       "      <td>NaN</td>\n",
       "      <td>NaN</td>\n",
       "      <td>NaN</td>\n",
       "      <td>NaN</td>\n",
       "      <td>6.615267</td>\n",
       "      <td>NaN</td>\n",
       "      <td>3.556347</td>\n",
       "      <td>0.344746</td>\n",
       "      <td>NaN</td>\n",
       "      <td>0.000447</td>\n",
       "      <td>NaN</td>\n",
       "      <td>NaN</td>\n",
       "      <td>10.516807</td>\n",
       "    </tr>\n",
       "    <tr>\n",
       "      <th>SP</th>\n",
       "      <td>NaN</td>\n",
       "      <td>NaN</td>\n",
       "      <td>0.000750</td>\n",
       "      <td>NaN</td>\n",
       "      <td>NaN</td>\n",
       "      <td>NaN</td>\n",
       "      <td>0.085096</td>\n",
       "      <td>NaN</td>\n",
       "      <td>0.274785</td>\n",
       "      <td>NaN</td>\n",
       "      <td>NaN</td>\n",
       "      <td>NaN</td>\n",
       "      <td>0.000366</td>\n",
       "      <td>NaN</td>\n",
       "      <td>0.360996</td>\n",
       "    </tr>\n",
       "    <tr>\n",
       "      <th>TTE</th>\n",
       "      <td>NaN</td>\n",
       "      <td>NaN</td>\n",
       "      <td>NaN</td>\n",
       "      <td>NaN</td>\n",
       "      <td>0.168854</td>\n",
       "      <td>1.365008</td>\n",
       "      <td>1.542180</td>\n",
       "      <td>0.004515</td>\n",
       "      <td>NaN</td>\n",
       "      <td>0.072476</td>\n",
       "      <td>NaN</td>\n",
       "      <td>NaN</td>\n",
       "      <td>NaN</td>\n",
       "      <td>NaN</td>\n",
       "      <td>3.153033</td>\n",
       "    </tr>\n",
       "    <tr>\n",
       "      <th>UNK</th>\n",
       "      <td>NaN</td>\n",
       "      <td>NaN</td>\n",
       "      <td>NaN</td>\n",
       "      <td>NaN</td>\n",
       "      <td>NaN</td>\n",
       "      <td>NaN</td>\n",
       "      <td>NaN</td>\n",
       "      <td>NaN</td>\n",
       "      <td>NaN</td>\n",
       "      <td>NaN</td>\n",
       "      <td>NaN</td>\n",
       "      <td>0.003060</td>\n",
       "      <td>0.019721</td>\n",
       "      <td>NaN</td>\n",
       "      <td>0.022780</td>\n",
       "    </tr>\n",
       "    <tr>\n",
       "      <th>pvc sdr-14</th>\n",
       "      <td>NaN</td>\n",
       "      <td>NaN</td>\n",
       "      <td>NaN</td>\n",
       "      <td>NaN</td>\n",
       "      <td>NaN</td>\n",
       "      <td>NaN</td>\n",
       "      <td>NaN</td>\n",
       "      <td>NaN</td>\n",
       "      <td>NaN</td>\n",
       "      <td>0.042604</td>\n",
       "      <td>NaN</td>\n",
       "      <td>NaN</td>\n",
       "      <td>NaN</td>\n",
       "      <td>NaN</td>\n",
       "      <td>0.042604</td>\n",
       "    </tr>\n",
       "    <tr>\n",
       "      <th>All</th>\n",
       "      <td>0.376663</td>\n",
       "      <td>0.069673</td>\n",
       "      <td>1.166661</td>\n",
       "      <td>2.386027</td>\n",
       "      <td>1.085374</td>\n",
       "      <td>1.985954</td>\n",
       "      <td>19.619757</td>\n",
       "      <td>37.180973</td>\n",
       "      <td>51.692425</td>\n",
       "      <td>60.541501</td>\n",
       "      <td>96.009864</td>\n",
       "      <td>84.929016</td>\n",
       "      <td>71.104332</td>\n",
       "      <td>5.407421</td>\n",
       "      <td>433.555640</td>\n",
       "    </tr>\n",
       "  </tbody>\n",
       "</table>"
      ],
      "text/plain": [
       "<display.HTML object>"
      ]
     },
     "metadata": {},
     "output_type": "display_data"
    }
   ],
   "source": [
    "#exploring pandas data frames, pivot tables, and grouping material and diameter summary lengths\n",
    "#this result would be useful for data quality control \n",
    "\n",
    "\n",
    "import pandas as pd\n",
    "arcpy.management.SelectLayerByAttribute(watermains, \"NEW_SELECTION\", \"WATERTYPE = 'Potable'\", None)\n",
    "\n",
    "fc = watermains\n",
    "\n",
    "fields = ['MATERIAL', 'Install_Era', 'MilesOfPipe'] #Change to match your input\n",
    "\n",
    "df = pd.DataFrame.from_records(data=arcpy.da.SearchCursor(fc,fields),columns=fields)\n",
    "\n",
    "table = pd.pivot_table(df, values='MilesOfPipe', index=['MATERIAL'], columns=['Install_Era'], aggfunc=sum, margins = True, dropna = True)\n",
    "#print(table)\n",
    "#display(table)\n",
    "\n",
    "from IPython.display import display, HTML\n",
    "\n",
    "display(HTML(table.to_html()))"
   ]
  },
  {
   "cell_type": "code",
   "execution_count": 27,
   "metadata": {},
   "outputs": [
    {
     "data": {
      "text/html": [
       "<div class='gpresult'><h2>Messages</h2><div id='messages' data-messages='[\"Start Time: Thursday, May 26, 2022 3:01:09 PM\",\"Succeeded at Thursday, May 26, 2022 3:01:09 PM (Elapsed Time: 0.17 seconds)\"]' data-show='true'><div id = 'default' /></div></div>"
      ],
      "text/plain": [
       "<Result 'Soils_SSURGO'>"
      ]
     },
     "execution_count": 27,
     "metadata": {},
     "output_type": "execute_result"
    }
   ],
   "source": [
    "#score the pipes based on corrosive soils - add the soils layer to the analysis map\n",
    "#soils dont appear to contribute to higher LOB, we should stop doing this.  \n",
    "#it can still be added to continue to test sensitivity to corrosive soils but dont use this grouping for LOB\n",
    "#The SSURGO Soils layer has been added to the portal, it has to be added to the map named Soils_SSURGO, or I can change this code to use the feature service\n",
    "\n",
    "soils = r'https://gisweb.lawrenceks.org/hosting/rest/services/Hosted/Douglas_County_Soils/FeatureServer'\n",
    "\n",
    "arcpy.management.AddField(watermains, \"SoilCorrosionValue\", \"LONG\", None, None, None, '', \"NULLABLE\", \"NON_REQUIRED\", '')\n",
    "\n",
    "arcpy.management.SelectLayerByAttribute(\"Soils_SSURGO\", \"NEW_SELECTION\", \"steelcorr = 1\", None)\n",
    "arcpy.management.SelectLayerByLocation(watermains, \"HAVE_THEIR_CENTER_IN\", \"Soils_SSURGO\", None, \"NEW_SELECTION\", \"NOT_INVERT\")\n",
    "\n",
    "arcpy.management.SelectLayerByAttribute(\"Soils_SSURGO\", \"NEW_SELECTION\", \"steelcorr = 2\", None)\n",
    "arcpy.management.SelectLayerByLocation(watermains, \"HAVE_THEIR_CENTER_IN\", \"Soils_SSURGO\", None, \"NEW_SELECTION\", \"NOT_INVERT\")\n",
    "arcpy.management.CalculateField(watermains, \"SoilCorrosionValue\", \"3\", \"PYTHON3\", '', \"TEXT\")\n",
    "\n",
    "arcpy.management.SelectLayerByAttribute(\"Soils_SSURGO\", \"NEW_SELECTION\", \"steelcorr = 3\", None)\n",
    "arcpy.management.SelectLayerByLocation(watermains, \"HAVE_THEIR_CENTER_IN\", \"Soils_SSURGO\", None, \"NEW_SELECTION\", \"NOT_INVERT\")\n",
    "arcpy.management.CalculateField(watermains, \"SoilCorrosionValue\", \"5\", \"PYTHON3\", '', \"TEXT\")\n",
    "\n",
    "arcpy.management.SelectLayerByAttribute(watermains, \"NEW_SELECTION\", \"SoilCorrosionValue is null\", None)\n",
    "arcpy.management.CalculateField(watermains, \"SoilCorrosionValue\", \"0\", \"PYTHON3\", '', \"TEXT\")\n",
    "\n",
    "\n",
    "arcpy.management.SelectLayerByAttribute(watermains, \"CLEAR_SELECTION\", '', None)\n",
    "arcpy.management.SelectLayerByAttribute(\"Soils_SSURGO\", \"CLEAR_SELECTION\", '', None)"
   ]
  },
  {
   "cell_type": "code",
   "execution_count": 28,
   "metadata": {},
   "outputs": [
    {
     "data": {
      "text/html": [
       "<div class='gpresult'><h2>Messages</h2><div id='messages' data-messages='[\"Start Time: Thursday, May 26, 2022 3:12:30 PM\",\"Succeeded at Thursday, May 26, 2022 3:12:30 PM (Elapsed Time: 0.07 seconds)\"]' data-show='true'><div id = 'default' /></div></div>"
      ],
      "text/plain": [
       "<Result 'Road Centerline'>"
      ]
     },
     "execution_count": 28,
     "metadata": {},
     "output_type": "execute_result"
    }
   ],
   "source": [
    "#Score the pipes based on the proximity to Highway Functional Classification\n",
    "#these values exist in the excel table but do not seem to be used in the analysis and are not referenced in the report\n",
    "#this is used to heighten risk of breaks for pipes in the right of way and impacts to traffic and pavement\n",
    "\n",
    "roadcenterlines = r'https://services.arcgis.com/8O9UlSTnqjKptoda/arcgis/rest/services/RoadCenterline/FeatureServer'\n",
    "\n",
    "arcpy.management.SelectLayerByAttribute(watermains, \"CLEAR_SELECTION\", '', None)\n",
    "arcpy.management.SelectLayerByAttribute(\"Road Centerline\", \"CLEAR_SELECTION\", '', None)\n",
    "\n",
    "arcpy.management.AddField(watermains, \"StreetClassValue\", \"LONG\", None, None, None, '', \"NULLABLE\", \"NON_REQUIRED\", '')\n",
    "arcpy.management.SelectLayerByAttribute(\"Road Centerline\", \"NEW_SELECTION\", \"FUNCTCLASS = 'PRINCIPAL ARTERIAL'\", None)\n",
    "arcpy.management.SelectLayerByLocation(watermains, \"WITHIN_A_DISTANCE\", \"Road Centerline\", \"60 Feet\", \"NEW_SELECTION\", \"NOT_INVERT\")\n",
    "arcpy.management.CalculateField(watermains, \"StreetClassValue\", \"5\", \"PYTHON3\", '', \"TEXT\")\n",
    "\n",
    "arcpy.management.SelectLayerByAttribute(\"Road Centerline\", \"NEW_SELECTION\", \"FUNCTCLASS in ('MINOR ARTERIAL', 'MAJOR COLLECTOR')\", None)\n",
    "arcpy.management.SelectLayerByLocation(watermains, \"WITHIN_A_DISTANCE\", \"Road Centerline\", \"40 Feet\", \"NEW_SELECTION\", \"NOT_INVERT\")\n",
    "arcpy.management.SelectLayerByAttribute(watermains, \"REMOVE_FROM_SELECTION\", \"StreetClassValue IS NOT NULL\", None)\n",
    "arcpy.management.CalculateField(watermains, \"StreetClassValue\", \"4\", \"PYTHON3\", '', \"TEXT\")\n",
    "\n",
    "arcpy.management.SelectLayerByAttribute(\"Road Centerline\", \"NEW_SELECTION\", \"FUNCTCLASS in ('COLLECTOR', 'MINOR COLLECTOR')\", None)\n",
    "arcpy.management.SelectLayerByLocation(watermains, \"WITHIN_A_DISTANCE\", \"Road Centerline\", \"40 Feet\", \"NEW_SELECTION\", \"NOT_INVERT\")\n",
    "arcpy.management.SelectLayerByAttribute(watermains, \"REMOVE_FROM_SELECTION\", \"StreetClassValue IS NOT NULL\", None)\n",
    "arcpy.management.CalculateField(watermains, \"StreetClassValue\", \"3\", \"PYTHON3\", '', \"TEXT\")\n",
    "\n",
    "arcpy.management.SelectLayerByAttribute(\"Road Centerline\", \"NEW_SELECTION\", \"FUNCTCLASS in ('STREET', 'OTHER RAMP')\", None)\n",
    "arcpy.management.SelectLayerByLocation(watermains, \"WITHIN_A_DISTANCE\", \"Road Centerline\", \"40 Feet\", \"NEW_SELECTION\", \"NOT_INVERT\")\n",
    "arcpy.management.SelectLayerByAttribute(watermains, \"REMOVE_FROM_SELECTION\", \"StreetClassValue IS NOT NULL\", None)\n",
    "arcpy.management.CalculateField(watermains, \"StreetClassValue\", \"2\", \"PYTHON3\", '', \"TEXT\")\n",
    "\n",
    "arcpy.management.SelectLayerByAttribute(\"Road Centerline\", \"NEW_SELECTION\", \"FUNCTCLASS in ('PRIVATE', 'ALLEY')\", None)\n",
    "arcpy.management.SelectLayerByLocation(watermains, \"WITHIN_A_DISTANCE\", \"Road Centerline\", \"40 Feet\", \"NEW_SELECTION\", \"NOT_INVERT\")\n",
    "arcpy.management.SelectLayerByAttribute(watermains, \"REMOVE_FROM_SELECTION\", \"StreetClassValue IS NOT NULL\", None)\n",
    "arcpy.management.CalculateField(watermains, \"StreetClassValue\", \"1\", \"PYTHON3\", '', \"TEXT\")\n",
    "\n",
    "arcpy.management.SelectLayerByAttribute(watermains, \"NEW_SELECTION\", \"StreetClassValue IS NULL\", None)\n",
    "arcpy.management.CalculateField(watermains, \"StreetClassValue\", \"0\", \"PYTHON3\", '', \"TEXT\")\n",
    "\n",
    "arcpy.management.SelectLayerByAttribute(watermains, \"CLEAR_SELECTION\", '', None)\n",
    "arcpy.management.SelectLayerByAttribute(\"Road Centerline\", \"CLEAR_SELECTION\", '', None)"
   ]
  },
  {
   "cell_type": "code",
   "execution_count": 8,
   "metadata": {},
   "outputs": [
    {
     "data": {
      "text/html": [
       "<div class='gpresult'><h2>Messages</h2><div id='messages' data-messages='[\"Start Time: Thursday, June 2, 2022 2:25:27 PM\",\"Succeeded at Thursday, June 2, 2022 2:25:27 PM (Elapsed Time: 0.05 seconds)\"]' data-show='true'><div id = 'default' /></div></div>"
      ],
      "text/plain": [
       "<Result 'Water_Main_2022_05_26'>"
      ]
     },
     "execution_count": 8,
     "metadata": {},
     "output_type": "execute_result"
    }
   ],
   "source": [
    "arcpy.management.SelectLayerByAttribute(watermains, \"CLEAR_SELECTION\")"
   ]
  },
  {
   "cell_type": "code",
   "execution_count": 30,
   "metadata": {},
   "outputs": [
    {
     "data": {
      "text/html": [
       "<div class='gpresult'><h2>Messages</h2><div id='messages' data-messages='[\"Start Time: Thursday, May 26, 2022 3:23:52 PM\",\"Succeeded at Thursday, May 26, 2022 3:23:52 PM (Elapsed Time: 0.07 seconds)\"]' data-show='true'><div id = 'default' /></div></div>"
      ],
      "text/plain": [
       "<Result 'Water_Main_2022_05_26'>"
      ]
     },
     "execution_count": 30,
     "metadata": {},
     "output_type": "execute_result"
    }
   ],
   "source": [
    "#Assetic Life Variation and LOB variaion Concatenations SANS Corrosion values\n",
    "#not very many records have a polywrap or any type of external covering value\n",
    "\n",
    "arcpy.management.AddField(watermains, \"LOB_Variation\", \"TEXT\", None, None, 26, '', \"NULLABLE\", \"NON_REQUIRED\", '')\n",
    "arcpy.management.CalculateField(watermains, \"LOB_Variation\", 'str(!MATERIAL!)+\"-\"+str(int(!DIAMETER!))+\"-\"+str(!Install_ERA!)', \"PYTHON3\", '', \"TEXT\")\n",
    "\n",
    "arcpy.management.SelectLayerByAttribute(watermains, \"NEW_SELECTION\", \"EXTCOVERING IS NOT NULL\", None)\n",
    "arcpy.management.CalculateField(watermains, \"LOB_Variation\", 'str(!MATERIAL!)+\"-Poly-\"+str(int(!DIAMETER!))+\"-\"+str(!Install_ERA!)', \"PYTHON3\", '', \"TEXT\")\n",
    "\n",
    "#arcpy.management.SelectLayerByAttribute(watermains, \"NEW_SELECTION\", \"LOB_Variation IS NULL\", None)\n",
    "#arcpy.management.CalculateField(watermains, \"LOB_Variation\", 'str(!MATERIAL!)+\"-Poly-\"+str(int(!DIAMETER!))+\"-?-\"+str(!SoilCorrosionValue!)', \"PYTHON3\", '', \"TEXT\")\n",
    "\n",
    "arcpy.management.SelectLayerByAttribute(watermains, \"CLEAR_SELECTION\", '', None)\n",
    "\n"
   ]
  },
  {
   "cell_type": "code",
   "execution_count": 6,
   "metadata": {},
   "outputs": [
    {
     "data": {
      "text/html": [
       "<h2>Output</h2><table><tr><th>id</th><th>value</th></tr><tr><td>0</td><td>a Layer object</td></tr><tr><td>1</td><td>-1</td></tr></table><h2>Messages</h2>Start Time: Monday, October 25, 2021 11:09:40 AM<br/>Succeeded at Monday, October 25, 2021 11:09:40 AM (Elapsed Time: 0.03 seconds)<br/><style>.rendered_html td, .rendered_html th {text-align: left;}.rendered_html tbody {border: 1px solid black;}</style>"
      ],
      "text/plain": [
       "<Result 'Water_Main_202110'>"
      ]
     },
     "execution_count": 6,
     "metadata": {},
     "output_type": "execute_result"
    }
   ],
   "source": [
    "#Assetic Life Variation and LOB variaion Concatenations with soil corrosion included - dont do this any more\n",
    "#not very many records have a polywrap or any type of external covering value\n",
    "\n",
    "'''\n",
    "arcpy.management.AddField(watermains, \"LOB_Variation\", \"TEXT\", None, None, 26, '', \"NULLABLE\", \"NON_REQUIRED\", '')\n",
    "arcpy.management.CalculateField(watermains, \"LOB_Variation\", 'str(!MATERIAL!)+\"-\"+str(int(!DIAMETER!))+\"-\"+str(!Install_ERA!)+\"-\"+str(!SoilCorrosionValue!)', \"PYTHON3\", '', \"TEXT\")\n",
    "\n",
    "arcpy.management.SelectLayerByAttribute(watermains, \"NEW_SELECTION\", \"EXTCOVERING IS NOT NULL\", None)\n",
    "arcpy.management.CalculateField(watermains, \"LOB_Variation\", 'str(!MATERIAL!)+\"-Poly-\"+str(int(!DIAMETER!))+\"-\"+str(!Install_ERA!)+\"-\"+str(!SoilCorrosionValue!)', \"PYTHON3\", '', \"TEXT\")\n",
    "\n",
    "#arcpy.management.SelectLayerByAttribute(watermains, \"NEW_SELECTION\", \"LOB_Variation IS NULL\", None)\n",
    "#arcpy.management.CalculateField(watermains, \"LOB_Variation\", 'str(!MATERIAL!)+\"-Poly-\"+str(int(!DIAMETER!))+\"-?-\"+str(!SoilCorrosionValue!)', \"PYTHON3\", '', \"TEXT\")\n",
    "\n",
    "arcpy.management.SelectLayerByAttribute(watermains, \"CLEAR_SELECTION\", '', None)\n",
    "\n",
    "'''"
   ]
  },
  {
   "cell_type": "code",
   "execution_count": 31,
   "metadata": {},
   "outputs": [
    {
     "data": {
      "text/html": [
       "<div class='gpresult'><h2>Messages</h2><div id='messages' data-messages='[\"Start Time: Thursday, May 26, 2022 3:29:55 PM\",\"Succeeded at Thursday, May 26, 2022 3:29:55 PM (Elapsed Time: 0.12 seconds)\"]' data-show='true'><div id = 'default' /></div></div>"
      ],
      "text/plain": [
       "<Result 'Water_Main_2022_05_26'>"
      ]
     },
     "execution_count": 31,
     "metadata": {},
     "output_type": "execute_result"
    }
   ],
   "source": [
    "# I dont think life variation ever gets used, but it is referenced in the assetic report\n",
    "\n",
    "#arcpy.management.AddField(watermains, \"Life_Variation\", \"TEXT\", None, None, 16, '', \"NULLABLE\", \"NON_REQUIRED\", '')\n",
    "\n",
    "arcpy.management.CalculateField(watermains, \"Life_Variation\", 'str(!MATERIAL!)+\"-\"+str(int(!DIAMETER!))+\"-\"+str(!SoilCorrosionValue!)', \"PYTHON3\", '', \"TEXT\")\n",
    "\n",
    "arcpy.management.SelectLayerByAttribute(watermains, \"NEW_SELECTION\", \"EXTCOVERING IS NOT NULL\", None)\n",
    "arcpy.management.CalculateField(watermains, \"Life_Variation\", 'str(!MATERIAL!)+\"-Poly-\"+str(!SoilCorrosionValue!)', \"PYTHON3\", '', \"TEXT\")\n",
    "\n",
    "arcpy.management.SelectLayerByAttribute(watermains, \"NEW_SELECTION\", \"LOB_Variation IS NULL\", None)\n",
    "arcpy.management.CalculateField(watermains, \"Life_Variation\", 'str(!MATERIAL!)+\"-\"+str(int(!DIAMETER!))+\"-?-\"+str(!SoilCorrosionValue!)', \"PYTHON3\", '', \"TEXT\")\n",
    "\n",
    "arcpy.management.SelectLayerByAttribute(watermains, \"CLEAR_SELECTION\", '', None)\n"
   ]
  },
  {
   "cell_type": "code",
   "execution_count": 12,
   "metadata": {},
   "outputs": [
    {
     "data": {
      "text/html": [
       "<div class='gpresult'><h2>Messages</h2><div id='messages' data-messages='[\"Start Time: Tuesday, May 31, 2022 11:17:40 AM\",\"Succeeded at Tuesday, May 31, 2022 11:17:50 AM (Elapsed Time: 10.23 seconds)\"]' data-show='true'><div id = 'default' /></div></div>"
      ],
      "text/plain": [
       "<Result 'C:\\\\Users\\\\kgonterwitz\\\\OneDrive - City of Lawrence KS\\\\Documents\\\\ArcGIS\\\\Projects\\\\WaterData2022_0526.gdb\\\\Water_Main_2022_05_26_Check_Breaks'>"
      ]
     },
     "execution_count": 12,
     "metadata": {},
     "output_type": "execute_result"
    }
   ],
   "source": [
    "#join mainbreak data to the water mains\n",
    "#dissolve water mains by the calculated properties summing the waterlines that have associated main break records\n",
    "#this does not tally the count of breaks per main, it just flags the closest main to the main break point from lucity \n",
    "#the count of mains that have broken can be used later to adjust the LOB\n",
    "#the main break data includes many appearant duplicate records that may skew the results - \n",
    "#the main breaks per 100 feet are not counting actual main breaks, but for predicting performnance of similar pipe diameters, materials, and ages pipes for breakage statistics.  \n",
    "#If one pipe has had about 5 or more repairs that not typical, for our system, of all the similar pipes of that same diameter, material, and install era.\n",
    "#that pipe with 5 repairs probably needs replaced though, and that will be accounted for in a LOB_ADJ and will rank high in the final prioritization\n",
    "\n",
    "BreakData = \"Water Main Breaks\"\n",
    "\n",
    "arcpy.management.SelectLayerByAttribute(watermains, \"CLEAR_SELECTION\", '', None)\n",
    "\n",
    "arcpy.analysis.SpatialJoin(watermains, BreakData, projdb+r\"/\"+watermains+\"_BreakJoin\", \"JOIN_ONE_TO_ONE\", \"KEEP_ALL\", '#', \"CLOSEST\", \"100 Feet\", \"BreakDataDistance\")\n",
    "\n",
    "arcpy.management.Dissolve(watermains+\"_BreakJoin\", projdb+r\"/\"+watermains+\"_Break_Stats\", \"Install_ERA;DIAMETER;MATERIAL;LOB_Variation\", \"Join_Count SUM;OBJECTID COUNT\", \"MULTI_PART\", \"DISSOLVE_LINES\")\n",
    "\n",
    "arcpy.analysis.Statistics(watermains+\"_Break_Stats\", projdb+r\"/\"+watermains+\"_Check_Breaks\", \"SUM_Join_Count SUM\", None)\n"
   ]
  },
  {
   "cell_type": "code",
   "execution_count": 10,
   "metadata": {},
   "outputs": [
    {
     "data": {
      "text/html": [
       "<div class='gpresult'><h2>Messages</h2><div id='messages' data-messages='[\"Start Time: Tuesday, May 31, 2022 11:13:19 AM\",\"Succeeded at Tuesday, May 31, 2022 11:13:19 AM (Elapsed Time: 0.05 seconds)\"]' data-show='true'><div id = 'default' /></div></div>"
      ],
      "text/plain": [
       "<Result 'Water_Main_2022_05_26_BreakJoin'>"
      ]
     },
     "execution_count": 10,
     "metadata": {},
     "output_type": "execute_result"
    }
   ],
   "source": [
    "#review breaks with newer mains than the break date\n",
    "\n",
    "arcpy.management.SelectLayerByAttribute(\"Water_Main_2022_05_26_BreakJoin\", \"NEW_SELECTION\", \"INSTALLDATE >= BreakReportedDate\", None)\n"
   ]
  },
  {
   "cell_type": "code",
   "execution_count": 9,
   "metadata": {},
   "outputs": [
    {
     "data": {
      "text/html": [
       "<div class='gpresult'><h2>Messages</h2><div id='messages' data-messages='[\"Start Time: Tuesday, May 31, 2022 11:10:11 AM\",\"Succeeded at Tuesday, May 31, 2022 11:10:11 AM (Elapsed Time: 0.04 seconds)\"]' data-show='true'><div id = 'default' /></div></div>"
      ],
      "text/plain": [
       "<Result 'Water_Main_2022_05_26_BreakJoin'>"
      ]
     },
     "execution_count": 9,
     "metadata": {},
     "output_type": "execute_result"
    }
   ],
   "source": [
    "#select valid breaks, not breaks on mains that have been replaced\n",
    "\n",
    "arcpy.management.SelectLayerByAttribute(\"Water_Main_2022_05_26_BreakJoin\", \"NEW_SELECTION\", \"INSTALLDATE <= BreakReportedDate\", None)\n",
    "\n",
    "#review and delete records from Breakjoin table"
   ]
  },
  {
   "cell_type": "code",
   "execution_count": 13,
   "metadata": {},
   "outputs": [
    {
     "data": {
      "text/html": [
       "<div class='gpresult'><h2>Messages</h2><div id='messages' data-messages='[\"Start Time: Tuesday, May 31, 2022 11:27:37 AM\",\"Succeeded at Tuesday, May 31, 2022 11:27:40 AM (Elapsed Time: 3.04 seconds)\"]' data-show='true'><div id = 'default' /></div></div>"
      ],
      "text/plain": [
       "<Result 'C:\\\\Users\\\\kgonterwitz\\\\OneDrive - City of Lawrence KS\\\\Documents\\\\ArcGIS\\\\Projects\\\\WaterData2022_0526.gdb\\\\Water_Main_2022_05_26_Check_Breaks'>"
      ]
     },
     "execution_count": 13,
     "metadata": {},
     "output_type": "execute_result"
    }
   ],
   "source": [
    "arcpy.management.Dissolve(watermains+\"_BreakJoin\", projdb+r\"/\"+watermains+\"_Break_Stats\", \"Install_ERA;DIAMETER;MATERIAL;LOB_Variation\", \"Join_Count SUM;OBJECTID COUNT\", \"MULTI_PART\", \"DISSOLVE_LINES\")\n",
    "\n",
    "arcpy.analysis.Statistics(watermains+\"_Break_Stats\", projdb+r\"/\"+watermains+\"_Check_Breaks\", \"SUM_Join_Count SUM\", None)\n"
   ]
  },
  {
   "cell_type": "code",
   "execution_count": 14,
   "metadata": {},
   "outputs": [
    {
     "data": {
      "text/html": [
       "<div class='gpresult'><h2>Messages</h2><div id='messages' data-messages='[\"Start Time: Tuesday, May 31, 2022 11:28:15 AM\",\"Adding TotalLengthMiles to Water_Main_2022_05_26_Check_Length...\",\"Succeeded at Tuesday, May 31, 2022 11:28:16 AM (Elapsed Time: 0.84 seconds)\"]' data-show='true'><div id = 'default' /></div></div>"
      ],
      "text/plain": [
       "<Result 'Water_Main_2022_05_26_Check_Length'>"
      ]
     },
     "execution_count": 14,
     "metadata": {},
     "output_type": "execute_result"
    }
   ],
   "source": [
    "arcpy.analysis.Statistics(watermains+\"_Break_Stats\", projdb+r\"/\"+watermains+\"_Check_Length\", \"Shape_Length SUM\", None)\n",
    "arcpy.management.CalculateField(watermains+\"_Check_Length\", \"TotalLengthMiles\", \"!SUM_Shape_Length!/5280\", \"PYTHON3\", '', \"Double\")"
   ]
  },
  {
   "cell_type": "code",
   "execution_count": 18,
   "metadata": {},
   "outputs": [
    {
     "data": {
      "text/html": [
       "<div class='gpresult'><h2>Messages</h2><div id='messages' data-messages='[\"Start Time: Tuesday, May 31, 2022 1:42:36 PM\",\"Succeeded at Tuesday, May 31, 2022 1:42:36 PM (Elapsed Time: 0.05 seconds)\"]' data-show='true'><div id = 'default' /></div></div>"
      ],
      "text/plain": [
       "<Result 'Water_Main_2022_05_26_Break_Stats'>"
      ]
     },
     "execution_count": 18,
     "metadata": {},
     "output_type": "execute_result"
    }
   ],
   "source": [
    "#calculate breaks per 100 feet\n",
    "#select segments that are less than 400 feet and set the breaks to an \"average\" so short lengths/small sample combinations arent overweight\n",
    "\n",
    "arcpy.management.SelectLayerByAttribute(watermains, \"CLEAR_SELECTION\", '', None)\n",
    "arcpy.management.CalculateField(watermains+\"_Break_Stats\", \"BreaksPer100ft\", \"!SUM_Join_Count!/(!Shape_Length!/100)\", \"PYTHON3\", '', \"DOUBLE\")\n",
    "arcpy.management.SelectLayerByAttribute(watermains+\"_Break_Stats\", \"NEW_SELECTION\", \"Shape_Length < 400\", None)\n",
    "arcpy.management.CalculateField(watermains+\"_Break_Stats\", \"BreaksPer100ft\", \"0.1\", \"PYTHON3\", '', \"TEXT\")\n",
    "arcpy.management.SelectLayerByAttribute(watermains+\"_Break_Stats\", \"CLEAR_SELECTION\", '', None)\n"
   ]
  },
  {
   "cell_type": "code",
   "execution_count": 16,
   "metadata": {},
   "outputs": [
    {
     "data": {
      "text/html": [
       "<div class='gpresult'><h2>Messages</h2><div id='messages' data-messages='[\"Start Time: Tuesday, May 31, 2022 11:55:23 AM\",\"Succeeded at Tuesday, May 31, 2022 11:55:24 AM (Elapsed Time: 0.05 seconds)\"]' data-show='true'><div id = 'default' /></div></div>"
      ],
      "text/plain": [
       "<Result 'Water_Main_2022_05_26_Break_Stats'>"
      ]
     },
     "execution_count": 16,
     "metadata": {},
     "output_type": "execute_result"
    }
   ],
   "source": [
    "#calculate likelihood of breaks integer value ranges\n",
    "#a number of ways exist to do this, \n",
    "#use the symbology mapping in ArcPro Mapping can help statiscically evaluate the range values to use in a given analysis period and budget forecast\n",
    "#The values here use are based on the jenks breaks rounded nicely\n",
    "#these break values are similar to the predictor prep excel sheet\n",
    "#with this code each pipe that has breaks has one break counted as noted above\n",
    "#it is not weighted more heavily by individual pipes with multiple breaks - that is done on the LOB ADJ field\n",
    "\n",
    "arcpy.management.AddField(watermains+\"_Break_Stats\", \"LOB\", \"LONG\", None, None, None, '', \"NULLABLE\", \"NON_REQUIRED\", '')\n",
    "\n",
    "arcpy.management.SelectLayerByAttribute(watermains+\"_Break_Stats\", \"NEW_SELECTION\", \"BreaksPer100ft < 0.015\", None)\n",
    "arcpy.management.CalculateField(watermains+\"_Break_Stats\", \"LOB\", \"0\", \"PYTHON3\", '', \"TEXT\")\n",
    "\n",
    "arcpy.management.SelectLayerByAttribute(watermains+\"_Break_Stats\", \"NEW_SELECTION\", \"BreaksPer100ft >= 0.015 AND BreaksPer100ft < 0.05\", None)\n",
    "arcpy.management.CalculateField(watermains+\"_Break_Stats\", \"LOB\", \"1\", \"PYTHON3\", '', \"TEXT\")\n",
    "\n",
    "arcpy.management.SelectLayerByAttribute(watermains+\"_Break_Stats\", \"NEW_SELECTION\", \"BreaksPer100ft >= 0.05 AND BreaksPer100ft < 0.1\", None)\n",
    "arcpy.management.CalculateField(watermains+\"_Break_Stats\", \"LOB\", \"2\", \"PYTHON3\", '', \"TEXT\")\n",
    "\n",
    "arcpy.management.SelectLayerByAttribute(watermains+\"_Break_Stats\", \"NEW_SELECTION\", \"BreaksPer100ft >= 0.1 AND BreaksPer100ft < 0.15\", None)\n",
    "arcpy.management.CalculateField(watermains+\"_Break_Stats\", \"LOB\", \"3\", \"PYTHON3\", '', \"TEXT\")\n",
    "\n",
    "arcpy.management.SelectLayerByAttribute(watermains+\"_Break_Stats\", \"NEW_SELECTION\", \"BreaksPer100ft >= 0.15 AND BreaksPer100ft < 0.2\", None)\n",
    "arcpy.management.CalculateField(watermains+\"_Break_Stats\", \"LOB\", \"4\", \"PYTHON3\", '', \"TEXT\")\n",
    "\n",
    "arcpy.management.SelectLayerByAttribute(watermains+\"_Break_Stats\", \"NEW_SELECTION\", \"BreaksPer100ft >= 0.2 AND BreaksPer100ft <= 0.5\", None)\n",
    "arcpy.management.CalculateField(watermains+\"_Break_Stats\", \"LOB\", \"5\", \"PYTHON3\", '', \"TEXT\")\n",
    "\n",
    "arcpy.management.SelectLayerByAttribute(watermains+\"_Break_Stats\", \"NEW_SELECTION\", \"BreaksPer100ft >0.5\", None)\n",
    "arcpy.management.CalculateField(watermains+\"_Break_Stats\", \"LOB\", \"6\", \"PYTHON3\", '', \"TEXT\")\n",
    "\n",
    "arcpy.management.SelectLayerByAttribute(watermains+\"_Break_Stats\", \"CLEAR_SELECTION\", '', None)\n",
    "\n"
   ]
  },
  {
   "cell_type": "code",
   "execution_count": 9,
   "metadata": {},
   "outputs": [
    {
     "data": {
      "text/html": [
       "<div class='gpresult'><h2>Messages</h2><div id='messages' data-messages='[\"Start Time: Friday, May 27, 2022 5:13:54 PM\",\"Succeeded at Friday, May 27, 2022 5:13:54 PM (Elapsed Time: 0.06 seconds)\"]' data-show='true'><div id = 'default' /></div></div>"
      ],
      "text/plain": [
       "<Result 'Water_Main_2022_05_26_Break_Stats'>"
      ]
     },
     "execution_count": 9,
     "metadata": {},
     "output_type": "execute_result"
    }
   ],
   "source": [
    "#calculate likelihood of breaks integer value ranges\n",
    "#a number of ways exist to do this, \n",
    "#use the symbology mapping in ArcPro Mapping can help statiscically evaluate the range values to use in a given analysis period and budget forecast\n",
    "#The values here use are based on the jenks breaks rounded nicely\n",
    "#these break values have been adjusted based on materials corrections\n",
    "#with this code each pipe that has breaks has one break counted as noted above\n",
    "#it is not weighted more heavily by individual pipes with multiple breaks - that is done on the LOB ADJ field\n",
    "\n",
    "#arcpy.management.AddField(\"Water_Main_Break_Stats\", \"LOB\", \"LONG\", None, None, None, '', \"NULLABLE\", \"NON_REQUIRED\", '')\n",
    "\n",
    "arcpy.management.SelectLayerByAttribute(watermains+\"_Break_Stats\", \"NEW_SELECTION\", \"BreaksPer100ft < 0.0125\", None)\n",
    "arcpy.management.CalculateField(watermains+\"_Break_Stats\", \"LOB\", \"0\", \"PYTHON3\", '', \"TEXT\")\n",
    "\n",
    "arcpy.management.SelectLayerByAttribute(watermains+\"_Break_Stats\", \"NEW_SELECTION\", \"BreaksPer100ft >= 0.0125 AND BreaksPer100ft < 0.04\", None)\n",
    "arcpy.management.CalculateField(watermains+\"_Break_Stats\", \"LOB\", \"1\", \"PYTHON3\", '', \"TEXT\")\n",
    "\n",
    "arcpy.management.SelectLayerByAttribute(watermains+\"_Break_Stats\", \"NEW_SELECTION\", \"BreaksPer100ft >= 0.04 AND BreaksPer100ft < 0.06\", None)\n",
    "arcpy.management.CalculateField(watermains+\"_Break_Stats\", \"LOB\", \"2\", \"PYTHON3\", '', \"TEXT\")\n",
    "\n",
    "arcpy.management.SelectLayerByAttribute(watermains+\"_Break_Stats\", \"NEW_SELECTION\", \"BreaksPer100ft >= 0.06 AND BreaksPer100ft < 0.09\", None)\n",
    "arcpy.management.CalculateField(watermains+\"_Break_Stats\", \"LOB\", \"3\", \"PYTHON3\", '', \"TEXT\")\n",
    "\n",
    "arcpy.management.SelectLayerByAttribute(watermains+\"_Break_Stats\", \"NEW_SELECTION\", \"BreaksPer100ft >= 0.09 AND BreaksPer100ft < 0.15\", None)\n",
    "arcpy.management.CalculateField(watermains+\"_Break_Stats\", \"LOB\", \"4\", \"PYTHON3\", '', \"TEXT\")\n",
    "\n",
    "arcpy.management.SelectLayerByAttribute(watermains+\"_Break_Stats\", \"NEW_SELECTION\", \"BreaksPer100ft >= 0.15 AND BreaksPer100ft <= 0.5\", None)\n",
    "arcpy.management.CalculateField(watermains+\"_Break_Stats\", \"LOB\", \"5\", \"PYTHON3\", '', \"TEXT\")\n",
    "\n",
    "arcpy.management.SelectLayerByAttribute(watermains+\"_Break_Stats\", \"NEW_SELECTION\", \"BreaksPer100ft >0.5\", None)\n",
    "arcpy.management.CalculateField(watermains+\"_Break_Stats\", \"LOB\", \"6\", \"PYTHON3\", '', \"TEXT\")\n",
    "\n",
    "arcpy.management.SelectLayerByAttribute(watermains+\"_Break_Stats\", \"CLEAR_SELECTION\", '', None)\n",
    "\n"
   ]
  },
  {
   "cell_type": "code",
   "execution_count": null,
   "metadata": {},
   "outputs": [],
   "source": [
    "#add an attribute index to LOB_Variation\n"
   ]
  },
  {
   "cell_type": "code",
   "execution_count": 21,
   "metadata": {},
   "outputs": [
    {
     "data": {
      "text/html": [
       "<div class='gpresult'><h2>Messages</h2><div id='messages' data-messages='[\"Start Time: Tuesday, May 31, 2022 2:00:03 PM\",\"Succeeded at Tuesday, May 31, 2022 2:00:08 PM (Elapsed Time: 5.13 seconds)\"]' data-show='true'><div id = 'default' /></div></div>"
      ],
      "text/plain": [
       "<Result 'Water_Main_2022_05_26'>"
      ]
     },
     "execution_count": 21,
     "metadata": {},
     "output_type": "execute_result"
    }
   ],
   "source": [
    "#the likelihood of break has been statistically set for each group of pipes,\n",
    "#now the summary pipe information can be joined back to the individual pipe segments for prioritization\n",
    "#the new breaks service had 240+ pipes with breakes older than the pipe, , check that selections is working here for pipe/break dates\n",
    "\n",
    "arcpy.management.AddField(watermains, \"LOB\", \"LONG\", None, None, None, '', \"NULLABLE\", \"NON_REQUIRED\", '')\n",
    "arcpy.management.AddJoin(watermains, \"LOB_Variation\", watermains+\"_Break_Stats\", \"LOB_Variation\", \"KEEP_ALL\")\n",
    "arcpy.management.CalculateField(watermains, \"LOB\", \"!\"+watermains+\"_Break_Stats.LOB!\", \"PYTHON3\", '', \"TEXT\")\n",
    "#arcpy.management.RemoveJoin(watermains, watermains+\"_Break_Stats\")\n"
   ]
  },
  {
   "cell_type": "code",
   "execution_count": 22,
   "metadata": {},
   "outputs": [
    {
     "data": {
      "text/html": [
       "<div class='gpresult'><h2>Messages</h2><div id='messages' data-messages='[\"Start Time: Tuesday, May 31, 2022 2:02:24 PM\",\"Succeeded at Tuesday, May 31, 2022 2:02:24 PM (Elapsed Time: 0.17 seconds)\"]' data-show='true'><div id = 'default' /></div></div>"
      ],
      "text/plain": [
       "<Result 'Water_Main_2022_05_26'>"
      ]
     },
     "execution_count": 22,
     "metadata": {},
     "output_type": "execute_result"
    }
   ],
   "source": [
    "#note 52/27/2022 there are a bunch of null LOBs at this point, missing variations\n",
    "#joining problem using method, a very small number of records are joining the rest have null values\n",
    "#arcgis pro suspicious behvaior on this join, exporting to sql server for evaluation\n",
    "\n",
    "arcpy.management.RemoveJoin(watermains, watermains+\"_Break_Stats\")"
   ]
  },
  {
   "cell_type": "code",
   "execution_count": null,
   "metadata": {},
   "outputs": [],
   "source": [
    "#run processing in sql server\n",
    "#develop views and queries that do most of this stuff\n",
    "#this sql query updates the Pipe LOB from the LOB Variation break statistics\n",
    "\n",
    "\n",
    "'''\n",
    " UPDATE [LAWRENCE\\kgonterwitz].[WATER_MAIN_2022_05_26]\n",
    " SET [WATER_MAIN_2022_05_26].LOB = b.LOB\n",
    " FROM [LAWRENCE\\kgonterwitz].[WATER_MAIN_2022_05_26] a\n",
    "  left join WATER_MAIN_2022_05_31_BREAK_STATS b ON a.LOB_Variation = b.LOB_Variation\n",
    "\n",
    "'''\n"
   ]
  },
  {
   "cell_type": "code",
   "execution_count": 4,
   "metadata": {},
   "outputs": [
    {
     "data": {
      "text/html": [
       "<div class='gpresult'><h2>Messages</h2><div id='messages' data-messages='[\"Start Time: Friday, May 27, 2022 11:20:05 AM\",\"Succeeded at Friday, May 27, 2022 11:20:05 AM (Elapsed Time: 0.08 seconds)\"]' data-show='true'><div id = 'default' /></div></div>"
      ],
      "text/plain": [
       "<Result 'Water_Main_2022_05_26'>"
      ]
     },
     "execution_count": 4,
     "metadata": {},
     "output_type": "execute_result"
    }
   ],
   "source": [
    "#join main data to the closest water mains to obtain more details about the counts of breaks per water main\n",
    "#the main break data contains some appearant duplicates so this needs to be re-run with recent and clean break data for accurate results\n",
    "#the break results should also be filtered temporally, so that breaks dont appear to occur on pipes that have been replaced \n",
    "#add the break count per pipe to the pipe table and set the LOB Adj\n",
    "#12/3/2021 field names for analysis adjusted to account for new feature service layer of breaks\n",
    "#query added to remove oudated break\n",
    "# note that the new break data has a field called ASSET_ID that is the non-unique facility ID\n",
    "# to avoid confusion over this it the unique asset ID field has been renamed \n",
    "\n",
    "arcpy.management.AddField(watermains, \"BreakCount\", \"LONG\", None, None, None, '', \"NULLABLE\", \"NON_REQUIRED\", '')\n",
    "\n",
    "arcpy.analysis.SpatialJoin(BreakData, watermains, projdb+r\"/\"+watermains+\"_Join\", \"JOIN_ONE_TO_ONE\", \"KEEP_ALL\", '#', \"CLOSEST\", \"100 Feet\", \"NearestMainDist\")\n",
    "#at this point with the new feature layer the breaks data doesnt know when or if the pipe has been replaced.  \n",
    "\n",
    "#this selection and deletion will remove those breaks from the dataset that occured before a pipe was replaced\n",
    "arcpy.management.SelectLayerByAttribute(watermains+\"_Join\", \"NEW_SELECTION\", \"BreakReportedDate < INSTALLDATE\" , None)\n",
    "arcpy.management.DeleteFeatures(watermains+\"_Join\")\n",
    "\n",
    "\n",
    "arcpy.management.Dissolve(watermains+\"_Join\", projdb+r\"\\BreaksPerPipe\", \"Unique_AssetID\", \"Join_Count SUM;BreakReportedDate MIN;BreakReportedDate MAX;BreakReason FIRST;BreakReason LAST\", \"MULTI_PART\", \"DISSOLVE_LINES\")\n",
    "arcpy.management.AddJoin(watermains, \"Unique_AssetID\", \"BreaksPerPipe\", \"Unique_AssetID\", \"KEEP_ALL\")\n",
    "arcpy.management.CalculateField(watermains, \"BreakCount\", \"!BreaksPerPipe.SUM_Join_Count!\", \"PYTHON3\", '', \"TEXT\")\n",
    "\n",
    "arcpy.management.RemoveJoin(watermains, \"BreaksPerPipe\")\n",
    "\n",
    "arcpy.management.SelectLayerByAttribute(watermains, \"NEW_SELECTION\", \"BreakCount < 1 or BreakCount is null\", None)\n",
    "arcpy.management.CalculateField(watermains, \"BreakCount\", \"0\", \"PYTHON3\", '', \"TEXT\")\n",
    "\n",
    "arcpy.management.SelectLayerByAttribute(watermains, \"CLEAR_SELECTION\", '', None)"
   ]
  },
  {
   "cell_type": "code",
   "execution_count": null,
   "metadata": {},
   "outputs": [],
   "source": [
    "#adjust break data for querification\n",
    "#the break join now brings together the fields to compare breaks and pipes for dates, materials and diameters\n",
    "#interrogate this data closer to attempt to validate the correct break data joins\n",
    "#based on initial diameter analysis it was pretty good\n"
   ]
  },
  {
   "cell_type": "code",
   "execution_count": 5,
   "metadata": {},
   "outputs": [
    {
     "data": {
      "text/html": [
       "<div class='gpresult'><h2>Messages</h2><div id='messages' data-messages='[\"Start Time: Friday, May 27, 2022 11:23:30 AM\",\"Succeeded at Friday, May 27, 2022 11:23:31 AM (Elapsed Time: 0.07 seconds)\"]' data-show='true'><div id = 'default' /></div></div>"
      ],
      "text/plain": [
       "<Result 'Water_Main_2022_05_26'>"
      ]
     },
     "execution_count": 5,
     "metadata": {},
     "output_type": "execute_result"
    }
   ],
   "source": [
    "#score the LOB ADJ field\n",
    "\n",
    "arcpy.management.AddField(watermains, \"LOB_ADJ\", \"LONG\", None, None, None, '', \"NULLABLE\", \"NON_REQUIRED\", '')\n",
    "\n",
    "arcpy.management.SelectLayerByAttribute(watermains, \"NEW_SELECTION\", \"BreakCount < 1 or BreakCount is null\", None)\n",
    "arcpy.management.CalculateField(watermains, \"LOB_ADJ\", \"0\", \"PYTHON3\", '', \"TEXT\")\n",
    "\n",
    "arcpy.management.SelectLayerByAttribute(watermains, \"NEW_SELECTION\", \"BreakCount = 1\", None)\n",
    "arcpy.management.CalculateField(watermains, \"LOB_ADJ\", \"1\", \"PYTHON3\", '', \"TEXT\")\n",
    "\n",
    "arcpy.management.SelectLayerByAttribute(watermains, \"NEW_SELECTION\", \"BreakCount = 2\", None)\n",
    "arcpy.management.CalculateField(watermains, \"LOB_ADJ\", \"2\", \"PYTHON3\", '', \"TEXT\")\n",
    "\n",
    "arcpy.management.SelectLayerByAttribute(watermains, \"NEW_SELECTION\", \"BreakCount = 3\", None)\n",
    "arcpy.management.CalculateField(watermains, \"LOB_ADJ\", \"3\", \"PYTHON3\", '', \"TEXT\")\n",
    "\n",
    "arcpy.management.SelectLayerByAttribute(watermains, \"NEW_SELECTION\", \"BreakCount = 4\", None)\n",
    "arcpy.management.CalculateField(watermains, \"LOB_ADJ\", \"4\", \"PYTHON3\", '', \"TEXT\")\n",
    "\n",
    "arcpy.management.SelectLayerByAttribute(watermains, \"NEW_SELECTION\", \"BreakCount = 5\", None)\n",
    "arcpy.management.CalculateField(watermains, \"LOB_ADJ\", \"5\", \"PYTHON3\", '', \"TEXT\")\n",
    "\n",
    "arcpy.management.SelectLayerByAttribute(watermains, \"NEW_SELECTION\", \"BreakCount > 5\", None)\n",
    "arcpy.management.CalculateField(watermains, \"LOB_ADJ\", \"6\", \"PYTHON3\", '', \"TEXT\")\n",
    "\n",
    "arcpy.management.SelectLayerByAttribute(watermains, \"CLEAR_SELECTION\", '', None)\n",
    "\n"
   ]
  },
  {
   "cell_type": "code",
   "execution_count": 6,
   "metadata": {},
   "outputs": [
    {
     "name": "stdout",
     "output_type": "stream",
     "text": [
      "480.0\n"
     ]
    },
    {
     "data": {
      "text/html": [
       "<div class='gpresult'><h2>Messages</h2><div id='messages' data-messages='[\"Start Time: Friday, May 27, 2022 11:26:06 AM\",\"Succeeded at Friday, May 27, 2022 11:26:08 AM (Elapsed Time: 2.15 seconds)\"]' data-show='true'><div id = 'default' /></div></div>"
      ],
      "text/plain": [
       "<Result 'Water_Main_2022_05_26'>"
      ]
     },
     "execution_count": 6,
     "metadata": {},
     "output_type": "execute_result"
    }
   ],
   "source": [
    "#this replacement cost per linear foot per pipe diameter was estimated using a polynomial equation based on emperical statistics graphed in excel\n",
    "#the emperical data included cost up to 12\" and I made up guestimate numbers for higher diameter pipes that should be verified emperically\n",
    "#this should calculate the replacement value, so that we can prioritize replacement of smaller pipes with 8\" and changes to improve system performance bang for the buck\n",
    "\n",
    "DIAM = 20\n",
    "costLF = 1.2*DIAM*DIAM-12*DIAM+240\n",
    "\n",
    "print(costLF)\n",
    "\n",
    "arcpy.management.AddField(watermains, \"ReplacementValue\", \"DOUBLE\", None, None, None, '', \"NULLABLE\", \"NON_REQUIRED\", '')\n",
    "arcpy.management.CalculateField(watermains, \"ReplacementValue\", \"(1.2*!DIAMETER!*!DIAMETER!-12*!DIAMETER!+240)*!Shape_Length!\", \"PYTHON3\", '', \"TEXT\")\n"
   ]
  },
  {
   "cell_type": "code",
   "execution_count": 7,
   "metadata": {},
   "outputs": [
    {
     "data": {
      "text/html": [
       "<div class='gpresult'><h2>Messages</h2><div id='messages' data-messages='[\"Start Time: Friday, May 27, 2022 11:26:27 AM\",\"Succeeded at Friday, May 27, 2022 11:26:28 AM (Elapsed Time: 0.78 seconds)\"]' data-show='true'><div id = 'default' /></div></div>"
      ],
      "text/plain": [
       "<Result 'Water_Main_2022_05_26'>"
      ]
     },
     "execution_count": 7,
     "metadata": {},
     "output_type": "execute_result"
    }
   ],
   "source": [
    "#for replacement scheduling and budgeting, consider replacement cost- action for replacing with 8\" pvc minimum pipe sizes\n",
    "#for budgeting, consider comperehensive plan and transmission main extensions along arterial and collector growth corridors for larger pipe sizes\n",
    "\n",
    "#based on cost groups and replacement needs, model the replacement schedule per year for the next 20 or 30 years\n",
    "\n",
    "arcpy.management.AddField(watermains, \"ReplacementCost\", \"DOUBLE\", None, None, None, '', \"NULLABLE\", \"NON_REQUIRED\", '')\n",
    "arcpy.management.CalculateField(watermains, \"ReplacementCost\", \"(1.2*!DIAMETER!*!DIAMETER!-12*!DIAMETER!+240)*!Shape_Length!\", \"PYTHON3\", '', \"TEXT\")\n",
    "arcpy.management.SelectLayerByAttribute(watermains, \"NEW_SELECTION\", \"DIAMETER < 8 AND DIAMETER > 2\", None)\n",
    "arcpy.management.CalculateField(watermains, \"ReplacementCost\", \"(1.2*64-12*8+240)*!Shape_Length!\", \"PYTHON3\", '', \"TEXT\")\n",
    "\n",
    "\n",
    "#the results of this elevates 1-2\" copper and poly pipes around the bulbs of cul de sacs, and other random strange things like a 1\" copper waterline under the riverfront plaza building, belle crest drive, 6th & Arizona St,\n",
    "#selection changed to not include pipes under 2 inch diam\n",
    "#these should not be scheduled for replacement with 8\" pvc, we are targeting more 6\" transite, di, CI\n",
    "# at some point here we need to filter out little short segments, bypasses, tower connections, but keeping stuff like the 1916 4\" ci on 7th between Ohio and Tennesssee\n",
    "\n",
    "\n"
   ]
  },
  {
   "cell_type": "code",
   "execution_count": 8,
   "metadata": {},
   "outputs": [
    {
     "data": {
      "text/html": [
       "<div class='gpresult'><h2>Messages</h2><div id='messages' data-messages='[\"Start Time: Friday, May 27, 2022 11:26:46 AM\",\"Succeeded at Friday, May 27, 2022 11:26:47 AM (Elapsed Time: 0.58 seconds)\"]' data-show='true'><div id = 'default' /></div></div>"
      ],
      "text/plain": [
       "<Result 'Water_Main_2022_05_26'>"
      ]
     },
     "execution_count": 8,
     "metadata": {},
     "output_type": "execute_result"
    }
   ],
   "source": [
    "\n",
    "arcpy.management.AddField(watermains, \"ReplacementDif\", \"DOUBLE\", None, None, None, '', \"NULLABLE\", \"NON_REQUIRED\", '')\n",
    "arcpy.management.SelectLayerByAttribute(watermains, \"CLEAR_SELECTION\", '', None)\n",
    "arcpy.management.CalculateField(watermains, \"ReplacementDif\", \"0\", \"PYTHON3\", '', \"TEXT\", \"NO_ENFORCE_DOMAINS\")\n",
    "arcpy.management.SelectLayerByAttribute(watermains, \"NEW_SELECTION\", \"DIAMETER < 8 AND Shape_Length > 250\", None)\n",
    "arcpy.management.CalculateField(watermains, \"ReplacementDif\", \"(8-!DIAMETER!)\", \"PYTHON3\", '', \"TEXT\", \"NO_ENFORCE_DOMAINS\")"
   ]
  },
  {
   "cell_type": "code",
   "execution_count": 9,
   "metadata": {},
   "outputs": [
    {
     "ename": "ExecuteError",
     "evalue": "Failed to execute. Parameters are not valid.\nERROR 000732: Layer Name or Table View: Dataset Water_Main_Break_Stats does not exist or is not supported\nFailed to execute (SelectLayerByAttribute).\n",
     "output_type": "error",
     "traceback": [
      "\u001b[0;31m---------------------------------------------------------------------------\u001b[0m\n\u001b[0;31mExecuteError\u001b[0m                              Traceback (most recent call last)",
      "In  \u001b[0;34m[9]\u001b[0m:\nLine \u001b[0;34m1\u001b[0m:     arcpy.management.SelectLayerByAttribute(\u001b[33m\"\u001b[39;49;00m\u001b[33mWater_Main_Break_Stats\u001b[39;49;00m\u001b[33m\"\u001b[39;49;00m, \u001b[33m\"\u001b[39;49;00m\u001b[33mCLEAR_SELECTION\u001b[39;49;00m\u001b[33m\"\u001b[39;49;00m, \u001b[33m'\u001b[39;49;00m\u001b[33m'\u001b[39;49;00m, \u001b[34mNone\u001b[39;49;00m)\n",
      "File \u001b[0;34mC:\\Program Files\\ArcGIS\\Pro\\Resources\\ArcPy\\arcpy\\management.py\u001b[0m, in \u001b[0;32mSelectLayerByAttribute\u001b[0m:\nLine \u001b[0;34m10296\u001b[0m: \u001b[34mraise\u001b[39;49;00m e\n",
      "File \u001b[0;34mC:\\Program Files\\ArcGIS\\Pro\\Resources\\ArcPy\\arcpy\\management.py\u001b[0m, in \u001b[0;32mSelectLayerByAttribute\u001b[0m:\nLine \u001b[0;34m10293\u001b[0m: retval = convertArcObjectToPythonObject(gp.SelectLayerByAttribute_management(*gp_fixargs((in_layer_or_view, selection_type, where_clause, invert_where_clause), \u001b[34mTrue\u001b[39;49;00m)))\n",
      "File \u001b[0;34mC:\\Program Files\\ArcGIS\\Pro\\Resources\\ArcPy\\arcpy\\geoprocessing\\_base.py\u001b[0m, in \u001b[0;32m<lambda>\u001b[0m:\nLine \u001b[0;34m512\u001b[0m:   \u001b[34mreturn\u001b[39;49;00m \u001b[34mlambda\u001b[39;49;00m *args: val(*gp_fixargs(args, \u001b[34mTrue\u001b[39;49;00m))\n",
      "\u001b[0;31mExecuteError\u001b[0m: Failed to execute. Parameters are not valid.\nERROR 000732: Layer Name or Table View: Dataset Water_Main_Break_Stats does not exist or is not supported\nFailed to execute (SelectLayerByAttribute).\n\n\u001b[0;31m---------------------------------------------------------------------------\u001b[0m"
     ]
    }
   ],
   "source": [
    "arcpy.management.SelectLayerByAttribute(\"Water_Main_2022_05_26_Break_Stats\", \"CLEAR_SELECTION\", '', None)\n",
    "arcpy.management.SelectLayerByAttribute(watermains, \"CLEAR_SELECTION\", '', None)\n",
    "\n",
    "arcpy.management.AddField(watermains, \"PriorityScore\", \"LONG\", None, None, None, '', \"NULLABLE\", \"NON_REQUIRED\", '')\n",
    "arcpy.management.CalculateField(watermains, \"PriorityScore\", \"(100-!PercentLifeRemaining!)/10+!LOB_ADJ!+!LOB!\", \"PYTHON3\", '', \"TEXT\")\n",
    "\n",
    "\n"
   ]
  },
  {
   "cell_type": "code",
   "execution_count": 11,
   "metadata": {},
   "outputs": [
    {
     "ename": "ExecuteError",
     "evalue": "Failed to execute. Parameters are not valid.\nERROR 000732: Layer Name or Table View: Dataset Water_Main_Break_Stats does not exist or is not supported\nFailed to execute (SelectLayerByAttribute).\n",
     "output_type": "error",
     "traceback": [
      "\u001b[0;31m---------------------------------------------------------------------------\u001b[0m\n\u001b[0;31mExecuteError\u001b[0m                              Traceback (most recent call last)",
      "In  \u001b[0;34m[11]\u001b[0m:\nLine \u001b[0;34m2\u001b[0m:     arcpy.management.SelectLayerByAttribute(\u001b[33m\"\u001b[39;49;00m\u001b[33mWater_Main_Break_Stats\u001b[39;49;00m\u001b[33m\"\u001b[39;49;00m, \u001b[33m\"\u001b[39;49;00m\u001b[33mCLEAR_SELECTION\u001b[39;49;00m\u001b[33m\"\u001b[39;49;00m, \u001b[33m'\u001b[39;49;00m\u001b[33m'\u001b[39;49;00m, \u001b[34mNone\u001b[39;49;00m)\n",
      "File \u001b[0;34mC:\\Program Files\\ArcGIS\\Pro\\Resources\\ArcPy\\arcpy\\management.py\u001b[0m, in \u001b[0;32mSelectLayerByAttribute\u001b[0m:\nLine \u001b[0;34m10296\u001b[0m: \u001b[34mraise\u001b[39;49;00m e\n",
      "File \u001b[0;34mC:\\Program Files\\ArcGIS\\Pro\\Resources\\ArcPy\\arcpy\\management.py\u001b[0m, in \u001b[0;32mSelectLayerByAttribute\u001b[0m:\nLine \u001b[0;34m10293\u001b[0m: retval = convertArcObjectToPythonObject(gp.SelectLayerByAttribute_management(*gp_fixargs((in_layer_or_view, selection_type, where_clause, invert_where_clause), \u001b[34mTrue\u001b[39;49;00m)))\n",
      "File \u001b[0;34mC:\\Program Files\\ArcGIS\\Pro\\Resources\\ArcPy\\arcpy\\geoprocessing\\_base.py\u001b[0m, in \u001b[0;32m<lambda>\u001b[0m:\nLine \u001b[0;34m512\u001b[0m:   \u001b[34mreturn\u001b[39;49;00m \u001b[34mlambda\u001b[39;49;00m *args: val(*gp_fixargs(args, \u001b[34mTrue\u001b[39;49;00m))\n",
      "\u001b[0;31mExecuteError\u001b[0m: Failed to execute. Parameters are not valid.\nERROR 000732: Layer Name or Table View: Dataset Water_Main_Break_Stats does not exist or is not supported\nFailed to execute (SelectLayerByAttribute).\n\n\u001b[0;31m---------------------------------------------------------------------------\u001b[0m"
     ]
    }
   ],
   "source": [
    "#these commands will clear selected features, these commands should normally be the last step run in each cell\n",
    "arcpy.management.SelectLayerByAttribute(\"Water_Main_Break_Stats\", \"CLEAR_SELECTION\", '', None)\n"
   ]
  },
  {
   "cell_type": "code",
   "execution_count": 12,
   "metadata": {},
   "outputs": [
    {
     "data": {
      "text/html": [
       "<div class='gpresult'><h2>Messages</h2><div id='messages' data-messages='[\"Start Time: Friday, May 27, 2022 11:28:00 AM\",\"Succeeded at Friday, May 27, 2022 11:28:00 AM (Elapsed Time: 0.04 seconds)\"]' data-show='true'><div id = 'default' /></div></div>"
      ],
      "text/plain": [
       "<Result 'Water_Main_2022_05_26'>"
      ]
     },
     "execution_count": 12,
     "metadata": {},
     "output_type": "execute_result"
    }
   ],
   "source": [
    "arcpy.management.SelectLayerByAttribute(watermains, \"CLEAR_SELECTION\", '', None)"
   ]
  },
  {
   "cell_type": "code",
   "execution_count": 13,
   "metadata": {},
   "outputs": [
    {
     "data": {
      "text/html": [
       "<div class='gpresult'><h2>Messages</h2><div id='messages' data-messages='[\"Start Time: Friday, May 27, 2022 11:28:09 AM\",\"Succeeded at Friday, May 27, 2022 11:28:13 AM (Elapsed Time: 3.64 seconds)\"]' data-show='true'><div id = 'default' /></div></div>"
      ],
      "text/plain": [
       "<Result 'Water_Main_2022_05_26'>"
      ]
     },
     "execution_count": 13,
     "metadata": {},
     "output_type": "execute_result"
    }
   ],
   "source": [
    "#Break Threshold Calculation\n",
    "#break estimate \n",
    "\n",
    "BreakEstimateCost = 7000\n",
    "arcpy.management.AddField(watermains, \"BreakRateThreshold\", \"Double\", None, None, None, '', \"NULLABLE\", \"NON_REQUIRED\", '')\n",
    "arcpy.management.CalculateField(watermains, \"BreakRateThreshold\", \"(math.log(1+0.05))/(math.log(1+7000/!ReplacementCost!))\", \"PYTHON3\", '', \"TEXT\")\n",
    "\n"
   ]
  },
  {
   "cell_type": "code",
   "execution_count": 14,
   "metadata": {},
   "outputs": [
    {
     "data": {
      "text/html": [
       "<div class='gpresult'><h2>Messages</h2><div id='messages' data-messages='[\"Start Time: Friday, May 27, 2022 11:28:26 AM\",\"Succeeded at Friday, May 27, 2022 11:28:29 AM (Elapsed Time: 3.23 seconds)\"]' data-show='true'><div id = 'default' /></div></div>"
      ],
      "text/plain": [
       "<Result 'Water_Main_2022_05_26'>"
      ]
     },
     "execution_count": 14,
     "metadata": {},
     "output_type": "execute_result"
    }
   ],
   "source": [
    "arcpy.management.AddField(watermains, \"AnnualBreakRate\", \"Double\", None, None, None, '', \"NULLABLE\", \"NON_REQUIRED\", '')\n",
    "arcpy.management.CalculateField(watermains, \"AnnualBreakRate\", \"!BreakCount!/10\", \"PYTHON3\", '', \"TEXT\")\n",
    "\n"
   ]
  },
  {
   "cell_type": "code",
   "execution_count": 15,
   "metadata": {},
   "outputs": [
    {
     "data": {
      "text/html": [
       "<div class='gpresult'><h2>Messages</h2><div id='messages' data-messages='[\"Start Time: Friday, May 27, 2022 11:28:44 AM\",\"Succeeded at Friday, May 27, 2022 11:28:44 AM (Elapsed Time: 0.10 seconds)\"]' data-show='true'><div id = 'default' /></div></div>"
      ],
      "text/plain": [
       "<Result 'Water_Main_2022_05_26'>"
      ]
     },
     "execution_count": 15,
     "metadata": {},
     "output_type": "execute_result"
    }
   ],
   "source": [
    "arcpy.management.AddField(watermains, \"BreakThresholdMet\", \"LONG\", None, None, None, '', \"NULLABLE\", \"NON_REQUIRED\", '')\n",
    "arcpy.management.SelectLayerByAttribute(watermains, \"NEW_SELECTION\", \"AnnualBreakRate >= BreakRateThreshold\", None)\n",
    "arcpy.management.CalculateField(watermains, \"BreakThresholdMet\", \"1\", \"PYTHON3\", '', \"TEXT\")\n",
    "arcpy.management.SelectLayerByAttribute(watermains, \"CLEAR_SELECTION\", '', None)"
   ]
  },
  {
   "cell_type": "code",
   "execution_count": null,
   "metadata": {},
   "outputs": [],
   "source": [
    "#hydrant flow test data static pressure grid creator\n",
    "\n",
    "Hydflowtest = r'https://gisweb.lawrenceks.org/hosting/rest/services/Water/All_Hydrant_Flow_Tests/FeatureServer'\n",
    "\n",
    "#this service seems to show multiple flow test results for each hydrant including static pressure\n",
    "#this selects the most recent hydrant flow test from all flow tests\n",
    "arcpy.management.Sort(r\"All Hydrant Flow Tests\\All Hydrant Flow Tests\", projdb+r\"\\AllHydrantFlowTests_Sorted\", \"HY_NUMBER ASCENDING;Test_Date DESCENDING;Test_No DESCENDING;Test_Static ASCENDING\", \"UR\")\n",
    "arcpy.analysis.PairwiseDissolve(\"AllHydrantFlowTests_Sorted\", projdb+r\"\\AllHydrantFlowTests_Sorted_P\", \"HY_NUMBER\", \"Test_No FIRST;Test_Date FIRST;Test_Date MAX;Test_Static FIRST;Test_Static COUNT;Test_Static MAX\", \"MULTI_PART\")\n",
    "\n",
    "#one hydrant has a static pressure of 801\n",
    "\n"
   ]
  },
  {
   "cell_type": "code",
   "execution_count": 21,
   "metadata": {},
   "outputs": [
    {
     "ename": "RuntimeError",
     "evalue": "ERROR 010240: Could not save raster dataset to C:\\Users\\kgonterwitz\\OneDrive - City of Lawrence KS\\Documents\\ArcGIS\\Projects\\WaterData2022_0526.gdb\\waterpressure with output format FGDBR.",
     "output_type": "error",
     "traceback": [
      "\u001b[0;31m---------------------------------------------------------------------------\u001b[0m\n\u001b[0;31mRuntimeError\u001b[0m                              Traceback (most recent call last)",
      "In  \u001b[0;34m[21]\u001b[0m:\nLine \u001b[0;34m1\u001b[0m:     out_raster = arcpy.sa.NaturalNeighbor(\u001b[33m\"\u001b[39;49;00m\u001b[33mAllHydrantFlowTests_Sorted_P\u001b[39;49;00m\u001b[33m\"\u001b[39;49;00m, \u001b[33m\"\u001b[39;49;00m\u001b[33mFIRST_Test_Static\u001b[39;49;00m\u001b[33m\"\u001b[39;49;00m, \u001b[34m100\u001b[39;49;00m); out_raster.save(projdb+\u001b[33mr\u001b[39;49;00m\u001b[33m\"\u001b[39;49;00m\u001b[33m\\\u001b[39;49;00m\u001b[33mwaterpressure\u001b[39;49;00m\u001b[33m\"\u001b[39;49;00m)\n",
      "\u001b[0;31mRuntimeError\u001b[0m: ERROR 010240: Could not save raster dataset to C:\\Users\\kgonterwitz\\OneDrive - City of Lawrence KS\\Documents\\ArcGIS\\Projects\\WaterData2022_0526.gdb\\waterpressure with output format FGDBR.\n\u001b[0;31m---------------------------------------------------------------------------\u001b[0m"
     ]
    }
   ],
   "source": [
    "arcpy.sa.NaturalNeighbor(\"AllHydrantFlowTests_Sorted_P\", \"FIRST_Test_Static\", 100)\n",
    "\n",
    "arcpy.management.CopyRaster(\"out_raster\", projdb+\"\\waterrpressure\", '', None, \"3.4e+38\", \"NONE\", \"NONE\", '', \"NONE\", \"NONE\", \"GRID\", \"NONE\", \"CURRENT_SLICE\", \"NO_TRANSPOSE\")"
   ]
  },
  {
   "cell_type": "code",
   "execution_count": 22,
   "metadata": {},
   "outputs": [
    {
     "ename": "ExecuteError",
     "evalue": "ERROR 999999: Something unexpected caused the tool to fail. Contact Esri Technical Support (http://esriurl.com/support) to Report a Bug, and refer to the error help for potential solutions or workarounds.\nFailed to execute (CalculateField).\n",
     "output_type": "error",
     "traceback": [
      "\u001b[0;31m---------------------------------------------------------------------------\u001b[0m\n\u001b[0;31mExecuteError\u001b[0m                              Traceback (most recent call last)",
      "In  \u001b[0;34m[22]\u001b[0m:\nLine \u001b[0;34m26\u001b[0m:    arcpy.management.CalculateField(watermains, watermains+\u001b[33m\"\u001b[39;49;00m\u001b[33m.SampleHg\u001b[39;49;00m\u001b[33m\"\u001b[39;49;00m, \u001b[33m\"\u001b[39;49;00m\u001b[33m!Sample_waterpre1.waterpressure!\u001b[39;49;00m\u001b[33m\"\u001b[39;49;00m, \u001b[33m\"\u001b[39;49;00m\u001b[33mPYTHON3\u001b[39;49;00m\u001b[33m\"\u001b[39;49;00m, \u001b[33m'\u001b[39;49;00m\u001b[33m'\u001b[39;49;00m, \u001b[33m\"\u001b[39;49;00m\u001b[33mTEXT\u001b[39;49;00m\u001b[33m\"\u001b[39;49;00m, \u001b[33m\"\u001b[39;49;00m\u001b[33mNO_ENFORCE_DOMAINS\u001b[39;49;00m\u001b[33m\"\u001b[39;49;00m)\n",
      "File \u001b[0;34mC:\\Program Files\\ArcGIS\\Pro\\Resources\\ArcPy\\arcpy\\management.py\u001b[0m, in \u001b[0;32mCalculateField\u001b[0m:\nLine \u001b[0;34m5588\u001b[0m:  \u001b[34mraise\u001b[39;49;00m e\n",
      "File \u001b[0;34mC:\\Program Files\\ArcGIS\\Pro\\Resources\\ArcPy\\arcpy\\management.py\u001b[0m, in \u001b[0;32mCalculateField\u001b[0m:\nLine \u001b[0;34m5585\u001b[0m:  retval = convertArcObjectToPythonObject(gp.CalculateField_management(*gp_fixargs((in_table, field, expression, expression_type, code_block, field_type, enforce_domains), \u001b[34mTrue\u001b[39;49;00m)))\n",
      "File \u001b[0;34mC:\\Program Files\\ArcGIS\\Pro\\Resources\\ArcPy\\arcpy\\geoprocessing\\_base.py\u001b[0m, in \u001b[0;32m<lambda>\u001b[0m:\nLine \u001b[0;34m512\u001b[0m:   \u001b[34mreturn\u001b[39;49;00m \u001b[34mlambda\u001b[39;49;00m *args: val(*gp_fixargs(args, \u001b[34mTrue\u001b[39;49;00m))\n",
      "\u001b[0;31mExecuteError\u001b[0m: ERROR 999999: Something unexpected caused the tool to fail. Contact Esri Technical Support (http://esriurl.com/support) to Report a Bug, and refer to the error help for potential solutions or workarounds.\nFailed to execute (CalculateField).\n\n\u001b[0;31m---------------------------------------------------------------------------\u001b[0m"
     ]
    }
   ],
   "source": [
    "#evaluate the pressure gradient from hydrant flow test, assign pressure ranges 1-5 and test sensitivity to LOB\n",
    "\n",
    "#watermain = 'Water_Main_202110'\n",
    "\n",
    "#modify this to use Darren's Hydrant Flow Test service\n",
    "\n",
    "StaticHg = 'waterpressure'\n",
    "\n",
    "arcpy.sa.Sample(StaticHg, watermains, r\"Sample_waterpre1\", \"NEAREST\", \"OBJECTID\", \"CURRENT_SLICE\", None, \"MEAN\", None, None, \"ROW_WISE\", \"FEATURE_CLASS\")\n",
    "    \n",
    "#this seems to represent the values from the hydrant flow test static pressure grid \"waterpressure\" from the waterlines, probably other ways to do it\n",
    "\n",
    "arcpy.management.AddField(watermains, \"HG_Score\", \"LONG\", None, None, None, '', \"NULLABLE\", \"NON_REQUIRED\", '')\n",
    "arcpy.management.AddField(watermains, \"SampleHg\", \"DOUBLE\", None, None, None, '', \"NULLABLE\", \"NON_REQUIRED\", '')\n",
    "\n",
    "#scores entered into histogram, most pressures are between 58-85 psi\n",
    "#range is about 45-120\n",
    "#60-85 = 0\n",
    "#>60=1\n",
    "#85.1-90 = 2\n",
    "#90.1-95=3\n",
    "#95.1-105=4\n",
    "#>105.1 = 5\n",
    "arcpy.management.AddJoin(watermains, \"OBJECTID\", \"Sample_waterpre1\", \"OBJECTID\", \"KEEP_ALL\")\n",
    "\n",
    "arcpy.management.CalculateField(watermains, watermains+\".SampleHg\", \"!Sample_waterpre1.waterpressure!\", \"PYTHON3\", '', \"TEXT\", \"NO_ENFORCE_DOMAINS\")\n",
    "\n",
    "arcpy.management.RemoveJoin(watermains, \"Sample_waterpre1\")"
   ]
  },
  {
   "cell_type": "code",
   "execution_count": 23,
   "metadata": {},
   "outputs": [
    {
     "ename": "ExecuteError",
     "evalue": "ERROR 999999: Something unexpected caused the tool to fail. Contact Esri Technical Support (http://esriurl.com/support) to Report a Bug, and refer to the error help for potential solutions or workarounds.\nFailed to execute (CalculateField).\n",
     "output_type": "error",
     "traceback": [
      "\u001b[0;31m---------------------------------------------------------------------------\u001b[0m\n\u001b[0;31mExecuteError\u001b[0m                              Traceback (most recent call last)",
      "In  \u001b[0;34m[23]\u001b[0m:\nLine \u001b[0;34m3\u001b[0m:     \n",
      "File \u001b[0;34mC:\\Program Files\\ArcGIS\\Pro\\Resources\\ArcPy\\arcpy\\management.py\u001b[0m, in \u001b[0;32mCalculateField\u001b[0m:\nLine \u001b[0;34m5588\u001b[0m:  \u001b[34mraise\u001b[39;49;00m e\n",
      "File \u001b[0;34mC:\\Program Files\\ArcGIS\\Pro\\Resources\\ArcPy\\arcpy\\management.py\u001b[0m, in \u001b[0;32mCalculateField\u001b[0m:\nLine \u001b[0;34m5585\u001b[0m:  retval = convertArcObjectToPythonObject(gp.CalculateField_management(*gp_fixargs((in_table, field, expression, expression_type, code_block, field_type, enforce_domains), \u001b[34mTrue\u001b[39;49;00m)))\n",
      "File \u001b[0;34mC:\\Program Files\\ArcGIS\\Pro\\Resources\\ArcPy\\arcpy\\geoprocessing\\_base.py\u001b[0m, in \u001b[0;32m<lambda>\u001b[0m:\nLine \u001b[0;34m512\u001b[0m:   \u001b[34mreturn\u001b[39;49;00m \u001b[34mlambda\u001b[39;49;00m *args: val(*gp_fixargs(args, \u001b[34mTrue\u001b[39;49;00m))\n",
      "\u001b[0;31mExecuteError\u001b[0m: ERROR 999999: Something unexpected caused the tool to fail. Contact Esri Technical Support (http://esriurl.com/support) to Report a Bug, and refer to the error help for potential solutions or workarounds.\nFailed to execute (CalculateField).\n\n\u001b[0;31m---------------------------------------------------------------------------\u001b[0m"
     ]
    }
   ],
   "source": [
    "\n",
    "arcpy.management.AddJoin(watermains, \"OBJECTID\", \"Sample_waterpre1\", \"OBJECTID\", \"KEEP_ALL\")\n",
    "\n",
    "arcpy.management.CalculateField(watermains, watermains+\".SampleHg\", \"!Sample_waterpre1.waterpressure!\", \"PYTHON3\", '', \"TEXT\", \"NO_ENFORCE_DOMAINS\")\n",
    "\n",
    "arcpy.management.RemoveJoin(watermains, \"Sample_waterpre1\")\n"
   ]
  },
  {
   "cell_type": "code",
   "execution_count": 24,
   "metadata": {},
   "outputs": [
    {
     "data": {
      "text/html": [
       "<div class='gpresult'><h2>Messages</h2><div id='messages' data-messages='[\"Start Time: Friday, May 27, 2022 3:43:00 PM\",\"Succeeded at Friday, May 27, 2022 3:43:00 PM (Elapsed Time: 0.17 seconds)\"]' data-show='true'><div id = 'default' /></div></div>"
      ],
      "text/plain": [
       "<Result 'Water_Main_2022_05_26'>"
      ]
     },
     "execution_count": 24,
     "metadata": {},
     "output_type": "execute_result"
    }
   ],
   "source": [
    "arcpy.management.RemoveJoin(watermains, \"Sample_waterpre1\")"
   ]
  },
  {
   "cell_type": "code",
   "execution_count": 3,
   "metadata": {},
   "outputs": [
    {
     "data": {
      "text/html": [
       "<div class='gpresult'><h2>Messages</h2><div id='messages' data-messages='[\"Start Time: Friday, May 27, 2022 4:54:21 PM\",\"Succeeded at Friday, May 27, 2022 4:54:22 PM (Elapsed Time: 0.37 seconds)\"]' data-show='true'><div id = 'default' /></div></div>"
      ],
      "text/plain": [
       "<Result 'Water_Main_2022_05_26'>"
      ]
     },
     "execution_count": 3,
     "metadata": {},
     "output_type": "execute_result"
    }
   ],
   "source": [
    "arcpy.management.SelectLayerByAttribute(watermains, \"NEW_SELECTION\", \"SampleHg < 60\", None)\n",
    "arcpy.management.CalculateField(watermains, \"HG_Score\", \"1\", \"PYTHON3\", '', \"TEXT\", \"NO_ENFORCE_DOMAINS\")\n",
    "\n",
    "arcpy.management.SelectLayerByAttribute(watermains, \"NEW_SELECTION\", \"SampleHg >= 60 And SampleHg < 85\", None)\n",
    "arcpy.management.CalculateField(watermains, \"HG_Score\", \"0\", \"PYTHON3\", '', \"TEXT\", \"NO_ENFORCE_DOMAINS\")\n",
    "\n",
    "arcpy.management.SelectLayerByAttribute(watermains, \"NEW_SELECTION\", \"SampleHg >= 85 And SampleHg < 90\", None)\n",
    "arcpy.management.CalculateField(watermains, \"HG_Score\", \"2\", \"PYTHON3\", '', \"TEXT\", \"NO_ENFORCE_DOMAINS\")\n",
    "\n",
    "arcpy.management.SelectLayerByAttribute(watermains, \"NEW_SELECTION\", \"SampleHg >= 90 And SampleHg < 95\", None)\n",
    "arcpy.management.CalculateField(watermains, \"HG_Score\", \"3\", \"PYTHON3\", '', \"TEXT\", \"NO_ENFORCE_DOMAINS\")\n",
    "\n",
    "arcpy.management.SelectLayerByAttribute(watermains, \"NEW_SELECTION\", \"SampleHg >= 95 And SampleHg < 105\", None)\n",
    "arcpy.management.CalculateField(watermains, \"HG_Score\", \"4\", \"PYTHON3\", '', \"TEXT\", \"NO_ENFORCE_DOMAINS\")\n",
    "\n",
    "arcpy.management.SelectLayerByAttribute(watermains, \"NEW_SELECTION\", \"SampleHg >= 105\", None)\n",
    "arcpy.management.CalculateField(watermains, \"HG_Score\", \"5\", \"PYTHON3\", '', \"TEXT\", \"NO_ENFORCE_DOMAINS\")"
   ]
  },
  {
   "cell_type": "code",
   "execution_count": null,
   "metadata": {},
   "outputs": [],
   "source": []
  }
 ],
 "metadata": {
  "kernelspec": {
   "display_name": "ArcGISPro",
   "language": "Python",
   "name": "python3"
  },
  "language_info": {
   "file_extension": ".py",
   "name": "python",
   "version": "3"
  }
 },
 "nbformat": 4,
 "nbformat_minor": 2
}
