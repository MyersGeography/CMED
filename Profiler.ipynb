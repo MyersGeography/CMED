{
 "cells": [
  {
   "cell_type": "markdown",
   "metadata": {},
   "source": [
    "Profile charts are weak and probably cant be easily added to the layout as a profile\n",
    "Profile Scene is weak in terms of labeling and graphic display as a pipe profile tool\n",
    "\n",
    "The best way to add an engineering profile to a layout is mathematically in a map"
   ]
  },
  {
   "cell_type": "code",
   "execution_count": 20,
   "metadata": {},
   "outputs": [],
   "source": [
    "ws = r\"\\\\citydata\\users\\kgonterwitz\\projectreviews\\westdale\\WestdaleSewerDesignFile.gdb\"\n",
    "\n",
    "profile = \"SewerProfile1\"\n",
    "\n",
    "projection = '''PROJCS[\"NAD_1983_2011_KS_RCS_Zone_11\",GEOGCS[\"GCS_NAD_1983_2011\",DATUM[\"D_NAD_1983_2011\",SPHEROID[\"GRS_1980\",6378137.0,298.257222101]],PRIMEM[\"Greenwich\",0.0],UNIT[\"Degree\",0.0174532925199433]],PROJECTION[\"Lambert_Conformal_Conic\"],PARAMETER[\"False_Easting\",11500000.0],PARAMETER[\"False_Northing\",600000.0],PARAMETER[\"Central_Meridian\",-95.25],PARAMETER[\"Standard_Parallel_1\",39.1],PARAMETER[\"Scale_Factor\",1.000033],PARAMETER[\"Latitude_Of_Origin\",39.1],UNIT[\"Foot_US\",0.3048006096012192]];-110278200 -95394100 3048.00609601219;-100000 10000;-100000 10000;3.28083333333333E-03;0.001;0.001;IsHighPrecision'''\n",
    "\n",
    "arcpy.env.overwriteOutput = 1"
   ]
  },
  {
   "cell_type": "code",
   "execution_count": 9,
   "metadata": {},
   "outputs": [
    {
     "data": {
      "text/html": [
       "<div class='gpresult'><h2>Messages</h2><div id='messages' data-messages='[\"Start Time: Monday, February 13, 2023 1:33:58 PM\",\"Succeeded at Monday, February 13, 2023 1:34:18 PM (Elapsed Time: 19.85 seconds)\"]' data-show='true'><div id = 'default' /></div></div>"
      ],
      "text/plain": [
       "<Result '\\\\\\\\citydata\\\\users\\\\kgonterwitz\\\\projectreviews\\\\westdale\\\\WestdaleSewerDesignFile.gdb\\\\SewerProfile1'>"
      ]
     },
     "execution_count": 9,
     "metadata": {},
     "output_type": "execute_result"
    }
   ],
   "source": [
    "#select the linear infrastructure (pipe, street, etc) to profile\n",
    "arcpy.conversion.FeatureClassToFeatureClass(\"ssGravityMain\", ws, profile)\n"
   ]
  },
  {
   "cell_type": "code",
   "execution_count": 10,
   "metadata": {},
   "outputs": [
    {
     "data": {
      "text/html": [
       "<div class='gpresult'><h2>Messages</h2><div id='messages' data-messages='[\"Start Time: Monday, February 13, 2023 1:34:42 PM\",\"Sorting Attributes...\",\"Dissolving...\",\"Succeeded at Monday, February 13, 2023 1:34:48 PM (Elapsed Time: 6.25 seconds)\"]' data-show='true'><div id = 'default' /></div></div>"
      ],
      "text/plain": [
       "<Result '\\\\\\\\citydata\\\\users\\\\kgonterwitz\\\\projectreviews\\\\westdale\\\\WestdaleSewerDesignFile.gdb\\\\SewerProfile1D'>"
      ]
     },
     "execution_count": 10,
     "metadata": {},
     "output_type": "execute_result"
    }
   ],
   "source": [
    "#dissolve the selected lines into a single line that is the full profile length\n",
    "#dissolve will keep 2 DS elevations for profiling drops\n",
    "\n",
    "arcpy.management.Dissolve(ws+r\"\\\\\"+profile, ws+r\"/\"+profile+\"D\", \"MAINTYPE\", \"UPELEV MAX;DOWNELEV MIN;DOWNELEV MAX;Shape_Length SUM\", \"MULTI_PART\", \"DISSOLVE_LINES\", '')\n"
   ]
  },
  {
   "cell_type": "code",
   "execution_count": 11,
   "metadata": {},
   "outputs": [
    {
     "data": {
      "text/html": [
       "<div class='gpresult'><h2>Messages</h2><div id='messages' data-messages='[\"Start Time: Monday, February 13, 2023 1:38:55 PM\",\"Succeeded at Monday, February 13, 2023 1:39:05 PM (Elapsed Time: 9.75 seconds)\"]' data-show='true'><div id = 'default' /></div></div>"
      ],
      "text/plain": [
       "<Result '\\\\\\\\citydata\\\\users\\\\kgonterwitz\\\\projectreviews\\\\westdale\\\\WestdaleSewerDesignFile.gdb\\\\profileSegments'>"
      ]
     },
     "execution_count": 11,
     "metadata": {},
     "output_type": "execute_result"
    }
   ],
   "source": [
    "#Profiles will be stationed based on upstream to downstream direction\n",
    "#these steps derive coordinates for feature along the profile length\n",
    "#XY coordinates are displayed as Stationing/ M domain coordiantes along the profile length\n",
    "arcpy.management.CalculateField(ws+r\"/\"+profile+\"D\", \"StartPoint\", \"0\", \"PYTHON3\", '', \"DOUBLE\", \"NO_ENFORCE_DOMAINS\")\n",
    "arcpy.lr.CreateRoutes(profile+\"D\", \"MAINTYPE\", ws+r\"\\\\profileM\", \"TWO_FIELDS\", \"StartPoint\", \"SUM_Shape_Length\", \"UPPER_LEFT\", 1, 0, \"IGNORE\", \"INDEX\")\n",
    "arcpy.lr.LocateFeaturesAlongRoutes(profile, \"profileM\", \"MAINTYPE\", \"0 Feet\", ws+r\"/profileSegments\", \"RID; Line; FMEAS; TMEAS\", \"FIRST\", \"DISTANCE\", \"ZERO\", \"FIELDS\", \"M_DIRECTON\")"
   ]
  },
  {
   "cell_type": "code",
   "execution_count": 23,
   "metadata": {},
   "outputs": [
    {
     "data": {
      "text/html": [
       "<div class='gpresult'><h2>Messages</h2><div id='messages' data-messages='[\"Start Time: Monday, February 13, 2023 2:30:20 PM\",\"Succeeded at Monday, February 13, 2023 2:30:28 PM (Elapsed Time: 8.11 seconds)\"]' data-show='true'><div id = 'default' /></div></div>"
      ],
      "text/plain": [
       "<Result '\\\\\\\\citydata\\\\users\\\\kgonterwitz\\\\projectreviews\\\\westdale\\\\WestdaleSewerDesignFile.gdb\\\\ManholeProfile_Buffer'>"
      ]
     },
     "execution_count": 23,
     "metadata": {},
     "output_type": "execute_result"
    }
   ],
   "source": [
    "#add manhole profiles\n",
    "arcpy.lr.LocateFeaturesAlongRoutes(\"ssManhole\", \"profileM\", \"MAINTYPE\", \"0 Feet\", ws+r\"\\ManholeM\", \"RID; Point; MEAS\", \"FIRST\", \"DISTANCE\", \"ZERO\", \"FIELDS\", \"M_DIRECTON\")\n",
    "arcpy.management.XYTableToPoint(ws+r\"\\ManholeM\", ws+r\"\\ManholeProfileRimPt\", \"MEAS\", \"RIMELEV\", None, projection)\n",
    "arcpy.management.XYTableToPoint(ws+r\"\\ManholeM\", ws+r\"\\ManholeProfileInvert\", \"MEAS\", \"INVERTELEV\", None, projection)\n",
    "arcpy.management.Merge(\"ManholeProfileInvert;ManholeProfileRimPt\", ws+r\"\\ManholeProfileMerge\", '#', \"ADD_SOURCE_INFO\")\n",
    "\n",
    "arcpy.management.PointsToLine(\"ManholeProfileMerge\", ws+r\"\\ManholeProfile\", \"FACILITYID\", \"INVERTELEV\", \"NO_CLOSE\")\n",
    "arcpy.management.AddJoin(\"ManholeProfile\", \"FACILITYID\", \"ManholeProfileInvert\", \"FACILITYID\", \"KEEP_ALL\", \"INDEX_JOIN_FIELDS\")\n",
    "\n",
    "arcpy.management.SelectLayerByAttribute(\"ManholeProfile\", \"NEW_SELECTION\", \"ManholeProfileInvert.BARRELDIA IS NULL\", None)\n",
    "arcpy.management.CalculateField(\"ManholeProfile\", \"BufferWidth\", \"2\", \"PYTHON3\", '', \"DOUBLE\", \"NO_ENFORCE_DOMAINS\")\n",
    "arcpy.management.SelectLayerByAttribute(\"ManholeProfile\", \"NEW_SELECTION\", \"ManholeProfileInvert.BARRELDIA IS NOT NULL\", None)\n",
    "arcpy.management.CalculateField(\"ManholeProfile\", \"BufferWidth\", \"!ManholeProfileInvert.BARRELDIA!/2\", \"PYTHON3\", '', \"DOUBLE\", \"NO_ENFORCE_DOMAINS\")\n",
    "arcpy.management.SelectLayerByAttribute(\"ManholeProfile\", \"CLEAR_SELECTION\")\n",
    "\n",
    "arcpy.analysis.Buffer(\"ManholeProfile\", ws+r\"\\ManholeProfile_Buffer\", \"ManholeProfile.BufferWidth\", \"FULL\", \"FLAT\", \"NONE\", None, \"PLANAR\")"
   ]
  },
  {
   "cell_type": "code",
   "execution_count": 12,
   "metadata": {},
   "outputs": [
    {
     "data": {
      "text/html": [
       "<div class='gpresult'><h2>Messages</h2><div id='messages' data-messages='[\"Start Time: Monday, February 13, 2023 1:42:46 PM\",\"Succeeded at Monday, February 13, 2023 1:43:16 PM (Elapsed Time: 29.90 seconds)\"]' data-show='true'><div id = 'default' /></div></div>"
      ],
      "text/plain": [
       "<Result '\\\\\\\\citydata\\\\users\\\\kgonterwitz\\\\projectreviews\\\\westdale\\\\WestdaleSewerDesignFile.gdb\\\\ProfileSegEndPt'>"
      ]
     },
     "execution_count": 12,
     "metadata": {},
     "output_type": "execute_result"
    }
   ],
   "source": [
    "#Now we should have the station coordinates and elevation of the pipe ends for the sewer\n",
    "#this cell calculates the station and elevation for the profile lines as points\n",
    "#then the points can be merged and rocessed into a profile line\n",
    "\n",
    "arcpy.management.XYTableToPoint(\"profileSegments\", ws+r\"\\ProfileSegStartPt\", \"FMEAS\", \"UPELEV\", None, projection)\n",
    "arcpy.management.XYTableToPoint(\"profileSegments\", ws+r\"\\ProfileSegEndPt\", \"TMEAS\", \"DOWNELEV\", None, projection)"
   ]
  },
  {
   "cell_type": "code",
   "execution_count": 40,
   "metadata": {},
   "outputs": [
    {
     "data": {
      "text/html": [
       "<div class='gpresult'><h2>Messages</h2><div id='messages' data-messages='[\"Start Time: Monday, February 13, 2023 4:13:24 PM\",\"Succeeded at Monday, February 13, 2023 4:13:52 PM (Elapsed Time: 27.63 seconds)\"]' data-show='true'><div id = 'default' /></div></div>"
      ],
      "text/plain": [
       "<Result '\\\\\\\\citydata\\\\users\\\\kgonterwitz\\\\projectreviews\\\\westdale\\\\WestdaleSewerDesignFile.gdb\\\\BuriedMH_1'>"
      ]
     },
     "execution_count": 40,
     "metadata": {},
     "output_type": "execute_result"
    }
   ],
   "source": [
    "#the first example was an outside drop manhole, the downstream pipe elevation and slope are based on the low connection\n",
    "#the slope and profile need to show the flowline of the upper manhole\n",
    "#this will have to be entered manually for now\n",
    "#drop manholes have a bottom drop of less than 2 ft per KDHE criteria\n",
    "#the upper drop is to meet max slope and is higher than 2 ft\n",
    "\n",
    "#arcpy.conversion.FeatureClassToFeatureClass(\"ManholeProfileInvert\", ws, \"DropMH\", \"MHTYPE = 'DRP'\", '#', '')\n",
    "arcpy.conversion.FeatureClassToFeatureClass(\"ManholeProfileInvert\", ws, \"BuriedMH\", \"MHTYPE = 'Buried'\", '#', '')\n",
    "\n",
    "DropElTop = 946.00\n",
    "DropElTSta = 118.50799-6\n",
    "\n",
    "DropElBottom = 945.00\n",
    "DropElBSta = 118.50799\n",
    "\n",
    "arcpy.management.CalculateField(\"BuriedMH\", \"FMEAS\", \"!MEAS!-2\", \"PYTHON3\", '', \"DOUBLE\", \"NO_ENFORCE_DOMAINS\")\n",
    "arcpy.management.CalculateField(\"BuriedMH\", \"UPELEV\", DropElBottom, \"PYTHON3\", '', \"DOUBLE\", \"NO_ENFORCE_DOMAINS\")\n",
    "arcpy.management.CalculateField(\"BuriedMH\", \"DNELEV\", DropElBottom, \"PYTHON3\", '', \"DOUBLE\", \"NO_ENFORCE_DOMAINS\")\n",
    "\n",
    "arcpy.management.XYTableToPoint(ws+r\"\\BuriedMH\", ws+r\"\\BuriedMH_1\", \"FMEAS\", \"DNELEV\", None, projection)\n"
   ]
  },
  {
   "cell_type": "code",
   "execution_count": 41,
   "metadata": {},
   "outputs": [
    {
     "data": {
      "text/html": [
       "<div class='gpresult'><h2>Messages</h2><div id='messages' data-messages='[\"Start Time: Monday, February 13, 2023 4:30:27 PM\",\"Succeeded at Monday, February 13, 2023 4:30:32 PM (Elapsed Time: 5.42 seconds)\"]' data-show='true'><div id = 'default' /></div></div>"
      ],
      "text/plain": [
       "<Result '\\\\\\\\citydata\\\\users\\\\kgonterwitz\\\\projectreviews\\\\westdale\\\\WestdaleSewerDesignFile.gdb\\\\Point_Merge_Sort'>"
      ]
     },
     "execution_count": 41,
     "metadata": {},
     "output_type": "execute_result"
    }
   ],
   "source": [
    "#merge the points \n",
    "arcpy.management.Merge(\"ProfileSegStartPt;ProfileSegEndPt;BuriedMH_1\", ws+r\"\\Point_Merge\")\n",
    "arcpy.management.Sort(\"Point_Merge\", ws+r\"\\Point_Merge_Sort\", \"FMEAS ASCENDING;UPELEV ASCENDING\", \"UR\")\n",
    "#theck the points , may need to delete a point on a drop MH"
   ]
  },
  {
   "cell_type": "code",
   "execution_count": 42,
   "metadata": {},
   "outputs": [
    {
     "data": {
      "text/html": [
       "<div class='gpresult'><h2>Messages</h2><div id='messages' data-messages='[\"Start Time: Monday, February 13, 2023 4:30:41 PM\",\"Succeeded at Monday, February 13, 2023 4:31:15 PM (Elapsed Time: 33.79 seconds)\"]' data-show='true'><div id = 'default' /></div></div>"
      ],
      "text/plain": [
       "<Result '\\\\\\\\citydata\\\\users\\\\kgonterwitz\\\\projectreviews\\\\westdale\\\\WestdaleSewerDesignFile.gdb\\\\ProfleLine'>"
      ]
     },
     "execution_count": 42,
     "metadata": {},
     "output_type": "execute_result"
    }
   ],
   "source": [
    "#merge the points and make the profile lines\n",
    "\n",
    "arcpy.management.PointsToLine(\"Point_Merge_Sort\", ws+r\"\\ProfleLine\", \"MAINTYPE\", None, \"NO_CLOSE\")"
   ]
  },
  {
   "cell_type": "code",
   "execution_count": 32,
   "metadata": {},
   "outputs": [
    {
     "name": "stdout",
     "output_type": "stream",
     "text": [
      "0 934\n",
      "1 936\n",
      "2 938\n",
      "3 940\n",
      "4 942\n",
      "5 944\n",
      "6 946\n",
      "7 948\n",
      "8 950\n",
      "9 952\n",
      "10 954\n",
      "11 956\n"
     ]
    }
   ],
   "source": [
    "#step through the range of elevations for the profile\n",
    "topelevation = 956\n",
    "baseelevation = 934\n",
    "calcelevation =0\n",
    "i=0\n",
    "\n",
    "while calcelevation < topelevation:\n",
    "    calcelevation = baseelevation+i*2\n",
    "    arcpy.management.CalculateField(ws+r\"\\\\\"+profile+\"D\", \"ProfileEl\", calcelevation, \"PYTHON3\", '', \"DOUBLE\", \"NO_ENFORCE_DOMAINS\")\n",
    "    arcpy.management.XYTableToPoint(ws+r\"\\\\\"+profile+\"D\", ws+r\"\\Profilea\", \"StartPoint\", \"ProfileEl\", None, projection)\n",
    "    arcpy.management.XYTableToPoint(ws+r\"\\\\\"+profile+\"D\", ws+r\"\\Profileb\", \"SUM_Shape_Length\", \"ProfileEl\", None, projection)\n",
    "    arcpy.management.Merge(\"Profilea;Profileb\", ws+r\"\\\\Point_Merge_scales\")\n",
    "    arcpy.management.PointsToLine(ws+r\"\\\\Point_Merge_scales\", ws+r\"\\\\ProfleLine\"+str(calcelevation), \"MAINTYPE\", None, \"NO_CLOSE\")\n",
    "    arcpy.management.CalculateField(ws+r\"\\\\ProfleLine\"+str(calcelevation), \"ProfileEl\", calcelevation, \"PYTHON3\", '', \"DOUBLE\", \"NO_ENFORCE_DOMAINS\")\n",
    "    print(i, calcelevation)\n",
    "    i+=1\n",
    "    \n",
    "\n"
   ]
  },
  {
   "cell_type": "code",
   "execution_count": null,
   "metadata": {},
   "outputs": [],
   "source": [
    "#make a list of the outputs above and merge them to simplify labeling and symbology\n",
    "arcpy.management.Merge(r\"'ProfleLine956';'ProfleLine954';'ProfleLine952';'ProfleLine950';'ProfleLine948';'ProfleLine946';'ProfleLine944';'ProfleLine942';'ProfleLine940';'ProfleLine938';'ProfleLine936';'ProfleLine934'\", ws+r\"\\ProfileLines_Merge\", \"#\", \"NO_SOURCE_INFO\")"
   ]
  },
  {
   "cell_type": "code",
   "execution_count": 6,
   "metadata": {},
   "outputs": [
    {
     "data": {
      "text/html": [
       "<div class='gpresult'><h2>Messages</h2><div id='messages' data-messages='[\"Start Time: Tuesday, February 7, 2023 1:50:55 PM\",\"Succeeded at Tuesday, February 7, 2023 1:51:08 PM (Elapsed Time: 12.59 seconds)\"]' data-show='true'><div id = 'default' /></div></div>"
      ],
      "text/plain": [
       "<Result 'C:\\\\Users\\\\kgonterwitz\\\\OneDrive - City of Lawrence KS\\\\Documents\\\\ArcGIS\\\\Projects\\\\KylesProProject3\\\\Profiles.gdb\\\\SurfaceMZ'>"
      ]
     },
     "execution_count": 6,
     "metadata": {},
     "output_type": "execute_result"
    }
   ],
   "source": [
    "#create surface profile \n",
    "#DEM is used, consider using DSM\n",
    "\n",
    "DEM = r\"\\\\gisfile\\gisdata\\Published\\LIDAR\\2021_LiDAR\\Lidar_Mosaic_Dataset.gdb\\QL2_DEM_2021\"\n",
    "arcpy.ddd.InterpolateShape(DEM, ws+r\"\\\\\"+\"profileM\", ws+r\"\\SurfaceEl\", None, 1, \"BILINEAR\", \"DENSIFY\", 0, \"EXCLUDE\")\n",
    "arcpy.management.FeatureVerticesToPoints(\"SurfaceEl\", ws+r\"\\SurfacePt\", \"ALL\")\n",
    "arcpy.management.AddXY(\"SurfacePt\")\n",
    "arcpy.lr.LocateFeaturesAlongRoutes(\"SurfacePt\", \"profileM\", \"MAINTYPE\", \"0 Feet\", ws+r\"\\profileMZ\", \"RID; Point; MEAS\", \"FIRST\", \"DISTANCE\", \"ZERO\", \"FIELDS\", \"M_DIRECTON\")\n",
    "arcpy.management.XYTableToPoint(\"profileMZ\", ws+r\"\\SurfaceMZPoint\", \"MEAS\", \"POINT_Z\", None, projection)\n",
    "arcpy.management.PointsToLine(\"SurfaceMZPoint\", ws+r\"\\SurfaceMZ\", \"RID\", \"MEAS\", \"NO_CLOSE\")"
   ]
  },
  {
   "cell_type": "code",
   "execution_count": 8,
   "metadata": {},
   "outputs": [
    {
     "data": {
      "text/html": [
       "<div class='gpresult'><h2>Messages</h2><div id='messages' data-messages='[\"Start Time: Tuesday, February 7, 2023 3:32:53 PM\",\"Succeeded at Tuesday, February 7, 2023 3:32:53 PM (Elapsed Time: 0.03 seconds)\"]' data-show='true'><div id = 'default' /></div></div>"
      ],
      "text/plain": [
       "<Result 'ManholeProfile'>"
      ]
     },
     "execution_count": 8,
     "metadata": {},
     "output_type": "execute_result"
    }
   ],
   "source": [
    "#add the sewer lines as events for labeling the diameter, material, slope, etc\n",
    "\n",
    "arcpy.management.CalculateField(\"ProfleLine\", \"StartM\", \"0\", \"PYTHON3\", '', \"DOUBLE\", \"NO_ENFORCE_DOMAINS\")\n",
    "arcpy.management.CalculateField(\"ProfleLine\", \"EndM\", \"!Shape_Length!\", \"PYTHON3\", '', \"DOUBLE\", \"NO_ENFORCE_DOMAINS\")\n",
    "arcpy.lr.CreateRoutes(\"ProfleLine\", \"MAINTYPE\", ws+r\"\\ProfleLineRoute\", \"TWO_FIELDS\", \"StartM\", \"EndM\", \"UPPER_LEFT\", 1, 0, \"IGNORE\", \"INDEX\")\n",
    "arcpy.lr.MakeRouteEventLayer(\"ProfleLineRoute\", \"MAINTYPE\", \"profileSegments\", \"Main Type; Line; FMEAS; TMEAS\", \"profileSegmentsEvents\", None, \"NO_ERROR_FIELD\", \"NO_ANGLE_FIELD\", \"NORMAL\", \"ANGLE\", \"LEFT\", \"POINT\")\n"
   ]
  }
 ],
 "metadata": {
  "kernelspec": {
   "display_name": "ArcGISPro",
   "language": "Python",
   "name": "python3"
  },
  "language_info": {
   "file_extension": ".py",
   "name": "python",
   "version": "3"
  }
 },
 "nbformat": 4,
 "nbformat_minor": 2
}
