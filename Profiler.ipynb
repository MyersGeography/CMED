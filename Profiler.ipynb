{
 "cells": [
  {
   "cell_type": "markdown",
   "metadata": {},
   "source": [
    "Create a Profile for a Layout:\n",
    "\n",
    "City Sewer Example:\n",
    "Alternatve to Profile charts in ArcGIS Pro Maps or Scenes\n",
    "\n",
    "This script creates a vertical profile in a map by referencing XYZ data as route station/Z in the XY axis of the map projection.  Be sure to use a cartesian style projection without a distortional conic at the origin or adjust the origin from 0,0 so as not to induce a false  slope.  Do not use the KS GIS state plane projection or UTM.\n",
    "\n",
    "Check as built designs especially for drop manholes, which only have one downstream elevation in the GIS. Drop manholes have a bottom drop of less than 2 ft per KDHE criteria. Upper drops are 2 ft or more above the invert elevation.  \n",
    "\n",
    "Carefully QC Drop Manholes incoming conduit elevations vs inverts and slope data.  The test example has multiple issues that become evident when producing and reviewing the profile vs as-built.\n",
    "\n",
    "To start create a map in ArcGIS Pro with sewer ssGravityMain and ssManhole layers\n",
    "\n",
    "putting the origin at 0,0 in the map projection warps the layout, choose a cartesian coordainte system (if possible, or no coordinate system if possible) or an origin coordinate that is centered in the selected projection for minimal disortion of the profile"
   ]
  },
  {
   "cell_type": "code",
   "execution_count": 1,
   "metadata": {},
   "outputs": [],
   "source": [
    "#set workspace environment and variables\n",
    "\n",
    "ws = r\"\\\\citydata\\users\\kgonterwitz\\projectreviews\\westdale\\WestdaleSewerDesignFile.gdb\"\n",
    "\n",
    "profile = \"SewerProfileWestdale\"\n",
    "\n",
    "projection = '''PROJCS[\"NAD_1983_2011_KS_RCS_Zone_11\",GEOGCS[\"GCS_NAD_1983_2011\",DATUM[\"D_NAD_1983_2011\",SPHEROID[\"GRS_1980\",6378137.0,298.257222101]],PRIMEM[\"Greenwich\",0.0],UNIT[\"Degree\",0.0174532925199433]],PROJECTION[\"Lambert_Conformal_Conic\"],PARAMETER[\"False_Easting\",11500000.0],PARAMETER[\"False_Northing\",600000.0],PARAMETER[\"Central_Meridian\",-95.25],PARAMETER[\"Standard_Parallel_1\",39.1],PARAMETER[\"Scale_Factor\",1.000033],PARAMETER[\"Latitude_Of_Origin\",39.1],UNIT[\"Foot_US\",0.3048006096012192]];-110278200 -95394100 3048.00609601219;-100000 10000;-100000 10000;3.28083333333333E-03;0.001;0.001;IsHighPrecision'''\n",
    "\n",
    "arcpy.env.overwriteOutput = 1"
   ]
  },
  {
   "cell_type": "code",
   "execution_count": 3,
   "metadata": {},
   "outputs": [
    {
     "data": {
      "text/html": [
       "<div class='gpresult'><h2>Messages</h2><div id='messages' data-messages='[\"Start Time: Friday, February 24, 2023 11:04:50 AM\",\"Succeeded at Friday, February 24, 2023 11:05:12 AM (Elapsed Time: 22.22 seconds)\"]' data-show='true'><div id = 'default' /></div></div>"
      ],
      "text/plain": [
       "<Result '\\\\\\\\citydata\\\\users\\\\kgonterwitz\\\\projectreviews\\\\westdale\\\\WestdaleSewerDesignFile.gdb\\\\SewerProfileWestdale'>"
      ]
     },
     "execution_count": 3,
     "metadata": {},
     "output_type": "execute_result"
    }
   ],
   "source": [
    "#select the linear infrastructure (pipe, street, etc) to profile\n",
    "#translate project to projection defined above next time\n",
    "#arcpy.conversion.FeatureClassToFeatureClass(\"ssGravityMain\", ws, profile)\n",
    "\n",
    "with arcpy.EnvManager(outputCoordinateSystem=projection):\n",
    "    arcpy.conversion.FeatureClassToFeatureClass(\"ssGravityMain\", ws, profile)"
   ]
  },
  {
   "cell_type": "code",
   "execution_count": 6,
   "metadata": {},
   "outputs": [],
   "source": [
    "#select the point infrastructure (manholes, inlets, etc) to profile\n",
    "#translate project to projection defined above next time\n",
    "#arcpy.conversion.FeatureClassToFeatureClass(\"ssGravityMain\", ws, profile)\n",
    "\n",
    "with arcpy.EnvManager(outputCoordinateSystem=projection):\n",
    "    arcpy.conversion.FeatureClassToFeatureClass(\"ssManhole\", ws, profile+\"MH\")"
   ]
  },
  {
   "cell_type": "code",
   "execution_count": 3,
   "metadata": {},
   "outputs": [
    {
     "data": {
      "text/html": [
       "<div class='gpresult'><h2>Messages</h2><div id='messages' data-messages='[\"Start Time: Monday, March 6, 2023 1:30:36 PM\",\"Sorting Attributes...\",\"Dissolving...\",\"Succeeded at Monday, March 6, 2023 1:30:39 PM (Elapsed Time: 2.73 seconds)\"]' data-show='true'><div id = 'default' /></div></div>"
      ],
      "text/plain": [
       "<Result '\\\\\\\\citydata\\\\users\\\\kgonterwitz\\\\projectreviews\\\\westdale\\\\WestdaleSewerDesignFile.gdb\\\\SewerProfileWestdaleD'>"
      ]
     },
     "execution_count": 3,
     "metadata": {},
     "output_type": "execute_result"
    }
   ],
   "source": [
    "#dissolve the selected lines to profile into a single line that is the full profile length\n",
    "#dissolve will keep 2 DS elevations for profiling drops\n",
    "#dissolve will dissolve around maintype, dissimilar main types will not profile together\n",
    "\n",
    "arcpy.management.Dissolve(ws+r\"\\\\\"+profile, ws+r\"/\"+profile+\"D\", \"MAINTYPE\", \"UPELEV MAX;DOWNELEV MIN;DOWNELEV MAX;Shape_Length SUM\", \"MULTI_PART\", \"DISSOLVE_LINES\", '')\n"
   ]
  },
  {
   "cell_type": "code",
   "execution_count": 4,
   "metadata": {},
   "outputs": [
    {
     "data": {
      "text/html": [
       "<div class='gpresult'><h2>Messages</h2><div id='messages' data-messages='[\"Start Time: Monday, March 6, 2023 1:30:57 PM\",\"Succeeded at Monday, March 6, 2023 1:31:02 PM (Elapsed Time: 4.90 seconds)\"]' data-show='true'><div id = 'default' /></div></div>"
      ],
      "text/plain": [
       "<Result '\\\\\\\\citydata\\\\users\\\\kgonterwitz\\\\projectreviews\\\\westdale\\\\WestdaleSewerDesignFile.gdb\\\\profileSegments'>"
      ]
     },
     "execution_count": 4,
     "metadata": {},
     "output_type": "execute_result"
    }
   ],
   "source": [
    "#Profiles will be stationed based on upstream to downstream direction\n",
    "#these steps derive coordinates for feature along the profile length\n",
    "#XY coordinates are displayed as Stationing/ M domain coordiantes along the profile length\n",
    "arcpy.management.CalculateField(ws+r\"/\"+profile+\"D\", \"StartPoint\", \"0\", \"PYTHON3\", '', \"DOUBLE\", \"NO_ENFORCE_DOMAINS\")\n",
    "arcpy.lr.CreateRoutes(profile+\"D\", \"MAINTYPE\", ws+r\"\\\\profileM\", \"TWO_FIELDS\", \"StartPoint\", \"SUM_Shape_Length\", \"UPPER_LEFT\", 1, 0, \"IGNORE\", \"INDEX\")\n",
    "arcpy.lr.LocateFeaturesAlongRoutes(profile, \"profileM\", \"MAINTYPE\", \"0 Feet\", ws+r\"/profileSegments\", \"RID; Line; FMEAS; TMEAS\", \"FIRST\", \"DISTANCE\", \"ZERO\", \"FIELDS\", \"M_DIRECTON\")"
   ]
  },
  {
   "cell_type": "code",
   "execution_count": 7,
   "metadata": {},
   "outputs": [
    {
     "data": {
      "text/html": [
       "<div class='gpresult'><h2>Messages</h2><div id='messages' data-messages='[\"Start Time: Monday, March 6, 2023 1:48:38 PM\",\"Succeeded at Monday, March 6, 2023 1:48:42 PM (Elapsed Time: 4.24 seconds)\"]' data-show='true'><div id = 'default' /></div></div>"
      ],
      "text/plain": [
       "<Result '\\\\\\\\citydata\\\\users\\\\kgonterwitz\\\\projectreviews\\\\westdale\\\\WestdaleSewerDesignFile.gdb\\\\SewerProfileWestdale_Buffer'>"
      ]
     },
     "execution_count": 7,
     "metadata": {},
     "output_type": "execute_result"
    }
   ],
   "source": [
    "#add manhole profiles\n",
    "#review for drops and edit the vertical data for profiling manholes\n",
    "arcpy.env.overwriteOutput = 1\n",
    "\n",
    "arcpy.lr.LocateFeaturesAlongRoutes(profile+\"MH\", \"profileM\", \"MAINTYPE\", \"0 Feet\", ws+r\"\\\\\"+profile+\"MHM\", \"RID; Point; MEAS\", \"FIRST\", \"DISTANCE\", \"ZERO\", \"FIELDS\", \"M_DIRECTON\")\n",
    "arcpy.management.XYTableToPoint(ws+r\"\\\\\"+profile+\"MHM\", ws+r\"\\ManholeProfileRimPt\", \"MEAS\", \"RIMELEV\", None, projection)\n",
    "arcpy.management.XYTableToPoint(ws+r\"\\\\\"+profile+\"MHM\", ws+r\"\\ManholeProfileInvert\", \"MEAS\", \"INVERTELEV\", None, projection)\n",
    "arcpy.management.Merge(\"ManholeProfileInvert;ManholeProfileRimPt\", ws+r\"\\\\\"+profile+\"MHMerge\", '#', \"ADD_SOURCE_INFO\")\n",
    "\n",
    "arcpy.management.PointsToLine(profile+\"MHMerge\", ws+r\"\\\\\"+profile+\"MHProfile\", \"FACILITYID\", \"INVERTELEV\", \"NO_CLOSE\")\n",
    "arcpy.management.AddJoin(profile+\"MHProfile\", \"FACILITYID\", \"ManholeProfileInvert\", \"FACILITYID\", \"KEEP_ALL\", \"INDEX_JOIN_FIELDS\")\n",
    "\n",
    "arcpy.management.SelectLayerByAttribute(profile+\"MHProfile\", \"NEW_SELECTION\", \"ManholeProfileInvert.BARRELDIA IS NULL\", None)\n",
    "arcpy.management.CalculateField(profile+\"MHProfile\", \"BufferWidth\", \"2\", \"PYTHON3\", '', \"DOUBLE\", \"NO_ENFORCE_DOMAINS\")\n",
    "arcpy.management.SelectLayerByAttribute(profile+\"MHProfile\", \"NEW_SELECTION\", \"ManholeProfileInvert.BARRELDIA IS NOT NULL\", None)\n",
    "arcpy.management.CalculateField(profile+\"MHProfile\", \"BufferWidth\", \"!ManholeProfileInvert.BARRELDIA!/2\", \"PYTHON3\", '', \"DOUBLE\", \"NO_ENFORCE_DOMAINS\")\n",
    "arcpy.management.SelectLayerByAttribute(profile+\"MHProfile\", \"CLEAR_SELECTION\")\n",
    "\n",
    "arcpy.analysis.Buffer(profile+\"MHProfile\", ws+r\"\\\\\"+profile+\"_Buffer\", profile+\"MHProfile.BufferWidth\", \"FULL\", \"FLAT\", \"NONE\", None, \"PLANAR\")"
   ]
  },
  {
   "cell_type": "code",
   "execution_count": 5,
   "metadata": {},
   "outputs": [
    {
     "data": {
      "text/html": [
       "<div class='gpresult'><h2>Messages</h2><div id='messages' data-messages='[\"Start Time: Monday, March 6, 2023 1:33:49 PM\",\"Succeeded at Monday, March 6, 2023 1:34:19 PM (Elapsed Time: 29.44 seconds)\"]' data-show='true'><div id = 'default' /></div></div>"
      ],
      "text/plain": [
       "<Result '\\\\\\\\citydata\\\\users\\\\kgonterwitz\\\\projectreviews\\\\westdale\\\\WestdaleSewerDesignFile.gdb\\\\ProfileSegEndPt'>"
      ]
     },
     "execution_count": 5,
     "metadata": {},
     "output_type": "execute_result"
    }
   ],
   "source": [
    "#Now we should have the station coordinates and elevation of the pipe ends for the sewer\n",
    "#this cell calculates the station and elevation for the profile lines as points\n",
    "#then the points can be merged and rocessed into a profile line\n",
    "\n",
    "arcpy.management.XYTableToPoint(\"profileSegments\", ws+r\"\\ProfileSegStartPt\", \"FMEAS\", \"UPELEV\", None, projection)\n",
    "arcpy.management.XYTableToPoint(\"profileSegments\", ws+r\"\\ProfileSegEndPt\", \"TMEAS\", \"DOWNELEV\", None, projection)"
   ]
  },
  {
   "cell_type": "code",
   "execution_count": 14,
   "metadata": {},
   "outputs": [
    {
     "data": {
      "text/html": [
       "<div class='gpresult'><h2>Messages</h2><div id='messages' data-messages='[\"Start Time: Friday, February 24, 2023 3:35:18 PM\",\"Succeeded at Friday, February 24, 2023 3:35:48 PM (Elapsed Time: 30.02 seconds)\"]' data-show='true'><div id = 'default' /></div></div>"
      ],
      "text/plain": [
       "<Result '\\\\\\\\citydata\\\\users\\\\kgonterwitz\\\\projectreviews\\\\westdale\\\\WestdaleSewerDesignFile.gdb\\\\BuriedMH_1'>"
      ]
     },
     "execution_count": 14,
     "metadata": {},
     "output_type": "execute_result"
    }
   ],
   "source": [
    "#the first example was an outside drop manhole, the downstream pipe elevation and slope are based on the low connection\n",
    "#the slope and profile need to show the flowline of the upper manhole\n",
    "#this will have to be entered manually for now\n",
    "#drop manholes have a bottom drop of less than 2 ft per KDHE criteria\n",
    "#the upper drop is to meet max slope and is higher than 2 ft\n",
    "\n",
    "#arcpy.conversion.FeatureClassToFeatureClass(\"ManholeProfileInvert\", ws, \"DropMH\", \"MHTYPE = 'DRP'\", '#', '')\n",
    "arcpy.conversion.FeatureClassToFeatureClass(\"ManholeProfileInvert\", ws, \"BuriedMH\", \"MHTYPE = 'Buried'\", '#', '')\n",
    "\n",
    "#DropElTop = 945.00\n",
    "#DropElTSta = 118.50799-6\n",
    "\n",
    "#DropElBottom = 935.9\n",
    "#DropElBSta = 118.50799\n",
    "\n",
    "arcpy.management.CalculateField(\"BuriedMH\", \"FMEAS\", \"!MEAS!-2\", \"PYTHON3\", '', \"DOUBLE\", \"NO_ENFORCE_DOMAINS\")\n",
    "arcpy.management.CalculateField(\"BuriedMH\", \"UPELEV\", DropElBottom, \"PYTHON3\", '', \"DOUBLE\", \"NO_ENFORCE_DOMAINS\")\n",
    "arcpy.management.CalculateField(\"BuriedMH\", \"DNELEV\", DropElBottom, \"PYTHON3\", '', \"DOUBLE\", \"NO_ENFORCE_DOMAINS\")\n",
    "\n",
    "arcpy.management.XYTableToPoint(ws+r\"\\BuriedMH\", ws+r\"\\BuriedMH_1\", \"FMEAS\", \"DNELEV\", None, projection)\n"
   ]
  },
  {
   "cell_type": "code",
   "execution_count": 8,
   "metadata": {},
   "outputs": [
    {
     "ename": "ExecuteError",
     "evalue": "Failed to execute. Parameters are not valid.\nERROR 000732: Input Datasets: Dataset BuriedMH_1 does not exist or is not supported\nWARNING 000725: Output Dataset: Dataset \\\\citydata\\users\\kgonterwitz\\projectreviews\\westdale\\WestdaleSewerDesignFile.gdb\\Point_Merge already exists.\nFailed to execute (Merge).\n",
     "output_type": "error",
     "traceback": [
      "\u001b[0;31m---------------------------------------------------------------------------\u001b[0m\n\u001b[0;31mExecuteError\u001b[0m                              Traceback (most recent call last)",
      "In  \u001b[0;34m[8]\u001b[0m:\nLine \u001b[0;34m2\u001b[0m:     arcpy.management.Merge(\u001b[33m\"\u001b[39;49;00m\u001b[33mProfileSegStartPt;ProfileSegEndPt;BuriedMH_1\u001b[39;49;00m\u001b[33m\"\u001b[39;49;00m, ws+\u001b[33mr\u001b[39;49;00m\u001b[33m\"\u001b[39;49;00m\u001b[33m\\\u001b[39;49;00m\u001b[33mPoint_Merge\u001b[39;49;00m\u001b[33m\"\u001b[39;49;00m)\n",
      "File \u001b[0;34mC:\\Program Files\\ArcGIS\\Pro\\Resources\\ArcPy\\arcpy\\management.py\u001b[0m, in \u001b[0;32mMerge\u001b[0m:\nLine \u001b[0;34m7238\u001b[0m:  \u001b[34mraise\u001b[39;49;00m e\n",
      "File \u001b[0;34mC:\\Program Files\\ArcGIS\\Pro\\Resources\\ArcPy\\arcpy\\management.py\u001b[0m, in \u001b[0;32mMerge\u001b[0m:\nLine \u001b[0;34m7235\u001b[0m:  retval = convertArcObjectToPythonObject(gp.Merge_management(*gp_fixargs((inputs, output, field_mappings, add_source), \u001b[34mTrue\u001b[39;49;00m)))\n",
      "File \u001b[0;34mC:\\Program Files\\ArcGIS\\Pro\\Resources\\ArcPy\\arcpy\\geoprocessing\\_base.py\u001b[0m, in \u001b[0;32m<lambda>\u001b[0m:\nLine \u001b[0;34m512\u001b[0m:   \u001b[34mreturn\u001b[39;49;00m \u001b[34mlambda\u001b[39;49;00m *args: val(*gp_fixargs(args, \u001b[34mTrue\u001b[39;49;00m))\n",
      "\u001b[0;31mExecuteError\u001b[0m: Failed to execute. Parameters are not valid.\nERROR 000732: Input Datasets: Dataset BuriedMH_1 does not exist or is not supported\nWARNING 000725: Output Dataset: Dataset \\\\citydata\\users\\kgonterwitz\\projectreviews\\westdale\\WestdaleSewerDesignFile.gdb\\Point_Merge already exists.\nFailed to execute (Merge).\n\n\u001b[0;31m---------------------------------------------------------------------------\u001b[0m"
     ]
    }
   ],
   "source": [
    "#merge the points \n",
    "arcpy.management.Merge(\"ProfileSegStartPt;ProfileSegEndPt;BuriedMH_1\", ws+r\"\\Point_Merge\")\n",
    "arcpy.management.Sort(\"Point_Merge\", ws+r\"\\Point_Merge_Sort\", \"FMEAS ASCENDING;UPELEV ASCENDING\", \"UR\")\n",
    "#theck the points , may need to delete a point on a drop MH"
   ]
  },
  {
   "cell_type": "code",
   "execution_count": 9,
   "metadata": {},
   "outputs": [
    {
     "data": {
      "text/html": [
       "<div class='gpresult'><h2>Messages</h2><div id='messages' data-messages='[\"Start Time: Monday, March 6, 2023 1:51:59 PM\",\"Succeeded at Monday, March 6, 2023 1:52:01 PM (Elapsed Time: 1.78 seconds)\"]' data-show='true'><div id = 'default' /></div></div>"
      ],
      "text/plain": [
       "<Result '\\\\\\\\citydata\\\\users\\\\kgonterwitz\\\\projectreviews\\\\westdale\\\\WestdaleSewerDesignFile.gdb\\\\Point_Merge_Sort'>"
      ]
     },
     "execution_count": 9,
     "metadata": {},
     "output_type": "execute_result"
    }
   ],
   "source": [
    "#merge the points \n",
    "arcpy.management.Merge(\"ProfileSegStartPt;ProfileSegEndPt\", ws+r\"\\Point_Merge\")\n",
    "arcpy.management.Sort(\"Point_Merge\", ws+r\"\\Point_Merge_Sort\", \"FMEAS ASCENDING;UPELEV ASCENDING\", \"UR\")\n",
    "#theck the points , may need to delete a point on a drop MH"
   ]
  },
  {
   "cell_type": "code",
   "execution_count": 10,
   "metadata": {},
   "outputs": [
    {
     "data": {
      "text/html": [
       "<div class='gpresult'><h2>Messages</h2><div id='messages' data-messages='[\"Start Time: Monday, March 6, 2023 1:52:08 PM\",\"Succeeded at Monday, March 6, 2023 1:52:14 PM (Elapsed Time: 6.65 seconds)\"]' data-show='true'><div id = 'default' /></div></div>"
      ],
      "text/plain": [
       "<Result '\\\\\\\\citydata\\\\users\\\\kgonterwitz\\\\projectreviews\\\\westdale\\\\WestdaleSewerDesignFile.gdb\\\\ProfleLine'>"
      ]
     },
     "execution_count": 10,
     "metadata": {},
     "output_type": "execute_result"
    }
   ],
   "source": [
    "#merge the points and make the profile lines\n",
    "#check the sort and maybe delete out of order points\n",
    "\n",
    "arcpy.management.PointsToLine(\"Point_Merge_Sort\", ws+r\"\\ProfleLine\", \"MAINTYPE\", None, \"NO_CLOSE\")"
   ]
  },
  {
   "cell_type": "code",
   "execution_count": 12,
   "metadata": {},
   "outputs": [
    {
     "data": {
      "text/html": [
       "<div class='gpresult'><h2>Messages</h2><div id='messages' data-messages='[\"Start Time: Monday, March 6, 2023 1:57:02 PM\",\"Succeeded at Monday, March 6, 2023 1:57:04 PM (Elapsed Time: 1.79 seconds)\"]' data-show='true'><div id = 'default' /></div></div>"
      ],
      "text/plain": [
       "<Result '\\\\\\\\citydata\\\\users\\\\kgonterwitz\\\\projectreviews\\\\westdale\\\\WestdaleSewerDesignFile.gdb\\\\profilegrid'>"
      ]
     },
     "execution_count": 12,
     "metadata": {},
     "output_type": "execute_result"
    }
   ],
   "source": [
    "#version 3 create a fishnet grid, fishnet originates at upper right coordinate and nets to the left and down\n",
    "\n",
    "#250 is the length\n",
    "#965 is the top elev\n",
    "#10 is hte X spacing\n",
    "#1 is the Y spacing\n",
    "#32 is the Y num of lines\n",
    "#25 is hte X num of lines\n",
    "\n",
    "arcpy.management.CreateFishnet(ws+r\"\\\\profilegrid\", \"240 965\", \"250 0\", 10, 1, 35, 25, None, \"LABELS\", '0 0 0 0', \"POLYLINE\")"
   ]
  },
  {
   "cell_type": "code",
   "execution_count": null,
   "metadata": {},
   "outputs": [],
   "source": []
  },
  {
   "cell_type": "code",
   "execution_count": null,
   "metadata": {},
   "outputs": [],
   "source": [
    "#make a list of the outputs above and merge them to simplify labeling and symbology\n",
    "arcpy.management.Merge(ProfileLines, ws+r\"\\ProfileLines_Merge\", \"#\", \"NO_SOURCE_INFO\")"
   ]
  },
  {
   "cell_type": "code",
   "execution_count": 6,
   "metadata": {},
   "outputs": [
    {
     "data": {
      "text/html": [
       "<div class='gpresult'><h2>Messages</h2><div id='messages' data-messages='[\"Start Time: Tuesday, February 7, 2023 1:50:55 PM\",\"Succeeded at Tuesday, February 7, 2023 1:51:08 PM (Elapsed Time: 12.59 seconds)\"]' data-show='true'><div id = 'default' /></div></div>"
      ],
      "text/plain": [
       "<Result 'C:\\\\Users\\\\kgonterwitz\\\\OneDrive - City of Lawrence KS\\\\Documents\\\\ArcGIS\\\\Projects\\\\KylesProProject3\\\\Profiles.gdb\\\\SurfaceMZ'>"
      ]
     },
     "execution_count": 6,
     "metadata": {},
     "output_type": "execute_result"
    }
   ],
   "source": [
    "#create surface profile \n",
    "#DEM is used, consider using DSM/lidar for trees and built env added\n",
    "\n",
    "DEM = r\"\\\\gisfile\\gisdata\\Published\\LIDAR\\2021_LiDAR\\Lidar_Mosaic_Dataset.gdb\\QL2_DEM_2021\"\n",
    "arcpy.ddd.InterpolateShape(DEM, ws+r\"\\\\\"+\"profileM\", ws+r\"\\SurfaceEl\", None, 1, \"BILINEAR\", \"DENSIFY\", 0, \"EXCLUDE\")\n",
    "arcpy.management.FeatureVerticesToPoints(\"SurfaceEl\", ws+r\"\\SurfacePt\", \"ALL\")\n",
    "arcpy.management.AddXY(\"SurfacePt\")\n",
    "arcpy.lr.LocateFeaturesAlongRoutes(\"SurfacePt\", \"profileM\", \"MAINTYPE\", \"0 Feet\", ws+r\"\\profileMZ\", \"RID; Point; MEAS\", \"FIRST\", \"DISTANCE\", \"ZERO\", \"FIELDS\", \"M_DIRECTON\")\n",
    "arcpy.management.XYTableToPoint(\"profileMZ\", ws+r\"\\SurfaceMZPoint\", \"MEAS\", \"POINT_Z\", None, projection)\n",
    "arcpy.management.PointsToLine(\"SurfaceMZPoint\", ws+r\"\\SurfaceMZ\", \"RID\", \"MEAS\", \"NO_CLOSE\")"
   ]
  },
  {
   "cell_type": "code",
   "execution_count": 13,
   "metadata": {},
   "outputs": [
    {
     "data": {
      "text/html": [
       "<div class='gpresult'><h2>Messages</h2><div id='messages' data-messages='[\"Start Time: Monday, March 6, 2023 2:12:59 PM\",\"Succeeded at Monday, March 6, 2023 2:12:59 PM (Elapsed Time: 0.04 seconds)\"]' data-show='true'><div id = 'default' /></div></div>"
      ],
      "text/plain": [
       "<Result 'profileSegmentsEvents'>"
      ]
     },
     "execution_count": 13,
     "metadata": {},
     "output_type": "execute_result"
    }
   ],
   "source": [
    "#add the sewer lines as events for labeling the diameter, material, slope, etc\n",
    "\n",
    "arcpy.management.CalculateField(\"ProfleLine\", \"StartM\", \"0\", \"PYTHON3\", '', \"DOUBLE\", \"NO_ENFORCE_DOMAINS\")\n",
    "arcpy.management.CalculateField(\"ProfleLine\", \"EndM\", \"!Shape_Length!\", \"PYTHON3\", '', \"DOUBLE\", \"NO_ENFORCE_DOMAINS\")\n",
    "arcpy.lr.CreateRoutes(\"ProfleLine\", \"MAINTYPE\", ws+r\"\\ProfleLineRoute\", \"TWO_FIELDS\", \"StartM\", \"EndM\", \"UPPER_LEFT\", 1, 0, \"IGNORE\", \"INDEX\")\n",
    "arcpy.lr.MakeRouteEventLayer(\"ProfleLineRoute\", \"MAINTYPE\", \"profileSegments\", \"Main Type; Line; FMEAS; TMEAS\", \"profileSegmentsEvents\", None, \"NO_ERROR_FIELD\", \"NO_ANGLE_FIELD\", \"NORMAL\", \"ANGLE\", \"LEFT\", \"POINT\")\n"
   ]
  },
  {
   "cell_type": "code",
   "execution_count": 4,
   "metadata": {},
   "outputs": [
    {
     "data": {
      "text/html": [
       "<div class='gpresult'><h2>Messages</h2><div id='messages' data-messages='[\"Start Time: Tuesday, February 14, 2023 3:29:39 PM\",\"Succeeded at Tuesday, February 14, 2023 3:29:39 PM (Elapsed Time: 0.06 seconds)\"]' data-show='true'><div id = 'default' /></div></div>"
      ],
      "text/plain": [
       "<Result 'profileSegmentsEvents'>"
      ]
     },
     "execution_count": 4,
     "metadata": {},
     "output_type": "execute_result"
    }
   ],
   "source": [
    "#add the sewer lines as events for labeling the diameter, material, slope, etc\n",
    "\n",
    "arcpy.management.CalculateField(\"ProfleLine\", \"StartM\", \"0\", \"PYTHON3\", '', \"DOUBLE\", \"NO_ENFORCE_DOMAINS\")\n",
    "arcpy.management.CalculateField(\"ProfleLine\", \"EndM\", \"!Shape_Length!\", \"PYTHON3\", '', \"DOUBLE\", \"NO_ENFORCE_DOMAINS\")\n",
    "arcpy.lr.CreateRoutes(\"ProfleLine\", \"MAINTYPE\", ws+r\"\\ProfleLineRoute\", \"TWO_FIELDS\", \"StartM\", \"EndM\", \"UPPER_LEFT\", 1, 0, \"IGNORE\", \"INDEX\")\n",
    "arcpy.lr.MakeRouteEventLayer(\"ProfleLineRoute\", \"MAINTYPE\", \"profileSegments\", \"Main Type; Line; FMEAS; TMEAS\", \"profileSegmentsEvents\", None, \"NO_ERROR_FIELD\", \"NO_ANGLE_FIELD\", \"NORMAL\", \"ANGLE\", \"LEFT\", \"POINT\")\n"
   ]
  },
  {
   "cell_type": "code",
   "execution_count": 5,
   "metadata": {},
   "outputs": [
    {
     "data": {
      "text/html": [
       "<div class='gpresult'><h2>Messages</h2><div id='messages' data-messages='[\"Start Time: Tuesday, February 14, 2023 4:54:14 PM\",\"Succeeded at Tuesday, February 14, 2023 4:54:22 PM (Elapsed Time: 7.75 seconds)\"]' data-show='true'><div id = 'default' /></div></div>"
      ],
      "text/plain": [
       "<Result '\\\\\\\\citydata\\\\users\\\\kgonterwitz\\\\projectreviews\\\\westdale\\\\WestdaleSewerDesignFile.gdb\\\\SewerRoute'>"
      ]
     },
     "execution_count": 5,
     "metadata": {},
     "output_type": "execute_result"
    }
   ],
   "source": [
    "#make better routes that are on the basis of the conduits and that gap across the drops\n",
    "\n",
    "arcpy.management.CalculateField(\"WestdaleSewerProfile\", \"StartM\", \"0\", \"PYTHON3\", '', \"DOUBLE\", \"NO_ENFORCE_DOMAINS\")\n",
    "arcpy.management.CalculateField(\"WestdaleSewerProfile\", \"EndM\", \"!Shape_Length!\", \"PYTHON3\", '', \"DOUBLE\", \"NO_ENFORCE_DOMAINS\")\n",
    "arcpy.lr.CreateRoutes(\"WestdaleSewerProfile\", \"FACILITYID\", ws+r\"\\SewerRoute\", \"TWO_FIELDS\", \"StartM\", \"EndM\", \"UPPER_LEFT\", 1, 0, \"IGNORE\", \"INDEX\")"
   ]
  },
  {
   "cell_type": "code",
   "execution_count": 6,
   "metadata": {},
   "outputs": [
    {
     "data": {
      "text/html": [
       "<div class='gpresult'><h2>Messages</h2><div id='messages' data-messages='[\"Start Time: Tuesday, February 14, 2023 5:02:42 PM\",\"Succeeded at Tuesday, February 14, 2023 5:02:42 PM (Elapsed Time: 0.05 seconds)\"]' data-show='true'><div id = 'default' /></div></div>"
      ],
      "text/plain": [
       "<Result 'ConduitSegEvents'>"
      ]
     },
     "execution_count": 6,
     "metadata": {},
     "output_type": "execute_result"
    }
   ],
   "source": [
    "\n",
    "arcpy.management.CalculateField(\"WestdaleSewerProfile\", \"PipeStartM\", \"2\", \"PYTHON3\", '', \"DOUBLE\", \"NO_ENFORCE_DOMAINS\")\n",
    "arcpy.management.CalculateField(\"WestdaleSewerProfile\", \"PipeEndM\", \"!Shape_Length!-2\", \"PYTHON3\", '', \"DOUBLE\", \"NO_ENFORCE_DOMAINS\")\n",
    "arcpy.lr.LocateFeaturesAlongRoutes(\"WestdaleSewerProfile\", \"SewerRoute\", \"FACILITYID\", \"0 Feet\", ws+r\"\\ConduitSegs\", \"RID; Line; FMEAS; TMEAS\", \"FIRST\", \"DISTANCE\", \"ZERO\", \"FIELDS\", \"M_DIRECTON\")\n",
    "arcpy.lr.MakeRouteEventLayer(\"SewerRoute\", \"FACILITYID\", \"ConduitSegs\", \"Facility Identifier; Line; PipeStartM; PipeEndM\", \"ConduitSegEvents\", None, \"ERROR_FIELD\", \"NO_ANGLE_FIELD\", \"NORMAL\", \"ANGLE\", \"LEFT\", \"POINT\")\n",
    "arcpy.lr.MakeRouteEventLayer(\"SewerRoute\", \"FACILITYID\", \"ConduitSegs\", \"Facility Identifier; Line; FMEAS; TOMEAS\", \"FlowlineEvents\", None, \"ERROR_FIELD\", \"NO_ANGLE_FIELD\", \"NORMAL\", \"ANGLE\", \"LEFT\", \"POINT\")\n"
   ]
  },
  {
   "cell_type": "code",
   "execution_count": 9,
   "metadata": {},
   "outputs": [
    {
     "ename": "ExecuteError",
     "evalue": "ERROR 000211: Cannot create route event source\nFailed to execute (MakeRouteEventLayer).\n",
     "output_type": "error",
     "traceback": [
      "\u001b[0;31m---------------------------------------------------------------------------\u001b[0m\n\u001b[0;31mExecuteError\u001b[0m                              Traceback (most recent call last)",
      "In  \u001b[0;34m[9]\u001b[0m:\nLine \u001b[0;34m1\u001b[0m:     arcpy.lr.MakeRouteEventLayer(\u001b[33m\"\u001b[39;49;00m\u001b[33mSewerRoute\u001b[39;49;00m\u001b[33m\"\u001b[39;49;00m, \u001b[33m\"\u001b[39;49;00m\u001b[33mFACILITYID\u001b[39;49;00m\u001b[33m\"\u001b[39;49;00m, \u001b[33m\"\u001b[39;49;00m\u001b[33mConduitSegs\u001b[39;49;00m\u001b[33m\"\u001b[39;49;00m, \u001b[33m\"\u001b[39;49;00m\u001b[33mFacility Identifier; Line; FMEAS; TOMEAS\u001b[39;49;00m\u001b[33m\"\u001b[39;49;00m, \u001b[33m\"\u001b[39;49;00m\u001b[33mFlowlineEvents\u001b[39;49;00m\u001b[33m\"\u001b[39;49;00m, \u001b[34mNone\u001b[39;49;00m, \u001b[33m\"\u001b[39;49;00m\u001b[33mERROR_FIELD\u001b[39;49;00m\u001b[33m\"\u001b[39;49;00m, \u001b[33m\"\u001b[39;49;00m\u001b[33mNO_ANGLE_FIELD\u001b[39;49;00m\u001b[33m\"\u001b[39;49;00m, \u001b[33m\"\u001b[39;49;00m\u001b[33mNORMAL\u001b[39;49;00m\u001b[33m\"\u001b[39;49;00m, \u001b[33m\"\u001b[39;49;00m\u001b[33mANGLE\u001b[39;49;00m\u001b[33m\"\u001b[39;49;00m, \u001b[33m\"\u001b[39;49;00m\u001b[33mLEFT\u001b[39;49;00m\u001b[33m\"\u001b[39;49;00m, \u001b[33m\"\u001b[39;49;00m\u001b[33mPOINT\u001b[39;49;00m\u001b[33m\"\u001b[39;49;00m)\n",
      "File \u001b[0;34mC:\\Program Files\\ArcGIS\\Pro\\Resources\\ArcPy\\arcpy\\lr.py\u001b[0m, in \u001b[0;32mMakeRouteEventLayer\u001b[0m:\nLine \u001b[0;34m520\u001b[0m:   \u001b[34mraise\u001b[39;49;00m e\n",
      "File \u001b[0;34mC:\\Program Files\\ArcGIS\\Pro\\Resources\\ArcPy\\arcpy\\lr.py\u001b[0m, in \u001b[0;32mMakeRouteEventLayer\u001b[0m:\nLine \u001b[0;34m517\u001b[0m:   retval = convertArcObjectToPythonObject(gp.MakeRouteEventLayer_lr(*gp_fixargs((in_routes, route_id_field, in_table, in_event_properties, out_layer, offset_field, add_error_field, add_angle_field, angle_type, complement_angle, offset_direction, point_event_type), \u001b[34mTrue\u001b[39;49;00m)))\n",
      "File \u001b[0;34mC:\\Program Files\\ArcGIS\\Pro\\Resources\\ArcPy\\arcpy\\geoprocessing\\_base.py\u001b[0m, in \u001b[0;32m<lambda>\u001b[0m:\nLine \u001b[0;34m512\u001b[0m:   \u001b[34mreturn\u001b[39;49;00m \u001b[34mlambda\u001b[39;49;00m *args: val(*gp_fixargs(args, \u001b[34mTrue\u001b[39;49;00m))\n",
      "\u001b[0;31mExecuteError\u001b[0m: ERROR 000211: Cannot create route event source\nFailed to execute (MakeRouteEventLayer).\n\n\u001b[0;31m---------------------------------------------------------------------------\u001b[0m"
     ]
    }
   ],
   "source": [
    "arcpy.lr.MakeRouteEventLayer(\"SewerRoute\", \"FACILITYID\", \"ConduitSegs\", \"Facility Identifier; Line; FMEAS; TMEAS\", \"FlowlineEvents\", None, \"ERROR_FIELD\", \"NO_ANGLE_FIELD\", \"NORMAL\", \"ANGLE\", \"LEFT\", \"POINT\")\n",
    "arcpy.lr.MakeRouteEventLayer(\"SewerRoute\", \"FACILITYID\", \"ConduitSegs\", \"Facility Identifier; Line; FMEAS; TMEAS\", \"FlowlineEvents\", None, \"ERROR_FIELD\", \"NO_ANGLE_FIELD\", \"NORMAL\", \"ANGLE\", \"LEFT\", \"POINT\")"
   ]
  },
  {
   "cell_type": "code",
   "execution_count": 3,
   "metadata": {},
   "outputs": [
    {
     "name": "stdout",
     "output_type": "stream",
     "text": [
      "19.656\n",
      "955.404\n"
     ]
    }
   ],
   "source": [
    "#check as-built data vs GIS data \n",
    "#adjust and correct as necessary\n",
    "#use slope calc to pin drop structures\n",
    "\n",
    "slope = 15.6/100\n",
    "\n",
    "usfl = 975.06\n",
    "\n",
    "length = 126\n",
    "\n",
    "drop = length*slope\n",
    "\n",
    "print(drop)\n",
    "\n",
    "dsbyslope = usfl-drop\n",
    "print(dsbyslope)"
   ]
  },
  {
   "cell_type": "code",
   "execution_count": 5,
   "metadata": {},
   "outputs": [
    {
     "name": "stdout",
     "output_type": "stream",
     "text": [
      "8.0\n"
     ]
    }
   ],
   "source": [
    "\n",
    "usout = 955\n",
    "dsin = 945\n",
    "length = 125\n",
    "\n",
    "slope = (usout-dsin)/length*100\n",
    "print(slope)"
   ]
  },
  {
   "cell_type": "code",
   "execution_count": null,
   "metadata": {},
   "outputs": [],
   "source": []
  }
 ],
 "metadata": {
  "kernelspec": {
   "display_name": "ArcGISPro",
   "language": "Python",
   "name": "python3"
  },
  "language_info": {
   "file_extension": ".py",
   "name": "python",
   "version": "3"
  }
 },
 "nbformat": 4,
 "nbformat_minor": 2
}
