{
 "cells": [
  {
   "cell_type": "markdown",
   "metadata": {},
   "source": [
    "Profile charts are weak and probably cant be easily added to the layout as a profile\n",
    "Profile Scene is weak in terms of labeling and graphic display as a pipe profile tool\n",
    "\n",
    "The best way to add an engineering profile to a layout is mathematically in a map"
   ]
  },
  {
   "cell_type": "code",
   "execution_count": 2,
   "metadata": {},
   "outputs": [],
   "source": [
    "ws = r\"C:\\Users\\kgonterwitz\\OneDrive - City of Lawrence KS\\Documents\\ArcGIS\\Projects\\KylesProProject3\\Profiles.gdb\"\n",
    "\n",
    "profile = \"WestdaleSewerProfile\"\n",
    "\n",
    "projection = '''PROJCS[\"NAD_1983_2011_KS_RCS_Zone_11\",GEOGCS[\"GCS_NAD_1983_2011\",DATUM[\"D_NAD_1983_2011\",SPHEROID[\"GRS_1980\",6378137.0,298.257222101]],PRIMEM[\"Greenwich\",0.0],UNIT[\"Degree\",0.0174532925199433]],PROJECTION[\"Lambert_Conformal_Conic\"],PARAMETER[\"False_Easting\",11500000.0],PARAMETER[\"False_Northing\",600000.0],PARAMETER[\"Central_Meridian\",-95.25],PARAMETER[\"Standard_Parallel_1\",39.1],PARAMETER[\"Scale_Factor\",1.000033],PARAMETER[\"Latitude_Of_Origin\",39.1],UNIT[\"Foot_US\",0.3048006096012192]];-110278200 -95394100 3048.00609601219;-100000 10000;-100000 10000;3.28083333333333E-03;0.001;0.001;IsHighPrecision'''\n"
   ]
  },
  {
   "cell_type": "code",
   "execution_count": null,
   "metadata": {},
   "outputs": [],
   "source": [
    "#select the linear infrastructure (pipe, street, etc) to profile\n",
    "ws = r\"C:\\Users\\kgonterwitz\\OneDrive - City of Lawrence KS\\Documents\\ArcGIS\\Projects\\KylesProProject3\\Profiles.gdb\"\n",
    "#Sewer:\n",
    "arcpy.conversion.FeatureClassToFeatureClass(r\"SewerCollector\\ssGravityMain\", ws, profile, '', #, '')\n"
   ]
  },
  {
   "cell_type": "code",
   "execution_count": 24,
   "metadata": {},
   "outputs": [
    {
     "data": {
      "text/html": [
       "<div class='gpresult'><h2>Messages</h2><div id='messages' data-messages='[\"Start Time: Monday, February 6, 2023 2:34:00 PM\",\"Sorting Attributes...\",\"Dissolving...\",\"Succeeded at Monday, February 6, 2023 2:34:04 PM (Elapsed Time: 4.80 seconds)\"]' data-show='true'><div id = 'default' /></div></div>"
      ],
      "text/plain": [
       "<Result 'C:\\\\Users\\\\kgonterwitz\\\\OneDrive - City of Lawrence KS\\\\Documents\\\\ArcGIS\\\\Projects\\\\KylesProProject3\\\\Profiles.gdb\\\\WestdaleSewerProfileD'>"
      ]
     },
     "execution_count": 24,
     "metadata": {},
     "output_type": "execute_result"
    }
   ],
   "source": [
    "#dissolve the selected lines into a single line that is the full profile length\n",
    "#arcpy.management.Dissolve(profile, ws+r\"/\"+profile+\"D\", \"MAINTYPE\", \"Shape_Length SUM;Pipe_Length SUM\", \"MULTI_PART\", \"DISSOLVE_LINES\", '')\n",
    "arcpy.management.Dissolve(ws+r\"\\\\\"+profile, ws+r\"/\"+profile+\"D\", \"MAINTYPE\", \"UPELEV MAX;DOWNELEV MIN;Shape_Length SUM\", \"MULTI_PART\", \"DISSOLVE_LINES\", '')"
   ]
  },
  {
   "cell_type": "code",
   "execution_count": 25,
   "metadata": {},
   "outputs": [
    {
     "data": {
      "text/html": [
       "<div class='gpresult'><h2>Messages</h2><div id='messages' data-messages='[\"Start Time: Monday, February 6, 2023 2:34:42 PM\",\"Succeeded at Monday, February 6, 2023 2:34:45 PM (Elapsed Time: 3.55 seconds)\"]' data-show='true'><div id = 'default' /></div></div>"
      ],
      "text/plain": [
       "<Result 'C:\\\\Users\\\\kgonterwitz\\\\OneDrive - City of Lawrence KS\\\\Documents\\\\ArcGIS\\\\Projects\\\\KylesProProject3\\\\Profiles.gdb\\\\profileSegments'>"
      ]
     },
     "execution_count": 25,
     "metadata": {},
     "output_type": "execute_result"
    }
   ],
   "source": [
    "#Profiles will be stationed based on upstream to downstream direction\n",
    "#these steps derive coordinates for feature along the profile length\n",
    "#XY coordinates are displayed as Stationing/ M domain coordiantes along the profile length\n",
    "arcpy.management.CalculateField(ws+r\"/\"+profile+\"D\", \"StartPoint\", \"0\", \"PYTHON3\", '', \"DOUBLE\", \"NO_ENFORCE_DOMAINS\")\n",
    "arcpy.lr.CreateRoutes(profile+\"D\", \"MAINTYPE\", ws+r\"\\\\profileM\", \"TWO_FIELDS\", \"StartPoint\", \"SUM_Shape_Length\", \"UPPER_LEFT\", 1, 0, \"IGNORE\", \"INDEX\")\n",
    "arcpy.lr.LocateFeaturesAlongRoutes(profile, \"profileM\", \"MAINTYPE\", \"0 Feet\", ws+r\"/profileSegments\", \"RID; Line; FMEAS; TMEAS\", \"FIRST\", \"DISTANCE\", \"ZERO\", \"FIELDS\", \"M_DIRECTON\")"
   ]
  },
  {
   "cell_type": "code",
   "execution_count": 26,
   "metadata": {},
   "outputs": [
    {
     "data": {
      "text/html": [
       "<div class='gpresult'><h2>Messages</h2><div id='messages' data-messages='[\"Start Time: Monday, February 6, 2023 2:35:19 PM\",\"Succeeded at Monday, February 6, 2023 2:35:37 PM (Elapsed Time: 17.82 seconds)\"]' data-show='true'><div id = 'default' /></div></div>"
      ],
      "text/plain": [
       "<Result 'C:\\\\Users\\\\kgonterwitz\\\\OneDrive - City of Lawrence KS\\\\Documents\\\\ArcGIS\\\\Projects\\\\KylesProProject3\\\\Profiles.gdb\\\\ProfileSegEndPt'>"
      ]
     },
     "execution_count": 26,
     "metadata": {},
     "output_type": "execute_result"
    }
   ],
   "source": [
    "#Now we should have the station coordinates and elevation of the pipe ends for the sewer\n",
    "#this cell calculates the station and elevation for the profile lines as points\n",
    "#then the points can be merged and rocessed into a profile line\n",
    "\n",
    "arcpy.management.XYTableToPoint(\"profileSegments\", ws+r\"\\ProfileSegStartPt\", \"FMEAS\", \"UPELEV\", None, projection)\n",
    "arcpy.management.XYTableToPoint(\"profileSegments\", ws+r\"\\ProfileSegEndPt\", \"TMEAS\", \"DOWNELEV\", None, projection)"
   ]
  },
  {
   "cell_type": "code",
   "execution_count": 27,
   "metadata": {},
   "outputs": [
    {
     "data": {
      "text/html": [
       "<div class='gpresult'><h2>Messages</h2><div id='messages' data-messages='[\"Start Time: Monday, February 6, 2023 2:38:34 PM\",\"Succeeded at Monday, February 6, 2023 2:39:03 PM (Elapsed Time: 28.89 seconds)\"]' data-show='true'><div id = 'default' /></div></div>"
      ],
      "text/plain": [
       "<Result 'C:\\\\Users\\\\kgonterwitz\\\\OneDrive - City of Lawrence KS\\\\Documents\\\\ArcGIS\\\\Projects\\\\KylesProProject3\\\\Profiles.gdb\\\\ProfleLine'>"
      ]
     },
     "execution_count": 27,
     "metadata": {},
     "output_type": "execute_result"
    }
   ],
   "source": [
    "#merge the points and make the profile lines\n",
    "arcpy.management.Merge(\"ProfileSegStartPt;ProfileSegEndPt\", ws+r\"\\Point_Merge\")\n",
    "arcpy.management.Sort(\"Point_Merge\", ws+r\"\\Point_Merge_Sort\", \"FMEAS ASCENDING;UPELEV ASCENDING\", \"UR\")\n",
    "arcpy.management.PointsToLine(\"Point_Merge_Sort\", ws+r\"\\ProfleLine\", \"MAINTYPE\", None, \"NO_CLOSE\")"
   ]
  },
  {
   "cell_type": "code",
   "execution_count": 32,
   "metadata": {},
   "outputs": [
    {
     "name": "stdout",
     "output_type": "stream",
     "text": [
      "0 934\n",
      "1 936\n",
      "2 938\n",
      "3 940\n",
      "4 942\n",
      "5 944\n",
      "6 946\n",
      "7 948\n",
      "8 950\n",
      "9 952\n",
      "10 954\n",
      "11 956\n"
     ]
    }
   ],
   "source": [
    "#step through the range of elevations for the profile\n",
    "topelevation = 956\n",
    "baseelevation = 934\n",
    "calcelevation =0\n",
    "i=0\n",
    "\n",
    "while calcelevation < topelevation:\n",
    "    calcelevation = baseelevation+i*2\n",
    "    arcpy.management.CalculateField(ws+r\"\\\\\"+profile+\"D\", \"ProfileEl\", calcelevation, \"PYTHON3\", '', \"DOUBLE\", \"NO_ENFORCE_DOMAINS\")\n",
    "    arcpy.management.XYTableToPoint(ws+r\"\\\\\"+profile+\"D\", ws+r\"\\Profilea\", \"StartPoint\", \"ProfileEl\", None, projection)\n",
    "    arcpy.management.XYTableToPoint(ws+r\"\\\\\"+profile+\"D\", ws+r\"\\Profileb\", \"SUM_Shape_Length\", \"ProfileEl\", None, projection)\n",
    "    arcpy.management.Merge(\"Profilea;Profileb\", ws+r\"\\\\Point_Merge_scales\")\n",
    "    arcpy.management.PointsToLine(ws+r\"\\\\Point_Merge_scales\", ws+r\"\\\\ProfleLine\"+str(calcelevation), \"MAINTYPE\", None, \"NO_CLOSE\")\n",
    "    arcpy.management.CalculateField(ws+r\"\\\\ProfleLine\"+str(calcelevation), \"ProfileEl\", calcelevation, \"PYTHON3\", '', \"DOUBLE\", \"NO_ENFORCE_DOMAINS\")\n",
    "    print(i, calcelevation)\n",
    "    i+=1\n",
    "    \n",
    "\n"
   ]
  },
  {
   "cell_type": "code",
   "execution_count": null,
   "metadata": {},
   "outputs": [],
   "source": [
    "#make a list of the outputs above and merge them to simplify labeling and symbology\n",
    "arcpy.management.Merge(r\"'ProfleLine956';'ProfleLine954';'ProfleLine952';'ProfleLine950';'ProfleLine948';'ProfleLine946';'ProfleLine944';'ProfleLine942';'ProfleLine940';'ProfleLine938';'ProfleLine936';'ProfleLine934'\", ws+r\"\\ProfileLines_Merge\", \"#\", \"NO_SOURCE_INFO\")"
   ]
  },
  {
   "cell_type": "code",
   "execution_count": 6,
   "metadata": {},
   "outputs": [
    {
     "data": {
      "text/html": [
       "<div class='gpresult'><h2>Messages</h2><div id='messages' data-messages='[\"Start Time: Tuesday, February 7, 2023 1:50:55 PM\",\"Succeeded at Tuesday, February 7, 2023 1:51:08 PM (Elapsed Time: 12.59 seconds)\"]' data-show='true'><div id = 'default' /></div></div>"
      ],
      "text/plain": [
       "<Result 'C:\\\\Users\\\\kgonterwitz\\\\OneDrive - City of Lawrence KS\\\\Documents\\\\ArcGIS\\\\Projects\\\\KylesProProject3\\\\Profiles.gdb\\\\SurfaceMZ'>"
      ]
     },
     "execution_count": 6,
     "metadata": {},
     "output_type": "execute_result"
    }
   ],
   "source": [
    "#create surface profile \n",
    "#DEM is used, consider using DSM\n",
    "\n",
    "DEM = r\"\\\\gisfile\\gisdata\\Published\\LIDAR\\2021_LiDAR\\Lidar_Mosaic_Dataset.gdb\\QL2_DEM_2021\"\n",
    "arcpy.ddd.InterpolateShape(DEM, ws+r\"\\\\\"+\"profileM\", ws+r\"\\SurfaceEl\", None, 1, \"BILINEAR\", \"DENSIFY\", 0, \"EXCLUDE\")\n",
    "arcpy.management.FeatureVerticesToPoints(\"SurfaceEl\", ws+r\"\\SurfacePt\", \"ALL\")\n",
    "arcpy.management.AddXY(\"SurfacePt\")\n",
    "arcpy.lr.LocateFeaturesAlongRoutes(\"SurfacePt\", \"profileM\", \"MAINTYPE\", \"0 Feet\", ws+r\"\\profileMZ\", \"RID; Point; MEAS\", \"FIRST\", \"DISTANCE\", \"ZERO\", \"FIELDS\", \"M_DIRECTON\")\n",
    "arcpy.management.XYTableToPoint(\"profileMZ\", ws+r\"\\SurfaceMZPoint\", \"MEAS\", \"POINT_Z\", None, projection)\n",
    "arcpy.management.PointsToLine(\"SurfaceMZPoint\", ws+r\"\\SurfaceMZ\", \"RID\", \"MEAS\", \"NO_CLOSE\")"
   ]
  },
  {
   "cell_type": "code",
   "execution_count": 7,
   "metadata": {},
   "outputs": [
    {
     "data": {
      "text/html": [
       "<div class='gpresult'><h2>Messages</h2><div id='messages' data-messages='[\"Start Time: Tuesday, February 7, 2023 3:07:20 PM\",\"Succeeded at Tuesday, February 7, 2023 3:07:37 PM (Elapsed Time: 16.56 seconds)\"]' data-show='true'><div id = 'default' /></div></div>"
      ],
      "text/plain": [
       "<Result 'C:\\\\Users\\\\kgonterwitz\\\\OneDrive - City of Lawrence KS\\\\Documents\\\\ArcGIS\\\\Projects\\\\KylesProProject3\\\\Profiles.gdb\\\\ManholeProfileMerge'>"
      ]
     },
     "execution_count": 7,
     "metadata": {},
     "output_type": "execute_result"
    }
   ],
   "source": [
    "#add manhole profiles\n",
    "arcpy.lr.LocateFeaturesAlongRoutes(\"ssManhole\", \"profileM\", \"MAINTYPE\", \"0 Feet\", ws+r\"\\ManholeM\", \"RID; Point; MEAS\", \"FIRST\", \"DISTANCE\", \"ZERO\", \"FIELDS\", \"M_DIRECTON\")\n",
    "arcpy.management.XYTableToPoint(\"ManholeM\", ws+r\"\\ManholeProfileRimPt\", \"MEAS\", \"RIMELEV\", None, projection)\n",
    "arcpy.management.XYTableToPoint(\"ManholeM\", ws+r\"\\ManholeProfileInvert\", \"MEAS\", \"INVERTELEV\", None, projection)\n",
    "arcpy.management.Merge(\"ManholeProfileInvert;ManholeProfileRimPt\", ws+r\"\\ManholeProfileMerge\", '#', \"ADD_SOURCE_INFO\")\n",
    "\n",
    "arcpy.management.PointsToLine(\"ManholeProfileMerge\", ws+r\"\\ManholeProfile\", \"FACILITYID\", \"INVERTELEV\", \"NO_CLOSE\")\n",
    "arcpy.management.AddJoin(\"ManholeProfile\", \"FACILITYID\", \"ManholeProfileInvert\", \"FACILITYID\", \"KEEP_ALL\", \"INDEX_JOIN_FIELDS\")\n",
    "\n",
    "arcpy.management.SelectLayerByAttribute(\"ManholeProfile\", \"NEW_SELECTION\", \"ManholeProfileInvert.BARRELDIA IS NULL\", None)\n",
    "arcpy.management.CalculateField(\"ManholeProfile\", \"BufferWidth\", \"2\", \"PYTHON3\", '', \"DOUBLE\", \"NO_ENFORCE_DOMAINS\")\n",
    "arcpy.management.SelectLayerByAttribute(\"ManholeProfile\", \"NEW_SELECTION\", \"ManholeProfileInvert.BARRELDIA IS NOT NULL\", None)\n",
    "arcpy.management.CalculateField(\"ManholeProfile\", \"BufferWidth\", \"!ManholeProfileInvert.BARRELDIA!/2\", \"PYTHON3\", '', \"DOUBLE\", \"NO_ENFORCE_DOMAINS\")\n",
    "arcpy.management.SelectLayerByAttribute(\"ManholeProfile\", \"CLEAR_SELECTION\")\n",
    "\n",
    "arcpy.analysis.Buffer(\"ManholeProfile\", ws+r\"\\ManholeProfile_Buffer\", \"ManholeProfile.BufferWidth\", \"FULL\", \"FLAT\", \"NONE\", None, \"PLANAR\")"
   ]
  },
  {
   "cell_type": "code",
   "execution_count": 8,
   "metadata": {},
   "outputs": [
    {
     "data": {
      "text/html": [
       "<div class='gpresult'><h2>Messages</h2><div id='messages' data-messages='[\"Start Time: Tuesday, February 7, 2023 3:32:53 PM\",\"Succeeded at Tuesday, February 7, 2023 3:32:53 PM (Elapsed Time: 0.03 seconds)\"]' data-show='true'><div id = 'default' /></div></div>"
      ],
      "text/plain": [
       "<Result 'ManholeProfile'>"
      ]
     },
     "execution_count": 8,
     "metadata": {},
     "output_type": "execute_result"
    }
   ],
   "source": [
    "#add the sewer lines as events for labeling the diameter, material, slope, etc\n",
    "\n",
    "arcpy.management.CalculateField(\"ProfleLine\", \"StartM\", \"0\", \"PYTHON3\", '', \"DOUBLE\", \"NO_ENFORCE_DOMAINS\")\n",
    "arcpy.management.CalculateField(\"ProfleLine\", \"EndM\", \"!Shape_Length!\", \"PYTHON3\", '', \"DOUBLE\", \"NO_ENFORCE_DOMAINS\")\n",
    "arcpy.lr.CreateRoutes(\"ProfleLine\", \"MAINTYPE\", ws+r\"\\ProfleLineRoute\", \"TWO_FIELDS\", \"StartM\", \"EndM\", \"UPPER_LEFT\", 1, 0, \"IGNORE\", \"INDEX\")\n",
    "arcpy.lr.MakeRouteEventLayer(\"ProfleLineRoute\", \"MAINTYPE\", \"profileSegments\", \"Main Type; Line; FMEAS; TMEAS\", \"profileSegmentsEvents\", None, \"NO_ERROR_FIELD\", \"NO_ANGLE_FIELD\", \"NORMAL\", \"ANGLE\", \"LEFT\", \"POINT\")\n"
   ]
  },
  {
   "cell_type": "code",
   "execution_count": null,
   "metadata": {},
   "outputs": [],
   "source": []
  }
 ],
 "metadata": {
  "kernelspec": {
   "display_name": "ArcGISPro",
   "language": "Python",
   "name": "python3"
  },
  "language_info": {
   "file_extension": ".py",
   "name": "python",
   "version": "3"
  }
 },
 "nbformat": 4,
 "nbformat_minor": 2
}
