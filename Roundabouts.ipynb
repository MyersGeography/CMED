{
 "cells": [
  {
   "cell_type": "code",
   "execution_count": null,
   "metadata": {},
   "outputs": [],
   "source": [
    "# Calculate crash history before and after a project to evaluate the safety improvement effectiveness based on before and after crash rates and severity"
   ]
  },
  {
   "cell_type": "code",
   "execution_count": null,
   "metadata": {},
   "outputs": [],
   "source": [
    "#evaluate the roundabout at legends and Wakarusa which opened to traffic (OTT) around 2014\n",
    "\n",
    "#evaluate the roundabout at 18th & Wakarusa OTT around 2015\n"
   ]
  },
  {
   "cell_type": "code",
   "execution_count": 2,
   "metadata": {},
   "outputs": [],
   "source": [
    "#Create Analysis Geodatabase\n",
    "CountermeasureDB = r'C:\\Users\\kgonterwitz\\OneDrive - City of Lawrence KS\\Documents\\ArcGIS\\Projects\\KDOT_CrashMaps\\Roundabouts.gdb'\n"
   ]
  },
  {
   "cell_type": "code",
   "execution_count": 3,
   "metadata": {},
   "outputs": [],
   "source": [
    "#Kdot local roundabout data\n",
    "\n",
    "qjson=r'https://wfs.ksdot.org/arcgis_web_adaptor/rest/services/Structures/Local_Roundabouts/MapServer/0/query?where=County+%3D+%27Douglas%27&text=&objectIds=&time=&geometry=&geometryType=esriGeometryEnvelope&inSR=&spatialRel=esriSpatialRelIntersects&distance=&units=esriSRUnit_Foot&relationParam=&outFields=*&returnGeometry=true&returnTrueCurves=false&maxAllowableOffset=&geometryPrecision=&outSR=&havingClause=&returnIdsOnly=false&returnCountOnly=false&orderByFields=&groupByFieldsForStatistics=&outStatistics=&returnZ=false&returnM=false&gdbVersion=&historicMoment=&returnDistinctValues=false&resultOffset=&resultRecordCount=&returnExtentOnly=false&datumTransformation=&parameterValues=&rangeValues=&quantizationParameters=&featureEncoding=esriDefault&f=pjson'\n",
    "\n",
    "\n",
    "\n"
   ]
  },
  {
   "cell_type": "code",
   "execution_count": null,
   "metadata": {},
   "outputs": [],
   "source": [
    "Kittleson has a public database of international roundabout locations that is a useful single point resource \n",
    "This query has subset info for Kansas, USA\n",
    "\n",
    "https://roundabouts.kittelson.com/Roundabouts/Search?sortOrder=year_completed_desc&currentFilter=&SearchString=&Approaches=&Driveways=&YearCompleted=&State=KS&Country=United%20States&ICDMin=&ICDMax=&format=&"
   ]
  },
  {
   "cell_type": "code",
   "execution_count": 1,
   "metadata": {},
   "outputs": [],
   "source": [
    "#Homebaked roundabout layer:\n",
    "    \n",
    "Oabout= r'C:\\Users\\kgonterwitz\\OneDrive - City of Lawrence KS\\Documents\\ArcGIS\\Projects\\KDOT_CrashMaps\\Roundabouts.gdb\\Roundabouts'\n",
    "\n"
   ]
  },
  {
   "cell_type": "code",
   "execution_count": null,
   "metadata": {},
   "outputs": [],
   "source": [
    "# copy crash data local in zone 11\n",
    "\n",
    "arcpy.conversion.FeatureClassToFeatureClass(\"Accidents\", CountermeasureDB, \"AccidentsDG_20211026\", '', 'ACCIDENT_KEY \"ACCIDENT_KEY\" true true false 11 Text 0 0,First,#,Accidents,ACCIDENT_KEY,0,11;STATE_SYSTEM_IND \"STATE_SYSTEM_IND\" true true false 1 Text 0 0,First,#,Accidents,STATE_SYSTEM_IND,0,1;REPORT_IMAGE_LINK \"REPORT_IMAGE_LINK\" true true false 50 Text 0 0,First,#,Accidents,REPORT_IMAGE_LINK,0,50;DOT_LATITUDE \"DOT_LATITUDE\" true true false 0 Double 0 0,First,#,Accidents,DOT_LATITUDE,-1,-1;DOT_LONGITUDE \"DOT_LONGITUDE\" true true false 0 Double 0 0,First,#,Accidents,DOT_LONGITUDE,-1,-1;ACC_COUNTY \"ACC_COUNTY\" true true false 15 Text 0 0,First,#,Accidents,ACC_COUNTY,0,15;ACC_CITY \"ACC_CITY\" true true false 25 Text 0 0,First,#,Accidents,ACC_CITY,0,25;REPORTING_AGENCY \"REPORTING_AGENCY\" true true false 35 Text 0 0,First,#,Accidents,REPORTING_AGENCY,0,35;DATE_OF_ACCIDENT \"DATE_OF_ACCIDENT\" true true false 8 Date 0 0,First,#,Accidents,DATE_OF_ACCIDENT,-1,-1;ACC_HOUR \"ACC_HOUR\" true true false 2 Text 0 0,First,#,Accidents,ACC_HOUR,0,2;ACC_DAY_OF_WEEK \"ACC_DAY_OF_WEEK\" true true false 10 Text 0 0,First,#,Accidents,ACC_DAY_OF_WEEK,0,10;ACC_DAY_OF_MONTH \"ACC_DAY_OF_MONTH\" true true false 10 Text 0 0,First,#,Accidents,ACC_DAY_OF_MONTH,0,10;ACC_MONTH \"ACC_MONTH\" true true false 10 Text 0 0,First,#,Accidents,ACC_MONTH,0,10;ACC_YEAR \"ACC_YEAR\" true true false 4 Text 0 0,First,#,Accidents,ACC_YEAR,0,4;ACC_SEVERITY \"ACC_SEVERITY\" true true false 150 Text 0 0,First,#,Accidents,ACC_SEVERITY,0,150;ALCOHOL_INVOLVEMENT_ACCS \"ALCOHOL_INVOLVEMENT_ACCS\" true true false 0 Short 0 0,First,#,Accidents,ALCOHOL_INVOLVEMENT_ACCS,-1,-1;DRUG_INVOLVEMENT_ACCS \"DRUG_INVOLVEMENT_ACCS\" true true false 0 Short 0 0,First,#,Accidents,DRUG_INVOLVEMENT_ACCS,-1,-1;DEER_ACCS \"DEER_ACCS\" true true false 0 Long 0 0,First,#,Accidents,DEER_ACCS,-1,-1;CWOV_FHE_ACC_TYPE \"CWOV_FHE_ACC_TYPE\" true true false 150 Text 0 0,First,#,Accidents,CWOV_FHE_ACC_TYPE,0,150;TRAIN_CROSSING_ACCS \"TRAIN_CROSSING_ACCS\" true true false 0 Long 0 0,First,#,Accidents,TRAIN_CROSSING_ACCS,-1,-1;WORK_ZONE_ACCS \"WORK_ZONE_ACCS\" true true false 0 Long 0 0,First,#,Accidents,WORK_ZONE_ACCS,-1,-1;TIME_SHIFT \"TIME_SHIFT\" true true false 12 Text 0 0,First,#,Accidents,TIME_SHIFT,0,12;RECKLESS_AGGRESSIVE_ACCS \"RECKLESS_AGGRESSIVE_ACCS\" true true false 0 Long 0 0,First,#,Accidents,RECKLESS_AGGRESSIVE_ACCS,-1,-1;RED_LIGHT_RUNNING_ACCS \"RED_LIGHT_RUNNING_ACCS\" true true false 0 Long 0 0,First,#,Accidents,RED_LIGHT_RUNNING_ACCS,-1,-1;DISREGARD_TRAFFIC_CONTROL_ACCS \"DISREGARD_TRAFFIC_CONTROL_ACCS\" true true false 0 Long 0 0,First,#,Accidents,DISREGARD_TRAFFIC_CONTROL_ACCS,-1,-1;DRIVER_FATIGUE_ACCS \"DRIVER_FATIGUE_ACCS\" true true false 0 Long 0 0,First,#,Accidents,DRIVER_FATIGUE_ACCS,-1,-1;SPEED_RELATED_ACCS \"SPEED_RELATED_ACCS\" true true false 0 Long 0 0,First,#,Accidents,SPEED_RELATED_ACCS,-1,-1;DRIVER_DISTRACTION_ACCS \"DRIVER_DISTRACTION_ACCS\" true true false 0 Long 0 0,First,#,Accidents,DRIVER_DISTRACTION_ACCS,-1,-1;VISIBILITY_IMPAIRMENT_ACCS \"VISIBILITY_IMPAIRMENT_ACCS\" true true false 0 Long 0 0,First,#,Accidents,VISIBILITY_IMPAIRMENT_ACCS,-1,-1;SNOW_ICE_ACCS \"SNOW_ICE_ACCS\" true true false 0 Long 0 0,First,#,Accidents,SNOW_ICE_ACCS,-1,-1;RAIN_WET_ROAD_ACCS \"RAIN_WET_ROAD_ACCS\" true true false 0 Long 0 0,First,#,Accidents,RAIN_WET_ROAD_ACCS,-1,-1;PEDESTRIAN_ACCS \"PEDESTRIAN_ACCS\" true true false 0 Long 0 0,First,#,Accidents,PEDESTRIAN_ACCS,-1,-1;PEDAL_CYCLIST_ACCS \"PEDAL_CYCLIST_ACCS\" true true false 0 Long 0 0,First,#,Accidents,PEDAL_CYCLIST_ACCS,-1,-1;LARGE_TRUCK_ACCS \"LARGE_TRUCK_ACCS\" true true false 0 Long 0 0,First,#,Accidents,LARGE_TRUCK_ACCS,-1,-1;ALL_CMV_ACCS \"ALL_CMV_ACCS\" true true false 0 Long 0 0,First,#,Accidents,ALL_CMV_ACCS,-1,-1;CROSS_COUNTRY_BUS_ACCS \"CROSS_COUNTRY_BUS_ACCS\" true true false 0 Long 0 0,First,#,Accidents,CROSS_COUNTRY_BUS_ACCS,-1,-1;SCHOOL_BUS_ACCS \"SCHOOL_BUS_ACCS\" true true false 0 Long 0 0,First,#,Accidents,SCHOOL_BUS_ACCS,-1,-1;TRANSIT_BUS_ACCS \"TRANSIT_BUS_ACCS\" true true false 0 Long 0 0,First,#,Accidents,TRANSIT_BUS_ACCS,-1,-1;OTHER_BUS_ACCS \"OTHER_BUS_ACCS\" true true false 0 Long 0 0,First,#,Accidents,OTHER_BUS_ACCS,-1,-1;MOTORCYCLE_ACCS \"MOTORCYCLE_ACCS\" true true false 0 Long 0 0,First,#,Accidents,MOTORCYCLE_ACCS,-1,-1;FARM_EQUIPMENT_ACCS \"FARM_EQUIPMENT_ACCS\" true true false 0 Long 0 0,First,#,Accidents,FARM_EQUIPMENT_ACCS,-1,-1;POLICE_PURSUIT_ACCS \"POLICE_PURSUIT_ACCS\" true true false 0 Long 0 0,First,#,Accidents,POLICE_PURSUIT_ACCS,-1,-1;VEHICLE_OCCUPANTS \"VEHICLE_OCCUPANTS\" true true false 0 Long 0 0,First,#,Accidents,VEHICLE_OCCUPANTS,-1,-1;OCCUPANT_RESTRAINT_USE \"OCCUPANT_RESTRAINT_USE\" true true false 0 Long 0 0,First,#,Accidents,OCCUPANT_RESTRAINT_USE,-1,-1;DRIVERS \"DRIVERS\" true true false 0 Long 0 0,First,#,Accidents,DRIVERS,-1,-1;TEEN_DRIVER_ACCS \"TEEN_DRIVER_ACCS\" true true false 0 Long 0 0,First,#,Accidents,TEEN_DRIVER_ACCS,-1,-1;OLDER_DRIVER_ACCS \"OLDER_DRIVER_ACCS\" true true false 0 Long 0 0,First,#,Accidents,OLDER_DRIVER_ACCS,-1,-1;MOST_SERIOUS_INJURY \"MOST_SERIOUS_INJURY\" true true false 1 Text 0 0,First,#,Accidents,MOST_SERIOUS_INJURY,0,1;DRIVER_AGES \"DRIVER_AGES\" true true false 30 Text 0 0,First,#,Accidents,DRIVER_AGES,0,30;TRAFFIC_UNITS \"TRAFFIC_UNITS\" true true false 0 Long 0 0,First,#,Accidents,TRAFFIC_UNITS,-1,-1;ALL_PEDESTRIANS \"ALL_PEDESTRIANS\" true true false 0 Long 0 0,First,#,Accidents,ALL_PEDESTRIANS,-1,-1;FATALITIES \"FATALITIES\" true true false 0 Long 0 0,First,#,Accidents,FATALITIES,-1,-1;DISABLING_INJURIES \"DISABLING_INJURIES\" true true false 0 Long 0 0,First,#,Accidents,DISABLING_INJURIES,-1,-1;NON_INCAPACITATING_INJURIES \"NON_INCAPACITATING_INJURIES\" true true false 0 Long 0 0,First,#,Accidents,NON_INCAPACITATING_INJURIES,-1,-1;POSSIBLE_INJURIES \"POSSIBLE_INJURIES\" true true false 0 Long 0 0,First,#,Accidents,POSSIBLE_INJURIES,-1,-1;VEHICLES \"VEHICLES\" true true false 0 Long 0 0,First,#,Accidents,VEHICLES,-1,-1;UAB_CD \"UAB_CD\" true true false 3 Text 0 0,First,#,Accidents,UAB_CD,0,3', '')\n"
   ]
  },
  {
   "cell_type": "code",
   "execution_count": 5,
   "metadata": {},
   "outputs": [
    {
     "data": {
      "text/html": [
       "<h2>Output</h2>C:\\Users\\kgonterwitz\\OneDrive - City of Lawrence KS\\Documents\\ArcGIS\\Projects\\KDOT_CrashMaps\\Roundabouts.gdb\\Roundabout_Crashes<h2>Messages</h2>Start Time: Tuesday, October 26, 2021 3:48:10 PM<br/>Reading Features...<br/>Cracking Features...<br/>Assembling Features...<br/>Succeeded at Tuesday, October 26, 2021 3:48:11 PM (Elapsed Time: 0.70 seconds)<br/><style>.rendered_html td, .rendered_html th {text-align: left;}.rendered_html tbody {border: 1px solid black;}</style>"
      ],
      "text/plain": [
       "<Result 'C:\\\\Users\\\\kgonterwitz\\\\OneDrive - City of Lawrence KS\\\\Documents\\\\ArcGIS\\\\Projects\\\\KDOT_CrashMaps\\\\Roundabouts.gdb\\\\Roundabout_Crashes'>"
      ]
     },
     "execution_count": 5,
     "metadata": {},
     "output_type": "execute_result"
    }
   ],
   "source": [
    "# buffer roundabouts 250' for intersetion influence area estimate\n",
    "#select roundabouts from the last 10 years or less\n",
    "#arcpy.analysis.Buffer(\"Roundabouts\", CountermeasureDB+r\"\\Roundabouts_Buffer\", \"250 Feet\", \"FULL\", \"ROUND\", \"NONE\", None, \"PLANAR\")\n",
    "arcpy.management.SelectLayerByLocation(\"AccidentsDG_20211026\", \"INTERSECT\", \"Roundabouts_Buffer\", None, \"NEW_SELECTION\", \"NOT_INVERT\")\n",
    "#select them first because it will be faster to spatial join them\n",
    "\n",
    "arcpy.analysis.Intersect(\"Roundabouts_Buffer #;AccidentsDG_20211026 #\", CountermeasureDB+r\"\\Roundabout_Crashes\", \"ALL\", None, \"INPUT\")\n",
    "\n",
    "#now each accident has the attributes from the roundabouts and we can analyze crash dates before and after OTT\n"
   ]
  },
  {
   "cell_type": "code",
   "execution_count": 7,
   "metadata": {},
   "outputs": [
    {
     "data": {
      "text/html": [
       "<h2>Output</h2>a Layer object<h2>Messages</h2>Start Time: Tuesday, October 26, 2021 3:48:36 PM<br/>Succeeded at Tuesday, October 26, 2021 3:48:37 PM (Elapsed Time: 0.16 seconds)<br/><style>.rendered_html td, .rendered_html th {text-align: left;}.rendered_html tbody {border: 1px solid black;}</style>"
      ],
      "text/plain": [
       "<Result 'Roundabout_Crashes'>"
      ]
     },
     "execution_count": 7,
     "metadata": {},
     "output_type": "execute_result"
    }
   ],
   "source": [
    "arcpy.management.SelectLayerByAttribute(\"Roundabout_Crashes\", \"NEW_SELECTION\", \"DATE_OF_ACCIDENT < OTT_Date\", None)\n",
    "arcpy.management.CalculateField(\"Roundabout_Crashes\", \"Crash_BA_Roundabout\", \"'B'\", \"PYTHON3\", '', \"TEXT\", \"NO_ENFORCE_DOMAINS\")\n",
    "\n",
    "arcpy.management.SelectLayerByAttribute(\"Roundabout_Crashes\", \"NEW_SELECTION\", \"DATE_OF_ACCIDENT >= OTT_Date\", None)\n",
    "arcpy.management.CalculateField(\"Roundabout_Crashes\", \"Crash_BA_Roundabout\", \"'A'\", \"PYTHON3\", '', \"TEXT\", \"NO_ENFORCE_DOMAINS\")\n",
    "\n",
    "arcpy.management.SelectLayerByAttribute(\"Roundabout_Crashes\", \"CLEAR_SELECTION\", None)"
   ]
  },
  {
   "cell_type": "code",
   "execution_count": 8,
   "metadata": {},
   "outputs": [
    {
     "data": {
      "text/html": [
       "<h2>Output</h2>C:\\Users\\kgonterwitz\\OneDrive - City of Lawrence KS\\Documents\\ArcGIS\\Projects\\KDOT_CrashMaps\\Roundabouts.gdb\\RoundaboutAccidentsSummary1<h2>Messages</h2>Start Time: Tuesday, October 26, 2021 3:49:41 PM<br/>Sorting Attributes...<br/>Dissolving...<br/>Succeeded at Tuesday, October 26, 2021 3:49:41 PM (Elapsed Time: 0.72 seconds)<br/><style>.rendered_html td, .rendered_html th {text-align: left;}.rendered_html tbody {border: 1px solid black;}</style>"
      ],
      "text/plain": [
       "<Result 'C:\\\\Users\\\\kgonterwitz\\\\OneDrive - City of Lawrence KS\\\\Documents\\\\ArcGIS\\\\Projects\\\\KDOT_CrashMaps\\\\Roundabouts.gdb\\\\RoundaboutAccidentsSummary1'>"
      ]
     },
     "execution_count": 8,
     "metadata": {},
     "output_type": "execute_result"
    }
   ],
   "source": [
    "arcpy.management.Dissolve(\"Roundabout_Crashes\", CountermeasureDB+r\"\\RoundaboutAccidentsSummary1\", \"LocationDescription;OTT_Date;Crash_BA_Roundabout\", \"ACCIDENT_KEY COUNT;ACC_YEAR MIN;ACC_YEAR MAX\", \"MULTI_PART\", \"DISSOLVE_LINES\")"
   ]
  },
  {
   "cell_type": "code",
   "execution_count": 12,
   "metadata": {},
   "outputs": [
    {
     "data": {
      "text/html": [
       "<h2>Output</h2>a Layer object<h2>Messages</h2>Start Time: Tuesday, October 26, 2021 4:08:41 PM<br/>Succeeded at Tuesday, October 26, 2021 4:08:42 PM (Elapsed Time: 0.25 seconds)<br/><style>.rendered_html td, .rendered_html th {text-align: left;}.rendered_html tbody {border: 1px solid black;}</style>"
      ],
      "text/plain": [
       "<Result 'RoundaboutAccidentsSummary1'>"
      ]
     },
     "execution_count": 12,
     "metadata": {},
     "output_type": "execute_result"
    }
   ],
   "source": [
    "#crashes per year before the roundabout OTT date\n",
    "arcpy.management.SelectLayerByAttribute(\"RoundaboutAccidentsSummary1\", \"NEW_SELECTION\", \"Crash_BA_Roundabout = 'B'\", None)\n",
    "arcpy.management.CalculateField(\"RoundaboutAccidentsSummary1\", \"AnnualRateBefore\", \"!COUNT_ACCIDENT_KEY!/(int(str(!OTT_Date!)[:4])-int(!MIN_ACC_YEAR!)+1)\", \"PYTHON3\", '', \"DOUBLE\", \"NO_ENFORCE_DOMAINS\")\n"
   ]
  },
  {
   "cell_type": "code",
   "execution_count": 13,
   "metadata": {},
   "outputs": [
    {
     "data": {
      "text/html": [
       "<h2>Output</h2>a Layer object<h2>Messages</h2>Start Time: Tuesday, October 26, 2021 4:09:02 PM<br/>Succeeded at Tuesday, October 26, 2021 4:09:02 PM (Elapsed Time: 0.18 seconds)<br/><style>.rendered_html td, .rendered_html th {text-align: left;}.rendered_html tbody {border: 1px solid black;}</style>"
      ],
      "text/plain": [
       "<Result 'RoundaboutAccidentsSummary1'>"
      ]
     },
     "execution_count": 13,
     "metadata": {},
     "output_type": "execute_result"
    }
   ],
   "source": [
    "#crashes per year after the roundabout OTT date\n",
    "arcpy.management.SelectLayerByAttribute(\"RoundaboutAccidentsSummary1\", \"NEW_SELECTION\", \"Crash_BA_Roundabout = 'A'\", None)\n",
    "arcpy.management.CalculateField(\"RoundaboutAccidentsSummary1\", \"AnnualRateAfter\", \"!COUNT_ACCIDENT_KEY!/(2021-int(str(!OTT_Date!)[:4]))\", \"PYTHON3\", '', \"DOUBLE\", \"NO_ENFORCE_DOMAINS\")"
   ]
  },
  {
   "cell_type": "code",
   "execution_count": null,
   "metadata": {},
   "outputs": [],
   "source": [
    "#this outputs a table with crashes per year (rate) before and after the date of open to traffic\n",
    "\n",
    "arcpy.management.Dissolve(\"RoundaboutAccidentsSummary1\", CountermeasureDB+r\"\\RoundaboutAccidentsSummary3\", \"OTT_Date;LocationDescription\", \"AnnualRateBefore MAX;AnnualRateAfter MAX;MIN_ACC_YEAR MIN;MAX_ACC_YEAR MAX;COUNT_ACCIDENT_KEY SUM\", \"MULTI_PART\", \"DISSOLVE_LINES\")"
   ]
  }
 ],
 "metadata": {
  "kernelspec": {
   "display_name": "ArcGISPro",
   "language": "Python",
   "name": "python3"
  },
  "language_info": {
   "file_extension": ".py",
   "name": "python",
   "version": "3"
  }
 },
 "nbformat": 4,
 "nbformat_minor": 2
}
