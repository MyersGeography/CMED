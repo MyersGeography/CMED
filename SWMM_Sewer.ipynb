{
 "cells": [
  {
   "cell_type": "code",
   "execution_count": null,
   "metadata": {},
   "outputs": [],
   "source": [
    "with arcpy.EnvManager(outputCoordinateSystem=\"PROJCS['WGS_1984_Web_Mercator_Auxiliary_Sphere',GEOGCS['GCS_WGS_1984',DATUM['D_WGS_1984',SPHEROID['WGS_1984',6378137.0,298.257223563]],PRIMEM['Greenwich',0.0],UNIT['Degree',0.0174532925199433]],PROJECTION['Mercator_Auxiliary_Sphere'],PARAMETER['False_Easting',0.0],PARAMETER['False_Northing',0.0],PARAMETER['Central_Meridian',0.0],PARAMETER['Standard_Parallel_1',0.0],PARAMETER['Auxiliary_Sphere_Type',0.0],UNIT['Meter',1.0]]\"):\n",
    "    arcpy.management.CreateFeatureDataset(r\"C:\\gisdata\\EPASWMM\\GIS_SWMM_inp.gdb\", \"SWMM\", \"PROJCS['NAD_1983_2011_KS_RCS_Zone_11',GEOGCS['GCS_NAD_1983_2011',DATUM['D_NAD_1983_2011',SPHEROID['GRS_1980',6378137.0,298.257222101]],PRIMEM['Greenwich',0.0],UNIT['Degree',0.0174532925199433]],PROJECTION['Lambert_Conformal_Conic'],PARAMETER['False_Easting',11500000.0],PARAMETER['False_Northing',600000.0],PARAMETER['Central_Meridian',-95.25],PARAMETER['Standard_Parallel_1',39.1],PARAMETER['Scale_Factor',1.000033],PARAMETER['Latitude_Of_Origin',39.1],UNIT['Foot_US',0.3048006096012192]];-110278200 -95394100 3048.00609601219;-100000 10000;-100000 10000;3.28083333333333E-03;0.001;0.001;IsHighPrecision\")\n",
    "\n",
    "    "
   ]
  },
  {
   "cell_type": "code",
   "execution_count": null,
   "metadata": {},
   "outputs": [],
   "source": [
    "arcpy.conversion.FeatureClassToGeodatabase(r\"'Sewer Network\\Sewer Manholes';'Sewer Network\\Sewer Fittings';'Sewer Network\\Sewer Mains';'Sewer Network\\Sewer Pumps';'Sewer Network\\Sewer Pressurized Mains';'Sewer Network\\ssDrainageBasins'\", r\"C:\\gisdata\\EPASWMM\\GIS_SWMM_inp.gdb\\SWMM\")\n",
    "    "
   ]
  },
  {
   "cell_type": "code",
   "execution_count": null,
   "metadata": {},
   "outputs": [],
   "source": [
    "#Decoding for shorter manhole and conduit Identifiers based on a grid, X is alpha west to east, Y is numeric north to south\n",
    "#arcpy.conversion.FeatureClassToFeatureClass(r\"Public Land Survey System\\PLSS Sections\", r\"C:\\gisdata\\EPASWMM\\GIS_SWMM_inp.gdb\", \"Sections\", '', r'FRSTDIVLAB \"Section Label\" true true false 2 Text 0 0,First,#,Public Land Survey System\\PLSS Sections,FRSTDIVLAB,0,2;FRSTDIVID \"Section Identifier\" true true false 6 Text 0 0,First,#,Public Land Survey System\\PLSS Sections,FRSTDIVID,0,6;LASTUPDATE \"Last Update Date\" true true false 8 Date 0 0,First,#,Public Land Survey System\\PLSS Sections,LASTUPDATE,-1,-1;GlobalID \"GlobalID\" false false true 38 GlobalID 0 0,First,#,Public Land Survey System\\PLSS Sections,GlobalID,-1,-1;CreationDate \"CreationDate\" false true false 8 Date 0 0,First,#,Public Land Survey System\\PLSS Sections,CreationDate,-1,-1;Creator \"Creator\" false true false 128 Text 0 0,First,#,Public Land Survey System\\PLSS Sections,Creator,0,128;EditDate \"EditDate\" false true false 8 Date 0 0,First,#,Public Land Survey System\\PLSS Sections,EditDate,-1,-1;Editor \"Editor\" false true false 128 Text 0 0,First,#,Public Land Survey System\\PLSS Sections,Editor,0,128;Shape__Area \"Shape__Area\" false true true 0 Double 0 0,First,#,Public Land Survey System\\PLSS Sections,Shape__Area,-1,-1;Shape__Length \"Shape__Length\" false true true 0 Double 0 0,First,#,Public Land Survey System\\PLSS Sections,Shape__Length,-1,-1', '')\n",
    "\n",
    "arcpy.management.SelectLayerByAttribute(\"Sections\", \"NEW_SELECTION\", \"(FRSTDIVID LIKE '19%' Or FRSTDIVID LIKE '20%' Or FRSTDIVID LIKE '21%' Or FRSTDIVID LIKE '22%' Or FRSTDIVID LIKE '23%' Or FRSTDIVID LIKE '24%' ) AND (FRSTDIVID LIKE '%1318' or FRSTDIVID LIKE '%1319' or FRSTDIVID LIKE '%1320')\", None)\n",
    "arcpy.management.CalculateField(\"Sections\", \"GRID_Y\", \"8\", \"PYTHON3\", '', \"TEXT\")\n",
    "arcpy.management.SelectLayerByAttribute(\"Sections\", \"NEW_SELECTION\", \"(FRSTDIVID LIKE '13%' Or FRSTDIVID LIKE '14%' Or FRSTDIVID LIKE '15%' Or FRSTDIVID LIKE '16%' Or FRSTDIVID LIKE '17%' Or FRSTDIVID LIKE '18%' ) AND (FRSTDIVID LIKE '%1318' or FRSTDIVID LIKE '%1319' or FRSTDIVID LIKE '%1320')\", None)\n",
    "arcpy.management.CalculateField(\"Sections\", \"GRID_Y\", \"7\", \"PYTHON3\", '', \"TEXT\")\n",
    "arcpy.management.SelectLayerByAttribute(\"Sections\", \"NEW_SELECTION\", \"(FRSTDIVID LIKE '07%' Or FRSTDIVID LIKE '08%' Or FRSTDIVID LIKE '09%' Or FRSTDIVID LIKE '10%' Or FRSTDIVID LIKE '11%' Or FRSTDIVID LIKE '12%' ) AND (FRSTDIVID LIKE '%1318' or FRSTDIVID LIKE '%1319' or FRSTDIVID LIKE '%1320')\", None)\n",
    "arcpy.management.CalculateField(\"Sections\", \"GRID_Y\", \"6\", \"PYTHON3\", '', \"TEXT\")\n",
    "arcpy.management.SelectLayerByAttribute(\"Sections\", \"NEW_SELECTION\", \"(FRSTDIVID LIKE '01%' Or FRSTDIVID LIKE '02%' Or FRSTDIVID LIKE '03%' Or FRSTDIVID LIKE '04%' Or FRSTDIVID LIKE '05%' Or FRSTDIVID LIKE '06%' ) AND (FRSTDIVID LIKE '%1318' or FRSTDIVID LIKE '%1319' or FRSTDIVID LIKE '%1320')\", None)\n",
    "arcpy.management.CalculateField(\"Sections\", \"GRID_Y\", \"5\", \"PYTHON3\", '', \"TEXT\")\n",
    "arcpy.management.SelectLayerByAttribute(\"Sections\", \"NEW_SELECTION\", \"(FRSTDIVID LIKE '31%' Or FRSTDIVID LIKE '32%' Or FRSTDIVID LIKE '33%' Or FRSTDIVID LIKE '34%' Or FRSTDIVID LIKE '35%' Or FRSTDIVID LIKE '36%' ) AND (FRSTDIVID LIKE '%1218' or FRSTDIVID LIKE '%1219' or FRSTDIVID LIKE '%1220')\", None)\n",
    "arcpy.management.CalculateField(\"Sections\", \"GRID_Y\", \"4\", \"PYTHON3\", '', \"TEXT\")\n",
    "arcpy.management.SelectLayerByAttribute(\"Sections\", \"NEW_SELECTION\", \"(FRSTDIVID LIKE '25%' Or FRSTDIVID LIKE '26%' Or FRSTDIVID LIKE '27%' Or FRSTDIVID LIKE '28%' Or FRSTDIVID LIKE '29%' Or FRSTDIVID LIKE '30%' ) AND (FRSTDIVID LIKE '%1218' or FRSTDIVID LIKE '%1219' or FRSTDIVID LIKE '%1220')\", None)\n",
    "arcpy.management.CalculateField(\"Sections\", \"GRID_Y\", \"3\", \"PYTHON3\", '', \"TEXT\")\n",
    "arcpy.management.SelectLayerByAttribute(\"Sections\", \"NEW_SELECTION\", \"(FRSTDIVID LIKE '19%' Or FRSTDIVID LIKE '20%' Or FRSTDIVID LIKE '21%' Or FRSTDIVID LIKE '22%' Or FRSTDIVID LIKE '23%' Or FRSTDIVID LIKE '24%' ) AND (FRSTDIVID LIKE '%1218' or FRSTDIVID LIKE '%1219' or FRSTDIVID LIKE '%1220')\", None)\n",
    "arcpy.management.CalculateField(\"Sections\", \"GRID_Y\", \"2\", \"PYTHON3\", '', \"TEXT\")\n",
    "arcpy.management.SelectLayerByAttribute(\"Sections\", \"NEW_SELECTION\", \"(FRSTDIVID LIKE '13%' Or FRSTDIVID LIKE '14%' Or FRSTDIVID LIKE '15%' Or FRSTDIVID LIKE '16%' Or FRSTDIVID LIKE '17%' Or FRSTDIVID LIKE '18%' ) AND (FRSTDIVID LIKE '%1218' or FRSTDIVID LIKE '%1219' or FRSTDIVID LIKE '%1220')\", None)\n",
    "arcpy.management.CalculateField(\"Sections\", \"GRID_Y\", \"1\", \"PYTHON3\", '', \"TEXT\")\n",
    "arcpy.management.SelectLayerByAttribute(\"Sections\", \"NEW_SELECTION\", \"(FRSTDIVID LIKE '07%' Or FRSTDIVID LIKE '08%' Or FRSTDIVID LIKE '09%' Or FRSTDIVID LIKE '10%' Or FRSTDIVID LIKE '11%' Or FRSTDIVID LIKE '12%' ) AND (FRSTDIVID LIKE '%1218' or FRSTDIVID LIKE '%1219' or FRSTDIVID LIKE '%1220')\", None)\n",
    "arcpy.management.CalculateField(\"Sections\", \"GRID_Y\", \"0\", \"PYTHON3\", '', \"TEXT\")\n",
    "arcpy.management.SelectLayerByAttribute(\"Sections\", \"NEW_SELECTION\", \"(FRSTDIVID LIKE '01%' Or FRSTDIVID LIKE '12%' Or FRSTDIVID LIKE '13%' Or FRSTDIVID LIKE '24%' Or FRSTDIVID LIKE '25%' Or FRSTDIVID LIKE '36%' ) AND (FRSTDIVID LIKE '%1320' or FRSTDIVID LIKE '%1220')\", None)\n",
    "arcpy.management.CalculateField(\"Sections\", \"GRID_X\", '\"M\"', \"PYTHON3\", '', \"TEXT\")\n",
    "arcpy.management.SelectLayerByAttribute(\"Sections\", \"NEW_SELECTION\", \"(FRSTDIVID LIKE '02%' Or FRSTDIVID LIKE '11%' Or FRSTDIVID LIKE '14%' Or FRSTDIVID LIKE '23%' Or FRSTDIVID LIKE '26%' Or FRSTDIVID LIKE '35%' ) AND (FRSTDIVID LIKE '%1220' or FRSTDIVID LIKE '%1320')\", None)\n",
    "arcpy.management.CalculateField(\"Sections\", \"GRID_X\", '\"L\"', \"PYTHON3\", '', \"TEXT\")\n",
    "arcpy.management.SelectLayerByAttribute(\"Sections\", \"NEW_SELECTION\", \"(FRSTDIVID LIKE '03%' Or FRSTDIVID LIKE '10%' Or FRSTDIVID LIKE '15%' Or FRSTDIVID LIKE '22%' Or FRSTDIVID LIKE '27%' Or FRSTDIVID LIKE '34%' ) AND (FRSTDIVID LIKE '%1320' or FRSTDIVID LIKE '%1220')\", None)\n",
    "arcpy.management.CalculateField(\"Sections\", \"GRID_X\", '\"K\"', \"PYTHON3\", '', \"TEXT\")\n",
    "arcpy.management.SelectLayerByAttribute(\"Sections\", \"NEW_SELECTION\", \"(FRSTDIVID LIKE '04%' Or FRSTDIVID LIKE '09%' Or FRSTDIVID LIKE '16%' Or FRSTDIVID LIKE '21%' Or FRSTDIVID LIKE '28%' Or FRSTDIVID LIKE '33%' ) AND (FRSTDIVID LIKE '%1320' or FRSTDIVID LIKE '%1220')\", None)\n",
    "arcpy.management.CalculateField(\"Sections\", \"GRID_X\", '\"J\"', \"PYTHON3\", '', \"TEXT\")\n",
    "arcpy.management.SelectLayerByAttribute(\"Sections\", \"NEW_SELECTION\", \"(FRSTDIVID LIKE '05%' Or FRSTDIVID LIKE '08%' Or FRSTDIVID LIKE '17%' Or FRSTDIVID LIKE '20%' Or FRSTDIVID LIKE '29%' Or FRSTDIVID LIKE '32%' ) AND (FRSTDIVID LIKE '%1320' or FRSTDIVID LIKE '%1220')\", None)\n",
    "arcpy.management.CalculateField(\"Sections\", \"GRID_X\", '\"I\"', \"PYTHON3\", '', \"TEXT\")\n",
    "arcpy.management.SelectLayerByAttribute(\"Sections\", \"NEW_SELECTION\", \"(FRSTDIVID LIKE '06%' Or FRSTDIVID LIKE '07%' Or FRSTDIVID LIKE '18%' Or FRSTDIVID LIKE '19%' Or FRSTDIVID LIKE '30%' Or FRSTDIVID LIKE '31%' ) AND (FRSTDIVID LIKE '%1320' or FRSTDIVID LIKE '%1220')\", None)\n",
    "arcpy.management.CalculateField(\"Sections\", \"GRID_X\", '\"H\"', \"PYTHON3\", '', \"TEXT\")\n",
    "arcpy.management.SelectLayerByAttribute(\"Sections\", \"NEW_SELECTION\", \"(FRSTDIVID LIKE '01%' Or FRSTDIVID LIKE '12%' Or FRSTDIVID LIKE '13%' Or FRSTDIVID LIKE '24%' Or FRSTDIVID LIKE '25%' Or FRSTDIVID LIKE '36%' ) AND (FRSTDIVID LIKE '%1319' or FRSTDIVID LIKE '%1219')\", None)\n",
    "arcpy.management.CalculateField(\"Sections\", \"GRID_X\", '\"G\"', \"PYTHON3\", '', \"TEXT\")\n",
    "arcpy.management.SelectLayerByAttribute(\"Sections\", \"NEW_SELECTION\", \"(FRSTDIVID LIKE '02%' Or FRSTDIVID LIKE '11%' Or FRSTDIVID LIKE '14%' Or FRSTDIVID LIKE '23%' Or FRSTDIVID LIKE '26%' Or FRSTDIVID LIKE '35%' ) AND (FRSTDIVID LIKE '%1319' or FRSTDIVID LIKE '%1219')\", None)\n",
    "arcpy.management.CalculateField(\"Sections\", \"GRID_X\", '\"F\"', \"PYTHON3\", '', \"TEXT\")\n",
    "arcpy.management.SelectLayerByAttribute(\"Sections\", \"NEW_SELECTION\", \"(FRSTDIVID LIKE '03%' Or FRSTDIVID LIKE '10%' Or FRSTDIVID LIKE '15%' Or FRSTDIVID LIKE '22%' Or FRSTDIVID LIKE '27%' Or FRSTDIVID LIKE '34%' ) AND (FRSTDIVID LIKE '%1319' or FRSTDIVID LIKE '%1219')\", None)\n",
    "arcpy.management.CalculateField(\"Sections\", \"GRID_X\", '\"E\"', \"PYTHON3\", '', \"TEXT\")\n",
    "arcpy.management.SelectLayerByAttribute(\"Sections\", \"NEW_SELECTION\", \"(FRSTDIVID LIKE '04%' Or FRSTDIVID LIKE '09%' Or FRSTDIVID LIKE '16%' Or FRSTDIVID LIKE '21%' Or FRSTDIVID LIKE '28%' Or FRSTDIVID LIKE '33%' ) AND (FRSTDIVID LIKE '%1319' or FRSTDIVID LIKE '%1219')\", None)\n",
    "arcpy.management.CalculateField(\"Sections\", \"GRID_X\", '\"D\"', \"PYTHON3\", '', \"TEXT\")\n",
    "arcpy.management.SelectLayerByAttribute(\"Sections\", \"NEW_SELECTION\", \"(FRSTDIVID LIKE '05%' Or FRSTDIVID LIKE '08%' Or FRSTDIVID LIKE '17%' Or FRSTDIVID LIKE '20%' Or FRSTDIVID LIKE '29%' Or FRSTDIVID LIKE '32%' ) AND (FRSTDIVID LIKE '%1319' or FRSTDIVID LIKE '%1219')\", None)\n",
    "arcpy.management.CalculateField(\"Sections\", \"GRID_X\", '\"C\"', \"PYTHON3\", '', \"TEXT\")\n",
    "arcpy.management.SelectLayerByAttribute(\"Sections\", \"NEW_SELECTION\", \"(FRSTDIVID LIKE '06%' Or FRSTDIVID LIKE '07%' Or FRSTDIVID LIKE '18%' Or FRSTDIVID LIKE '19%' Or FRSTDIVID LIKE '30%' Or FRSTDIVID LIKE '31%' ) AND (FRSTDIVID LIKE '%1319' or FRSTDIVID LIKE '%1219')\", None)\n",
    "arcpy.management.CalculateField(\"Sections\", \"GRID_X\", '\"B\"', \"PYTHON3\", '', \"TEXT\")\n",
    "arcpy.management.SelectLayerByAttribute(\"Sections\", \"NEW_SELECTION\", \"(FRSTDIVID LIKE '12%' Or FRSTDIVID LIKE '13%' Or FRSTDIVID LIKE '24%' Or FRSTDIVID LIKE '25%' Or FRSTDIVID LIKE '01%' Or FRSTDIVID LIKE '36%' ) AND (FRSTDIVID LIKE '%1318' or FRSTDIVID LIKE '%1218')\", None)\n",
    "arcpy.management.CalculateField(\"Sections\", \"GRID_X\", '\"A\"', \"PYTHON3\", '', \"TEXT\")"
   ]
  },
  {
   "cell_type": "code",
   "execution_count": null,
   "metadata": {},
   "outputs": [],
   "source": [
    "arcpy.management.MakeFeatureLayer(\"Sewer_Manholes\", \"Sewer_Manholes_Unknown_Invert\", \"INVERTELEV < 795 Or INVERTELEV IS NULL\", None, \"OBJECTID OBJECTID VISIBLE NONE;SHAPE SHAPE VISIBLE NONE;FACILITYID FACILITYID VISIBLE NONE;FACILITYABBV FACILITYABBV VISIBLE NONE;FACILITYQS FACILITYQS VISIBLE NONE;MHTYPE MHTYPE VISIBLE NONE;LOCDESC LOCDESC VISIBLE NONE;LOCMEASURE LOCMEASURE VISIBLE NONE;RIMELEV RIMELEV VISIBLE NONE;INVERT INVERT VISIBLE NONE;HIGHELEV HIGHELEV VISIBLE NONE;INVERTELEV INVERTELEV VISIBLE NONE;CVTYPE CVTYPE VISIBLE NONE;WALLMAT WALLMAT VISIBLE NONE;BARRELDIA BARRELDIA VISIBLE NONE;INSTALLDATE INSTALLDATE VISIBLE NONE;LINED LINED VISIBLE NONE;LINEDYEAR LINEDYEAR VISIBLE NONE;CONDITION CONDITION VISIBLE NONE;VERIFICATION VERIFICATION VISIBLE NONE;GPSDATE GPSDATE VISIBLE NONE;ACCESSDIAMETER ACCESSDIAMETER VISIBLE NONE;ACCESSMATERIAL ACCESSMATERIAL VISIBLE NONE;GROUNDTYPE GROUNDTYPE VISIBLE NONE;ENABLED ENABLED VISIBLE NONE;ACTIVEFLAG ACTIVEFLAG VISIBLE NONE;OWNEDBY OWNEDBY VISIBLE NONE;MAINTBY MAINTBY VISIBLE NONE;SUMFLOW SUMFLOW VISIBLE NONE;CUTDEPTH CUTDEPTH VISIBLE NONE;FLOWDIR FLOWDIR VISIBLE NONE;WATERTYPE WATERTYPE VISIBLE NONE;PROJECT PROJECT VISIBLE NONE;SHEET SHEET VISIBLE NONE;CONTRACTEDBY CONTRACTEDBY VISIBLE NONE;ENGINEEREDBY ENGINEEREDBY VISIBLE NONE;LIFECYCLESTATUS LIFECYCLESTATUS VISIBLE NONE;WORKORDERID WORKORDERID VISIBLE NONE;SERIALNO_LOTNO SERIALNO_LOTNO VISIBLE NONE;HYPERLINK HYPERLINK VISIBLE NONE;COMMENTS COMMENTS VISIBLE NONE;POINT_X POINT_X VISIBLE NONE;POINT_Y POINT_Y VISIBLE NONE;LASTUPDATE LASTUPDATE VISIBLE NONE;LASTEDITOR LASTEDITOR VISIBLE NONE;VERSIONNAME VERSIONNAME VISIBLE NONE;MAG_MHID MAG_MHID VISIBLE NONE;MAG_DB MAG_DB VISIBLE NONE;created_user created_user VISIBLE NONE;created_date created_date VISIBLE NONE;last_edited_user last_edited_user VISIBLE NONE;last_edited_date last_edited_date VISIBLE NONE;GlobalID GlobalID VISIBLE NONE\")\n",
    "arcpy.management.MakeFeatureLayer(\"Sewer_Manholes\", \"Sewer_Manholes_known_Invert\", \"INVERTELEV > 795 And INVERTELEV IS NOT NULL\", None, \"OBJECTID OBJECTID VISIBLE NONE;SHAPE SHAPE VISIBLE NONE;FACILITYID FACILITYID VISIBLE NONE;FACILITYABBV FACILITYABBV VISIBLE NONE;FACILITYQS FACILITYQS VISIBLE NONE;MHTYPE MHTYPE VISIBLE NONE;LOCDESC LOCDESC VISIBLE NONE;LOCMEASURE LOCMEASURE VISIBLE NONE;RIMELEV RIMELEV VISIBLE NONE;INVERT INVERT VISIBLE NONE;HIGHELEV HIGHELEV VISIBLE NONE;INVERTELEV INVERTELEV VISIBLE NONE;CVTYPE CVTYPE VISIBLE NONE;WALLMAT WALLMAT VISIBLE NONE;BARRELDIA BARRELDIA VISIBLE NONE;INSTALLDATE INSTALLDATE VISIBLE NONE;LINED LINED VISIBLE NONE;LINEDYEAR LINEDYEAR VISIBLE NONE;CONDITION CONDITION VISIBLE NONE;VERIFICATION VERIFICATION VISIBLE NONE;GPSDATE GPSDATE VISIBLE NONE;ACCESSDIAMETER ACCESSDIAMETER VISIBLE NONE;ACCESSMATERIAL ACCESSMATERIAL VISIBLE NONE;GROUNDTYPE GROUNDTYPE VISIBLE NONE;ENABLED ENABLED VISIBLE NONE;ACTIVEFLAG ACTIVEFLAG VISIBLE NONE;OWNEDBY OWNEDBY VISIBLE NONE;MAINTBY MAINTBY VISIBLE NONE;SUMFLOW SUMFLOW VISIBLE NONE;CUTDEPTH CUTDEPTH VISIBLE NONE;FLOWDIR FLOWDIR VISIBLE NONE;WATERTYPE WATERTYPE VISIBLE NONE;PROJECT PROJECT VISIBLE NONE;SHEET SHEET VISIBLE NONE;CONTRACTEDBY CONTRACTEDBY VISIBLE NONE;ENGINEEREDBY ENGINEEREDBY VISIBLE NONE;LIFECYCLESTATUS LIFECYCLESTATUS VISIBLE NONE;WORKORDERID WORKORDERID VISIBLE NONE;SERIALNO_LOTNO SERIALNO_LOTNO VISIBLE NONE;HYPERLINK HYPERLINK VISIBLE NONE;COMMENTS COMMENTS VISIBLE NONE;POINT_X POINT_X VISIBLE NONE;POINT_Y POINT_Y VISIBLE NONE;LASTUPDATE LASTUPDATE VISIBLE NONE;LASTEDITOR LASTEDITOR VISIBLE NONE;VERSIONNAME VERSIONNAME VISIBLE NONE;MAG_MHID MAG_MHID VISIBLE NONE;MAG_DB MAG_DB VISIBLE NONE;created_user created_user VISIBLE NONE;created_date created_date VISIBLE NONE;last_edited_user last_edited_user VISIBLE NONE;last_edited_date last_edited_date VISIBLE NONE;GlobalID GlobalID VISIBLE NONE\")\n",
    "arcpy.conversion.FeatureClassToFeatureClass(\"Sewer_Manholes_known_Invert\", r\"C:\\gisdata\\EPASWMM\\GIS_SWMM_inp.gdb\\SWMM\", \"jctManholes\", '', 'FACILITYID \"Facility ID\" true true false 20 Text 0 0,First,#,Sewer_Manholes_known_Invert,FACILITYID,0,20;FACILITYABBV \"FACILITYABBV\" true true false 8 Text 0 0,First,#,Sewer_Manholes_known_Invert,FACILITYABBV,0,8;FACILITYQS \"FACILITYQS\" true true false 8 Text 0 0,First,#,Sewer_Manholes_known_Invert,FACILITYQS,0,8;MHTYPE \"Manhole Type\" true true false 15 Text 0 0,First,#,Sewer_Manholes_known_Invert,MHTYPE,0,15;LOCDESC \"Location Description\" true true false 200 Text 0 0,First,#,Sewer_Manholes_known_Invert,LOCDESC,0,200;LOCMEASURE \"Loc Measurements\" true true false 120 Text 0 0,First,#,Sewer_Manholes_known_Invert,LOCMEASURE,0,120;RIMELEV \"Rim Elevation\" true true false 8 Double 0 0,First,#,Sewer_Manholes_known_Invert,RIMELEV,-1,-1;INVERT \"Depth\" true true false 8 Double 0 0,First,#,Sewer_Manholes_known_Invert,INVERT,-1,-1;HIGHELEV \"High Pipe Elevation\" true true false 8 Double 0 0,First,#,Sewer_Manholes_known_Invert,HIGHELEV,-1,-1;INVERTELEV \"Invert Elevation\" true true false 8 Double 0 0,First,#,Sewer_Manholes_known_Invert,INVERTELEV,-1,-1;CVTYPE \"Cover Type\" true true false 20 Text 0 0,First,#,Sewer_Manholes_known_Invert,CVTYPE,0,20;WALLMAT \"Wall Material\" true true false 30 Text 0 0,First,#,Sewer_Manholes_known_Invert,WALLMAT,0,30;BARRELDIA \"Barrel Diameter\" true true false 8 Double 0 0,First,#,Sewer_Manholes_known_Invert,BARRELDIA,-1,-1;INSTALLDATE \"Install Date\" true true false 8 Date 0 0,First,#,Sewer_Manholes_known_Invert,INSTALLDATE,-1,-1;LINED \"Rehabed\" true true false 3 Text 0 0,First,#,Sewer_Manholes_known_Invert,LINED,0,3;LINEDYEAR \"Year Rehabed\" true true false 4 Text 0 0,First,#,Sewer_Manholes_known_Invert,LINEDYEAR,0,4;CONDITION \"Manhole Condition\" true true false 10 Text 0 0,First,#,Sewer_Manholes_known_Invert,CONDITION,0,10;VERIFICATION \"Verification\" true true false 25 Text 0 0,First,#,Sewer_Manholes_known_Invert,VERIFICATION,0,25;GPSDATE \"GPS Date\" true true false 8 Date 0 0,First,#,Sewer_Manholes_known_Invert,GPSDATE,-1,-1;ACCESSDIAMETER \"AccessDiameter\" true true false 8 Double 0 0,First,#,Sewer_Manholes_known_Invert,ACCESSDIAMETER,-1,-1;ACCESSMATERIAL \"AccessMaterial\" true true false 20 Text 0 0,First,#,Sewer_Manholes_known_Invert,ACCESSMATERIAL,0,20;GROUNDTYPE \"GROUNDTYPE\" true true false 25 Text 0 0,First,#,Sewer_Manholes_known_Invert,GROUNDTYPE,0,25;ENABLED \"Enabled\" true true false 2 Short 0 0,First,#,Sewer_Manholes_known_Invert,ENABLED,-1,-1;ACTIVEFLAG \"Active Flag\" true true false 2 Short 0 0,First,#,Sewer_Manholes_known_Invert,ACTIVEFLAG,-1,-1;OWNEDBY \"Owned By\" true true false 2 Short 0 0,First,#,Sewer_Manholes_known_Invert,OWNEDBY,-1,-1;MAINTBY \"Managed By\" true true false 2 Short 0 0,First,#,Sewer_Manholes_known_Invert,MAINTBY,-1,-1;SUMFLOW \"Flow Summary\" true true false 8 Double 0 0,First,#,Sewer_Manholes_known_Invert,SUMFLOW,-1,-1;CUTDEPTH \"Pavement Cut Depth\" true true false 8 Double 0 0,First,#,Sewer_Manholes_known_Invert,CUTDEPTH,-1,-1;FLOWDIR \"Flow Direction\" true true false 5 Text 0 0,First,#,Sewer_Manholes_known_Invert,FLOWDIR,0,5;WATERTYPE \"Water Type\" true true false 30 Text 0 0,First,#,Sewer_Manholes_known_Invert,WATERTYPE,0,30;PROJECT \"ProjectNo\" true true false 30 Text 0 0,First,#,Sewer_Manholes_known_Invert,PROJECT,0,30;SHEET \"SheetNo\" true true false 20 Text 0 0,First,#,Sewer_Manholes_known_Invert,SHEET,0,20;CONTRACTEDBY \"Contracted By\" true true false 50 Text 0 0,First,#,Sewer_Manholes_known_Invert,CONTRACTEDBY,0,50;ENGINEEREDBY \"Engineered By\" true true false 50 Text 0 0,First,#,Sewer_Manholes_known_Invert,ENGINEEREDBY,0,50;LIFECYCLESTATUS \"LifecycleStatus\" true true false 2 Short 0 0,First,#,Sewer_Manholes_known_Invert,LIFECYCLESTATUS,-1,-1;WORKORDERID \"WORKORDERID\" true true false 20 Text 0 0,First,#,Sewer_Manholes_known_Invert,WORKORDERID,0,20;SERIALNO_LOTNO \"SerialNo_LotNo\" true true false 30 Text 0 0,First,#,Sewer_Manholes_known_Invert,SERIALNO_LOTNO,0,30;HYPERLINK \"HYPERLINK\" true true false 255 Text 0 0,First,#,Sewer_Manholes_known_Invert,HYPERLINK,0,255;COMMENTS \"Comments\" true true false 200 Text 0 0,First,#,Sewer_Manholes_known_Invert,COMMENTS,0,200;POINT_X \"POINT_X\" true true false 8 Double 0 0,First,#,Sewer_Manholes_known_Invert,POINT_X,-1,-1;POINT_Y \"POINT_Y\" true true false 8 Double 0 0,First,#,Sewer_Manholes_known_Invert,POINT_Y,-1,-1;LASTUPDATE \"Last Update Date\" true true false 8 Date 0 0,First,#,Sewer_Manholes_known_Invert,LASTUPDATE,-1,-1;LASTEDITOR \"Last Editor\" true true false 50 Text 0 0,First,#,Sewer_Manholes_known_Invert,LASTEDITOR,0,50;VERSIONNAME \"VERSIONNAME\" true true false 50 Text 0 0,First,#,Sewer_Manholes_known_Invert,VERSIONNAME,0,50;MAG_MHID \"Unique Number\" true true false 4 Long 0 0,First,#,Sewer_Manholes_known_Invert,MAG_MHID,-1,-1;MAG_DB \"In Lucity\" true true false 2 Short 0 0,First,#,Sewer_Manholes_known_Invert,MAG_DB,-1,-1;created_user \"created_user\" true true false 255 Text 0 0,First,#,Sewer_Manholes_known_Invert,created_user,0,255;created_date \"created_date\" true true false 8 Date 0 0,First,#,Sewer_Manholes_known_Invert,created_date,-1,-1;last_edited_user \"last_edited_user\" true true false 255 Text 0 0,First,#,Sewer_Manholes_known_Invert,last_edited_user,0,255;last_edited_date \"last_edited_date\" true true false 8 Date 0 0,First,#,Sewer_Manholes_known_Invert,last_edited_date,-1,-1;GlobalID \"GlobalID\" false false false 38 GlobalID 0 0,First,#,Sewer_Manholes_known_Invert,GlobalID,-1,-1', '')\n",
    "arcpy.analysis.SummarizeWithin(\"ssDrainageBasins\", \"jctManholes\", r\"C:\\gisdata\\EPASWMM\\GIS_SWMM_inp.gdb\\SWMM\\ssDrainageBasinsLowestGravMH2\", \"KEEP_ALL\", \"INVERTELEV Min;INVERTELEV Max\", \"ADD_SHAPE_SUM\", '', None, \"NO_MIN_MAJ\", \"NO_PERCENT\", None)\n",
    "\n"
   ]
  },
  {
   "cell_type": "code",
   "execution_count": null,
   "metadata": {},
   "outputs": [],
   "source": [
    "arcpy.conversion.FeatureClassToFeatureClass(\"Sewer_Manholes_known_Invert\", r\"C:\\gisdata\\EPASWMM\\GIS_SWMM_inp.gdb\\SWMM\", \"jctManholes\", '', 'FACILITYID \"Facility ID\" true true false 20 Text 0 0,First,#,Sewer_Manholes_known_Invert,FACILITYID,0,20;FACILITYABBV \"FACILITYABBV\" true true false 8 Text 0 0,First,#,Sewer_Manholes_known_Invert,FACILITYABBV,0,8;FACILITYQS \"FACILITYQS\" true true false 8 Text 0 0,First,#,Sewer_Manholes_known_Invert,FACILITYQS,0,8;MHTYPE \"Manhole Type\" true true false 15 Text 0 0,First,#,Sewer_Manholes_known_Invert,MHTYPE,0,15;LOCDESC \"Location Description\" true true false 200 Text 0 0,First,#,Sewer_Manholes_known_Invert,LOCDESC,0,200;LOCMEASURE \"Loc Measurements\" true true false 120 Text 0 0,First,#,Sewer_Manholes_known_Invert,LOCMEASURE,0,120;RIMELEV \"Rim Elevation\" true true false 8 Double 0 0,First,#,Sewer_Manholes_known_Invert,RIMELEV,-1,-1;INVERT \"Depth\" true true false 8 Double 0 0,First,#,Sewer_Manholes_known_Invert,INVERT,-1,-1;HIGHELEV \"High Pipe Elevation\" true true false 8 Double 0 0,First,#,Sewer_Manholes_known_Invert,HIGHELEV,-1,-1;INVERTELEV \"Invert Elevation\" true true false 8 Double 0 0,First,#,Sewer_Manholes_known_Invert,INVERTELEV,-1,-1;CVTYPE \"Cover Type\" true true false 20 Text 0 0,First,#,Sewer_Manholes_known_Invert,CVTYPE,0,20;WALLMAT \"Wall Material\" true true false 30 Text 0 0,First,#,Sewer_Manholes_known_Invert,WALLMAT,0,30;BARRELDIA \"Barrel Diameter\" true true false 8 Double 0 0,First,#,Sewer_Manholes_known_Invert,BARRELDIA,-1,-1;INSTALLDATE \"Install Date\" true true false 8 Date 0 0,First,#,Sewer_Manholes_known_Invert,INSTALLDATE,-1,-1;LINED \"Rehabed\" true true false 3 Text 0 0,First,#,Sewer_Manholes_known_Invert,LINED,0,3;LINEDYEAR \"Year Rehabed\" true true false 4 Text 0 0,First,#,Sewer_Manholes_known_Invert,LINEDYEAR,0,4;CONDITION \"Manhole Condition\" true true false 10 Text 0 0,First,#,Sewer_Manholes_known_Invert,CONDITION,0,10;VERIFICATION \"Verification\" true true false 25 Text 0 0,First,#,Sewer_Manholes_known_Invert,VERIFICATION,0,25;GPSDATE \"GPS Date\" true true false 8 Date 0 0,First,#,Sewer_Manholes_known_Invert,GPSDATE,-1,-1;ACCESSDIAMETER \"AccessDiameter\" true true false 8 Double 0 0,First,#,Sewer_Manholes_known_Invert,ACCESSDIAMETER,-1,-1;ACCESSMATERIAL \"AccessMaterial\" true true false 20 Text 0 0,First,#,Sewer_Manholes_known_Invert,ACCESSMATERIAL,0,20;GROUNDTYPE \"GROUNDTYPE\" true true false 25 Text 0 0,First,#,Sewer_Manholes_known_Invert,GROUNDTYPE,0,25;ENABLED \"Enabled\" true true false 2 Short 0 0,First,#,Sewer_Manholes_known_Invert,ENABLED,-1,-1;ACTIVEFLAG \"Active Flag\" true true false 2 Short 0 0,First,#,Sewer_Manholes_known_Invert,ACTIVEFLAG,-1,-1;OWNEDBY \"Owned By\" true true false 2 Short 0 0,First,#,Sewer_Manholes_known_Invert,OWNEDBY,-1,-1;MAINTBY \"Managed By\" true true false 2 Short 0 0,First,#,Sewer_Manholes_known_Invert,MAINTBY,-1,-1;SUMFLOW \"Flow Summary\" true true false 8 Double 0 0,First,#,Sewer_Manholes_known_Invert,SUMFLOW,-1,-1;CUTDEPTH \"Pavement Cut Depth\" true true false 8 Double 0 0,First,#,Sewer_Manholes_known_Invert,CUTDEPTH,-1,-1;FLOWDIR \"Flow Direction\" true true false 5 Text 0 0,First,#,Sewer_Manholes_known_Invert,FLOWDIR,0,5;WATERTYPE \"Water Type\" true true false 30 Text 0 0,First,#,Sewer_Manholes_known_Invert,WATERTYPE,0,30;PROJECT \"ProjectNo\" true true false 30 Text 0 0,First,#,Sewer_Manholes_known_Invert,PROJECT,0,30;SHEET \"SheetNo\" true true false 20 Text 0 0,First,#,Sewer_Manholes_known_Invert,SHEET,0,20;CONTRACTEDBY \"Contracted By\" true true false 50 Text 0 0,First,#,Sewer_Manholes_known_Invert,CONTRACTEDBY,0,50;ENGINEEREDBY \"Engineered By\" true true false 50 Text 0 0,First,#,Sewer_Manholes_known_Invert,ENGINEEREDBY,0,50;LIFECYCLESTATUS \"LifecycleStatus\" true true false 2 Short 0 0,First,#,Sewer_Manholes_known_Invert,LIFECYCLESTATUS,-1,-1;WORKORDERID \"WORKORDERID\" true true false 20 Text 0 0,First,#,Sewer_Manholes_known_Invert,WORKORDERID,0,20;SERIALNO_LOTNO \"SerialNo_LotNo\" true true false 30 Text 0 0,First,#,Sewer_Manholes_known_Invert,SERIALNO_LOTNO,0,30;HYPERLINK \"HYPERLINK\" true true false 255 Text 0 0,First,#,Sewer_Manholes_known_Invert,HYPERLINK,0,255;COMMENTS \"Comments\" true true false 200 Text 0 0,First,#,Sewer_Manholes_known_Invert,COMMENTS,0,200;POINT_X \"POINT_X\" true true false 8 Double 0 0,First,#,Sewer_Manholes_known_Invert,POINT_X,-1,-1;POINT_Y \"POINT_Y\" true true false 8 Double 0 0,First,#,Sewer_Manholes_known_Invert,POINT_Y,-1,-1;LASTUPDATE \"Last Update Date\" true true false 8 Date 0 0,First,#,Sewer_Manholes_known_Invert,LASTUPDATE,-1,-1;LASTEDITOR \"Last Editor\" true true false 50 Text 0 0,First,#,Sewer_Manholes_known_Invert,LASTEDITOR,0,50;VERSIONNAME \"VERSIONNAME\" true true false 50 Text 0 0,First,#,Sewer_Manholes_known_Invert,VERSIONNAME,0,50;MAG_MHID \"Unique Number\" true true false 4 Long 0 0,First,#,Sewer_Manholes_known_Invert,MAG_MHID,-1,-1;MAG_DB \"In Lucity\" true true false 2 Short 0 0,First,#,Sewer_Manholes_known_Invert,MAG_DB,-1,-1;created_user \"created_user\" true true false 255 Text 0 0,First,#,Sewer_Manholes_known_Invert,created_user,0,255;created_date \"created_date\" true true false 8 Date 0 0,First,#,Sewer_Manholes_known_Invert,created_date,-1,-1;last_edited_user \"last_edited_user\" true true false 255 Text 0 0,First,#,Sewer_Manholes_known_Invert,last_edited_user,0,255;last_edited_date \"last_edited_date\" true true false 8 Date 0 0,First,#,Sewer_Manholes_known_Invert,last_edited_date,-1,-1;GlobalID \"GlobalID\" false false false 38 GlobalID 0 0,First,#,Sewer_Manholes_known_Invert,GlobalID,-1,-1', '')\n"
   ]
  },
  {
   "cell_type": "code",
   "execution_count": null,
   "metadata": {},
   "outputs": [],
   "source": [
    "arcpy.analysis.SummarizeWithin(\"ssDrainageBasins\", \"jctManholes\", r\"C:\\gisdata\\EPASWMM\\GIS_SWMM_inp.gdb\\SWMM\\ssDrainageBasinsGravMH\", \"KEEP_ALL\", \"INVERTELEV Min;INVERTELEV Max\", \"ADD_SHAPE_SUM\", '', None, \"NO_MIN_MAJ\", \"NO_PERCENT\", None)\n"
   ]
  },
  {
   "cell_type": "code",
   "execution_count": null,
   "metadata": {},
   "outputs": [],
   "source": [
    "# Select the ss drainage basin of interest\n",
    "arcpy.management.CalculateGeometryAttributes(\"jctManholes\", \"POINT_X POINT_X;POINT_Y POINT_Y\", '', '', \"PROJCS['NAD_1983_2011_KS_RCS_Zone_11',GEOGCS['GCS_NAD_1983_2011',DATUM['D_NAD_1983_2011',SPHEROID['GRS_1980',6378137.0,298.257222101]],PRIMEM['Greenwich',0.0],UNIT['Degree',0.0174532925199433]],PROJECTION['Lambert_Conformal_Conic'],PARAMETER['False_Easting',11500000.0],PARAMETER['False_Northing',600000.0],PARAMETER['Central_Meridian',-95.25],PARAMETER['Standard_Parallel_1',39.1],PARAMETER['Scale_Factor',1.000033],PARAMETER['Latitude_Of_Origin',39.1],UNIT['Foot_US',0.3048006096012192]]\", \"SAME_AS_INPUT\")\n",
    "arcpy.management.AddField(\"jctManholes\", \"MaxDepth\", \"DOUBLE\", None, None, None, '', \"NULLABLE\", \"NON_REQUIRED\", '')\n",
    "arcpy.management.AddField(\"jctManholes\", \"SurDepth\", \"DOUBLE\", None, None, None, '', \"NULLABLE\", \"NON_REQUIRED\", '')\n",
    "arcpy.management.AddField(\"jctManholes\", \"Aponded\", \"DOUBLE\", None, None, None, '', \"NULLABLE\", \"NON_REQUIRED\", '')\n",
    "arcpy.management.SelectLayerByLocation(\"jctManholes\", \"INTERSECT\", \"ssDrainageBasinsGravMH\", None, \"NEW_SELECTION\", \"NOT_INVERT\")\n",
    "arcpy.management.CalculateField(\"jctManholes\", \"MaxDepth\", \"!RIMELEV!-!INVERTELEV!\", \"PYTHON3\", '', \"TEXT\")\n"
   ]
  },
  {
   "cell_type": "code",
   "execution_count": null,
   "metadata": {},
   "outputs": [],
   "source": [
    "the facility ID fields are too long, decode section numbers to grids"
   ]
  },
  {
   "cell_type": "code",
   "execution_count": null,
   "metadata": {},
   "outputs": [],
   "source": [
    "arcpy.management.AddField(\"jctManholes\", \"Grid_X\", \"TEXT\", None, None, 4, '', \"NULLABLE\", \"NON_REQUIRED\", '')\n",
    "arcpy.management.AddField(\"jctManholes\", \"Grid_Y\", \"TEXT\", None, None, 4, '', \"NULLABLE\", \"NON_REQUIRED\", '')\n",
    "arcpy.management.AddField(\"jctManholes\", \"Name\", \"TEXT\", None, None, 16, '', \"NULLABLE\", \"NON_REQUIRED\", '')\n",
    "arcpy.management.AddField(\"jctManholes\", \"FRSTDIVID\", \"TEXT\", None, None, 16, '', \"NULLABLE\", \"NON_REQUIRED\", '')"
   ]
  },
  {
   "cell_type": "code",
   "execution_count": null,
   "metadata": {},
   "outputs": [],
   "source": [
    "arcpy.management.CalculateField(\"jctManholes\", \"FRSTDIVID\", \"str(!FACILITYID!)[2:8]\", \"PYTHON3\", '', \"TEXT\")"
   ]
  },
  {
   "cell_type": "code",
   "execution_count": null,
   "metadata": {},
   "outputs": [],
   "source": [
    "\n",
    "\n",
    "arcpy.management.SelectLayerByAttribute(\"jctManholes\", \"NEW_SELECTION\", \"(FRSTDIVID LIKE '19%' Or FRSTDIVID LIKE '20%' Or FRSTDIVID LIKE '21%' Or FRSTDIVID LIKE '22%' Or FRSTDIVID LIKE '23%' Or FRSTDIVID LIKE '24%' ) AND (FRSTDIVID LIKE '%1318' or FRSTDIVID LIKE '%1319' or FRSTDIVID LIKE '%1320')\", None)\n",
    "#this sql would look nicer\n",
    "#arcpy.management.SelectLayerByAttribute(\"jctManholes\", \"NEW_SELECTION\", \"\"\"SUBSTRING(FACILITYID, 1, 2) IN ('NW', 'NE', 'SW', 'SE') AND SUBSTRING(FACILITYID, 3, 2) IN ('19', '20', '21', '22','23', '24') AND SUBSTRING(FACILITYID, 5, 4) in ('1318','1319','1320')\"\"\", None)\n",
    "arcpy.management.CalculateField(\"jctManholes\", \"GRID_Y\", \"8\", \"PYTHON3\", '', \"TEXT\")\n",
    "arcpy.management.SelectLayerByAttribute(\"jctManholes\", \"NEW_SELECTION\", \"(FRSTDIVID LIKE '13%' Or FRSTDIVID LIKE '14%' Or FRSTDIVID LIKE '15%' Or FRSTDIVID LIKE '16%' Or FRSTDIVID LIKE '17%' Or FRSTDIVID LIKE '18%' ) AND (FRSTDIVID LIKE '%1318' or FRSTDIVID LIKE '%1319' or FRSTDIVID LIKE '%1320')\", None)\n",
    "arcpy.management.CalculateField(\"jctManholes\", \"GRID_Y\", \"7\", \"PYTHON3\", '', \"TEXT\")\n",
    "arcpy.management.SelectLayerByAttribute(\"jctManholes\", \"NEW_SELECTION\", \"(FRSTDIVID LIKE '07%' Or FRSTDIVID LIKE '08%' Or FRSTDIVID LIKE '09%' Or FRSTDIVID LIKE '10%' Or FRSTDIVID LIKE '11%' Or FRSTDIVID LIKE '12%' ) AND (FRSTDIVID LIKE '%1318' or FRSTDIVID LIKE '%1319' or FRSTDIVID LIKE '%1320')\", None)\n",
    "arcpy.management.CalculateField(\"jctManholes\", \"GRID_Y\", \"6\", \"PYTHON3\", '', \"TEXT\")\n",
    "arcpy.management.SelectLayerByAttribute(\"jctManholes\", \"NEW_SELECTION\", \"(FRSTDIVID LIKE '01%' Or FRSTDIVID LIKE '02%' Or FRSTDIVID LIKE '03%' Or FRSTDIVID LIKE '04%' Or FRSTDIVID LIKE '05%' Or FRSTDIVID LIKE '06%' ) AND (FRSTDIVID LIKE '%1318' or FRSTDIVID LIKE '%1319' or FRSTDIVID LIKE '%1320')\", None)\n",
    "arcpy.management.CalculateField(\"jctManholes\", \"GRID_Y\", \"5\", \"PYTHON3\", '', \"TEXT\")\n",
    "arcpy.management.SelectLayerByAttribute(\"jctManholes\", \"NEW_SELECTION\", \"(FRSTDIVID LIKE '31%' Or FRSTDIVID LIKE '32%' Or FRSTDIVID LIKE '33%' Or FRSTDIVID LIKE '34%' Or FRSTDIVID LIKE '35%' Or FRSTDIVID LIKE '36%' ) AND (FRSTDIVID LIKE '%1218' or FRSTDIVID LIKE '%1219' or FRSTDIVID LIKE '%1220')\", None)\n",
    "arcpy.management.CalculateField(\"jctManholes\", \"GRID_Y\", \"4\", \"PYTHON3\", '', \"TEXT\")\n",
    "arcpy.management.SelectLayerByAttribute(\"jctManholes\", \"NEW_SELECTION\", \"(FRSTDIVID LIKE '25%' Or FRSTDIVID LIKE '26%' Or FRSTDIVID LIKE '27%' Or FRSTDIVID LIKE '28%' Or FRSTDIVID LIKE '29%' Or FRSTDIVID LIKE '30%' ) AND (FRSTDIVID LIKE '%1218' or FRSTDIVID LIKE '%1219' or FRSTDIVID LIKE '%1220')\", None)\n",
    "arcpy.management.CalculateField(\"jctManholes\", \"GRID_Y\", \"3\", \"PYTHON3\", '', \"TEXT\")\n",
    "arcpy.management.SelectLayerByAttribute(\"jctManholes\", \"NEW_SELECTION\", \"(FRSTDIVID LIKE '19%' Or FRSTDIVID LIKE '20%' Or FRSTDIVID LIKE '21%' Or FRSTDIVID LIKE '22%' Or FRSTDIVID LIKE '23%' Or FRSTDIVID LIKE '24%' ) AND (FRSTDIVID LIKE '%1218' or FRSTDIVID LIKE '%1219' or FRSTDIVID LIKE '%1220')\", None)\n",
    "arcpy.management.CalculateField(\"jctManholes\", \"GRID_Y\", \"2\", \"PYTHON3\", '', \"TEXT\")\n",
    "arcpy.management.SelectLayerByAttribute(\"jctManholes\", \"NEW_SELECTION\", \"(FRSTDIVID LIKE '13%' Or FRSTDIVID LIKE '14%' Or FRSTDIVID LIKE '15%' Or FRSTDIVID LIKE '16%' Or FRSTDIVID LIKE '17%' Or FRSTDIVID LIKE '18%' ) AND (FRSTDIVID LIKE '%1218' or FRSTDIVID LIKE '%1219' or FRSTDIVID LIKE '%1220')\", None)\n",
    "arcpy.management.CalculateField(\"jctManholes\", \"GRID_Y\", \"1\", \"PYTHON3\", '', \"TEXT\")\n",
    "arcpy.management.SelectLayerByAttribute(\"jctManholes\", \"NEW_SELECTION\", \"(FRSTDIVID LIKE '07%' Or FRSTDIVID LIKE '08%' Or FRSTDIVID LIKE '09%' Or FRSTDIVID LIKE '10%' Or FRSTDIVID LIKE '11%' Or FRSTDIVID LIKE '12%' ) AND (FRSTDIVID LIKE '%1218' or FRSTDIVID LIKE '%1219' or FRSTDIVID LIKE '%1220')\", None)\n",
    "arcpy.management.CalculateField(\"jctManholes\", \"GRID_Y\", \"0\", \"PYTHON3\", '', \"TEXT\")\n",
    "arcpy.management.SelectLayerByAttribute(\"jctManholes\", \"NEW_SELECTION\", \"(FRSTDIVID LIKE '01%' Or FRSTDIVID LIKE '12%' Or FRSTDIVID LIKE '13%' Or FRSTDIVID LIKE '24%' Or FRSTDIVID LIKE '25%' Or FRSTDIVID LIKE '36%' ) AND (FRSTDIVID LIKE '%1320' or FRSTDIVID LIKE '%1220')\", None)\n",
    "arcpy.management.CalculateField(\"jctManholes\", \"GRID_X\", '\"M\"', \"PYTHON3\", '', \"TEXT\")\n",
    "arcpy.management.SelectLayerByAttribute(\"jctManholes\", \"NEW_SELECTION\", \"(FRSTDIVID LIKE '02%' Or FRSTDIVID LIKE '11%' Or FRSTDIVID LIKE '14%' Or FRSTDIVID LIKE '23%' Or FRSTDIVID LIKE '26%' Or FRSTDIVID LIKE '35%' ) AND (FRSTDIVID LIKE '%1220' or FRSTDIVID LIKE '%1320')\", None)\n",
    "arcpy.management.CalculateField(\"jctManholes\", \"GRID_X\", '\"L\"', \"PYTHON3\", '', \"TEXT\")\n",
    "arcpy.management.SelectLayerByAttribute(\"jctManholes\", \"NEW_SELECTION\", \"(FRSTDIVID LIKE '03%' Or FRSTDIVID LIKE '10%' Or FRSTDIVID LIKE '15%' Or FRSTDIVID LIKE '22%' Or FRSTDIVID LIKE '27%' Or FRSTDIVID LIKE '34%' ) AND (FRSTDIVID LIKE '%1320' or FRSTDIVID LIKE '%1220')\", None)\n",
    "arcpy.management.CalculateField(\"jctManholes\", \"GRID_X\", '\"K\"', \"PYTHON3\", '', \"TEXT\")\n",
    "arcpy.management.SelectLayerByAttribute(\"jctManholes\", \"NEW_SELECTION\", \"(FRSTDIVID LIKE '04%' Or FRSTDIVID LIKE '09%' Or FRSTDIVID LIKE '16%' Or FRSTDIVID LIKE '21%' Or FRSTDIVID LIKE '28%' Or FRSTDIVID LIKE '33%' ) AND (FRSTDIVID LIKE '%1320' or FRSTDIVID LIKE '%1220')\", None)\n",
    "arcpy.management.CalculateField(\"jctManholes\", \"GRID_X\", '\"J\"', \"PYTHON3\", '', \"TEXT\")\n",
    "arcpy.management.SelectLayerByAttribute(\"jctManholes\", \"NEW_SELECTION\", \"(FRSTDIVID LIKE '05%' Or FRSTDIVID LIKE '08%' Or FRSTDIVID LIKE '17%' Or FRSTDIVID LIKE '20%' Or FRSTDIVID LIKE '29%' Or FRSTDIVID LIKE '32%' ) AND (FRSTDIVID LIKE '%1320' or FRSTDIVID LIKE '%1220')\", None)\n",
    "arcpy.management.CalculateField(\"jctManholes\", \"GRID_X\", '\"I\"', \"PYTHON3\", '', \"TEXT\")\n",
    "arcpy.management.SelectLayerByAttribute(\"jctManholes\", \"NEW_SELECTION\", \"(FRSTDIVID LIKE '06%' Or FRSTDIVID LIKE '07%' Or FRSTDIVID LIKE '18%' Or FRSTDIVID LIKE '19%' Or FRSTDIVID LIKE '30%' Or FRSTDIVID LIKE '31%' ) AND (FRSTDIVID LIKE '%1320' or FRSTDIVID LIKE '%1220')\", None)\n",
    "arcpy.management.CalculateField(\"jctManholes\", \"GRID_X\", '\"H\"', \"PYTHON3\", '', \"TEXT\")\n",
    "arcpy.management.SelectLayerByAttribute(\"jctManholes\", \"NEW_SELECTION\", \"(FRSTDIVID LIKE '01%' Or FRSTDIVID LIKE '12%' Or FRSTDIVID LIKE '13%' Or FRSTDIVID LIKE '24%' Or FRSTDIVID LIKE '25%' Or FRSTDIVID LIKE '36%' ) AND (FRSTDIVID LIKE '%1319' or FRSTDIVID LIKE '%1219')\", None)\n",
    "arcpy.management.CalculateField(\"jctManholes\", \"GRID_X\", '\"G\"', \"PYTHON3\", '', \"TEXT\")\n",
    "arcpy.management.SelectLayerByAttribute(\"jctManholes\", \"NEW_SELECTION\", \"(FRSTDIVID LIKE '02%' Or FRSTDIVID LIKE '11%' Or FRSTDIVID LIKE '14%' Or FRSTDIVID LIKE '23%' Or FRSTDIVID LIKE '26%' Or FRSTDIVID LIKE '35%' ) AND (FRSTDIVID LIKE '%1319' or FRSTDIVID LIKE '%1219')\", None)\n",
    "arcpy.management.CalculateField(\"jctManholes\", \"GRID_X\", '\"F\"', \"PYTHON3\", '', \"TEXT\")\n",
    "arcpy.management.SelectLayerByAttribute(\"jctManholes\", \"NEW_SELECTION\", \"(FRSTDIVID LIKE '03%' Or FRSTDIVID LIKE '10%' Or FRSTDIVID LIKE '15%' Or FRSTDIVID LIKE '22%' Or FRSTDIVID LIKE '27%' Or FRSTDIVID LIKE '34%' ) AND (FRSTDIVID LIKE '%1319' or FRSTDIVID LIKE '%1219')\", None)\n",
    "arcpy.management.CalculateField(\"jctManholes\", \"GRID_X\", '\"E\"', \"PYTHON3\", '', \"TEXT\")\n",
    "arcpy.management.SelectLayerByAttribute(\"jctManholes\", \"NEW_SELECTION\", \"(FRSTDIVID LIKE '04%' Or FRSTDIVID LIKE '09%' Or FRSTDIVID LIKE '16%' Or FRSTDIVID LIKE '21%' Or FRSTDIVID LIKE '28%' Or FRSTDIVID LIKE '33%' ) AND (FRSTDIVID LIKE '%1319' or FRSTDIVID LIKE '%1219')\", None)\n",
    "arcpy.management.CalculateField(\"jctManholes\", \"GRID_X\", '\"D\"', \"PYTHON3\", '', \"TEXT\")\n",
    "arcpy.management.SelectLayerByAttribute(\"jctManholes\", \"NEW_SELECTION\", \"(FRSTDIVID LIKE '05%' Or FRSTDIVID LIKE '08%' Or FRSTDIVID LIKE '17%' Or FRSTDIVID LIKE '20%' Or FRSTDIVID LIKE '29%' Or FRSTDIVID LIKE '32%' ) AND (FRSTDIVID LIKE '%1319' or FRSTDIVID LIKE '%1219')\", None)\n",
    "arcpy.management.CalculateField(\"jctManholes\", \"GRID_X\", '\"C\"', \"PYTHON3\", '', \"TEXT\")\n",
    "arcpy.management.SelectLayerByAttribute(\"jctManholes\", \"NEW_SELECTION\", \"(FRSTDIVID LIKE '06%' Or FRSTDIVID LIKE '07%' Or FRSTDIVID LIKE '18%' Or FRSTDIVID LIKE '19%' Or FRSTDIVID LIKE '30%' Or FRSTDIVID LIKE '31%' ) AND (FRSTDIVID LIKE '%1319' or FRSTDIVID LIKE '%1219')\", None)\n",
    "arcpy.management.CalculateField(\"jctManholes\", \"GRID_X\", '\"B\"', \"PYTHON3\", '', \"TEXT\")\n",
    "arcpy.management.SelectLayerByAttribute(\"jctManholes\", \"NEW_SELECTION\", \"(FRSTDIVID LIKE '12%' Or FRSTDIVID LIKE '13%' Or FRSTDIVID LIKE '24%' Or FRSTDIVID LIKE '25%' Or FRSTDIVID LIKE '01%' Or FRSTDIVID LIKE '36%' ) AND (FRSTDIVID LIKE '%1318' or FRSTDIVID LIKE '%1218')\", None)\n",
    "arcpy.management.CalculateField(\"jctManholes\", \"GRID_X\", '\"A\"', \"PYTHON3\", '', \"TEXT\")"
   ]
  },
  {
   "cell_type": "code",
   "execution_count": null,
   "metadata": {},
   "outputs": [],
   "source": [
    "arcpy.management.AddField(\"jctManholes\", \"Quartering\", \"TEXT\", None, None, 1, '', \"NULLABLE\", \"NON_REQUIRED\", '')\n",
    "arcpy.management.SelectLayerByAttribute(\"jctManholes\", \"NEW_SELECTION\", \"FACILITYQS LIKE '%SW%'\", None)\n",
    "arcpy.management.CalculateField(\"jctManholes\", \"Quartering\", \"'w'\", \"PYTHON3\", '', \"TEXT\")\n",
    "arcpy.management.SelectLayerByAttribute(\"jctManholes\", \"NEW_SELECTION\", \"FACILITYQS LIKE '%NW%'\", None)\n",
    "arcpy.management.CalculateField(\"jctManholes\", \"Quartering\", \"'x'\", \"PYTHON3\", '', \"TEXT\")\n",
    "arcpy.management.SelectLayerByAttribute(\"jctManholes\", \"NEW_SELECTION\", \"FACILITYQS LIKE '%NE%'\", None)\n",
    "arcpy.management.CalculateField(\"jctManholes\", \"Quartering\", \"'y'\", \"PYTHON3\", '', \"TEXT\")\n",
    "arcpy.management.SelectLayerByAttribute(\"jctManholes\", \"NEW_SELECTION\", \"FACILITYQS LIKE '%SE%'\", None)\n",
    "arcpy.management.CalculateField(\"jctManholes\", \"Quartering\", \"'z'\", \"PYTHON3\", '', \"TEXT\")\n"
   ]
  },
  {
   "cell_type": "code",
   "execution_count": null,
   "metadata": {},
   "outputs": [],
   "source": [
    "arcpy.management.SelectLayerByAttribute(\"jctManholes\", \"NEW_SELECTION\", \"Grid_X IS NOT NULL And Grid_Y IS NOT NULL And Quartering IS NOT NULL And FACILITYABBV IS NOT NULL\", None)\n",
    "arcpy.management.CalculateField(\"jctManholes\", \"Name\", \"!Grid_X!+!Grid_Y!+!Quartering!+!FACILITYABBV!\", \"PYTHON3\", '', \"TEXT\")"
   ]
  },
  {
   "cell_type": "code",
   "execution_count": null,
   "metadata": {},
   "outputs": [],
   "source": [
    "#now do the same to upstream and downstream MH for Sewer Mains\n",
    "arcpy.management.AddField(\"Sewer_Mains\", \"FACILITYABBV\", \"TEXT\", None, None, 4, '', \"NULLABLE\", \"NON_REQUIRED\", '')\n",
    "arcpy.management.AddField(\"Sewer_Mains\", \"From_Name\", \"TEXT\", None, None, 16, '', \"NULLABLE\", \"NON_REQUIRED\", '')\n",
    "arcpy.management.AddField(\"Sewer_Mains\", \"Quartering\", \"TEXT\", None, None, 2, '', \"NULLABLE\", \"NON_REQUIRED\", '')\n",
    "arcpy.management.AddField(\"Sewer_Mains\", \"Grid_Y\", \"TEXT\", None, None, 2, '', \"NULLABLE\", \"NON_REQUIRED\", '')\n",
    "arcpy.management.AddField(\"Sewer_Mains\", \"Grid_X\", \"TEXT\", None, None, 2, '', \"NULLABLE\", \"NON_REQUIRED\", '')\n",
    "arcpy.management.AddField(\"Sewer_Mains\", \"FRSTDIVID\", \"TEXT\", None, None, 16, '', \"NULLABLE\", \"NON_REQUIRED\", '')\n"
   ]
  },
  {
   "cell_type": "code",
   "execution_count": 11,
   "metadata": {},
   "outputs": [
    {
     "data": {
      "text/html": [
       "<h2>Output</h2>a Layer object<h2>Messages</h2>Start Time: Wednesday, April 21, 2021 10:59:34 AM<br/>Succeeded at Wednesday, April 21, 2021 10:59:36 AM (Elapsed Time: 2.19 seconds)<br/><style>.rendered_html td, .rendered_html th {text-align: left;}.rendered_html tbody {border: 1px solid black;}</style>"
      ],
      "text/plain": [
       "<Result 'Sewer_Mains'>"
      ]
     },
     "execution_count": 11,
     "metadata": {},
     "output_type": "execute_result"
    }
   ],
   "source": [
    "arcpy.management.CalculateField(\"Sewer_Mains\", \"FRSTDIVID\", \"str(!FROMMH!)[2:8]\", \"PYTHON3\", '', \"TEXT\")"
   ]
  },
  {
   "cell_type": "code",
   "execution_count": null,
   "metadata": {},
   "outputs": [],
   "source": [
    "#calculate from MH parameters first\n",
    "arcpy.management.SelectLayerByAttribute(\"Sewer_Mains\", \"NEW_SELECTION\", \"FROMMH LIKE '%SW%'\", None)\n",
    "arcpy.management.CalculateField(\"Sewer_Mains\", \"Quartering\", \"'w'\", \"PYTHON3\", '', \"TEXT\")\n",
    "arcpy.management.SelectLayerByAttribute(\"Sewer_Mains\", \"NEW_SELECTION\", \"FROMMH LIKE '%NW%'\", None)\n",
    "arcpy.management.CalculateField(\"Sewer_Mains\", \"Quartering\", \"'x'\", \"PYTHON3\", '', \"TEXT\")\n",
    "arcpy.management.SelectLayerByAttribute(\"Sewer_Mains\", \"NEW_SELECTION\", \"FROMMH LIKE '%NE%'\", None)\n",
    "arcpy.management.CalculateField(\"Sewer_Mains\", \"Quartering\", \"'y'\", \"PYTHON3\", '', \"TEXT\")\n",
    "arcpy.management.SelectLayerByAttribute(\"Sewer_Mains\", \"NEW_SELECTION\", \"FROMMH LIKE '%SE%'\", None)\n",
    "arcpy.management.CalculateField(\"Sewer_Mains\", \"Quartering\", \"'z'\", \"PYTHON3\", '', \"TEXT\")"
   ]
  },
  {
   "cell_type": "code",
   "execution_count": 12,
   "metadata": {},
   "outputs": [
    {
     "data": {
      "text/html": [
       "<h2>Output</h2>a Layer object<h2>Messages</h2>Start Time: Wednesday, April 21, 2021 11:02:10 AM<br/>WARNING 000405: No records within table, or selection set has 0 records.<br/>Succeeded at Wednesday, April 21, 2021 11:02:11 AM (Elapsed Time: 0.19 seconds)<br/><style>.rendered_html td, .rendered_html th {text-align: left;}.rendered_html tbody {border: 1px solid black;}</style>"
      ],
      "text/plain": [
       "<Result 'Sewer_Mains'>"
      ]
     },
     "execution_count": 12,
     "metadata": {},
     "output_type": "execute_result"
    }
   ],
   "source": [
    "arcpy.management.SelectLayerByAttribute(\"Sewer_Mains\", \"NEW_SELECTION\", \"(FRSTDIVID LIKE '19%' Or FRSTDIVID LIKE '20%' Or FRSTDIVID LIKE '21%' Or FRSTDIVID LIKE '22%' Or FRSTDIVID LIKE '23%' Or FRSTDIVID LIKE '24%' ) AND (FRSTDIVID LIKE '%1318' or FRSTDIVID LIKE '%1319' or FRSTDIVID LIKE '%1320')\", None)\n",
    "#this sql would look nicer\n",
    "#arcpy.management.SelectLayerByAttribute(\"jctManholes\", \"NEW_SELECTION\", \"\"\"SUBSTRING(FACILITYID, 1, 2) IN ('NW', 'NE', 'SW', 'SE') AND SUBSTRING(FACILITYID, 3, 2) IN ('19', '20', '21', '22','23', '24') AND SUBSTRING(FACILITYID, 5, 4) in ('1318','1319','1320')\"\"\", None)\n",
    "arcpy.management.CalculateField(\"Sewer_Mains\", \"GRID_Y\", \"8\", \"PYTHON3\", '', \"TEXT\")\n",
    "arcpy.management.SelectLayerByAttribute(\"Sewer_Mains\", \"NEW_SELECTION\", \"(FRSTDIVID LIKE '13%' Or FRSTDIVID LIKE '14%' Or FRSTDIVID LIKE '15%' Or FRSTDIVID LIKE '16%' Or FRSTDIVID LIKE '17%' Or FRSTDIVID LIKE '18%' ) AND (FRSTDIVID LIKE '%1318' or FRSTDIVID LIKE '%1319' or FRSTDIVID LIKE '%1320')\", None)\n",
    "arcpy.management.CalculateField(\"Sewer_Mains\", \"GRID_Y\", \"7\", \"PYTHON3\", '', \"TEXT\")\n",
    "arcpy.management.SelectLayerByAttribute(\"Sewer_Mains\", \"NEW_SELECTION\", \"(FRSTDIVID LIKE '07%' Or FRSTDIVID LIKE '08%' Or FRSTDIVID LIKE '09%' Or FRSTDIVID LIKE '10%' Or FRSTDIVID LIKE '11%' Or FRSTDIVID LIKE '12%' ) AND (FRSTDIVID LIKE '%1318' or FRSTDIVID LIKE '%1319' or FRSTDIVID LIKE '%1320')\", None)\n",
    "arcpy.management.CalculateField(\"Sewer_Mains\", \"GRID_Y\", \"6\", \"PYTHON3\", '', \"TEXT\")\n",
    "arcpy.management.SelectLayerByAttribute(\"Sewer_Mains\", \"NEW_SELECTION\", \"(FRSTDIVID LIKE '01%' Or FRSTDIVID LIKE '02%' Or FRSTDIVID LIKE '03%' Or FRSTDIVID LIKE '04%' Or FRSTDIVID LIKE '05%' Or FRSTDIVID LIKE '06%' ) AND (FRSTDIVID LIKE '%1318' or FRSTDIVID LIKE '%1319' or FRSTDIVID LIKE '%1320')\", None)\n",
    "arcpy.management.CalculateField(\"Sewer_Mains\", \"GRID_Y\", \"5\", \"PYTHON3\", '', \"TEXT\")\n",
    "arcpy.management.SelectLayerByAttribute(\"Sewer_Mains\", \"NEW_SELECTION\", \"(FRSTDIVID LIKE '31%' Or FRSTDIVID LIKE '32%' Or FRSTDIVID LIKE '33%' Or FRSTDIVID LIKE '34%' Or FRSTDIVID LIKE '35%' Or FRSTDIVID LIKE '36%' ) AND (FRSTDIVID LIKE '%1218' or FRSTDIVID LIKE '%1219' or FRSTDIVID LIKE '%1220')\", None)\n",
    "arcpy.management.CalculateField(\"Sewer_Mains\", \"GRID_Y\", \"4\", \"PYTHON3\", '', \"TEXT\")\n",
    "arcpy.management.SelectLayerByAttribute(\"Sewer_Mains\", \"NEW_SELECTION\", \"(FRSTDIVID LIKE '25%' Or FRSTDIVID LIKE '26%' Or FRSTDIVID LIKE '27%' Or FRSTDIVID LIKE '28%' Or FRSTDIVID LIKE '29%' Or FRSTDIVID LIKE '30%' ) AND (FRSTDIVID LIKE '%1218' or FRSTDIVID LIKE '%1219' or FRSTDIVID LIKE '%1220')\", None)\n",
    "arcpy.management.CalculateField(\"Sewer_Mains\", \"GRID_Y\", \"3\", \"PYTHON3\", '', \"TEXT\")\n",
    "arcpy.management.SelectLayerByAttribute(\"Sewer_Mains\", \"NEW_SELECTION\", \"(FRSTDIVID LIKE '19%' Or FRSTDIVID LIKE '20%' Or FRSTDIVID LIKE '21%' Or FRSTDIVID LIKE '22%' Or FRSTDIVID LIKE '23%' Or FRSTDIVID LIKE '24%' ) AND (FRSTDIVID LIKE '%1218' or FRSTDIVID LIKE '%1219' or FRSTDIVID LIKE '%1220')\", None)\n",
    "arcpy.management.CalculateField(\"Sewer_Mains\", \"GRID_Y\", \"2\", \"PYTHON3\", '', \"TEXT\")\n",
    "arcpy.management.SelectLayerByAttribute(\"Sewer_Mains\", \"NEW_SELECTION\", \"(FRSTDIVID LIKE '13%' Or FRSTDIVID LIKE '14%' Or FRSTDIVID LIKE '15%' Or FRSTDIVID LIKE '16%' Or FRSTDIVID LIKE '17%' Or FRSTDIVID LIKE '18%' ) AND (FRSTDIVID LIKE '%1218' or FRSTDIVID LIKE '%1219' or FRSTDIVID LIKE '%1220')\", None)\n",
    "arcpy.management.CalculateField(\"Sewer_Mains\", \"GRID_Y\", \"1\", \"PYTHON3\", '', \"TEXT\")\n",
    "arcpy.management.SelectLayerByAttribute(\"Sewer_Mains\", \"NEW_SELECTION\", \"(FRSTDIVID LIKE '07%' Or FRSTDIVID LIKE '08%' Or FRSTDIVID LIKE '09%' Or FRSTDIVID LIKE '10%' Or FRSTDIVID LIKE '11%' Or FRSTDIVID LIKE '12%' ) AND (FRSTDIVID LIKE '%1218' or FRSTDIVID LIKE '%1219' or FRSTDIVID LIKE '%1220')\", None)\n",
    "arcpy.management.CalculateField(\"Sewer_Mains\", \"GRID_Y\", \"0\", \"PYTHON3\", '', \"TEXT\")\n",
    "arcpy.management.SelectLayerByAttribute(\"Sewer_Mains\", \"NEW_SELECTION\", \"(FRSTDIVID LIKE '01%' Or FRSTDIVID LIKE '12%' Or FRSTDIVID LIKE '13%' Or FRSTDIVID LIKE '24%' Or FRSTDIVID LIKE '25%' Or FRSTDIVID LIKE '36%' ) AND (FRSTDIVID LIKE '%1320' or FRSTDIVID LIKE '%1220')\", None)\n",
    "arcpy.management.CalculateField(\"Sewer_Mains\", \"GRID_X\", '\"M\"', \"PYTHON3\", '', \"TEXT\")\n",
    "arcpy.management.SelectLayerByAttribute(\"Sewer_Mains\", \"NEW_SELECTION\", \"(FRSTDIVID LIKE '02%' Or FRSTDIVID LIKE '11%' Or FRSTDIVID LIKE '14%' Or FRSTDIVID LIKE '23%' Or FRSTDIVID LIKE '26%' Or FRSTDIVID LIKE '35%' ) AND (FRSTDIVID LIKE '%1220' or FRSTDIVID LIKE '%1320')\", None)\n",
    "arcpy.management.CalculateField(\"Sewer_Mains\", \"GRID_X\", '\"L\"', \"PYTHON3\", '', \"TEXT\")\n",
    "arcpy.management.SelectLayerByAttribute(\"Sewer_Mains\", \"NEW_SELECTION\", \"(FRSTDIVID LIKE '03%' Or FRSTDIVID LIKE '10%' Or FRSTDIVID LIKE '15%' Or FRSTDIVID LIKE '22%' Or FRSTDIVID LIKE '27%' Or FRSTDIVID LIKE '34%' ) AND (FRSTDIVID LIKE '%1320' or FRSTDIVID LIKE '%1220')\", None)\n",
    "arcpy.management.CalculateField(\"Sewer_Mains\", \"GRID_X\", '\"K\"', \"PYTHON3\", '', \"TEXT\")\n",
    "arcpy.management.SelectLayerByAttribute(\"Sewer_Mains\", \"NEW_SELECTION\", \"(FRSTDIVID LIKE '04%' Or FRSTDIVID LIKE '09%' Or FRSTDIVID LIKE '16%' Or FRSTDIVID LIKE '21%' Or FRSTDIVID LIKE '28%' Or FRSTDIVID LIKE '33%' ) AND (FRSTDIVID LIKE '%1320' or FRSTDIVID LIKE '%1220')\", None)\n",
    "arcpy.management.CalculateField(\"Sewer_Mains\", \"GRID_X\", '\"J\"', \"PYTHON3\", '', \"TEXT\")\n",
    "arcpy.management.SelectLayerByAttribute(\"Sewer_Mains\", \"NEW_SELECTION\", \"(FRSTDIVID LIKE '05%' Or FRSTDIVID LIKE '08%' Or FRSTDIVID LIKE '17%' Or FRSTDIVID LIKE '20%' Or FRSTDIVID LIKE '29%' Or FRSTDIVID LIKE '32%' ) AND (FRSTDIVID LIKE '%1320' or FRSTDIVID LIKE '%1220')\", None)\n",
    "arcpy.management.CalculateField(\"Sewer_Mains\", \"GRID_X\", '\"I\"', \"PYTHON3\", '', \"TEXT\")\n",
    "arcpy.management.SelectLayerByAttribute(\"Sewer_Mains\", \"NEW_SELECTION\", \"(FRSTDIVID LIKE '06%' Or FRSTDIVID LIKE '07%' Or FRSTDIVID LIKE '18%' Or FRSTDIVID LIKE '19%' Or FRSTDIVID LIKE '30%' Or FRSTDIVID LIKE '31%' ) AND (FRSTDIVID LIKE '%1320' or FRSTDIVID LIKE '%1220')\", None)\n",
    "arcpy.management.CalculateField(\"Sewer_Mains\", \"GRID_X\", '\"H\"', \"PYTHON3\", '', \"TEXT\")\n",
    "arcpy.management.SelectLayerByAttribute(\"Sewer_Mains\", \"NEW_SELECTION\", \"(FRSTDIVID LIKE '01%' Or FRSTDIVID LIKE '12%' Or FRSTDIVID LIKE '13%' Or FRSTDIVID LIKE '24%' Or FRSTDIVID LIKE '25%' Or FRSTDIVID LIKE '36%' ) AND (FRSTDIVID LIKE '%1319' or FRSTDIVID LIKE '%1219')\", None)\n",
    "arcpy.management.CalculateField(\"Sewer_Mains\", \"GRID_X\", '\"G\"', \"PYTHON3\", '', \"TEXT\")\n",
    "arcpy.management.SelectLayerByAttribute(\"Sewer_Mains\", \"NEW_SELECTION\", \"(FRSTDIVID LIKE '02%' Or FRSTDIVID LIKE '11%' Or FRSTDIVID LIKE '14%' Or FRSTDIVID LIKE '23%' Or FRSTDIVID LIKE '26%' Or FRSTDIVID LIKE '35%' ) AND (FRSTDIVID LIKE '%1319' or FRSTDIVID LIKE '%1219')\", None)\n",
    "arcpy.management.CalculateField(\"Sewer_Mains\", \"GRID_X\", '\"F\"', \"PYTHON3\", '', \"TEXT\")\n",
    "arcpy.management.SelectLayerByAttribute(\"Sewer_Mains\", \"NEW_SELECTION\", \"(FRSTDIVID LIKE '03%' Or FRSTDIVID LIKE '10%' Or FRSTDIVID LIKE '15%' Or FRSTDIVID LIKE '22%' Or FRSTDIVID LIKE '27%' Or FRSTDIVID LIKE '34%' ) AND (FRSTDIVID LIKE '%1319' or FRSTDIVID LIKE '%1219')\", None)\n",
    "arcpy.management.CalculateField(\"Sewer_Mains\", \"GRID_X\", '\"E\"', \"PYTHON3\", '', \"TEXT\")\n",
    "arcpy.management.SelectLayerByAttribute(\"Sewer_Mains\", \"NEW_SELECTION\", \"(FRSTDIVID LIKE '04%' Or FRSTDIVID LIKE '09%' Or FRSTDIVID LIKE '16%' Or FRSTDIVID LIKE '21%' Or FRSTDIVID LIKE '28%' Or FRSTDIVID LIKE '33%' ) AND (FRSTDIVID LIKE '%1319' or FRSTDIVID LIKE '%1219')\", None)\n",
    "arcpy.management.CalculateField(\"Sewer_Mains\", \"GRID_X\", '\"D\"', \"PYTHON3\", '', \"TEXT\")\n",
    "arcpy.management.SelectLayerByAttribute(\"Sewer_Mains\", \"NEW_SELECTION\", \"(FRSTDIVID LIKE '05%' Or FRSTDIVID LIKE '08%' Or FRSTDIVID LIKE '17%' Or FRSTDIVID LIKE '20%' Or FRSTDIVID LIKE '29%' Or FRSTDIVID LIKE '32%' ) AND (FRSTDIVID LIKE '%1319' or FRSTDIVID LIKE '%1219')\", None)\n",
    "arcpy.management.CalculateField(\"Sewer_Mains\", \"GRID_X\", '\"C\"', \"PYTHON3\", '', \"TEXT\")\n",
    "arcpy.management.SelectLayerByAttribute(\"Sewer_Mains\", \"NEW_SELECTION\", \"(FRSTDIVID LIKE '06%' Or FRSTDIVID LIKE '07%' Or FRSTDIVID LIKE '18%' Or FRSTDIVID LIKE '19%' Or FRSTDIVID LIKE '30%' Or FRSTDIVID LIKE '31%' ) AND (FRSTDIVID LIKE '%1319' or FRSTDIVID LIKE '%1219')\", None)\n",
    "arcpy.management.CalculateField(\"Sewer_Mains\", \"GRID_X\", '\"B\"', \"PYTHON3\", '', \"TEXT\")\n",
    "arcpy.management.SelectLayerByAttribute(\"Sewer_Mains\", \"NEW_SELECTION\", \"(FRSTDIVID LIKE '12%' Or FRSTDIVID LIKE '13%' Or FRSTDIVID LIKE '24%' Or FRSTDIVID LIKE '25%' Or FRSTDIVID LIKE '01%' Or FRSTDIVID LIKE '36%' ) AND (FRSTDIVID LIKE '%1318' or FRSTDIVID LIKE '%1218')\", None)\n",
    "arcpy.management.CalculateField(\"Sewer_Mains\", \"GRID_X\", '\"A\"', \"PYTHON3\", '', \"TEXT\")"
   ]
  },
  {
   "cell_type": "code",
   "execution_count": null,
   "metadata": {},
   "outputs": [],
   "source": [
    "arcpy.management.CalculateField(\"Sewer_Mains\", \"FACILITYABBV\", \"str(!FROMMH!)[-3:]\", \"PYTHON3\", '', \"TEXT\")"
   ]
  },
  {
   "cell_type": "code",
   "execution_count": 13,
   "metadata": {},
   "outputs": [
    {
     "data": {
      "text/html": [
       "<h2>Output</h2>a Layer object<h2>Messages</h2>Start Time: Wednesday, April 21, 2021 11:11:37 AM<br/>Succeeded at Wednesday, April 21, 2021 11:11:39 AM (Elapsed Time: 2.19 seconds)<br/><style>.rendered_html td, .rendered_html th {text-align: left;}.rendered_html tbody {border: 1px solid black;}</style>"
      ],
      "text/plain": [
       "<Result 'Sewer_Mains'>"
      ]
     },
     "execution_count": 13,
     "metadata": {},
     "output_type": "execute_result"
    }
   ],
   "source": [
    "arcpy.management.SelectLayerByAttribute(\"Sewer_Mains\", \"NEW_SELECTION\", \"Grid_X IS NOT NULL And Grid_Y IS NOT NULL And Quartering IS NOT NULL And FACILITYABBV IS NOT NULL\", None)\n",
    "arcpy.management.CalculateField(\"Sewer_Mains\", \"From_Name\", \"!Grid_X!+!Grid_Y!+!Quartering!+!FACILITYABBV!\", \"PYTHON3\", '', \"TEXT\")"
   ]
  },
  {
   "cell_type": "code",
   "execution_count": 15,
   "metadata": {},
   "outputs": [
    {
     "data": {
      "text/html": [
       "<h2>Output</h2>a Layer object<h2>Messages</h2>Start Time: Wednesday, April 21, 2021 11:13:20 AM<br/>Adding To_Name to Sewer_Mains...<br/>Succeeded at Wednesday, April 21, 2021 11:13:21 AM (Elapsed Time: 1.26 seconds)<br/><style>.rendered_html td, .rendered_html th {text-align: left;}.rendered_html tbody {border: 1px solid black;}</style>"
      ],
      "text/plain": [
       "<Result 'Sewer_Mains'>"
      ]
     },
     "execution_count": 15,
     "metadata": {},
     "output_type": "execute_result"
    }
   ],
   "source": [
    "arcpy.management.AddField(\"Sewer_Mains\", \"To_Name\", \"TEXT\", None, None, 16, '', \"NULLABLE\", \"NON_REQUIRED\", '')"
   ]
  },
  {
   "cell_type": "code",
   "execution_count": 16,
   "metadata": {},
   "outputs": [
    {
     "data": {
      "text/html": [
       "<h2>Output</h2>a Layer object<h2>Messages</h2>Start Time: Wednesday, April 21, 2021 11:17:30 AM<br/>WARNING 000405: No records within table, or selection set has 0 records.<br/>Succeeded at Wednesday, April 21, 2021 11:17:30 AM (Elapsed Time: 0.18 seconds)<br/><style>.rendered_html td, .rendered_html th {text-align: left;}.rendered_html tbody {border: 1px solid black;}</style>"
      ],
      "text/plain": [
       "<Result 'Sewer_Mains'>"
      ]
     },
     "execution_count": 16,
     "metadata": {},
     "output_type": "execute_result"
    }
   ],
   "source": [
    "arcpy.management.CalculateField(\"Sewer_Mains\", \"FRSTDIVID\", \"str(!TOMH!)[2:8]\", \"PYTHON3\", '', \"TEXT\")\n",
    "arcpy.management.SelectLayerByAttribute(\"Sewer_Mains\", \"NEW_SELECTION\", \"TOMH LIKE '%SW%'\", None)\n",
    "arcpy.management.CalculateField(\"Sewer_Mains\", \"Quartering\", \"'w'\", \"PYTHON3\", '', \"TEXT\")\n",
    "arcpy.management.SelectLayerByAttribute(\"Sewer_Mains\", \"NEW_SELECTION\", \"TOMH LIKE '%NW%'\", None)\n",
    "arcpy.management.CalculateField(\"Sewer_Mains\", \"Quartering\", \"'x'\", \"PYTHON3\", '', \"TEXT\")\n",
    "arcpy.management.SelectLayerByAttribute(\"Sewer_Mains\", \"NEW_SELECTION\", \"TOMH LIKE '%NE%'\", None)\n",
    "arcpy.management.CalculateField(\"Sewer_Mains\", \"Quartering\", \"'y'\", \"PYTHON3\", '', \"TEXT\")\n",
    "arcpy.management.SelectLayerByAttribute(\"Sewer_Mains\", \"NEW_SELECTION\", \"TOMH LIKE '%SE%'\", None)\n",
    "arcpy.management.CalculateField(\"Sewer_Mains\", \"Quartering\", \"'z'\", \"PYTHON3\", '', \"TEXT\")\n",
    "\n",
    "arcpy.management.SelectLayerByAttribute(\"Sewer_Mains\", \"NEW_SELECTION\", \"(FRSTDIVID LIKE '19%' Or FRSTDIVID LIKE '20%' Or FRSTDIVID LIKE '21%' Or FRSTDIVID LIKE '22%' Or FRSTDIVID LIKE '23%' Or FRSTDIVID LIKE '24%' ) AND (FRSTDIVID LIKE '%1318' or FRSTDIVID LIKE '%1319' or FRSTDIVID LIKE '%1320')\", None)\n",
    "#this sql would look nicer\n",
    "#arcpy.management.SelectLayerByAttribute(\"jctManholes\", \"NEW_SELECTION\", \"\"\"SUBSTRING(FACILITYID, 1, 2) IN ('NW', 'NE', 'SW', 'SE') AND SUBSTRING(FACILITYID, 3, 2) IN ('19', '20', '21', '22','23', '24') AND SUBSTRING(FACILITYID, 5, 4) in ('1318','1319','1320')\"\"\", None)\n",
    "arcpy.management.CalculateField(\"Sewer_Mains\", \"GRID_Y\", \"8\", \"PYTHON3\", '', \"TEXT\")\n",
    "arcpy.management.SelectLayerByAttribute(\"Sewer_Mains\", \"NEW_SELECTION\", \"(FRSTDIVID LIKE '13%' Or FRSTDIVID LIKE '14%' Or FRSTDIVID LIKE '15%' Or FRSTDIVID LIKE '16%' Or FRSTDIVID LIKE '17%' Or FRSTDIVID LIKE '18%' ) AND (FRSTDIVID LIKE '%1318' or FRSTDIVID LIKE '%1319' or FRSTDIVID LIKE '%1320')\", None)\n",
    "arcpy.management.CalculateField(\"Sewer_Mains\", \"GRID_Y\", \"7\", \"PYTHON3\", '', \"TEXT\")\n",
    "arcpy.management.SelectLayerByAttribute(\"Sewer_Mains\", \"NEW_SELECTION\", \"(FRSTDIVID LIKE '07%' Or FRSTDIVID LIKE '08%' Or FRSTDIVID LIKE '09%' Or FRSTDIVID LIKE '10%' Or FRSTDIVID LIKE '11%' Or FRSTDIVID LIKE '12%' ) AND (FRSTDIVID LIKE '%1318' or FRSTDIVID LIKE '%1319' or FRSTDIVID LIKE '%1320')\", None)\n",
    "arcpy.management.CalculateField(\"Sewer_Mains\", \"GRID_Y\", \"6\", \"PYTHON3\", '', \"TEXT\")\n",
    "arcpy.management.SelectLayerByAttribute(\"Sewer_Mains\", \"NEW_SELECTION\", \"(FRSTDIVID LIKE '01%' Or FRSTDIVID LIKE '02%' Or FRSTDIVID LIKE '03%' Or FRSTDIVID LIKE '04%' Or FRSTDIVID LIKE '05%' Or FRSTDIVID LIKE '06%' ) AND (FRSTDIVID LIKE '%1318' or FRSTDIVID LIKE '%1319' or FRSTDIVID LIKE '%1320')\", None)\n",
    "arcpy.management.CalculateField(\"Sewer_Mains\", \"GRID_Y\", \"5\", \"PYTHON3\", '', \"TEXT\")\n",
    "arcpy.management.SelectLayerByAttribute(\"Sewer_Mains\", \"NEW_SELECTION\", \"(FRSTDIVID LIKE '31%' Or FRSTDIVID LIKE '32%' Or FRSTDIVID LIKE '33%' Or FRSTDIVID LIKE '34%' Or FRSTDIVID LIKE '35%' Or FRSTDIVID LIKE '36%' ) AND (FRSTDIVID LIKE '%1218' or FRSTDIVID LIKE '%1219' or FRSTDIVID LIKE '%1220')\", None)\n",
    "arcpy.management.CalculateField(\"Sewer_Mains\", \"GRID_Y\", \"4\", \"PYTHON3\", '', \"TEXT\")\n",
    "arcpy.management.SelectLayerByAttribute(\"Sewer_Mains\", \"NEW_SELECTION\", \"(FRSTDIVID LIKE '25%' Or FRSTDIVID LIKE '26%' Or FRSTDIVID LIKE '27%' Or FRSTDIVID LIKE '28%' Or FRSTDIVID LIKE '29%' Or FRSTDIVID LIKE '30%' ) AND (FRSTDIVID LIKE '%1218' or FRSTDIVID LIKE '%1219' or FRSTDIVID LIKE '%1220')\", None)\n",
    "arcpy.management.CalculateField(\"Sewer_Mains\", \"GRID_Y\", \"3\", \"PYTHON3\", '', \"TEXT\")\n",
    "arcpy.management.SelectLayerByAttribute(\"Sewer_Mains\", \"NEW_SELECTION\", \"(FRSTDIVID LIKE '19%' Or FRSTDIVID LIKE '20%' Or FRSTDIVID LIKE '21%' Or FRSTDIVID LIKE '22%' Or FRSTDIVID LIKE '23%' Or FRSTDIVID LIKE '24%' ) AND (FRSTDIVID LIKE '%1218' or FRSTDIVID LIKE '%1219' or FRSTDIVID LIKE '%1220')\", None)\n",
    "arcpy.management.CalculateField(\"Sewer_Mains\", \"GRID_Y\", \"2\", \"PYTHON3\", '', \"TEXT\")\n",
    "arcpy.management.SelectLayerByAttribute(\"Sewer_Mains\", \"NEW_SELECTION\", \"(FRSTDIVID LIKE '13%' Or FRSTDIVID LIKE '14%' Or FRSTDIVID LIKE '15%' Or FRSTDIVID LIKE '16%' Or FRSTDIVID LIKE '17%' Or FRSTDIVID LIKE '18%' ) AND (FRSTDIVID LIKE '%1218' or FRSTDIVID LIKE '%1219' or FRSTDIVID LIKE '%1220')\", None)\n",
    "arcpy.management.CalculateField(\"Sewer_Mains\", \"GRID_Y\", \"1\", \"PYTHON3\", '', \"TEXT\")\n",
    "arcpy.management.SelectLayerByAttribute(\"Sewer_Mains\", \"NEW_SELECTION\", \"(FRSTDIVID LIKE '07%' Or FRSTDIVID LIKE '08%' Or FRSTDIVID LIKE '09%' Or FRSTDIVID LIKE '10%' Or FRSTDIVID LIKE '11%' Or FRSTDIVID LIKE '12%' ) AND (FRSTDIVID LIKE '%1218' or FRSTDIVID LIKE '%1219' or FRSTDIVID LIKE '%1220')\", None)\n",
    "arcpy.management.CalculateField(\"Sewer_Mains\", \"GRID_Y\", \"0\", \"PYTHON3\", '', \"TEXT\")\n",
    "arcpy.management.SelectLayerByAttribute(\"Sewer_Mains\", \"NEW_SELECTION\", \"(FRSTDIVID LIKE '01%' Or FRSTDIVID LIKE '12%' Or FRSTDIVID LIKE '13%' Or FRSTDIVID LIKE '24%' Or FRSTDIVID LIKE '25%' Or FRSTDIVID LIKE '36%' ) AND (FRSTDIVID LIKE '%1320' or FRSTDIVID LIKE '%1220')\", None)\n",
    "arcpy.management.CalculateField(\"Sewer_Mains\", \"GRID_X\", '\"M\"', \"PYTHON3\", '', \"TEXT\")\n",
    "arcpy.management.SelectLayerByAttribute(\"Sewer_Mains\", \"NEW_SELECTION\", \"(FRSTDIVID LIKE '02%' Or FRSTDIVID LIKE '11%' Or FRSTDIVID LIKE '14%' Or FRSTDIVID LIKE '23%' Or FRSTDIVID LIKE '26%' Or FRSTDIVID LIKE '35%' ) AND (FRSTDIVID LIKE '%1220' or FRSTDIVID LIKE '%1320')\", None)\n",
    "arcpy.management.CalculateField(\"Sewer_Mains\", \"GRID_X\", '\"L\"', \"PYTHON3\", '', \"TEXT\")\n",
    "arcpy.management.SelectLayerByAttribute(\"Sewer_Mains\", \"NEW_SELECTION\", \"(FRSTDIVID LIKE '03%' Or FRSTDIVID LIKE '10%' Or FRSTDIVID LIKE '15%' Or FRSTDIVID LIKE '22%' Or FRSTDIVID LIKE '27%' Or FRSTDIVID LIKE '34%' ) AND (FRSTDIVID LIKE '%1320' or FRSTDIVID LIKE '%1220')\", None)\n",
    "arcpy.management.CalculateField(\"Sewer_Mains\", \"GRID_X\", '\"K\"', \"PYTHON3\", '', \"TEXT\")\n",
    "arcpy.management.SelectLayerByAttribute(\"Sewer_Mains\", \"NEW_SELECTION\", \"(FRSTDIVID LIKE '04%' Or FRSTDIVID LIKE '09%' Or FRSTDIVID LIKE '16%' Or FRSTDIVID LIKE '21%' Or FRSTDIVID LIKE '28%' Or FRSTDIVID LIKE '33%' ) AND (FRSTDIVID LIKE '%1320' or FRSTDIVID LIKE '%1220')\", None)\n",
    "arcpy.management.CalculateField(\"Sewer_Mains\", \"GRID_X\", '\"J\"', \"PYTHON3\", '', \"TEXT\")\n",
    "arcpy.management.SelectLayerByAttribute(\"Sewer_Mains\", \"NEW_SELECTION\", \"(FRSTDIVID LIKE '05%' Or FRSTDIVID LIKE '08%' Or FRSTDIVID LIKE '17%' Or FRSTDIVID LIKE '20%' Or FRSTDIVID LIKE '29%' Or FRSTDIVID LIKE '32%' ) AND (FRSTDIVID LIKE '%1320' or FRSTDIVID LIKE '%1220')\", None)\n",
    "arcpy.management.CalculateField(\"Sewer_Mains\", \"GRID_X\", '\"I\"', \"PYTHON3\", '', \"TEXT\")\n",
    "arcpy.management.SelectLayerByAttribute(\"Sewer_Mains\", \"NEW_SELECTION\", \"(FRSTDIVID LIKE '06%' Or FRSTDIVID LIKE '07%' Or FRSTDIVID LIKE '18%' Or FRSTDIVID LIKE '19%' Or FRSTDIVID LIKE '30%' Or FRSTDIVID LIKE '31%' ) AND (FRSTDIVID LIKE '%1320' or FRSTDIVID LIKE '%1220')\", None)\n",
    "arcpy.management.CalculateField(\"Sewer_Mains\", \"GRID_X\", '\"H\"', \"PYTHON3\", '', \"TEXT\")\n",
    "arcpy.management.SelectLayerByAttribute(\"Sewer_Mains\", \"NEW_SELECTION\", \"(FRSTDIVID LIKE '01%' Or FRSTDIVID LIKE '12%' Or FRSTDIVID LIKE '13%' Or FRSTDIVID LIKE '24%' Or FRSTDIVID LIKE '25%' Or FRSTDIVID LIKE '36%' ) AND (FRSTDIVID LIKE '%1319' or FRSTDIVID LIKE '%1219')\", None)\n",
    "arcpy.management.CalculateField(\"Sewer_Mains\", \"GRID_X\", '\"G\"', \"PYTHON3\", '', \"TEXT\")\n",
    "arcpy.management.SelectLayerByAttribute(\"Sewer_Mains\", \"NEW_SELECTION\", \"(FRSTDIVID LIKE '02%' Or FRSTDIVID LIKE '11%' Or FRSTDIVID LIKE '14%' Or FRSTDIVID LIKE '23%' Or FRSTDIVID LIKE '26%' Or FRSTDIVID LIKE '35%' ) AND (FRSTDIVID LIKE '%1319' or FRSTDIVID LIKE '%1219')\", None)\n",
    "arcpy.management.CalculateField(\"Sewer_Mains\", \"GRID_X\", '\"F\"', \"PYTHON3\", '', \"TEXT\")\n",
    "arcpy.management.SelectLayerByAttribute(\"Sewer_Mains\", \"NEW_SELECTION\", \"(FRSTDIVID LIKE '03%' Or FRSTDIVID LIKE '10%' Or FRSTDIVID LIKE '15%' Or FRSTDIVID LIKE '22%' Or FRSTDIVID LIKE '27%' Or FRSTDIVID LIKE '34%' ) AND (FRSTDIVID LIKE '%1319' or FRSTDIVID LIKE '%1219')\", None)\n",
    "arcpy.management.CalculateField(\"Sewer_Mains\", \"GRID_X\", '\"E\"', \"PYTHON3\", '', \"TEXT\")\n",
    "arcpy.management.SelectLayerByAttribute(\"Sewer_Mains\", \"NEW_SELECTION\", \"(FRSTDIVID LIKE '04%' Or FRSTDIVID LIKE '09%' Or FRSTDIVID LIKE '16%' Or FRSTDIVID LIKE '21%' Or FRSTDIVID LIKE '28%' Or FRSTDIVID LIKE '33%' ) AND (FRSTDIVID LIKE '%1319' or FRSTDIVID LIKE '%1219')\", None)\n",
    "arcpy.management.CalculateField(\"Sewer_Mains\", \"GRID_X\", '\"D\"', \"PYTHON3\", '', \"TEXT\")\n",
    "arcpy.management.SelectLayerByAttribute(\"Sewer_Mains\", \"NEW_SELECTION\", \"(FRSTDIVID LIKE '05%' Or FRSTDIVID LIKE '08%' Or FRSTDIVID LIKE '17%' Or FRSTDIVID LIKE '20%' Or FRSTDIVID LIKE '29%' Or FRSTDIVID LIKE '32%' ) AND (FRSTDIVID LIKE '%1319' or FRSTDIVID LIKE '%1219')\", None)\n",
    "arcpy.management.CalculateField(\"Sewer_Mains\", \"GRID_X\", '\"C\"', \"PYTHON3\", '', \"TEXT\")\n",
    "arcpy.management.SelectLayerByAttribute(\"Sewer_Mains\", \"NEW_SELECTION\", \"(FRSTDIVID LIKE '06%' Or FRSTDIVID LIKE '07%' Or FRSTDIVID LIKE '18%' Or FRSTDIVID LIKE '19%' Or FRSTDIVID LIKE '30%' Or FRSTDIVID LIKE '31%' ) AND (FRSTDIVID LIKE '%1319' or FRSTDIVID LIKE '%1219')\", None)\n",
    "arcpy.management.CalculateField(\"Sewer_Mains\", \"GRID_X\", '\"B\"', \"PYTHON3\", '', \"TEXT\")\n",
    "arcpy.management.SelectLayerByAttribute(\"Sewer_Mains\", \"NEW_SELECTION\", \"(FRSTDIVID LIKE '12%' Or FRSTDIVID LIKE '13%' Or FRSTDIVID LIKE '24%' Or FRSTDIVID LIKE '25%' Or FRSTDIVID LIKE '01%' Or FRSTDIVID LIKE '36%' ) AND (FRSTDIVID LIKE '%1318' or FRSTDIVID LIKE '%1218')\", None)\n",
    "arcpy.management.CalculateField(\"Sewer_Mains\", \"GRID_X\", '\"A\"', \"PYTHON3\", '', \"TEXT\")"
   ]
  },
  {
   "cell_type": "code",
   "execution_count": 18,
   "metadata": {},
   "outputs": [
    {
     "data": {
      "text/html": [
       "<h2>Output</h2>a Layer object<h2>Messages</h2>Start Time: Wednesday, April 21, 2021 11:18:03 AM<br/>Succeeded at Wednesday, April 21, 2021 11:18:05 AM (Elapsed Time: 1.61 seconds)<br/><style>.rendered_html td, .rendered_html th {text-align: left;}.rendered_html tbody {border: 1px solid black;}</style>"
      ],
      "text/plain": [
       "<Result 'Sewer_Mains'>"
      ]
     },
     "execution_count": 18,
     "metadata": {},
     "output_type": "execute_result"
    }
   ],
   "source": [
    "arcpy.management.CalculateField(\"Sewer_Mains\", \"FACILITYABBV\", \"str(!TOMH!)[-3:]\", \"PYTHON3\", '', \"TEXT\")"
   ]
  },
  {
   "cell_type": "code",
   "execution_count": 19,
   "metadata": {},
   "outputs": [
    {
     "data": {
      "text/html": [
       "<h2>Output</h2>a Layer object<h2>Messages</h2>Start Time: Wednesday, April 21, 2021 11:19:01 AM<br/>Succeeded at Wednesday, April 21, 2021 11:19:03 AM (Elapsed Time: 1.72 seconds)<br/><style>.rendered_html td, .rendered_html th {text-align: left;}.rendered_html tbody {border: 1px solid black;}</style>"
      ],
      "text/plain": [
       "<Result 'Sewer_Mains'>"
      ]
     },
     "execution_count": 19,
     "metadata": {},
     "output_type": "execute_result"
    }
   ],
   "source": [
    "arcpy.management.SelectLayerByAttribute(\"Sewer_Mains\", \"NEW_SELECTION\", \"Grid_X IS NOT NULL And Grid_Y IS NOT NULL And Quartering IS NOT NULL And FACILITYABBV IS NOT NULL\", None)\n",
    "arcpy.management.CalculateField(\"Sewer_Mains\", \"To_Name\", \"!Grid_X!+!Grid_Y!+!Quartering!+!FACILITYABBV!\", \"PYTHON3\", '', \"TEXT\")"
   ]
  },
  {
   "cell_type": "code",
   "execution_count": null,
   "metadata": {},
   "outputs": [],
   "source": [
    "arcpy.management.AddField(\"Sewer_Mains\", \"Name\", \"TEXT\", None, None, 16, '', \"NULLABLE\", \"NON_REQUIRED\", '')\n"
   ]
  },
  {
   "cell_type": "code",
   "execution_count": 20,
   "metadata": {},
   "outputs": [
    {
     "data": {
      "text/html": [
       "<h2>Output</h2>a Layer object<h2>Messages</h2>Start Time: Wednesday, April 21, 2021 11:22:32 AM<br/>Succeeded at Wednesday, April 21, 2021 11:22:34 AM (Elapsed Time: 2.03 seconds)<br/><style>.rendered_html td, .rendered_html th {text-align: left;}.rendered_html tbody {border: 1px solid black;}</style>"
      ],
      "text/plain": [
       "<Result 'Sewer_Mains'>"
      ]
     },
     "execution_count": 20,
     "metadata": {},
     "output_type": "execute_result"
    }
   ],
   "source": [
    "arcpy.management.CalculateField(\"Sewer_Mains\", \"Name\", \"str(!From_Name!)+str(!To_Name!)\", \"PYTHON3\", '', \"TEXT\")"
   ]
  },
  {
   "cell_type": "code",
   "execution_count": null,
   "metadata": {},
   "outputs": [],
   "source": [
    "# add calculates for Grid X, Y to accomodate HINU, KU, EWH, PS, etc, strip # characters, dashes, enforce leading zeros, etc\n",
    "# for now I dont think they have all the elevation data to model anyway\n"
   ]
  },
  {
   "cell_type": "code",
   "execution_count": null,
   "metadata": {},
   "outputs": [],
   "source": [
    "\n",
    "arcpy.management.CreateFileGDB(r\"C:\\Users\\kgonterwitz\\OneDrive - City of Lawrence KS\\Documents\\ArcGIS\\Projects\\EPANET_Dev1\", \"SS_SWMM_Test\", \"CURRENT\")\n",
    "arcpy.management.ImportXMLWorkspaceDocument(r\"C:\\Users\\kgonterwitz\\OneDrive - City of Lawrence KS\\Documents\\ArcGIS\\Projects\\EPANET_Dev1\\SS_SWMM_Test.gdb\", r\"C:\\gisdata\\EPASWMM\\GIS_SWMM_inp_1_ExportXMLWork.xml\", \"SCHEMA_ONLY\", \"DEFAULTS\")"
   ]
  },
  {
   "cell_type": "code",
   "execution_count": 24,
   "metadata": {},
   "outputs": [
    {
     "data": {
      "text/html": [
       "<h2>Output</h2>a Layer object<h2>Messages</h2>Start Time: Wednesday, April 21, 2021 11:57:16 AM<br/>Succeeded at Wednesday, April 21, 2021 11:57:18 AM (Elapsed Time: 1.50 seconds)<br/><style>.rendered_html td, .rendered_html th {text-align: left;}.rendered_html tbody {border: 1px solid black;}</style>"
      ],
      "text/plain": [
       "<Result 'Condiuts'>"
      ]
     },
     "execution_count": 24,
     "metadata": {},
     "output_type": "execute_result"
    }
   ],
   "source": [
    "SWMMdbName = 'SS_SWMM_Test2.gdb'\n",
    "SWMMDBpath = r'C:\\Users\\kgonterwitz\\OneDrive - City of Lawrence KS\\Documents\\ArcGIS\\Projects\\EPANET_Dev1'\n",
    "SWMMDB = SWMMDBpath+r\"\\\\\"+SWMMdbName\n",
    "\n",
    "arcpy.management.CreateFileGDB(SWMMDBpath, SWMMdbName, \"CURRENT\")\n",
    "arcpy.management.ImportXMLWorkspaceDocument(SWMMDB, r\"C:\\gisdata\\EPASWMM\\GIS_SWMM_inp_1_ExportXMLWork.xml\", \"SCHEMA_ONLY\", \"DEFAULTS\")\n",
    "\n",
    "arcpy.management.Append(\"jctManholes\", SWMMDB+r\"\\SWMM\\Junctions\", \"NO_TEST\", 'Name \"Name\" true true false 255 Text 0 0,First,#,jctManholes,Name,0,20;Elevation \"Elevation\" true true false 8 Double 0 0,First,#,jctManholes,INVERTELEV,-1,-1;MaxDepth \"MaxDepth\" true true false 8 Double 0 0,First,#,jctManholes,MaxDepth,-1,-1;InitDepth \"InitDepth\" true true false 8 Double 0 0,First,#,jctManholes,InitDepth,-1,-1;SurDepth \"SurDepth\" true true false 8 Double 0 0,First,#,jctManholes,SurDepth,-1,-1;Aponded \"Aponded\" true true false 8 Double 0 0,First,#,jctManholes,Aponded,-1,-1', '', '')\n",
    "arcpy.management.Append(\"Sewer_Mains\", SWMMDB+r\"\\SWMM\\Condiuts\", \"NO_TEST\", 'Name \"Name\" true true false 255 Text 0 0,First,#,Sewer_Mains,Name,0,32;From_Node \"From_Node\" true true false 255 Text 0 0,First,#,Sewer_Mains,From_Name,0,20;To_Node \"To_Node\" true true false 255 Text 0 0,First,#,Sewer_Mains,To_Name,0,20;Length \"Length\" true true false 8 Double 0 0,First,#,Sewer_Mains,SHAPE_Length,-1,-1;Roughness \"Roughness\" true true false 8 Double 0 0,First,#;InOffset \"InOffset\" true true false 8 Double 0 0,First,#;OutOffset \"OutOffset\" true true false 8 Double 0 0,First,#;InitFlow \"InitFlow\" true true false 8 Double 0 0,First,#', '', '')\n",
    "arcpy.management.Append(\"Sewer_Mains\", SWMMDB+r\"\\SWMM\\XSECTIONS\", \"NO_TEST\", 'Link \"Link\" true true false 255 Text 0 0,First,#,Sewer_Mains,Name,0,32;Link_Shape \"Shape\" true true false 255 Text 0 0,First,#;Geom1 \"Geom1\" true true false 8 Double 0 0,First,#,Sewer_Mains,DIAMETER,-1,-1;Geom2 \"Geom2\" true true false 8 Double 0 0,First,#;Geom3 \"Geom3\" true true false 8 Double 0 0,First,#;Geom4 \"Geom4\" true true false 8 Double 0 0,First,#;Barrels \"Barrels\" true true false 4 Long 0 0,First,#;Culvert \"Culvert\" true true false 8 Double 0 0,First,#', '', '')\n",
    "\n",
    "arcpy.management.CalculateField(\"XSECTIONS\", \"Barrels\", \"1\", \"PYTHON3\", '', \"TEXT\")\n",
    "arcpy.management.CalculateField(\"XSECTIONS\", \"Geom4\", \"0\", \"PYTHON3\", '', \"TEXT\")\n",
    "arcpy.management.CalculateField(\"XSECTIONS\", \"Geom3\", \"0\", \"PYTHON3\", '', \"TEXT\")\n",
    "arcpy.management.CalculateField(\"XSECTIONS\", \"Geom2\", \"0\", \"PYTHON3\", '', \"TEXT\")\n",
    "arcpy.management.CalculateField(\"XSECTIONS\", \"Link_Shape\", '\"CIRCULAR\"', \"PYTHON3\", '', \"TEXT\")\n",
    "arcpy.management.CalculateField(\"Condiuts\", \"MaxFLow\", \"0\", \"PYTHON3\", '', \"TEXT\")\n",
    "arcpy.management.CalculateField(\"Condiuts\", \"InitFlow\", \"0\", \"PYTHON3\", '', \"TEXT\")\n",
    "arcpy.management.CalculateField(\"Condiuts\", \"OutOffset\", \"0\", \"PYTHON3\", '', \"TEXT\")\n",
    "arcpy.management.CalculateField(\"Condiuts\", \"InOffset\", \"0\", \"PYTHON3\", '', \"TEXT\")\n",
    "arcpy.management.CalculateField(\"Condiuts\", \"Roughness\", \"0.01\", \"PYTHON3\", '', \"TEXT\")\n",
    "arcpy.management.CalculateField(\"Junctions\", \"InitDepth\", \"0\", \"PYTHON3\", '', \"TEXT\")\n",
    "arcpy.management.CalculateField(\"Junctions\", \"SurDepth\", \"0\", \"PYTHON3\", '', \"TEXT\")\n",
    "arcpy.management.CalculateField(\"Junctions\", \"Aponded\", \"0\", \"PYTHON3\", '', \"TEXT\")\n",
    "arcpy.management.CalculateGeometryAttributes(\"Junctions\", \"POINT_X POINT_X;POINT_Y POINT_Y\", '', '', \"PROJCS['NAD_1983_2011_KS_RCS_Zone_11',GEOGCS['GCS_NAD_1983_2011',DATUM['D_NAD_1983_2011',SPHEROID['GRS_1980',6378137.0,298.257222101]],PRIMEM['Greenwich',0.0],UNIT['Degree',0.0174532925199433]],PROJECTION['Lambert_Conformal_Conic'],PARAMETER['False_Easting',11500000.0],PARAMETER['False_Northing',600000.0],PARAMETER['Central_Meridian',-95.25],PARAMETER['Standard_Parallel_1',39.1],PARAMETER['Scale_Factor',1.000033],PARAMETER['Latitude_Of_Origin',39.1],UNIT['Foot_US',0.3048006096012192]]\", \"SAME_AS_INPUT\")\n",
    "\n"
   ]
  },
  {
   "cell_type": "code",
   "execution_count": 25,
   "metadata": {},
   "outputs": [
    {
     "data": {
      "text/html": [
       "<h2>Output</h2>a Layer object<h2>Messages</h2>Start Time: Wednesday, April 21, 2021 1:23:17 PM<br/>Succeeded at Wednesday, April 21, 2021 1:23:25 PM (Elapsed Time: 7.67 seconds)<br/><style>.rendered_html td, .rendered_html th {text-align: left;}.rendered_html tbody {border: 1px solid black;}</style>"
      ],
      "text/plain": [
       "<Result 'Junctions'>"
      ]
     },
     "execution_count": 25,
     "metadata": {},
     "output_type": "execute_result"
    }
   ],
   "source": []
  },
  {
   "cell_type": "code",
   "execution_count": null,
   "metadata": {},
   "outputs": [],
   "source": []
  }
 ],
 "metadata": {
  "kernelspec": {
   "display_name": "ArcGISPro",
   "language": "Python",
   "name": "python3"
  },
  "language_info": {
   "file_extension": ".py",
   "name": "python",
   "version": "3"
  }
 },
 "nbformat": 4,
 "nbformat_minor": 2
}
