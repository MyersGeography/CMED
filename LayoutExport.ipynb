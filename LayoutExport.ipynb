{
 "cells": [
  {
   "cell_type": "code",
   "execution_count": 2,
   "metadata": {},
   "outputs": [
    {
     "name": "stdout",
     "output_type": "stream",
     "text": [
      "Lawrence Reference\n",
      "Map 5B - T2050- Baldwin City Land Form and Barriers\n",
     ]
    }
   ],
   "source": [
    "import os\n",
    "aprx = arcpy.mp.ArcGISProject(r\"CURRENT\")  #\"CURRENT\" can also be used to replace the path\n",
    "lyt = aprx.listLayouts() #x: The number of the layout within the project\n",
    "\n",
    "for layout in lyt:\n",
    "    print(layout.name)\n",
    "#    lyt.exportToPDF(os.path.join(r\"\\\\citydata\\users\\kgonterwitz\\projectreviews\\test\", f\"{layout.name}\"))\n",
    "#print(\"Export Succeeded\")"
   ]
  },
  {
   "cell_type": "code",
   "execution_count": null,
   "metadata": {},
   "outputs": [],
   "source": []
  },
  {
   "cell_type": "code",
   "execution_count": null,
   "metadata": {},
   "outputs": [],
   "source": []
  },
  {
   "cell_type": "code",
   "execution_count": null,
   "metadata": {},
   "outputs": [],
   "source": []
  }
 ],
 "metadata": {
  "kernelspec": {
   "display_name": "ArcGISPro",
   "language": "Python",
   "name": "python3"
  },
  "language_info": {
   "file_extension": ".py",
   "name": "python",
   "version": "3"
  }
 },
 "nbformat": 4,
 "nbformat_minor": 2
}
