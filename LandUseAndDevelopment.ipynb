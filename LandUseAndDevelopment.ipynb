{
 "cells": [
  {
   "cell_type": "markdown",
   "metadata": {},
   "source": [
    "Run this script to combine Land Use (2020), Zoning, and Building Permit Data to identify progress and remaining development potential in developing subdivisions\n",
    "\n",
    "Data sources:\n",
    "\n",
    "https://services.arcgis.com/8O9UlSTnqjKptoda/arcgis/rest/services/Land_Use_2020/FeatureServer\n",
    "\n",
    "https://services.arcgis.com/8O9UlSTnqjKptoda/arcgis/rest/services/Building_Permit_Records/FeatureServer\n",
    "\n",
    "https://services.arcgis.com/8O9UlSTnqjKptoda/arcgis/rest/services/Planimetrics/FeatureServer\n",
    "\n",
    "https://gis2.lawrenceks.org/ArcGIS/rest/services/Parcels/MapServer\n",
    "\n",
    "https://tiles.arcgis.com/tiles/8O9UlSTnqjKptoda/arcgis/rest/services/LAWRENCE_KS_AERIAL_2020/MapServer\n",
    "\n",
    "https://services.arcgis.com/8O9UlSTnqjKptoda/arcgis/rest/services/Lawrence_Zoning/FeatureServer\n",
    "\n",
    "https://services.arcgis.com/8O9UlSTnqjKptoda/arcgis/rest/services/Plats/FeatureServer\n",
    "\n"
   ]
  },
  {
   "cell_type": "code",
   "execution_count": null,
   "metadata": {
    "scrolled": true
   },
   "outputs": [],
   "source": [
    "filegdb = r\"C:\\Users\\kgonterwitz\\Documents\\ArcGIS\\Projects\\Kyle Project 2\\BuildingSum20210401.gdb\"\n",
    "arcpy.conversion.FeatureClassToFeatureClass(\"Plats\", filegdb, \"PlatsCopy\", \"#\", '#', '')\n",
    "arcpy.management.AddField(filegdb+r\"\\PlatsCopy\", \"LotBlock\", \"TEXT\", None, None, 24, '', \"NULLABLE\", \"NON_REQUIRED\", '')\n",
    "arcpy.management.CalculateField(filegdb+r\"\\PlatsCopy\", \"LotBlock\", 'str(!BLOCK!)+\"-\"+ str(!LOT!)', \"PYTHON3\", '', \"TEXT\")\n",
    "arcpy.management.FeatureToPoint(\"PlatsCopy\", filegdb+r\"\\PlatsCopyPoints\", \"INSIDE\")\n",
    "arcpy.analysis.SpatialJoin(\"Parcels\", \"PlatsCopyPoints\", filegdb+r\"\\PlatsInParcels\", \"JOIN_ONE_TO_ONE\", \"KEEP_ALL\", '#', \"INTERSECT\", None, '')\n",
    "arcpy.management.AlterField(\"PlatsInParcels\", \"Join_Count\", \"Lots_in_Parcel\", \"Platted Lots Per Parcel\", \"LONG\", 4, \"NULLABLE\", \"DO_NOT_CLEAR\")\n",
    "arcpy.management.FeatureToPoint(\"PlatsInParcels\", filegdb+r\"\\PlatsInParcelPoint\", \"INSIDE\")\n",
    "arcpy.analysis.SpatialJoin(filegdb+r\"\\PlatsInParcelPoint\", \"Lawrence Zoning\", filegdb+r\"\\ParcelZoning\", \"JOIN_ONE_TO_ONE\", \"KEEP_ALL\")\n",
    "arcpy.management.AlterField(\"ParcelZoning\", \"Join_Count\", \"Parcel_zone_Count\", \"Zonings Per Parcel\", \"LONG\", 4, \"NULLABLE\", \"DO_NOT_CLEAR\")\n",
    "arcpy.management.AddIndex(filegdb+r\"\\PlatsInParcels\", \"JOINPIN\", \"JOINPIN\", \"UNIQUE\", \"ASCENDING\")\n",
    "arcpy.management.AddIndex(filegdb+r\"\\ParcelZoning\", \"JOINPIN\", \"JOINPINz\", \"UNIQUE\", \"ASCENDING\")\n",
    "arcpy.conversion.FeatureClassToFeatureClass(filegdb+r\"\\PlatsInParcels\", filegdb, \"Parcels_ID\", '', r'JOINPIN \"JOINPIN\" true true false 23 Text 0 0,First,#,PlatsInParcels,JOINPIN,0,23', '')\n",
    "arcpy.management.AddJoin(\"Parcels_ID\", \"JOINPIN\", filegdb+r\"\\ParcelZoning\", \"JOINPIN\", \"KEEP_ALL\")\n",
    "arcpy.management.FeatureToPoint(\"LU2020\", filegdb+r\"\\LandUsePoints\", \"INSIDE\")\n",
    "arcpy.analysis.SpatialJoin(\"Parcels_ID\", filegdb+r\"\\LandUsePoints\", filegdb+r\"\\ParcelZoningLandUse\", \"JOIN_ONE_TO_ONE\", \"KEEP_ALL\")\n",
    "arcpy.management.AlterField(filegdb+r\"ParcelZoningLandUse\", \"Join_Count\", \"LandUse_Count\", \"LandUses Per Parcel\", \"LONG\", 4, \"NULLABLE\", \"DO_NOT_CLEAR\")\n",
    "arcpy.management.FeatureToPoint(\"LU2020\", filegdb+r\"\\LandUsePoints\", \"INSIDE\")\n",
    "arcpy.analysis.SpatialJoin(\"Parcels_ID\", filegdb+r\"\\LandUsePoints\", filegdb+r\"\\ParcelZoningLandUse\", \"JOIN_ONE_TO_ONE\", \"KEEP_ALL\")\n",
    "arcpy.management.AlterField(filegdb+r\"\\ParcelZoningLandUse\", \"Join_Count\", \"LandUse_Count\", \"LandUses Per Parcel\", \"LONG\", 4, \"NULLABLE\", \"DO_NOT_CLEAR\")\n",
    "arcpy.analysis.SummarizeWithin(\"ParcelZoningLandUse\", \"BuildingFootprints\", filegdb+r\"\\ParcelZoningLandUseBuildings\", \"KEEP_ALL\", \"Shape_Area Sum\", \"NO_SHAPE_SUM\", \"SQUAREFEET\", None, \"NO_MIN_MAJ\", \"NO_PERCENT\", None)\n",
    "arcpy.management.AlterField(filegdb+r\"\\ParcelZoningLandUseBuildings\", \"SUM_Area_SQUAREFEET\", \"BuildingFootprintArea\", \"Building Footprint Square Footage\", \"LONG\", 4, \"NULLABLE\", \"DO_NOT_CLEAR\")\n",
    "arcpy.conversion.FeatureClassToFeatureClass(\"Building Permit\", filegdb, \"NewPermitsResidential\", \"Issued >= timestamp '2018-01-01 00:00:00' And Classification IN ('COMMERCIAL NEW MULTI-FAMILY', 'RESIDENTIAL NEW DUPLEX', 'RESIDENTIAL NEW SINGLE FAMILY')\", '#', '')\n",
    "arcpy.analysis.SpatialJoin(\"ParcelZoningLandUseBuildings\", \"NewPermitsResidential\", filegdb+r\"\\ParcelZoningLandUseBuildingsPermits\", \"JOIN_ONE_TO_ONE\", \"KEEP_ALL\", '#', \"INTERSECT\", None, '')\n",
    "arcpy.management.Dissolve(\"ParcelZoningLandUseBuildingsPermits\", filegdb+r\"\\Subdivisions\", \"SUBDIVISION;NAME;Zoning\", \"Parcel_zone_Count SUM;Join_Count SUM;Lots_in_Parcel SUM;flivunits SUM;SUM_Area_SQUAREFEET SUM;Permit COUNT\", \"SINGLE_PART\", \"DISSOLVE_LINES\")"
   ]
  },
  {
   "cell_type": "code",
   "execution_count": 30,
   "metadata": {},
   "outputs": [
    {
     "data": {
      "text/html": [
       "<h2>Output</h2>C:\\Users\\kgonterwitz\\Documents\\ArcGIS\\Projects\\Kyle Project 2\\BuildingSum20210401.gdb\\ParcelZoningLandUseBuildingsPermits<h2>Messages</h2>Start Time: Thursday, April 1, 2021 2:11:15 PM<br/>Succeeded at Thursday, April 1, 2021 2:11:31 PM (Elapsed Time: 16.04 seconds)<br/><style>.rendered_html td, .rendered_html th {text-align: left;}.rendered_html tbody {border: 1px solid black;}</style>"
      ],
      "text/plain": [
       "<Result 'C:\\\\Users\\\\kgonterwitz\\\\Documents\\\\ArcGIS\\\\Projects\\\\Kyle Project 2\\\\BuildingSum20210401.gdb\\\\ParcelZoningLandUseBuildingsPermits'>"
      ]
     },
     "execution_count": 30,
     "metadata": {},
     "output_type": "execute_result"
    }
   ],
   "source": []
  },
  {
   "cell_type": "markdown",
   "metadata": {},
   "source": [
    "that seems to be working. \n",
    "\n",
    "This is for testing.  I am expanding the range of recent permits to include all issued after 1/1/2018.\n",
    "\n",
    "I want to tweak this code to see if I can get date ranges on permit and yearbuilt histories.\n"
   ]
  },
  {
   "cell_type": "code",
   "execution_count": null,
   "metadata": {},
   "outputs": [],
   "source": [
    "filegdb = r\"C:\\Users\\kgonterwitz\\Documents\\ArcGIS\\Projects\\Kyle Project 2\\BuildingSum20210401.gdb\"\n",
    "arcpy.conversion.FeatureClassToFeatureClass(\"Plats\", filegdb, \"PlatsCopy\", \"#\", '#', '')\n",
    "arcpy.management.AddField(filegdb+r\"\\PlatsCopy\", \"LotBlock\", \"TEXT\", None, None, 24, '', \"NULLABLE\", \"NON_REQUIRED\", '')\n",
    "arcpy.management.CalculateField(filegdb+r\"\\PlatsCopy\", \"LotBlock\", 'str(!BLOCK!)+\"-\"+ str(!LOT!)', \"PYTHON3\", '', \"TEXT\")\n",
    "arcpy.management.FeatureToPoint(\"PlatsCopy\", filegdb+r\"\\PlatsCopyPoints\", \"INSIDE\")\n",
    "arcpy.analysis.SpatialJoin(\"Parcels\", \"PlatsCopyPoints\", filegdb+r\"\\PlatsInParcels\", \"JOIN_ONE_TO_ONE\", \"KEEP_ALL\", '#', \"INTERSECT\", None, '')\n",
    "arcpy.management.AlterField(\"PlatsInParcels\", \"Join_Count\", \"Lots_in_Parcel\", \"Platted Lots Per Parcel\", \"LONG\", 4, \"NULLABLE\", \"DO_NOT_CLEAR\")\n",
    "arcpy.management.FeatureToPoint(\"PlatsInParcels\", filegdb+r\"\\PlatsInParcelPoint\", \"INSIDE\")\n",
    "arcpy.analysis.SpatialJoin(filegdb+r\"\\PlatsInParcelPoint\", \"Lawrence Zoning\", filegdb+r\"\\ParcelZoning\", \"JOIN_ONE_TO_ONE\", \"KEEP_ALL\")\n",
    "arcpy.management.AlterField(\"ParcelZoning\", \"Join_Count\", \"Parcel_zone_Count\", \"Zonings Per Parcel\", \"LONG\", 4, \"NULLABLE\", \"DO_NOT_CLEAR\")\n",
    "arcpy.management.AddIndex(filegdb+r\"\\PlatsInParcels\", \"JOINPIN\", \"JOINPIN\", \"UNIQUE\", \"ASCENDING\")\n",
    "arcpy.management.AddIndex(filegdb+r\"\\ParcelZoning\", \"JOINPIN\", \"JOINPINz\", \"UNIQUE\", \"ASCENDING\")\n",
    "arcpy.conversion.FeatureClassToFeatureClass(filegdb+r\"\\PlatsInParcels\", filegdb, \"Parcels_ID\", '', r'JOINPIN \"JOINPIN\" true true false 23 Text 0 0,First,#,PlatsInParcels,JOINPIN,0,23', '')\n",
    "arcpy.management.AddJoin(\"Parcels_ID\", \"JOINPIN\", filegdb+r\"\\ParcelZoning\", \"JOINPIN\", \"KEEP_ALL\")\n",
    "arcpy.management.FeatureToPoint(\"LU2020\", filegdb+r\"\\LandUsePoints\", \"INSIDE\")\n",
    "arcpy.analysis.SpatialJoin(\"Parcels_ID\", filegdb+r\"\\LandUsePoints\", filegdb+r\"\\ParcelZoningLandUse\", \"JOIN_ONE_TO_ONE\", \"KEEP_ALL\")\n",
    "arcpy.management.AlterField(filegdb+r\"ParcelZoningLandUse\", \"Join_Count\", \"LandUse_Count\", \"LandUses Per Parcel\", \"LONG\", 4, \"NULLABLE\", \"DO_NOT_CLEAR\")\n",
    "arcpy.management.FeatureToPoint(\"LU2020\", filegdb+r\"\\LandUsePoints\", \"INSIDE\")\n",
    "arcpy.analysis.SpatialJoin(\"Parcels_ID\", filegdb+r\"\\LandUsePoints\", filegdb+r\"\\ParcelZoningLandUse\", \"JOIN_ONE_TO_ONE\", \"KEEP_ALL\")\n",
    "arcpy.management.AlterField(filegdb+r\"\\ParcelZoningLandUse\", \"Join_Count\", \"LandUse_Count\", \"LandUses Per Parcel\", \"LONG\", 4, \"NULLABLE\", \"DO_NOT_CLEAR\")\n",
    "arcpy.analysis.SummarizeWithin(\"ParcelZoningLandUse\", \"BuildingFootprints\", filegdb+r\"\\ParcelZoningLandUseBuildings\", \"KEEP_ALL\", \"Shape_Area Sum\", \"NO_SHAPE_SUM\", \"SQUAREFEET\", None, \"NO_MIN_MAJ\", \"NO_PERCENT\", None)\n",
    "arcpy.management.AlterField(filegdb+r\"\\ParcelZoningLandUseBuildings\", \"SUM_Area_SQUAREFEET\", \"BuildingFootprintArea\", \"Building Footprint Square Footage\", \"LONG\", 4, \"NULLABLE\", \"DO_NOT_CLEAR\")\n",
    "arcpy.conversion.FeatureClassToFeatureClass(\"Building Permit\", filegdb, \"NewPermitsResidential\", \"Issued >= timestamp '2018-01-01 00:00:00' And Classification IN ('COMMERCIAL NEW MULTI-FAMILY', 'RESIDENTIAL NEW DUPLEX', 'RESIDENTIAL NEW SINGLE FAMILY')\", '#', '')\n",
    "arcpy.analysis.SpatialJoin(\"ParcelZoningLandUseBuildings\", \"NewPermitsResidential\", filegdb+r\"\\ParcelZoningLandUseBuildingsPermits\", \"JOIN_ONE_TO_ONE\", \"KEEP_ALL\", '#', \"INTERSECT\", None, '')\n",
    "arcpy.management.Dissolve(\"ParcelZoningLandUseBuildingsPermits\", filegdb+r\"\\Subdivisions\", \"SUBDIVISION;NAME;Zoning\", \"Parcel_zone_Count SUM;Join_Count SUM;Lots_in_Parcel SUM;flivunits SUM;SUM_Area_SQUAREFEET SUM;Permit COUNT\", \"SINGLE_PART\", \"DISSOLVE_LINES\")"
   ]
  }
 ],
 "metadata": {
  "kernelspec": {
   "display_name": "ArcGISPro",
   "language": "Python",
   "name": "python3"
  },
  "language_info": {
   "file_extension": ".py",
   "name": "python",
   "version": "3"
  }
 },
 "nbformat": 4,
 "nbformat_minor": 2
}
