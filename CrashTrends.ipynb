{
 "cells": [
  {
   "cell_type": "markdown",
   "metadata": {},
   "source": [
    "this notebook utilizes the esri netcdf timespace cube analysis, which can be viewed in a 3D temporal scene, or processed for emerging hot spot analysis.\n",
    "\n",
    "It is useful to change the bin parameters for long term or bayesian trend analysis and to read the details messages.  There should be at least 10 time bins.\n",
    "\n",
    "The following code will make it easy to change parameters to extract potentially interesting statistics, to do so copy the cell and alter some of the parameters like the time period of the crash selection, the bin times and bin sizes.\n"
   ]
  },
  {
   "cell_type": "code",
   "execution_count": 20,
   "metadata": {},
   "outputs": [
    {
     "data": {
      "text/html": [
       "<h2>Output</h2>C:\\Users\\kgonterwitz\\Documents\\ArcGIS\\Projects\\KDOT_CrashMaps\\KDOT_CrashMaps.gdb\\AllCrashesYear2021<h2>Messages</h2>Start Time: Friday, June 4, 2021 4:05:43 PM<br/><br/>----------- Input Space Time Cube Details -----------<br/>Distance interval                             330 feet<br/>Time step interval                              1 week<br/>                                                      <br/>Aggregation Shape Type                    Hexagon_Grid<br/>                                                      <br/>First time step temporal bias                    0.00%<br/>First time step interval                   on or after<br/>                                   2021-01-01 00:00:00<br/>                                             to before<br/>                                   2021-01-08 00:00:00<br/>                                                      <br/>Last time step temporal bias                    85.71%<br/>Last time step interval                    on or after<br/>                                   2021-05-14 00:00:00<br/>                                             to before<br/>                                   2021-05-21 00:00:00<br/>                                                      <br/>Number of time steps                                20<br/>Number of locations analyzed                       522<br/>Number of space time bins analyzed               10440<br/>% non-zero                                       6.54%<br/>-----------------------------------------------------<br/><br/><br/>-------- Analysis Details -------<br/>Number of neighbors              3<br/>Neighborhood time step intervals 3<br/>Neighborhood time step intervals 0<br/>(spanning 0 weeks)                <br/>---------------------------------<br/><br/><br/>--------- Summary of Results ---------<br/>                      HOT          COLD<br/>New                     0             0<br/>Consecutive             3             0<br/>Intensifying            0             0<br/>Persistent              0             0<br/>Diminishing             0             0<br/>Sporadic                0             0<br/>Oscillating             0             0<br/>Historical              0             0<br/>--------------------------------------<br/>All locations with hot or cold spot trends: 3 of 522<br/><br/>Category Definitions                                                                                             <br/>-----------------------------------------------------------------------------------------------------------------<br/>                                                                                                                 <br/>Last time step is hot:                                                                                           <br/>- New: the most recent time step interval is hot for the first time                                              <br/>- Consecutive: a single uninterrupted run of hot time step intervals, comprised of less than 90% of all intervals<br/>- Intensifying: at least 90% of the time step intervals are hot, and becoming hotter over time                   <br/>- Persistent: at least 90% of the time step intervals are hot, with no trend up or down                          <br/>- Diminishing: at least 90% of the time step intervals are hot, and becoming less hot over time                  <br/>- Sporadic: some of the time step intervals are hot                                                              <br/>- Oscillating: some of the time step intervals are hot, some are cold                                            <br/>                                                                                                                 <br/>Last time step is not hot:                                                                                       <br/>- Historical: at least 90% of the time step intervals are hot, but the most recent time step interval is not     <br/>-----------------------------------------------------------------------------------------------------------------<br/>                                                                                                                 <br/>Last time step is cold:                                                                                          <br/>- New: the most recent time step interval is cold for the first time                                             <br/>- Consecutive: a single uninterrupted run of cold time step intervals, comprised of less than 90% of all         <br/>- Intensifying: at least 90% of the time step intervals are cold, and becoming colder over time                  <br/>- Persistent: at least 90% of the time step intervals are cold, with no trend up or down                         <br/>- Diminishing: at least 90% of the time step intervals are cold, and becoming less cold over time intervals      <br/>- Sporadic: some of the time step intervals are cold                                                             <br/>- Oscillating: some of the time step intervals are cold, some are hot                                            <br/>                                                                                                                 <br/>Last time step is not cold:                                                                                      <br/>- Historical: at least 90% of the time step intervals are cold, but the most recent time step interval is not    <br/>-----------------------------------------------------------------------------------------------------------------<br/><br/>Succeeded at Friday, June 4, 2021 4:05:49 PM (Elapsed Time: 5.86 seconds)<br/><style>.rendered_html td, .rendered_html th {text-align: left;}.rendered_html tbody {border: 1px solid black;}</style>"
      ],
      "text/plain": [
       "<Result 'C:\\\\Users\\\\kgonterwitz\\\\Documents\\\\ArcGIS\\\\Projects\\\\KDOT_CrashMaps\\\\KDOT_CrashMaps.gdb\\\\AllCrashesYear2021'>"
      ]
     },
     "execution_count": 20,
     "metadata": {},
     "output_type": "execute_result"
    }
   ],
   "source": [
    "Crash_selection = \"ACC_COUNTY = 'DOUGLAS' And ACC_YEAR = '2021'\"\n",
    "CDFName = \"Year2021\"\n",
    "BinTime = \"1 Week\"\n",
    "BinSize = \"330 feet\"\n",
    "\n",
    "scratchWorkspace=r\"C:\\Users\\kgonterwitz\\Documents\\ArcGIS\\Projects\\KDOT_CrashMaps\\KDOT_CrashMaps.gdb\"\n",
    "workspace=scratchWorkspace\n",
    "netcdfpath = r\"C:\\Users\\kgonterwitz\\Documents\\ArcGIS\\Projects\\KDOT_CrashMaps\\timespace\"\n",
    "\n",
    "arcpy.management.MakeFeatureLayer(r\"KDOT Reference Data\\Accidents\", CDFName+\"subset\", Crash_selection, None, \"#\")\n",
    "arcpy.stpm.CreateSpaceTimeCube(CDFName+\"subset\", netcdfpath+r\"/\"+CDFName+\".nc\", \"DATE_OF_ACCIDENT\", None, BinTime, \"START_TIME\", None, BinSize, \"POSSIBLE_INJURIES SUM ZEROS;FATALITIES SUM ZEROS;ALL_PEDESTRIANS SUM ZEROS;PEDAL_CYCLIST_ACCS SUM ZEROS;ALCOHOL_INVOLVEMENT_ACCS SUM ZEROS;DRUG_INVOLVEMENT_ACCS SUM ZEROS;PEDESTRIAN_ACCS SUM ZEROS;DEER_ACCS SUM ZEROS\", \"HEXAGON_GRID\", None, None)\n",
    "\n",
    "arcpy.stpm.EmergingHotSpotAnalysis(netcdfpath+r\"/\"+CDFName+\".nc\", \"COUNT\",workspace+\"/\"+\"AllCrashes\"+CDFName, \"500 Feet\", 3, None, \"K_NEAREST_NEIGHBORS\", 3, \"ENTIRE_CUBE\")\n",
    "arcpy.stpm.VisualizeSpaceTimeCube3D(netcdfpath+r\"/\"+CDFName+\".nc\", \"Count\", \"VALUE\", workspace+\"\\AllCrashes\"+CDFName+\"_SpaceTimeCube3D\")"
   ]
  },
  {
   "cell_type": "code",
   "execution_count": 13,
   "metadata": {},
   "outputs": [
    {
     "data": {
      "text/html": [
       "<h2>Output</h2>C:\\Users\\kgonterwitz\\Documents\\ArcGIS\\Projects\\KDOT_CrashMaps\\KDOT_CrashMaps.gdb\\AllCrashesYear2021<h2>Messages</h2>Start Time: Friday, June 4, 2021 12:20:41 PM<br/><br/>----------- Input Space Time Cube Details -----------<br/>Distance interval                            2640 feet<br/>Time step interval                             2 weeks<br/>                                                      <br/>Aggregation Shape Type                    Hexagon_Grid<br/>                                                      <br/>First time step temporal bias                    0.00%<br/>First time step interval                   on or after<br/>                                   2021-01-01 00:00:00<br/>                                             to before<br/>                                   2021-01-15 00:00:00<br/>                                                      <br/>Last time step temporal bias                    42.86%<br/>Last time step interval                    on or after<br/>                                   2021-05-07 00:00:00<br/>                                             to before<br/>                                   2021-05-21 00:00:00<br/>                                                      <br/>Number of time steps                                10<br/>Number of locations analyzed                       236<br/>Number of space time bins analyzed                2360<br/>% non-zero                                      20.85%<br/>-----------------------------------------------------<br/><br/><br/>-------- Analysis Details -------<br/>Number of neighbors              3<br/>Neighborhood time step intervals 3<br/>Neighborhood time step intervals 0<br/>(spanning 0 weeks)                <br/>---------------------------------<br/><br/><br/>--------- Summary of Results ---------<br/>                      HOT          COLD<br/>New                     0             0<br/>Consecutive            12             0<br/>Intensifying            0             0<br/>Persistent              0             0<br/>Diminishing             0             0<br/>Sporadic                5             0<br/>Oscillating             0             0<br/>Historical              0             0<br/>--------------------------------------<br/>All locations with hot or cold spot trends: 17 of 236<br/><br/>Category Definitions                                                                                             <br/>-----------------------------------------------------------------------------------------------------------------<br/>                                                                                                                 <br/>Last time step is hot:                                                                                           <br/>- New: the most recent time step interval is hot for the first time                                              <br/>- Consecutive: a single uninterrupted run of hot time step intervals, comprised of less than 90% of all intervals<br/>- Intensifying: at least 90% of the time step intervals are hot, and becoming hotter over time                   <br/>- Persistent: at least 90% of the time step intervals are hot, with no trend up or down                          <br/>- Diminishing: at least 90% of the time step intervals are hot, and becoming less hot over time                  <br/>- Sporadic: some of the time step intervals are hot                                                              <br/>- Oscillating: some of the time step intervals are hot, some are cold                                            <br/>                                                                                                                 <br/>Last time step is not hot:                                                                                       <br/>- Historical: at least 90% of the time step intervals are hot, but the most recent time step interval is not     <br/>-----------------------------------------------------------------------------------------------------------------<br/>                                                                                                                 <br/>Last time step is cold:                                                                                          <br/>- New: the most recent time step interval is cold for the first time                                             <br/>- Consecutive: a single uninterrupted run of cold time step intervals, comprised of less than 90% of all         <br/>- Intensifying: at least 90% of the time step intervals are cold, and becoming colder over time                  <br/>- Persistent: at least 90% of the time step intervals are cold, with no trend up or down                         <br/>- Diminishing: at least 90% of the time step intervals are cold, and becoming less cold over time intervals      <br/>- Sporadic: some of the time step intervals are cold                                                             <br/>- Oscillating: some of the time step intervals are cold, some are hot                                            <br/>                                                                                                                 <br/>Last time step is not cold:                                                                                      <br/>- Historical: at least 90% of the time step intervals are cold, but the most recent time step interval is not    <br/>-----------------------------------------------------------------------------------------------------------------<br/><br/>Succeeded at Friday, June 4, 2021 12:20:44 PM (Elapsed Time: 2.28 seconds)<br/><style>.rendered_html td, .rendered_html th {text-align: left;}.rendered_html tbody {border: 1px solid black;}</style>"
      ],
      "text/plain": [
       "<Result 'C:\\\\Users\\\\kgonterwitz\\\\Documents\\\\ArcGIS\\\\Projects\\\\KDOT_CrashMaps\\\\KDOT_CrashMaps.gdb\\\\AllCrashesYear2021'>"
      ]
     },
     "execution_count": 13,
     "metadata": {},
     "output_type": "execute_result"
    }
   ],
   "source": [
    "Crash_selection = \"ACC_COUNTY = 'DOUGLAS' And ACC_YEAR = '2021'\"\n",
    "CDFName = \"Year2021\"\n",
    "BinTime = \"2 Weeks\"\n",
    "BinSize = \"2640 feet\"\n",
    "\n",
    "scratchWorkspace=r\"C:\\Users\\kgonterwitz\\Documents\\ArcGIS\\Projects\\KDOT_CrashMaps\\KDOT_CrashMaps.gdb\"\n",
    "workspace=scratchWorkspace\n",
    "netcdfpath = r\"C:\\Users\\kgonterwitz\\Documents\\ArcGIS\\Projects\\KDOT_CrashMaps\\timespace\"\n",
    "\n",
    "arcpy.management.MakeFeatureLayer(r\"KDOT Reference Data\\Accidents\", CDFName+\"subset\", Crash_selection, None, \"#\")\n",
    "arcpy.stpm.CreateSpaceTimeCube(CDFName+\"subset\", netcdfpath+r\"/\"+CDFName+\".nc\", \"DATE_OF_ACCIDENT\", None, BinTime, \"START_TIME\", None, BinSize, \"POSSIBLE_INJURIES SUM ZEROS;FATALITIES SUM ZEROS;ALL_PEDESTRIANS SUM ZEROS;PEDAL_CYCLIST_ACCS SUM ZEROS;ALCOHOL_INVOLVEMENT_ACCS SUM ZEROS;DRUG_INVOLVEMENT_ACCS SUM ZEROS;PEDESTRIAN_ACCS SUM ZEROS;DEER_ACCS SUM ZEROS\", \"HEXAGON_GRID\", None, None)\n",
    "\n",
    "arcpy.stpm.EmergingHotSpotAnalysis(netcdfpath+r\"/\"+CDFName+\".nc\", \"COUNT\",workspace+\"/\"+\"AllCrashes\"+CDFName, \"500 Feet\", 3, None, \"K_NEAREST_NEIGHBORS\", 3, \"ENTIRE_CUBE\")\n",
    "arcpy.stpm.VisualizeSpaceTimeCube3D(netcdfpath+r\"/\"+CDFName+\".nc\", \"Count\", \"VALUE\", workspace+\"\\AllCrashes\"+CDFName+\"_SpaceTimeCube3D\")"
   ]
  },
  {
   "cell_type": "code",
   "execution_count": 19,
   "metadata": {},
   "outputs": [
    {
     "data": {
      "text/html": [
       "<h2>Output</h2>C:\\Users\\kgonterwitz\\Documents\\ArcGIS\\Projects\\KDOT_CrashMaps\\KDOT_CrashMaps.gdb\\AllCrashesYear10_330<h2>Messages</h2>Start Time: Friday, June 4, 2021 3:11:49 PM<br/><br/>----------- Input Space Time Cube Details -----------<br/>Distance interval                             330 feet<br/>Time step interval                              1 year<br/>                                                      <br/>Aggregation Shape Type                    Hexagon_Grid<br/>                                                      <br/>First time step temporal bias                    0.00%<br/>First time step interval                   on or after<br/>                                   2010-01-01 00:00:00<br/>                                             to before<br/>                                   2011-01-01 00:00:00<br/>                                                      <br/>Last time step temporal bias                    63.29%<br/>Last time step interval                    on or after<br/>                                   2021-01-01 00:00:00<br/>                                             to before<br/>                                   2022-01-01 00:00:00<br/>                                                      <br/>Number of time steps                                12<br/>Number of locations analyzed                      6038<br/>Number of space time bins analyzed               72456<br/>% non-zero                                      21.75%<br/>-----------------------------------------------------<br/><br/><br/>-------- Analysis Details -------<br/>Number of neighbors              3<br/>Neighborhood time step intervals 3<br/>Neighborhood time step intervals 0<br/>(spanning 0 years)                <br/>---------------------------------<br/><br/><br/>--------- Summary of Results ---------<br/>                      HOT          COLD<br/>New                     0             0<br/>Consecutive            44             0<br/>Intensifying           49             0<br/>Persistent            148             0<br/>Diminishing            41             0<br/>Sporadic               14             0<br/>Oscillating             0             0<br/>Historical             22             0<br/>--------------------------------------<br/>All locations with hot or cold spot trends: 318 of 6038<br/><br/>Category Definitions                                                                                             <br/>-----------------------------------------------------------------------------------------------------------------<br/>                                                                                                                 <br/>Last time step is hot:                                                                                           <br/>- New: the most recent time step interval is hot for the first time                                              <br/>- Consecutive: a single uninterrupted run of hot time step intervals, comprised of less than 90% of all intervals<br/>- Intensifying: at least 90% of the time step intervals are hot, and becoming hotter over time                   <br/>- Persistent: at least 90% of the time step intervals are hot, with no trend up or down                          <br/>- Diminishing: at least 90% of the time step intervals are hot, and becoming less hot over time                  <br/>- Sporadic: some of the time step intervals are hot                                                              <br/>- Oscillating: some of the time step intervals are hot, some are cold                                            <br/>                                                                                                                 <br/>Last time step is not hot:                                                                                       <br/>- Historical: at least 90% of the time step intervals are hot, but the most recent time step interval is not     <br/>-----------------------------------------------------------------------------------------------------------------<br/>                                                                                                                 <br/>Last time step is cold:                                                                                          <br/>- New: the most recent time step interval is cold for the first time                                             <br/>- Consecutive: a single uninterrupted run of cold time step intervals, comprised of less than 90% of all         <br/>- Intensifying: at least 90% of the time step intervals are cold, and becoming colder over time                  <br/>- Persistent: at least 90% of the time step intervals are cold, with no trend up or down                         <br/>- Diminishing: at least 90% of the time step intervals are cold, and becoming less cold over time intervals      <br/>- Sporadic: some of the time step intervals are cold                                                             <br/>- Oscillating: some of the time step intervals are cold, some are hot                                            <br/>                                                                                                                 <br/>Last time step is not cold:                                                                                      <br/>- Historical: at least 90% of the time step intervals are cold, but the most recent time step interval is not    <br/>-----------------------------------------------------------------------------------------------------------------<br/><br/>Succeeded at Friday, June 4, 2021 3:12:16 PM (Elapsed Time: 27.45 seconds)<br/><style>.rendered_html td, .rendered_html th {text-align: left;}.rendered_html tbody {border: 1px solid black;}</style>"
      ],
      "text/plain": [
       "<Result 'C:\\\\Users\\\\kgonterwitz\\\\Documents\\\\ArcGIS\\\\Projects\\\\KDOT_CrashMaps\\\\KDOT_CrashMaps.gdb\\\\AllCrashesYear10_330'>"
      ]
     },
     "execution_count": 19,
     "metadata": {},
     "output_type": "execute_result"
    }
   ],
   "source": [
    "Crash_selection = \"ACC_COUNTY = 'DOUGLAS' And DOT_LONGITUDE IS NOT NULL\"\n",
    "CDFName = \"Year10_330\"\n",
    "BinTime = \"1 Year\"\n",
    "BinSize = \"330 feet\"\n",
    "\n",
    "scratchWorkspace=r\"C:\\Users\\kgonterwitz\\Documents\\ArcGIS\\Projects\\KDOT_CrashMaps\\KDOT_CrashMaps.gdb\"\n",
    "workspace=scratchWorkspace\n",
    "netcdfpath = r\"C:\\Users\\kgonterwitz\\Documents\\ArcGIS\\Projects\\KDOT_CrashMaps\\timespace\"\n",
    "\n",
    "arcpy.management.MakeFeatureLayer(r\"KDOT Reference Data\\Accidents\", CDFName+\"subset\", Crash_selection, None, \"#\")\n",
    "arcpy.stpm.CreateSpaceTimeCube(CDFName+\"subset\", netcdfpath+r\"/\"+CDFName+\".nc\", \"DATE_OF_ACCIDENT\", None, BinTime, \"START_TIME\", None, BinSize, \"POSSIBLE_INJURIES SUM ZEROS;FATALITIES SUM ZEROS;ALL_PEDESTRIANS SUM ZEROS;PEDAL_CYCLIST_ACCS SUM ZEROS;ALCOHOL_INVOLVEMENT_ACCS SUM ZEROS;DRUG_INVOLVEMENT_ACCS SUM ZEROS;PEDESTRIAN_ACCS SUM ZEROS;DEER_ACCS SUM ZEROS\", \"HEXAGON_GRID\", None, None)\n",
    "\n",
    "arcpy.stpm.EmergingHotSpotAnalysis(netcdfpath+r\"/\"+CDFName+\".nc\", \"COUNT\",workspace+\"/\"+\"AllCrashes\"+CDFName, \"300 Feet\", 3, None, \"K_NEAREST_NEIGHBORS\", 3, \"ENTIRE_CUBE\")\n",
    "arcpy.stpm.VisualizeSpaceTimeCube3D(netcdfpath+r\"/\"+CDFName+\".nc\", \"Count\", \"VALUE\", workspace+\"\\AllCrashes\"+CDFName+\"_SpaceTimeCube3D\")"
   ]
  },
  {
   "cell_type": "code",
   "execution_count": null,
   "metadata": {},
   "outputs": [],
   "source": []
  },
  {
   "cell_type": "code",
   "execution_count": null,
   "metadata": {},
   "outputs": [],
   "source": []
  }
 ],
 "metadata": {
  "kernelspec": {
   "display_name": "ArcGISPro",
   "language": "Python",
   "name": "python3"
  },
  "language_info": {
   "file_extension": ".py",
   "name": "python",
   "version": "3"
  }
 },
 "nbformat": 4,
 "nbformat_minor": 2
}
