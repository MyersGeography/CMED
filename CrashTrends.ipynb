{
 "cells": [
  {
   "cell_type": "markdown",
   "metadata": {},
   "source": [
    "this notebook utilizes the esri netcdf timespace cube analysis, which can be viewed in a 3D temporal scene, or processed for emerging hot spot analysis.\n",
    "\n",
    "It is useful to change the bin parameters for long term or bayesian trend analysis and to read the details messages.  There should be at least 10 time bins.\n",
    "\n",
    "The following code will make it easy to change parameters to extract potentially interesting statistics, to do so copy the cell and alter some of the parameters like the time period of the crash selection, the bin times and bin sizes.\n"
   ]
  },
  {
   "cell_type": "code",
   "execution_count": 2,
   "metadata": {},
   "outputs": [
    {
     "data": {
      "text/html": [
       "<div class='gpresult'><h2>Messages</h2><div id='messages' data-messages='[\"Start Time: Wednesday, May 11, 2022 4:17:02 PM\",\"WARNING 110044: The time it takes to render the cube in three dimensions may vary considerably based on the number of features and the graphics card associated with your CPU.\",\"Succeeded at Wednesday, May 11, 2022 4:17:12 PM (Elapsed Time: 9.94 seconds)\"]' data-show='true'><div id = 'default' /></div></div>"
      ],
      "text/plain": [
       "<Result 'C:\\\\Users\\\\kgonterwitz\\\\OneDrive - City of Lawrence KS\\\\Documents\\\\ArcGIS\\\\Projects\\\\KDOT_CrashMaps\\\\KDOT_CrashMaps.gdb\\\\AllCrashesYear2022_SpaceTimeCube3D'>"
      ]
     },
     "execution_count": 2,
     "metadata": {},
     "output_type": "execute_result"
    }
   ],
   "source": [
    "Crash_selection = \"ACC_COUNTY = 'DOUGLAS' And ACC_YEAR = '2022' And DOT_LONGITUDE IS NOT NULL AND ACC_SEVERITY not like 'PROPERTY DAMAGE ONLY)\"\n",
    "CDFName = \"Year2022\"\n",
    "BinTime = \"1 Week\"\n",
    "\n",
    "#the smaller the bin time, the larger the bin size need to be to get enough crashes in cell to get viable statistics\n",
    "#counts from the current year only include what is reported to date which is not necessarily up to date\n",
    "\n",
    "BinSize = \"5280 feet\"\n",
    "\n",
    "arcpy.env.overwriteOutput = 1\n",
    "scratchWorkspace=r\"C:\\Users\\kgonterwitz\\OneDrive - City of Lawrence KS\\Documents\\ArcGIS\\Projects\\KDOT_CrashMaps\\KDOT_CrashMaps.gdb\"\n",
    "workspace=scratchWorkspace\n",
    "netcdfpath = r\"C:\\Users\\kgonterwitz\\OneDrive - City of Lawrence KS\\Documents\\ArcGIS\\Projects\\KDOT_CrashMaps\\timespace\"\n",
    "\n",
    "arcpy.management.MakeFeatureLayer(r\"TransPlanning\\Accidents\", CDFName+\"subset\", Crash_selection, None, \"#\")\n",
    "arcpy.stpm.CreateSpaceTimeCube(CDFName+\"subset\", netcdfpath+r\"/\"+CDFName+\".nc\", \"DATE_OF_ACCIDENT\", None, BinTime, \"START_TIME\", None, BinSize, \"POSSIBLE_INJURIES SUM ZEROS;FATALITIES SUM ZEROS;ALL_PEDESTRIANS SUM ZEROS;PEDAL_CYCLIST_ACCS SUM ZEROS;ALCOHOL_INVOLVEMENT_ACCS SUM ZEROS;DRUG_INVOLVEMENT_ACCS SUM ZEROS;PEDESTRIAN_ACCS SUM ZEROS;DEER_ACCS SUM ZEROS\", \"HEXAGON_GRID\", None, None)\n",
    "\n",
    "arcpy.stpm.EmergingHotSpotAnalysis(netcdfpath+r\"/\"+CDFName+\".nc\", \"COUNT\",workspace+\"/\"+\"AllCrashes\"+CDFName, \"500 Feet\", 3, None, \"K_NEAREST_NEIGHBORS\", 3, \"ENTIRE_CUBE\")\n",
    "arcpy.stpm.VisualizeSpaceTimeCube3D(netcdfpath+r\"/\"+CDFName+\".nc\", \"COUNT\", \"VALUE\", workspace+\"\\AllCrashes\"+CDFName+\"_SpaceTimeCube3D\")"
   ]
  },
  {
   "cell_type": "code",
   "execution_count": 17,
   "metadata": {},
   "outputs": [
    {
     "data": {
      "text/html": [
       "<div class='gpresult'><h2>Messages</h2><div id='messages' data-messages='[\"Start Time: Tuesday, May 10, 2022 4:51:09 PM\",\"WARNING 110044: The time it takes to render the cube in three dimensions may vary considerably based on the number of features and the graphics card associated with your CPU.\",\"WARNING 110054: If some or all of your data is not drawing, it may fall outside of the Visibility Range limits, which can be cleared. If some or all of your data is underground, you may need to turn off Elevation Surfaces.\",\"Succeeded at Tuesday, May 10, 2022 4:51:26 PM (Elapsed Time: 16.23 seconds)\"]' data-show='true'><div id = 'default' /></div></div>"
      ],
      "text/plain": [
       "<Result 'C:\\\\Users\\\\kgonterwitz\\\\OneDrive - City of Lawrence KS\\\\Documents\\\\ArcGIS\\\\Projects\\\\KDOT_CrashMaps\\\\KDOT_CrashMaps.gdb\\\\AllCrashesYear2021_SpaceTimeCube3D'>"
      ]
     },
     "execution_count": 17,
     "metadata": {},
     "output_type": "execute_result"
    }
   ],
   "source": [
    "Crash_selection = \"ACC_COUNTY = 'DOUGLAS' And ACC_YEAR in ('2021', '2022') And DOT_LONGITUDE IS NOT NULL\"\n",
    "CDFName = \"Year2021\"\n",
    "BinTime = \"1 Month\"\n",
    "BinSize = \"300 feet\"\n",
    "\n",
    "arcpy.env.overwriteOutput = 1\n",
    "scratchWorkspace=r\"C:\\Users\\kgonterwitz\\OneDrive - City of Lawrence KS\\Documents\\ArcGIS\\Projects\\KDOT_CrashMaps\\KDOT_CrashMaps.gdb\"\n",
    "workspace=scratchWorkspace\n",
    "netcdfpath = r\"C:\\Users\\kgonterwitz\\OneDrive - City of Lawrence KS\\Documents\\ArcGIS\\Projects\\KDOT_CrashMaps\\timespace\"\n",
    "\n",
    "arcpy.management.MakeFeatureLayer(r\"TransPlanning\\Accidents\", CDFName+\"subset\", Crash_selection, None, \"#\")\n",
    "arcpy.stpm.CreateSpaceTimeCube(CDFName+\"subset\", netcdfpath+r\"/\"+CDFName+\".nc\", \"DATE_OF_ACCIDENT\", None, BinTime, \"START_TIME\", None, BinSize, \"POSSIBLE_INJURIES SUM ZEROS;FATALITIES SUM ZEROS;ALL_PEDESTRIANS SUM ZEROS;PEDAL_CYCLIST_ACCS SUM ZEROS;ALCOHOL_INVOLVEMENT_ACCS SUM ZEROS;DRUG_INVOLVEMENT_ACCS SUM ZEROS;PEDESTRIAN_ACCS SUM ZEROS;DEER_ACCS SUM ZEROS\", \"HEXAGON_GRID\", None, None)\n",
    "\n",
    "arcpy.stpm.EmergingHotSpotAnalysis(netcdfpath+r\"/\"+CDFName+\".nc\", \"COUNT\",workspace+\"/\"+\"AllCrashes\"+CDFName, \"300 Feet\", 3, None, \"K_NEAREST_NEIGHBORS\", 3, \"ENTIRE_CUBE\")\n",
    "arcpy.stpm.VisualizeSpaceTimeCube3D(netcdfpath+r\"/\"+CDFName+\".nc\", \"COUNT\", \"VALUE\", workspace+\"\\AllCrashes\"+CDFName+\"_SpaceTimeCube3D\")"
   ]
  },
  {
   "cell_type": "code",
   "execution_count": 15,
   "metadata": {},
   "outputs": [
    {
     "data": {
      "text/html": [
       "<div class='gpresult'><h2>Messages</h2><div id='messages' data-messages='[\"Start Time: Tuesday, May 10, 2022 4:32:02 PM\",\"WARNING 110044: The time it takes to render the cube in three dimensions may vary considerably based on the number of features and the graphics card associated with your CPU.\",\"WARNING 110054: If some or all of your data is not drawing, it may fall outside of the Visibility Range limits, which can be cleared. If some or all of your data is underground, you may need to turn off Elevation Surfaces.\",\"Succeeded at Tuesday, May 10, 2022 4:32:43 PM (Elapsed Time: 41.27 seconds)\"]' data-show='true'><div id = 'default' /></div></div>"
      ],
      "text/plain": [
       "<Result 'C:\\\\Users\\\\kgonterwitz\\\\OneDrive - City of Lawrence KS\\\\Documents\\\\ArcGIS\\\\Projects\\\\KDOT_CrashMaps\\\\KDOT_CrashMaps.gdb\\\\AllCrashesYear10_330_SpaceTimeCube3D'>"
      ]
     },
     "execution_count": 15,
     "metadata": {},
     "output_type": "execute_result"
    }
   ],
   "source": [
    "Crash_selection = \"ACC_COUNTY = 'DOUGLAS' And DOT_LONGITUDE IS NOT NULL\"\n",
    "CDFName = \"Year10_330\"\n",
    "BinTime = \"1 Year\"\n",
    "BinSize = \"330 feet\"\n",
    "\n",
    "arcpy.env.overwriteOutput = 1\n",
    "scratchWorkspace=r\"C:\\Users\\kgonterwitz\\OneDrive - City of Lawrence KS\\Documents\\ArcGIS\\Projects\\KDOT_CrashMaps\\KDOT_CrashMaps.gdb\"\n",
    "workspace=scratchWorkspace\n",
    "netcdfpath = r\"C:\\Users\\kgonterwitz\\OneDrive - City of Lawrence KS\\Documents\\ArcGIS\\Projects\\KDOT_CrashMaps\\timespace\"\n",
    "\n",
    "arcpy.management.MakeFeatureLayer(r\"TransPlanning\\Accidents\", CDFName+\"subset\", Crash_selection, None, \"#\")\n",
    "arcpy.stpm.CreateSpaceTimeCube(CDFName+\"subset\", netcdfpath+r\"/\"+CDFName+\".nc\", \"DATE_OF_ACCIDENT\", None, BinTime, \"START_TIME\", None, BinSize, \"POSSIBLE_INJURIES SUM ZEROS;FATALITIES SUM ZEROS;ALL_PEDESTRIANS SUM ZEROS;PEDAL_CYCLIST_ACCS SUM ZEROS;ALCOHOL_INVOLVEMENT_ACCS SUM ZEROS;DRUG_INVOLVEMENT_ACCS SUM ZEROS;PEDESTRIAN_ACCS SUM ZEROS;DEER_ACCS SUM ZEROS\", \"HEXAGON_GRID\", None, None)\n",
    "\n",
    "arcpy.stpm.EmergingHotSpotAnalysis(netcdfpath+r\"/\"+CDFName+\".nc\", \"COUNT\",workspace+\"/\"+\"AllCrashes\"+CDFName, \"330 Feet\", 3, None, \"K_NEAREST_NEIGHBORS\", 3, \"ENTIRE_CUBE\")\n",
    "arcpy.stpm.VisualizeSpaceTimeCube3D(netcdfpath+r\"/\"+CDFName+\".nc\", \"COUNT\", \"VALUE\", workspace+\"\\AllCrashes\"+CDFName+\"_SpaceTimeCube3D\")"
   ]
  },
  {
   "cell_type": "code",
   "execution_count": 4,
   "metadata": {},
   "outputs": [
    {
     "data": {
      "text/html": [
       "<div class='gpresult'><h2>Messages</h2><div id='messages' data-messages='[\"Start Time: Monday, May 16, 2022 4:55:10 PM\",\"WARNING 110044: The time it takes to render the cube in three dimensions may vary considerably based on the number of features and the graphics card associated with your CPU.\",\"WARNING 110054: If some or all of your data is not drawing, it may fall outside of the Visibility Range limits, which can be cleared. If some or all of your data is underground, you may need to turn off Elevation Surfaces.\",\"Succeeded at Monday, May 16, 2022 4:55:29 PM (Elapsed Time: 18.94 seconds)\"]' data-show='true'><div id = 'default' /></div></div>"
      ],
      "text/plain": [
       "<Result 'C:\\\\Users\\\\kgonterwitz\\\\OneDrive - City of Lawrence KS\\\\Documents\\\\ArcGIS\\\\Projects\\\\KDOT_CrashMaps\\\\KDOT_CrashMaps.gdb\\\\AllCrashesInjuryFull400_SpaceTimeCube3D'>"
      ]
     },
     "execution_count": 4,
     "metadata": {},
     "output_type": "execute_result"
    }
   ],
   "source": [
    "#BEST RESULT YET - annual injury trends\n",
    "\n",
    "Crash_selection = \"ACC_COUNTY = 'DOUGLAS' AND DOT_LONGITUDE IS NOT NULL AND ACC_SEVERITY not like 'PROPERTY DAMAGE ONLY'\"\n",
    "CDFName = \"InjuryFull400_years\"\n",
    "BinTime = \"1 Year\"\n",
    "BinSize = \"400 feet\"\n",
    "\n",
    "arcpy.env.overwriteOutput = 1\n",
    "scratchWorkspace=r\"C:\\Users\\kgonterwitz\\OneDrive - City of Lawrence KS\\Documents\\ArcGIS\\Projects\\KDOT_CrashMaps\\KDOT_CrashMaps.gdb\"\n",
    "workspace=scratchWorkspace\n",
    "netcdfpath = r\"C:\\Users\\kgonterwitz\\OneDrive - City of Lawrence KS\\Documents\\ArcGIS\\Projects\\KDOT_CrashMaps\\timespace\"\n",
    "\n",
    "arcpy.management.MakeFeatureLayer(r\"TransPlanning\\Accidents\", CDFName+\"subset\", Crash_selection, None, \"#\")\n",
    "arcpy.stpm.CreateSpaceTimeCube(CDFName+\"subset\", netcdfpath+r\"/\"+CDFName+\".nc\", \"DATE_OF_ACCIDENT\", None, BinTime, \"START_TIME\", None, BinSize, \"POSSIBLE_INJURIES SUM ZEROS;FATALITIES SUM ZEROS;ALL_PEDESTRIANS SUM ZEROS;PEDAL_CYCLIST_ACCS SUM ZEROS;ALCOHOL_INVOLVEMENT_ACCS SUM ZEROS;DRUG_INVOLVEMENT_ACCS SUM ZEROS;PEDESTRIAN_ACCS SUM ZEROS;DEER_ACCS SUM ZEROS\", \"HEXAGON_GRID\", None, None)\n",
    "\n",
    "arcpy.stpm.EmergingHotSpotAnalysis(netcdfpath+r\"/\"+CDFName+\".nc\", \"COUNT\",workspace+\"/\"+\"AllCrashes\"+CDFName, \"330 Feet\", 3, None, \"K_NEAREST_NEIGHBORS\", 3, \"ENTIRE_CUBE\")\n",
    "arcpy.stpm.VisualizeSpaceTimeCube3D(netcdfpath+r\"/\"+CDFName+\".nc\", \"COUNT\", \"VALUE\", workspace+\"\\AllCrashes\"+CDFName+\"_SpaceTimeCube3D\")\n"
   ]
  },
  {
   "cell_type": "code",
   "execution_count": 9,
   "metadata": {},
   "outputs": [
    {
     "data": {
      "text/html": [
       "<div class='gpresult'><h2>Messages</h2><div id='messages' data-messages='[\"Start Time: Monday, May 16, 2022 5:08:50 PM\",\"WARNING 110044: The time it takes to render the cube in three dimensions may vary considerably based on the number of features and the graphics card associated with your CPU.\",\"Succeeded at Monday, May 16, 2022 5:09:13 PM (Elapsed Time: 23.19 seconds)\"]' data-show='true'><div id = 'default' /></div></div>"
      ],
      "text/plain": [
       "<Result 'C:\\\\Users\\\\kgonterwitz\\\\OneDrive - City of Lawrence KS\\\\Documents\\\\ArcGIS\\\\Projects\\\\KDOT_CrashMaps\\\\KDOT_CrashMaps.gdb\\\\AllCrashesInjury1200_months_SpaceTimeCube3D'>"
      ]
     },
     "execution_count": 9,
     "metadata": {},
     "output_type": "execute_result"
    }
   ],
   "source": [
    "# nothing detected at 400 increase bin size - shows stability 400-1200 ft bins\n",
    "\n",
    "Crash_selection = \"ACC_COUNTY = 'DOUGLAS' AND DOT_LONGITUDE IS NOT NULL AND ACC_SEVERITY not like 'PROPERTY DAMAGE ONLY' AND ACC_YEAR in ('2021', '2022')\"\n",
    "CDFName = \"Injury1200_months\"\n",
    "BinTime = \"1 Month\"\n",
    "BinSize = \"1200 feet\"\n",
    "\n",
    "arcpy.env.overwriteOutput = 1\n",
    "scratchWorkspace=r\"C:\\Users\\kgonterwitz\\OneDrive - City of Lawrence KS\\Documents\\ArcGIS\\Projects\\KDOT_CrashMaps\\KDOT_CrashMaps.gdb\"\n",
    "workspace=scratchWorkspace\n",
    "netcdfpath = r\"C:\\Users\\kgonterwitz\\OneDrive - City of Lawrence KS\\Documents\\ArcGIS\\Projects\\KDOT_CrashMaps\\timespace\"\n",
    "\n",
    "arcpy.management.MakeFeatureLayer(r\"TransPlanning\\Accidents\", CDFName+\"subset\", Crash_selection, None, \"#\")\n",
    "arcpy.stpm.CreateSpaceTimeCube(CDFName+\"subset\", netcdfpath+r\"/\"+CDFName+\".nc\", \"DATE_OF_ACCIDENT\", None, BinTime, \"START_TIME\", None, BinSize, \"POSSIBLE_INJURIES SUM ZEROS;FATALITIES SUM ZEROS;ALL_PEDESTRIANS SUM ZEROS;PEDAL_CYCLIST_ACCS SUM ZEROS;ALCOHOL_INVOLVEMENT_ACCS SUM ZEROS;DRUG_INVOLVEMENT_ACCS SUM ZEROS;PEDESTRIAN_ACCS SUM ZEROS;DEER_ACCS SUM ZEROS\", \"HEXAGON_GRID\", None, None)\n",
    "\n",
    "arcpy.stpm.EmergingHotSpotAnalysis(netcdfpath+r\"/\"+CDFName+\".nc\", \"COUNT\",workspace+\"/\"+\"AllCrashes\"+CDFName, \"330 Feet\", 3, None, \"K_NEAREST_NEIGHBORS\", 3, \"ENTIRE_CUBE\")\n",
    "arcpy.stpm.VisualizeSpaceTimeCube3D(netcdfpath+r\"/\"+CDFName+\".nc\", \"COUNT\", \"VALUE\", workspace+\"\\AllCrashes\"+CDFName+\"_SpaceTimeCube3D\")\n"
   ]
  },
  {
   "cell_type": "code",
   "execution_count": null,
   "metadata": {},
   "outputs": [],
   "source": []
  },
  {
   "cell_type": "code",
   "execution_count": null,
   "metadata": {},
   "outputs": [],
   "source": []
  }
 ],
 "metadata": {
  "kernelspec": {
   "display_name": "ArcGISPro",
   "language": "Python",
   "name": "python3"
  },
  "language_info": {
   "file_extension": ".py",
   "name": "python",
   "version": "3"
  }
 },
 "nbformat": 4,
 "nbformat_minor": 2
}
