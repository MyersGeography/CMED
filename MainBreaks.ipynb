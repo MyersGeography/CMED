{
 "cells": [
  {
   "cell_type": "markdown",
   "metadata": {},
   "source": [
    "#CATAGORIZE MAIN BREAKS AND LEAKS\n",
    "\n",
    "based on the main break expored data - value mapping for charts and maps\n",
    "\n",
    "MBlayer = \"Main_breaks_Not_Repaired_2021_5\"\n",
    "\n",
    "categories:\n",
    "    Age; Age\n",
    "    Aged Pipe; Age\n",
    "    Bad Compression Fitting; Install or Material Failure\n",
    "    Contractor Hit; Contractor Damage\n",
    "    Corrosion; Corrosion\n",
    "    Corrosion-Differential Settlement; Settlement and Corrosion\n",
    "    Corrosion - Differential Settlement; Settlement and Corrosion\n",
    "    Corrosion & Settlement; Settlement and Corrosion\n",
    "    Damaged by Contractor; Contractor Damage\n",
    "    Defective Material; Install or Material Failure\n",
    "    Defective Pipe; Install or Material Failure\n",
    "    Differential Settlement; Settlement\n",
    "    Improper Installation; Install or Material Failure\n",
    "    Joint Failure; Install or Material Failure\n",
    "    Main Break; unknown\n",
    "    Pipe - Aged; Age\n",
    "    Water Main Leak Repair; unknown\n",
    "    Water Valve Repair; unknown\n",
    "    "
   ]
  },
  {
   "cell_type": "code",
   "execution_count": 6,
   "metadata": {},
   "outputs": [],
   "source": [
    "#MainBreakLayer = \"MainBreaks2021_5\"\n",
    "\n",
    "MainBreakLayer = \"Main_breaks_Not_Repaired_2021_5\""
   ]
  },
  {
   "cell_type": "code",
   "execution_count": 7,
   "metadata": {},
   "outputs": [
    {
     "data": {
      "text/html": [
       "<h2>Output</h2>a Layer object<h2>Messages</h2>Start Time: Monday, July 26, 2021 2:27:56 PM<br/>Succeeded at Monday, July 26, 2021 2:27:56 PM (Elapsed Time: 0.08 seconds)<br/><style>.rendered_html td, .rendered_html th {text-align: left;}.rendered_html tbody {border: 1px solid black;}</style>"
      ],
      "text/plain": [
       "<Result 'Main_breaks_Not_Repaired_2021_5'>"
      ]
     },
     "execution_count": 7,
     "metadata": {},
     "output_type": "execute_result"
    }
   ],
   "source": [
    "arcpy.management.SelectLayerByAttribute(MainBreakLayer, \"NEW_SELECTION\", \"WO_CAUS_TY LIKE '%Age%' Or WO_CAUS_TY IN ('Age', 'Aged Pipe', 'Pipe - Aged')\", None)\n",
    "arcpy.management.CalculateField(MainBreakLayer, \"MainBreakReason\", '\"Age\"', \"PYTHON3\", '', \"TEXT\")\n",
    "\n",
    "arcpy.management.SelectLayerByAttribute(MainBreakLayer, \"NEW_SELECTION\", \"WO_CAUS_TY IN ('Corrosion')\", None)\n",
    "arcpy.management.CalculateField(MainBreakLayer, \"MainBreakReason\", '\"Corrosion\"', \"PYTHON3\", '', \"TEXT\")\n",
    "\n",
    "arcpy.management.SelectLayerByAttribute(MainBreakLayer, \"NEW_SELECTION\", \"WO_CAUS_TY IN ('Corrosion - Differential Settlement', 'Corrosion & Settlement', 'Corrosion-Differential Settlement')\", None)\n",
    "arcpy.management.CalculateField(MainBreakLayer, \"MainBreakReason\", '\"Corrosion and Settlement\"', \"PYTHON3\", '', \"TEXT\")\n",
    "\n",
    "arcpy.management.SelectLayerByAttribute(MainBreakLayer, \"NEW_SELECTION\", \"WO_CAUS_TY = 'Differential Settlement'\", None)\n",
    "arcpy.management.CalculateField(MainBreakLayer, \"MainBreakReason\", '\"Differential Settlement\"', \"PYTHON3\", '', \"TEXT\")\n",
    "\n",
    "arcpy.management.SelectLayerByAttribute(MainBreakLayer, \"NEW_SELECTION\", \"WO_CAUS_TY IN ('Bad Compression Fitting', 'Improper Installation', 'Defective Pipe', 'Defective Material', 'Joint Failure')\", None)\n",
    "arcpy.management.CalculateField(MainBreakLayer, \"MainBreakReason\", '\"Material - Install Fail\"', \"PYTHON3\", '', \"TEXT\")\n",
    "\n",
    "arcpy.management.SelectLayerByAttribute(MainBreakLayer, \"NEW_SELECTION\", \"WO_CAUS_TY IN ('Contractor Hit', 'Damaged by Contractor')\", None)\n",
    "arcpy.management.CalculateField(MainBreakLayer, \"MainBreakReason\", '\"Contractor Damage\"', \"PYTHON3\", '', \"TEXT\")\n",
    "\n",
    "arcpy.management.SelectLayerByAttribute(MainBreakLayer, \"NEW_SELECTION\", \"WO_CAUS_TY IN ('Water Valve Repair', 'Water Main Leak Repair')\", None)\n",
    "arcpy.management.CalculateField(MainBreakLayer, \"MainBreakReason\", '\"Other Leaks Repaired\"', \"PYTHON3\", '', \"TEXT\")\n",
    "\n",
    "arcpy.management.SelectLayerByAttribute(MainBreakLayer, \"NEW_SELECTION\", \"MainBreakReason IS NULL And WO_ACTN_TY LIKE '%Repair%'\", None)\n",
    "arcpy.management.CalculateField(MainBreakLayer, \"MainBreakReason\", '\"Other Break Repaired\"', \"PYTHON3\", '', \"TEXT\")\n",
    "\n",
    "arcpy.management.SelectLayerByAttribute(MainBreakLayer, \"NEW_SELECTION\", \"MainBreakReason IS NULL And WO_ACTN_TY LIKE '%Replace%'\", None)\n",
    "arcpy.management.CalculateField(MainBreakLayer, \"MainBreakReason\", '\"Other Pipe Replaced\"', \"PYTHON3\", '', \"TEXT\")\n",
    "\n",
    "\n",
    "\n"
   ]
  },
  {
   "cell_type": "code",
   "execution_count": null,
   "metadata": {},
   "outputs": [],
   "source": []
  }
 ],
 "metadata": {
  "kernelspec": {
   "display_name": "ArcGISPro",
   "language": "Python",
   "name": "python3"
  },
  "language_info": {
   "file_extension": ".py",
   "name": "python",
   "version": "3"
  }
 },
 "nbformat": 4,
 "nbformat_minor": 2
}
