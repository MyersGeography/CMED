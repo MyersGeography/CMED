{
 "cells": [
  {
   "cell_type": "markdown",
   "metadata": {},
   "source": [
    "#CATAGORIZE MAIN BREAKS AND LEAKS\n",
    "\n",
    "based on the main break expored data - value mapping for charts and maps\n",
    "\n",
    "MBlayer = \"Main_breaks_Not_Repaired_2020\"\n",
    "\n",
    "categories:\n",
    "    Age; Age\n",
    "    Aged Pipe; Age\n",
    "    Bad Compression Fitting; Install or Material Failure\n",
    "    Contractor Hit; Contractor Damage\n",
    "    Corrosion; Corrosion\n",
    "    Corrosion-Differential Settlement; Settlement and Corrosion\n",
    "    Corrosion - Differential Settlement; Settlement and Corrosion\n",
    "    Corrosion & Settlement; Settlement and Corrosion\n",
    "    Damaged by Contractor; Contractor Damage\n",
    "    Defective Material; Install or Material Failure\n",
    "    Defective Pipe; Install or Material Failure\n",
    "    Differential Settlement; Settlement\n",
    "    Improper Installation; Install or Material Failure\n",
    "    Joint Failure; Install or Material Failure\n",
    "    Main Break; unknown\n",
    "    Pipe - Aged; Age\n",
    "    Water Main Leak Repair; unknown\n",
    "    Water Valve Repair; unknown\n",
    "    "
   ]
  },
  {
   "cell_type": "code",
   "execution_count": null,
   "metadata": {},
   "outputs": [],
   "source": [
    "arcpy.management.SelectLayerByAttribute(\"Main_breaks_Not_Repaired_2020\", \"NEW_SELECTION\", \"WO_CAUS_TY LIKE '%Age%' Or WO_CAUS_TY IN ('Age', 'Aged Pipe', 'Pipe - Aged')\", None)\n",
    "arcpy.management.CalculateField(\"Main_breaks_Not_Repaired_2020\", \"MainBreakReason\", '\"Age\"', \"PYTHON3\", '', \"TEXT\")\n",
    "\n",
    "arcpy.management.SelectLayerByAttribute(\"Main_breaks_Not_Repaired_2020\", \"NEW_SELECTION\", \"WO_CAUS_TY IN ('Corrosion')\", None)\n",
    "arcpy.management.CalculateField(\"Main_breaks_Not_Repaired_2020\", \"MainBreakReason\", '\"Corrosion\"', \"PYTHON3\", '', \"TEXT\")\n",
    "\n",
    "arcpy.management.SelectLayerByAttribute(\"Main_breaks_Not_Repaired_2020\", \"NEW_SELECTION\", \"WO_CAUS_TY IN ('Corrosion - Differential Settlement', 'Corrosion & Settlement', 'Corrosion-Differential Settlement')\", None)\n",
    "arcpy.management.CalculateField(\"Main_breaks_Not_Repaired_2020\", \"MainBreakReason\", '\"Corrosion and Settlement\"', \"PYTHON3\", '', \"TEXT\")\n",
    "\n",
    "arcpy.management.SelectLayerByAttribute(\"Main_breaks_Not_Repaired_2020\", \"NEW_SELECTION\", \"WO_CAUS_TY = 'Differential Settlement'\", None)\n",
    "arcpy.management.CalculateField(\"Main_breaks_Not_Repaired_2020\", \"MainBreakReason\", '\"Differential Settlement\"', \"PYTHON3\", '', \"TEXT\")\n",
    "\n",
    "arcpy.management.SelectLayerByAttribute(\"Main_breaks_Not_Repaired_2020\", \"NEW_SELECTION\", \"WO_CAUS_TY IN ('Bad Compression Fitting', 'Improper Installation', 'Defective Pipe', 'Defective Material', 'Joint Failure')\", None)\n",
    "arcpy.management.CalculateField(\"Main_breaks_Not_Repaired_2020\", \"MainBreakReason\", '\"Material - Install Fail\"', \"PYTHON3\", '', \"TEXT\")\n",
    "\n",
    "arcpy.management.SelectLayerByAttribute(\"Main_breaks_Not_Repaired_2020\", \"NEW_SELECTION\", \"WO_CAUS_TY IN ('Contractor Hit', 'Damaged by Contractor')\", None)\n",
    "arcpy.management.CalculateField(\"Main_breaks_Not_Repaired_2020\", \"MainBreakReason\", '\"Contractor Damage\"', \"PYTHON3\", '', \"TEXT\")\n",
    "\n",
    "arcpy.management.SelectLayerByAttribute(\"Main_breaks_Not_Repaired_2020\", \"NEW_SELECTION\", \"WO_CAUS_TY IN ('Water Valve Repair', 'Water Main Leak Repair')\", None)\n",
    "arcpy.management.CalculateField(\"Main_breaks_Not_Repaired_2020\", \"MainBreakReason\", '\"Other Leaks Repaired\"', \"PYTHON3\", '', \"TEXT\")\n",
    "\n",
    "arcpy.management.SelectLayerByAttribute(\"Main_breaks_Not_Repaired_2020\", \"NEW_SELECTION\", \"MainBreakReason IS NULL And WO_ACTN_TY LIKE '%Repair%'\", None)\n",
    "arcpy.management.CalculateField(\"Main_breaks_Not_Repaired_2020\", \"MainBreakReason\", '\"Other Break Repaired\"', \"PYTHON3\", '', \"TEXT\")\n",
    "\n",
    "arcpy.management.SelectLayerByAttribute(\"Main_breaks_Not_Repaired_2020\", \"NEW_SELECTION\", \"MainBreakReason IS NULL And WO_ACTN_TY LIKE '%Replace%'\", None)\n",
    "arcpy.management.CalculateField(\"Main_breaks_Not_Repaired_2020\", \"MainBreakReason\", '\"Other Pipe Replaced\"', \"PYTHON3\", '', \"TEXT\")\n",
    "\n",
    "\n",
    "\n"
   ]
  },
  {
   "cell_type": "code",
   "execution_count": null,
   "metadata": {},
   "outputs": [],
   "source": []
  }
 ],
 "metadata": {
  "kernelspec": {
   "display_name": "ArcGISPro",
   "language": "Python",
   "name": "python3"
  },
  "language_info": {
   "file_extension": ".py",
   "name": "python",
   "version": "3"
  }
 },
 "nbformat": 4,
 "nbformat_minor": 2
}
